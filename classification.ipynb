{
 "cells": [
  {
   "cell_type": "markdown",
   "metadata": {},
   "source": [
    "# タイタニック問題\n",
    "\n",
    "kaggleの[titanic ML competition](https://www.kaggle.com/c/titanic)で与えられたデータから, 精度の高い, 乗客の生存予測モデルを構築する.\n",
    "\n",
    "## 目次\n",
    "- [事前準備](#事前準備)\n",
    "  - [ライブラリ](#ライブラリ)\n",
    "  - [訓練データの読み込み](#訓練データの読み込み)\n",
    "- [データの可視化・外れ値/欠損値の確認](#データの可視化・外れ値/欠損値の確認)\n",
    "  - [floatに変換可能か判別する関数](#floatに変換可能か判別する関数)\n",
    "  - [配列に欠損値があるかどうか判別しカウントする関数](#配列に欠損値があるかどうか判別しカウントする関数)\n",
    "  - [配列のユニークな値の数をカウントする関数](#配列のユニークな値の数をカウントする関数)\n",
    "  - [配列の分布を表示する関数](#配列の分布を表示する関数)\n",
    "  - [Pclass](#Pclass)\n",
    "  - [Name](#Name)\n",
    "  - [Sex](#Sex)\n",
    "  - [Age](#Age)\n",
    "  - [SibSp](#SibSp)\n",
    "  - [Parch](#Parch)\n",
    "  - [Ticket](#Ticket)\n",
    "  - [Fare](#Fare)\n",
    "  - [Cabin](#Cabin)\n",
    "  - [Embarked](#Embarked)\n",
    "- [外れ値、欠損値の扱いと特徴量の生成](#外れ値、欠損値の扱いと特徴量の生成)\n",
    "  - [target_encoding関数](#target_encoding関数)\n",
    "  - [show_scatter関数](#show_scatter関数)\n",
    "  - [Pclassの数値変換](#Pclassの数値変換)\n",
    "    - [target_encodingを適用したPclassの可視化](#target_encodingを適用したPclassの可視化)\n",
    "  - [Sexの数値変換](#Sexの数値変換)\n",
    "    - [target_encodingを適用したSexの可視化](#target_encodingを適用したSexの可視化)\n",
    "  - [Ageの欠損値の扱いと数値変換](#Ageの欠損値の扱いと数値変換)\n",
    "  - [Ageの欠損値に情報が含まれているか検証](#Ageの欠損値に情報が含まれているか検証)\n",
    "    - [target_encodingを適用したAgeの可視化](#target_encodingを適用したAgeの可視化)\n",
    "  - [SibSpとParchから特徴量を生成する](#SibSpとParchから特徴量を生成する)\n",
    "    - [target_encodingを適用したsibSpParchの可視化](#target_encodingを適用したsibSpParchの可視化)\n",
    "  - [FareにRankGaussを適応する](#FareにRankGaussを適応する)\n",
    "  - [Cabinの欠損値の扱い](#Cabinの欠損値の扱い)\n",
    "  - [Embarkedの欠損値の扱いと数値変換](#Embarkedの欠損値の扱いと数値変換)\n",
    "    - [target_encodingを適用したembarkedの可視化](#target_encodingを適用したembarkedの可視化)\n",
    "- [モデルの作成、訓練、検証](#モデルの作成、訓練、検証)\n",
    "  - [generate_and_fit_model関数](#generate_and_fit_model関数)\n",
    "  - [cross_validation関数](#cross_validation関数)\n",
    "  - [objective関数](#objective関数)\n",
    "  - [ハイパーパラメータチューニング](#ハイパーパラメータチューニング)\n",
    "  - [最適化したハイパーパラメータを用いたモデルの生成](#最適化したハイパーパラメータを用いたモデルの生成)\n",
    "- [テスト用データの予測](#テスト用データの予測)\n",
    "  - [テスト用データの読み込み](#テスト用データの読み込み)\n",
    "  - [テスト用データの加工](#テスト用データの加工)\n",
    "  - [予測値の算出](#予測値の算出)\n",
    "- [感想・反省](#感想・反省)"
   ]
  },
  {
   "cell_type": "markdown",
   "metadata": {},
   "source": [
    "## 事前準備"
   ]
  },
  {
   "cell_type": "markdown",
   "metadata": {},
   "source": [
    "### ライブラリ"
   ]
  },
  {
   "cell_type": "code",
   "execution_count": 1,
   "metadata": {},
   "outputs": [],
   "source": [
    "import tensorflow as tf\n",
    "import numpy as np\n",
    "import pandas as pd\n",
    "import matplotlib.pyplot as plt\n",
    "import math\n",
    "from sklearn.model_selection import KFold\n",
    "import optuna\n",
    "from functools import partial\n",
    "from sklearn.preprocessing import QuantileTransformer"
   ]
  },
  {
   "cell_type": "markdown",
   "metadata": {},
   "source": [
    "### 訓練データの読み込み\n",
    "pandasでcsvデータを読み込み、numpyの配列に変換してunprocessed_training_dataに代入"
   ]
  },
  {
   "cell_type": "code",
   "execution_count": 2,
   "metadata": {},
   "outputs": [],
   "source": [
    "unprocessed_training_data = pd.DataFrame(pd.read_csv(\"data/train.csv\")).to_numpy()"
   ]
  },
  {
   "cell_type": "markdown",
   "metadata": {},
   "source": [
    "## データの可視化・外れ値/欠損値の確認\n",
    "PassengerIdとSurvivedの列は検証しない"
   ]
  },
  {
   "cell_type": "markdown",
   "metadata": {},
   "source": [
    "### floatに変換可能か判別する関数"
   ]
  },
  {
   "cell_type": "code",
   "execution_count": 3,
   "metadata": {},
   "outputs": [],
   "source": [
    "def is_num(num):\n",
    "    try:\n",
    "        float(num)\n",
    "    except ValueError:\n",
    "        return False\n",
    "    else:\n",
    "        return True"
   ]
  },
  {
   "cell_type": "markdown",
   "metadata": {},
   "source": [
    "### 配列に欠損値があるかどうか判別しカウントする関数"
   ]
  },
  {
   "cell_type": "code",
   "execution_count": 4,
   "metadata": {},
   "outputs": [],
   "source": [
    "def check_missing_data(array, column_name):\n",
    "    if any([math.isnan(float(_)) if is_num(str(_)) else _ == \"\" for _ in array]):\n",
    "        print(column_name + \" column contains \" + str(sum([int(math.isnan(float(_)) if is_num(str(_)) else _ == \"\") for _ in array])) + \" missing value(s)\")\n",
    "    else:\n",
    "        print(column_name + \" column does not contain any missing values\")"
   ]
  },
  {
   "cell_type": "markdown",
   "metadata": {},
   "source": [
    "### 配列のユニークな値の数をカウントする関数"
   ]
  },
  {
   "cell_type": "code",
   "execution_count": 5,
   "metadata": {},
   "outputs": [],
   "source": [
    "def count_number_of_unique_values(array, column_name):\n",
    "    print(column_name + \" column has \" + str(np.unique(array).size) + \" unique values\")"
   ]
  },
  {
   "cell_type": "markdown",
   "metadata": {},
   "source": [
    "### 配列の分布を表示する関数"
   ]
  },
  {
   "cell_type": "code",
   "execution_count": 6,
   "metadata": {},
   "outputs": [],
   "source": [
    "def show_histogram(array, column_name):\n",
    "    plt.hist(x=array)\n",
    "    plt.title(\"Distribution of \" + column_name)\n",
    "    plt.xlabel(column_name)\n",
    "    plt.ylabel(\"Frequency\")\n",
    "    plt.show()"
   ]
  },
  {
   "cell_type": "markdown",
   "metadata": {},
   "source": [
    "### Pclass"
   ]
  },
  {
   "cell_type": "code",
   "execution_count": 7,
   "metadata": {
    "scrolled": true
   },
   "outputs": [
    {
     "name": "stdout",
     "output_type": "stream",
     "text": [
      "Pclass column does not contain any missing values\n"
     ]
    },
    {
     "data": {
      "image/png": "[encoded data removed]",
      "text/plain": [
       "<Figure size 432x288 with 1 Axes>"
      ]
     },
     "metadata": {
      "needs_background": "light"
     },
     "output_type": "display_data"
    }
   ],
   "source": [
    "pClass = unprocessed_training_data[:, 2]\n",
    "\n",
    "check_missing_data(pClass, \"Pclass\")\n",
    "\n",
    "show_histogram(pClass, \"Pclass\")"
   ]
  },
  {
   "cell_type": "markdown",
   "metadata": {},
   "source": [
    "### Name"
   ]
  },
  {
   "cell_type": "code",
   "execution_count": 8,
   "metadata": {},
   "outputs": [
    {
     "name": "stdout",
     "output_type": "stream",
     "text": [
      "Name column does not contain any missing values\n",
      "Name column has 891 unique values\n"
     ]
    }
   ],
   "source": [
    "name = unprocessed_training_data[:, 3]\n",
    "check_missing_data(name, \"Name\")\n",
    "count_number_of_unique_values(name, \"Name\")"
   ]
  },
  {
   "cell_type": "markdown",
   "metadata": {},
   "source": [
    "### Sex"
   ]
  },
  {
   "cell_type": "code",
   "execution_count": 9,
   "metadata": {},
   "outputs": [
    {
     "name": "stdout",
     "output_type": "stream",
     "text": [
      "Sex column does not contain any missing values\n"
     ]
    },
    {
     "data": {
      "image/png": "[encoded data removed]",
      "text/plain": [
       "<Figure size 432x288 with 1 Axes>"
      ]
     },
     "metadata": {
      "needs_background": "light"
     },
     "output_type": "display_data"
    }
   ],
   "source": [
    "sex = unprocessed_training_data[:, 4]\n",
    "\n",
    "check_missing_data([int(_ == \"male\") for _ in sex], \"Sex\")\n",
    "\n",
    "show_histogram(sex, \"Sex\")"
   ]
  },
  {
   "cell_type": "markdown",
   "metadata": {},
   "source": [
    "### Age"
   ]
  },
  {
   "cell_type": "code",
   "execution_count": 10,
   "metadata": {},
   "outputs": [
    {
     "name": "stdout",
     "output_type": "stream",
     "text": [
      "Age column contains 177 missing value(s)\n"
     ]
    },
    {
     "data": {
      "image/png": "[encoded data removed]",
      "text/plain": [
       "<Figure size 432x288 with 1 Axes>"
      ]
     },
     "metadata": {
      "needs_background": "light"
     },
     "output_type": "display_data"
    }
   ],
   "source": [
    "age = unprocessed_training_data[:, 5]\n",
    "\n",
    "check_missing_data(age, \"Age\")\n",
    "\n",
    "show_histogram(age, \"Age\")"
   ]
  },
  {
   "cell_type": "markdown",
   "metadata": {},
   "source": [
    "### SibSp"
   ]
  },
  {
   "cell_type": "code",
   "execution_count": 11,
   "metadata": {},
   "outputs": [
    {
     "name": "stdout",
     "output_type": "stream",
     "text": [
      "SibSp column does not contain any missing values\n"
     ]
    },
    {
     "data": {
      "image/png": "[encoded data removed]",
      "text/plain": [
       "<Figure size 432x288 with 1 Axes>"
      ]
     },
     "metadata": {
      "needs_background": "light"
     },
     "output_type": "display_data"
    }
   ],
   "source": [
    "sibSp = unprocessed_training_data[:, 6]\n",
    "\n",
    "check_missing_data(sibSp, \"SibSp\")\n",
    "\n",
    "show_histogram(sibSp, \"SibSp\")"
   ]
  },
  {
   "cell_type": "markdown",
   "metadata": {},
   "source": [
    "### Parch"
   ]
  },
  {
   "cell_type": "code",
   "execution_count": 12,
   "metadata": {},
   "outputs": [
    {
     "name": "stdout",
     "output_type": "stream",
     "text": [
      "Parch column does not contain any missing values\n"
     ]
    },
    {
     "data": {
      "image/png": "[encoded data removed]",
      "text/plain": [
       "<Figure size 432x288 with 1 Axes>"
      ]
     },
     "metadata": {
      "needs_background": "light"
     },
     "output_type": "display_data"
    }
   ],
   "source": [
    "parch = unprocessed_training_data[:, 7]\n",
    "\n",
    "check_missing_data(parch, \"Parch\")\n",
    "\n",
    "show_histogram(parch, \"Parch\")"
   ]
  },
  {
   "cell_type": "markdown",
   "metadata": {},
   "source": [
    "### Ticket"
   ]
  },
  {
   "cell_type": "code",
   "execution_count": 13,
   "metadata": {},
   "outputs": [
    {
     "name": "stdout",
     "output_type": "stream",
     "text": [
      "Ticket column does not contain any missing values\n",
      "Ticket column has 681 unique values\n"
     ]
    }
   ],
   "source": [
    "ticket = unprocessed_training_data[:, 8]\n",
    "check_missing_data(ticket, \"Ticket\")\n",
    "count_number_of_unique_values(ticket, \"Ticket\")"
   ]
  },
  {
   "cell_type": "markdown",
   "metadata": {},
   "source": [
    "### Fare"
   ]
  },
  {
   "cell_type": "code",
   "execution_count": 14,
   "metadata": {},
   "outputs": [
    {
     "name": "stdout",
     "output_type": "stream",
     "text": [
      "Fare column does not contain any missing values\n"
     ]
    },
    {
     "data": {
      "image/png": "[encoded data removed]",
      "text/plain": [
       "<Figure size 432x288 with 1 Axes>"
      ]
     },
     "metadata": {
      "needs_background": "light"
     },
     "output_type": "display_data"
    }
   ],
   "source": [
    "fare = unprocessed_training_data[:, 9]\n",
    "\n",
    "check_missing_data(fare, \"Fare\")\n",
    "\n",
    "show_histogram(fare, \"Fare\")"
   ]
  },
  {
   "cell_type": "markdown",
   "metadata": {},
   "source": [
    "### Cabin"
   ]
  },
  {
   "cell_type": "code",
   "execution_count": 15,
   "metadata": {},
   "outputs": [
    {
     "name": "stdout",
     "output_type": "stream",
     "text": [
      "Cabin column contains 687 missing value(s)\n"
     ]
    }
   ],
   "source": [
    "cabin = unprocessed_training_data[:, 10]\n",
    "check_missing_data(cabin, \"Cabin\")"
   ]
  },
  {
   "cell_type": "markdown",
   "metadata": {},
   "source": [
    "### Embarked"
   ]
  },
  {
   "cell_type": "code",
   "execution_count": 16,
   "metadata": {},
   "outputs": [
    {
     "name": "stdout",
     "output_type": "stream",
     "text": [
      "Embarked column contains 2 missing value(s)\n"
     ]
    },
    {
     "data": {
      "image/png": "[encoded data removed]",
      "text/plain": [
       "<Figure size 432x288 with 1 Axes>"
      ]
     },
     "metadata": {
      "needs_background": "light"
     },
     "output_type": "display_data"
    }
   ],
   "source": [
    "embarked = unprocessed_training_data[:, 11]\n",
    "\n",
    "check_missing_data(embarked, \"Embarked\")\n",
    "\n",
    "embarked[np.where(embarked != embarked)] = \"missing\"\n",
    "\n",
    "show_histogram(embarked, \"Embarked\")"
   ]
  },
  {
   "cell_type": "markdown",
   "metadata": {},
   "source": [
    "## 外れ値、欠損値の扱いと特徴量の生成"
   ]
  },
  {
   "cell_type": "markdown",
   "metadata": {},
   "source": [
    "### target_encoding関数\n",
    "\n",
    "「target_encoding」は各カテゴリ変数における目的変数の平均を用いてカテゴリ変数を数値に変換する手法である.\n",
    "\n",
    "「target_encoding」はデータ全体から平均をとると自身の目的変数をカテゴリ変数に取り込むこと(リーク)になるので,自身の目的変数を使わないように変換する必要がある.\n",
    "\n",
    "「target_encoding」用のfoldに分割して, 各foldごとに自身のfold以外のデータを使う「out-of-fold」の方法で目的変数の平均を求める."
   ]
  },
  {
   "cell_type": "code",
   "execution_count": 17,
   "metadata": {},
   "outputs": [],
   "source": [
    "def target_encoding(targets, categories_to_calculate_means, categories_to_process, out_of_fold):\n",
    "    unique_values_of_categories = np.unique(categories_to_calculate_means)\n",
    "    if out_of_fold:\n",
    "        processed_categories = np.zeros(len(categories_to_calculate_means))\n",
    "        kf = KFold(n_splits=5)\n",
    "        for train_index_array, valid_index_array in kf.split(categories_to_calculate_means):\n",
    "            average_array = [targets[train_index_array][np.where(categories_to_calculate_means[train_index_array] == unique_value)[0]].mean() for unique_value in unique_values_of_categories]\n",
    "            for valid_index in valid_index_array:\n",
    "                processed_categories[valid_index] = average_array[np.where(unique_values_of_categories == categories_to_calculate_means[valid_index])[0][0]]\n",
    "    else:\n",
    "        processed_categories = np.zeros(len(categories_to_process))\n",
    "        for unique_value in unique_values_of_categories:\n",
    "            processed_categories[np.where(categories_to_process == unique_value)] = targets[np.where(categories_to_calculate_means == unique_value)[0]].mean()\n",
    "    return processed_categories"
   ]
  },
  {
   "cell_type": "markdown",
   "metadata": {},
   "source": [
    "### show_scatter関数"
   ]
  },
  {
   "cell_type": "code",
   "execution_count": 18,
   "metadata": {},
   "outputs": [],
   "source": [
    "def show_scatter(array, array2, name_of_column, name_of_column2): \n",
    "    plt.scatter(x=array , y=array2)\n",
    "    plt.title(\"Scatter Plot of \" + name_of_column + \" vs \"+ name_of_column2)\n",
    "    plt.xlabel(name_of_column)\n",
    "    plt.ylabel(name_of_column2)\n",
    "    plt.grid(True)\n",
    "    plt.show()"
   ]
  },
  {
   "cell_type": "markdown",
   "metadata": {},
   "source": [
    "### Pclassの数値変換\n",
    "\n",
    "Pclass列のデータに「target_encoding」を適用して特徴量を生成する.\n",
    "\n",
    "目的変数であるSurvivedに属する値は0と1の2つの数値しかとらないので「target_encoding」に適応できる."
   ]
  },
  {
   "cell_type": "code",
   "execution_count": 19,
   "metadata": {},
   "outputs": [],
   "source": [
    "survived = unprocessed_training_data[:, 1]\n",
    "processed_pClass = target_encoding(survived, pClass, [], True)"
   ]
  },
  {
   "cell_type": "markdown",
   "metadata": {},
   "source": [
    "### target_encodingを適用したPclassの可視化\n",
    "\n",
    "加工前のと加工後のデータの相関関係"
   ]
  },
  {
   "cell_type": "code",
   "execution_count": 20,
   "metadata": {},
   "outputs": [
    {
     "data": {
      "image/png": "[encoded data removed]",
      "text/plain": [
       "<Figure size 432x288 with 1 Axes>"
      ]
     },
     "metadata": {
      "needs_background": "light"
     },
     "output_type": "display_data"
    }
   ],
   "source": [
    "show_scatter(pClass, processed_pClass, \"Pclass\", \"survived average\")"
   ]
  },
  {
   "cell_type": "markdown",
   "metadata": {},
   "source": [
    "### Sexの数値変換\n",
    "\n",
    "Sex列のデータに「target_encoding」を適用して特徴量を生成する.\n",
    "\n",
    "目的変数であるSurvivedに属する値は0と1の2つの数値しかとらないので「target_encoding」に適応できる."
   ]
  },
  {
   "cell_type": "code",
   "execution_count": 21,
   "metadata": {},
   "outputs": [],
   "source": [
    "processed_sex = target_encoding(survived, sex, [], True)"
   ]
  },
  {
   "cell_type": "markdown",
   "metadata": {},
   "source": [
    "### target_encodingを適用したSexの可視化\n",
    "\n",
    "加工前のと加工後のデータの相関関係"
   ]
  },
  {
   "cell_type": "code",
   "execution_count": 22,
   "metadata": {},
   "outputs": [
    {
     "data": {
      "image/png": "[encoded data removed]",
      "text/plain": [
       "<Figure size 432x288 with 1 Axes>"
      ]
     },
     "metadata": {
      "needs_background": "light"
     },
     "output_type": "display_data"
    }
   ],
   "source": [
    "show_scatter(sex, processed_sex, \"Sex\", \"survived average\")"
   ]
  },
  {
   "cell_type": "markdown",
   "metadata": {},
   "source": [
    "### Ageの欠損値の扱いと数値変換\n",
    "\n",
    "データの欠損がある. その対処の候補として欠損値であることに情報が含まれていると解釈して二値変数として扱うか, 欠損値であることに情報が含まれていない場合, 欠損値を他の変数から予測するかの二択である. "
   ]
  },
  {
   "cell_type": "markdown",
   "metadata": {},
   "source": [
    "### Ageの欠損値に情報が含まれているか検証\n",
    "\n",
    "欠損値がある場合と欠損値がない場合での目的変数の平均を可視化して, 欠損値であることに情報が含まれているか検証する.\n",
    "\n",
    "可視化した結果, 欠損値がある場合とない場合で目的変数の平均に差があることがわかった.\n",
    "\n",
    "よって,　欠損値であることに情報が含まれていると解釈して特徴量を生成することにした."
   ]
  },
  {
   "cell_type": "code",
   "execution_count": 23,
   "metadata": {},
   "outputs": [
    {
     "data": {
      "image/png": "[encoded data removed]",
      "text/plain": [
       "<Figure size 432x288 with 1 Axes>"
      ]
     },
     "metadata": {
      "needs_background": "light"
     },
     "output_type": "display_data"
    }
   ],
   "source": [
    "isMissing_arr = np.full(len(age), \"not missing\")\n",
    "\n",
    "# nan != nanはTrueなのでnp.where(age != age)はageの中のnanの位置を示すインデックスの配列として扱える\n",
    "isMissing_arr[np.where(age != age)] = \"missing\"\n",
    "\n",
    "processed_isMissing_arr = target_encoding(survived, isMissing_arr, [], True)\n",
    "\n",
    "show_scatter(isMissing_arr, processed_isMissing_arr, \"not missing or missing\", \"survived average\")"
   ]
  },
  {
   "cell_type": "markdown",
   "metadata": {},
   "source": [
    "Ageに「binning」を適用後, 欠損値が存在するインデックスの目的変数の平均を算出."
   ]
  },
  {
   "cell_type": "code",
   "execution_count": 24,
   "metadata": {},
   "outputs": [],
   "source": [
    "number_of_bins = 8\n",
    "\n",
    "binned_age = pd.cut(age, number_of_bins , labels = False)\n",
    "binned_age[np.where(binned_age != binned_age)] = number_of_bins\n",
    "\n",
    "processed_binned_age = target_encoding(survived, binned_age, [], True)"
   ]
  },
  {
   "cell_type": "markdown",
   "metadata": {},
   "source": [
    "### target_encodingを適用したAgeの可視化"
   ]
  },
  {
   "cell_type": "code",
   "execution_count": 25,
   "metadata": {},
   "outputs": [
    {
     "data": {
      "image/png": "[encoded data removed]",
      "text/plain": [
       "<Figure size 432x288 with 1 Axes>"
      ]
     },
     "metadata": {
      "needs_background": "light"
     },
     "output_type": "display_data"
    }
   ],
   "source": [
    "show_scatter(binned_age, processed_binned_age, \"binned age\", \"survived average\")"
   ]
  },
  {
   "cell_type": "markdown",
   "metadata": {},
   "source": [
    "### SibSpとParchから特徴量を生成する\n",
    "SibSpとParchはどちらも0かそれより大きい値を取るかの二値変数で扱い, それらを掛け合わせて特徴量を生成し, 「target_encoding」を適用する. "
   ]
  },
  {
   "cell_type": "code",
   "execution_count": 26,
   "metadata": {},
   "outputs": [
    {
     "data": {
      "image/png": "[encoded data removed]",
      "text/plain": [
       "<Figure size 432x288 with 1 Axes>"
      ]
     },
     "metadata": {
      "needs_background": "light"
     },
     "output_type": "display_data"
    },
    {
     "data": {
      "image/png": "[encoded data removed]",
      "text/plain": [
       "<Figure size 432x288 with 1 Axes>"
      ]
     },
     "metadata": {
      "needs_background": "light"
     },
     "output_type": "display_data"
    }
   ],
   "source": [
    "binary_sibSp = np.array([int(sbsp > 0) for sbsp in sibSp])\n",
    "\n",
    "processed_binary_sibSp = target_encoding(survived, binary_sibSp, [], True)\n",
    "\n",
    "show_scatter(binary_sibSp, processed_binary_sibSp, \"binary_sibSp\", \"survived average\")\n",
    "\n",
    "binary_parch = np.array([int(prch > 0) for prch in parch])\n",
    "\n",
    "processed_binary_parch = target_encoding(survived, binary_parch, [], True)\n",
    "\n",
    "show_scatter(binary_parch, processed_binary_parch, \"binary_parch\", \"survived average\")"
   ]
  },
  {
   "cell_type": "markdown",
   "metadata": {},
   "source": [
    "### target_encodingを適用したsibSpParchの可視化"
   ]
  },
  {
   "cell_type": "code",
   "execution_count": 27,
   "metadata": {},
   "outputs": [
    {
     "data": {
      "image/png": "[encoded data removed]",
      "text/plain": [
       "<Figure size 432x288 with 1 Axes>"
      ]
     },
     "metadata": {
      "needs_background": "light"
     },
     "output_type": "display_data"
    }
   ],
   "source": [
    "sibSpParch = np.array([sbsp+ prch*2 for sbsp, prch in zip(binary_sibSp, binary_parch)])\n",
    "\n",
    "processed_sibSpParch = target_encoding(survived, sibSpParch, [], True)\n",
    "\n",
    "show_scatter(sibSpParch, processed_sibSpParch, \"sibSpParch\", \"survived average\")"
   ]
  },
  {
   "cell_type": "markdown",
   "metadata": {},
   "source": [
    "### FareにRankGaussを適応する"
   ]
  },
  {
   "cell_type": "code",
   "execution_count": 28,
   "metadata": {},
   "outputs": [
    {
     "data": {
      "image/png": "[encoded data removed]",
      "text/plain": [
       "<Figure size 432x288 with 1 Axes>"
      ]
     },
     "metadata": {
      "needs_background": "light"
     },
     "output_type": "display_data"
    }
   ],
   "source": [
    "transformer = QuantileTransformer(n_quantiles=100, random_state=0, output_distribution=\"normal\")\n",
    "transformer.fit(fare.reshape(-1, 1))\n",
    "\n",
    "processed_fare = transformer.transform(fare.reshape(-1, 1)).flatten()\n",
    "\n",
    "plt.hist(x=processed_fare, bins = 100)\n",
    "plt.title(\"Distribution of processed_fare\")\n",
    "plt.xlabel(\"processed_fare\")\n",
    "plt.ylabel('Frequency')\n",
    "plt.show()"
   ]
  },
  {
   "cell_type": "markdown",
   "metadata": {},
   "source": [
    "### Cabinの欠損値の扱い\n",
    "\n",
    "ユニークな値と欠損値が多いので値が欠損していることに情報が含まれているか検討し, もし欠損していることに情報が含まれているなら, 欠損しているかしていないかを二値のカテゴリ変数に変換した後, 「target_encoding」を適用する."
   ]
  },
  {
   "cell_type": "code",
   "execution_count": 29,
   "metadata": {},
   "outputs": [
    {
     "data": {
      "image/png": "[encoded data removed]",
      "text/plain": [
       "<Figure size 432x288 with 1 Axes>"
      ]
     },
     "metadata": {
      "needs_background": "light"
     },
     "output_type": "display_data"
    }
   ],
   "source": [
    "binary_cabin = np.zeros(len(cabin))\n",
    "binary_cabin[np.where(cabin != cabin)] = 1\n",
    "\n",
    "processed_binary_cabin = target_encoding(survived, binary_cabin, [], True)\n",
    "\n",
    "show_scatter(binary_cabin, processed_binary_cabin, \"binary_cabin\", \"survived average\")"
   ]
  },
  {
   "cell_type": "markdown",
   "metadata": {},
   "source": [
    "### Embarkedの欠損値の扱いと数値変換\n",
    "\n",
    "欠損値が2つしか存在していない. 欠損していること自体に情報があるかがわからないので, 欠損値を平均値を使って補填したのち, 「target_encoding」を適用する.　補填に使う平均値はリークを防ぐために各foldを除外して算出している."
   ]
  },
  {
   "cell_type": "code",
   "execution_count": 30,
   "metadata": {},
   "outputs": [],
   "source": [
    "processed_embarked = target_encoding(survived, embarked, [], True)\n",
    "\n",
    "embarked_means_list = target_encoding(survived, np.full(len(embarked), \"M\"), [], True)\n",
    "\n",
    "for index in np.where(embarked == \"missing\"):\n",
    "    processed_embarked[index] = embarked_means_list[index]"
   ]
  },
  {
   "cell_type": "markdown",
   "metadata": {},
   "source": [
    "### target_encodingを適用したembarkedの可視化"
   ]
  },
  {
   "cell_type": "code",
   "execution_count": 31,
   "metadata": {},
   "outputs": [
    {
     "data": {
      "image/png": "[encoded data removed]",
      "text/plain": [
       "<Figure size 432x288 with 1 Axes>"
      ]
     },
     "metadata": {
      "needs_background": "light"
     },
     "output_type": "display_data"
    }
   ],
   "source": [
    "show_scatter(embarked, processed_embarked, \"embarked\", \"survived average\")"
   ]
  },
  {
   "cell_type": "markdown",
   "metadata": {},
   "source": [
    "## モデルの作成、訓練、検証\n",
    "\n",
    "学習モデルは全結合ニューラルネットワークを使用する.\n",
    "\n",
    "ドロップアウト率, 中間層の数, ユニット数, 活性化関数, オプティマイザー, 学習率などのパラメータのチューニングにはベイズ最適化を用いる."
   ]
  },
  {
   "cell_type": "markdown",
   "metadata": {},
   "source": [
    "### generate_and_fit_model関数\n",
    "\n",
    "ニューラルネットワークモデルを生成し、訓練する関数"
   ]
  },
  {
   "cell_type": "code",
   "execution_count": 32,
   "metadata": {},
   "outputs": [],
   "source": [
    "def generate_and_fit_model(n_neurons, n_hidden_layers, power_of_lr, dropout_input, dropout_hidden, batch_size, x, y):\n",
    "    model = tf.keras.Sequential()\n",
    "    model.add(tf.keras.layers.Dropout(dropout_input, input_shape = (x.shape.as_list()[1],)))\n",
    "    for _ in range(n_hidden_layers):\n",
    "        model.add(tf.keras.layers.Dense(n_neurons, activation = 'relu'))\n",
    "        model.add(tf.keras.layers.Dropout(dropout_hidden))\n",
    "    model.add(tf.keras.layers.Dense(1, activation = 'sigmoid'))\n",
    "    optimizer = tf.keras.optimizers.Adam(lr=10 ** (-1*power_of_lr))\n",
    "    model.compile(loss = 'binary_crossentropy', optimizer = optimizer, metrics = ['accuracy'])\n",
    "    model.fit(x, y, batch_size = batch_size, epochs = 100, verbose=0, callbacks=[tf.keras.callbacks.EarlyStopping(monitor='loss', patience=10, verbose=0, mode='min')])\n",
    "    return model"
   ]
  },
  {
   "cell_type": "markdown",
   "metadata": {},
   "source": [
    "### cross_validation関数\n",
    "\n",
    "モデルの性能評価にクロスバリデーションを用いる. 5つのfoldに分け, それぞれ検証用のデータとして扱い, 5回求めた精度の平均値を返す."
   ]
  },
  {
   "cell_type": "code",
   "execution_count": 33,
   "metadata": {},
   "outputs": [],
   "source": [
    "def cross_validation(x, y, **args):\n",
    "    n_splits = 5\n",
    "    acc = np.zeros(n_splits)\n",
    "    kf = KFold(n_splits=n_splits)\n",
    "    index = 0\n",
    "    for train_index_array, valid_index_array in kf.split(x):\n",
    "        x_train_index_array = tf.convert_to_tensor([x[i] for i in train_index_array], dtype=tf.float32)\n",
    "        y_train_index_array = tf.convert_to_tensor([y[i] for i in train_index_array], dtype=tf.float32)\n",
    "        x_valid_index_array = tf.convert_to_tensor([x[i] for i in valid_index_array], dtype=tf.float32)\n",
    "        y_valid_index_array = tf.convert_to_tensor([y[i] for i in valid_index_array], dtype=tf.float32)\n",
    "        model = generate_and_fit_model(int(args['n_neurons']), int(args['n_hidden_layers']), int(args['power_of_lr']), args['dropout_input'], args['dropout_hidden'], int(args['batch_size']), x_train_index_array, y_train_index_array)\n",
    "        acc[index] = model.evaluate(x_valid_index_array,  y_valid_index_array, verbose=0)[1]\n",
    "        index += 1\n",
    "\n",
    "    return float(acc.mean())"
   ]
  },
  {
   "cell_type": "markdown",
   "metadata": {},
   "source": [
    "### objective関数\n",
    "\n",
    "1から精度(0~1)を引いた値を返す. この関数はハイパーパラメータをベイズ最適化する際に, 最小化するべき目的関数となる."
   ]
  },
  {
   "cell_type": "code",
   "execution_count": 34,
   "metadata": {},
   "outputs": [],
   "source": [
    "def objective(x, y, trial):\n",
    "    \n",
    "    params = {\n",
    "        'n_neurons' : trial.suggest_discrete_uniform('n_neurons', 8, 512, 8),\n",
    "        'n_hidden_layers' : trial.suggest_discrete_uniform('n_hidden_layers', 1, 10, 1),\n",
    "        'power_of_lr' : trial.suggest_discrete_uniform('power_of_lr', 1, 5, 1),\n",
    "        'dropout_input' : trial.suggest_discrete_uniform('dropout_input', 0, 0.2, 0.05),\n",
    "        'dropout_hidden' : trial.suggest_discrete_uniform('dropout_hidden', 0, 0.5, 0.05),\n",
    "        'batch_size' : trial.suggest_discrete_uniform('batch_size', 8, 256, 8)\n",
    "    }\n",
    "    \n",
    "    return 1.0 - cross_validation(x, y, **params)"
   ]
  },
  {
   "cell_type": "markdown",
   "metadata": {},
   "source": [
    "### ハイパーパラメータチューニング\n",
    "\n",
    "検証中, 最も高い精度を出したパラメータを採用して, モデルの訓練を行う."
   ]
  },
  {
   "cell_type": "code",
   "execution_count": 35,
   "metadata": {},
   "outputs": [
    {
     "name": "stderr",
     "output_type": "stream",
     "text": [
      "\u001b[32m[I 2021-04-04 07:55:59,571]\u001b[0m A new study created in memory with name: no-name-5148a372-40dc-4f20-b815-f6b42d315931\u001b[0m\n",
      "\u001b[32m[I 2021-04-04 07:56:15,452]\u001b[0m Trial 0 finished with value: 0.2311531066894531 and parameters: {'n_neurons': 472.0, 'n_hidden_layers': 6.0, 'power_of_lr': 2.0, 'dropout_input': 0.15000000000000002, 'dropout_hidden': 0.25, 'batch_size': 136.0}. Best is trial 0 with value: 0.2311531066894531.\u001b[0m\n",
      "\u001b[32m[I 2021-04-04 07:56:25,987]\u001b[0m Trial 1 finished with value: 0.38389931917190556 and parameters: {'n_neurons': 512.0, 'n_hidden_layers': 6.0, 'power_of_lr': 1.0, 'dropout_input': 0.05, 'dropout_hidden': 0.45, 'batch_size': 120.0}. Best is trial 0 with value: 0.2311531066894531.\u001b[0m\n",
      "\u001b[32m[I 2021-04-04 07:56:31,674]\u001b[0m Trial 2 finished with value: 0.2345364451408386 and parameters: {'n_neurons': 16.0, 'n_hidden_layers': 6.0, 'power_of_lr': 2.0, 'dropout_input': 0.1, 'dropout_hidden': 0.15000000000000002, 'batch_size': 184.0}. Best is trial 0 with value: 0.2311531066894531.\u001b[0m\n",
      "\u001b[32m[I 2021-04-04 07:56:59,566]\u001b[0m Trial 3 finished with value: 0.20991150140762327 and parameters: {'n_neurons': 400.0, 'n_hidden_layers': 6.0, 'power_of_lr': 3.0, 'dropout_input': 0.05, 'dropout_hidden': 0.5, 'batch_size': 40.0}. Best is trial 3 with value: 0.20991150140762327.\u001b[0m\n",
      "\u001b[32m[I 2021-04-04 07:57:07,656]\u001b[0m Trial 4 finished with value: 0.24012931585311892 and parameters: {'n_neurons': 472.0, 'n_hidden_layers': 2.0, 'power_of_lr': 4.0, 'dropout_input': 0.1, 'dropout_hidden': 0.30000000000000004, 'batch_size': 248.0}. Best is trial 3 with value: 0.20991150140762327.\u001b[0m\n",
      "\u001b[32m[I 2021-04-04 07:57:26,155]\u001b[0m Trial 5 finished with value: 0.21885005235671995 and parameters: {'n_neurons': 440.0, 'n_hidden_layers': 4.0, 'power_of_lr': 3.0, 'dropout_input': 0.1, 'dropout_hidden': 0.5, 'batch_size': 40.0}. Best is trial 3 with value: 0.20991150140762327.\u001b[0m\n",
      "\u001b[32m[I 2021-04-04 07:57:32,080]\u001b[0m Trial 6 finished with value: 0.22895612716674807 and parameters: {'n_neurons': 208.0, 'n_hidden_layers': 3.0, 'power_of_lr': 2.0, 'dropout_input': 0.1, 'dropout_hidden': 0.45, 'batch_size': 224.0}. Best is trial 3 with value: 0.20991150140762327.\u001b[0m\n",
      "\u001b[32m[I 2021-04-04 07:57:38,084]\u001b[0m Trial 7 finished with value: 0.2905781149864197 and parameters: {'n_neurons': 440.0, 'n_hidden_layers': 1.0, 'power_of_lr': 4.0, 'dropout_input': 0.1, 'dropout_hidden': 0.30000000000000004, 'batch_size': 208.0}. Best is trial 3 with value: 0.20991150140762327.\u001b[0m\n",
      "\u001b[32m[I 2021-04-04 07:57:41,413]\u001b[0m Trial 8 finished with value: 0.2390496492385864 and parameters: {'n_neurons': 80.0, 'n_hidden_layers': 1.0, 'power_of_lr': 1.0, 'dropout_input': 0.15000000000000002, 'dropout_hidden': 0.15000000000000002, 'batch_size': 192.0}. Best is trial 3 with value: 0.20991150140762327.\u001b[0m\n",
      "\u001b[32m[I 2021-04-04 07:57:45,788]\u001b[0m Trial 9 finished with value: 0.4221141040325165 and parameters: {'n_neurons': 8.0, 'n_hidden_layers': 3.0, 'power_of_lr': 4.0, 'dropout_input': 0.2, 'dropout_hidden': 0.45, 'batch_size': 216.0}. Best is trial 3 with value: 0.20991150140762327.\u001b[0m\n",
      "\u001b[32m[I 2021-04-04 07:59:13,671]\u001b[0m Trial 10 finished with value: 0.2165902972221374 and parameters: {'n_neurons': 328.0, 'n_hidden_layers': 10.0, 'power_of_lr': 5.0, 'dropout_input': 0.0, 'dropout_hidden': 0.0, 'batch_size': 16.0}. Best is trial 3 with value: 0.20991150140762327.\u001b[0m\n",
      "\u001b[32m[I 2021-04-04 07:59:53,715]\u001b[0m Trial 11 finished with value: 0.2244994044303894 and parameters: {'n_neurons': 320.0, 'n_hidden_layers': 10.0, 'power_of_lr': 5.0, 'dropout_input': 0.0, 'dropout_hidden': 0.05, 'batch_size': 24.0}. Best is trial 3 with value: 0.20991150140762327.\u001b[0m\n",
      "\u001b[32m[I 2021-04-04 08:00:43,559]\u001b[0m Trial 12 finished with value: 0.23009855747222896 and parameters: {'n_neurons': 328.0, 'n_hidden_layers': 10.0, 'power_of_lr': 5.0, 'dropout_input': 0.0, 'dropout_hidden': 0.0, 'batch_size': 56.0}. Best is trial 3 with value: 0.20991150140762327.\u001b[0m\n",
      "\u001b[32m[I 2021-04-04 08:01:04,899]\u001b[0m Trial 13 finished with value: 0.20760781764984126 and parameters: {'n_neurons': 360.0, 'n_hidden_layers': 8.0, 'power_of_lr': 3.0, 'dropout_input': 0.05, 'dropout_hidden': 0.1, 'batch_size': 88.0}. Best is trial 13 with value: 0.20760781764984126.\u001b[0m\n",
      "\u001b[32m[I 2021-04-04 08:01:20,373]\u001b[0m Trial 14 finished with value: 0.2053417921066284 and parameters: {'n_neurons': 232.0, 'n_hidden_layers': 7.0, 'power_of_lr': 3.0, 'dropout_input': 0.05, 'dropout_hidden': 0.1, 'batch_size': 80.0}. Best is trial 14 with value: 0.2053417921066284.\u001b[0m\n",
      "\u001b[32m[I 2021-04-04 08:01:34,547]\u001b[0m Trial 15 finished with value: 0.2143493890762329 and parameters: {'n_neurons': 176.0, 'n_hidden_layers': 8.0, 'power_of_lr': 3.0, 'dropout_input': 0.05, 'dropout_hidden': 0.1, 'batch_size': 96.0}. Best is trial 14 with value: 0.2053417921066284.\u001b[0m\n",
      "\u001b[32m[I 2021-04-04 08:01:47,965]\u001b[0m Trial 16 finished with value: 0.22446802854537962 and parameters: {'n_neurons': 240.0, 'n_hidden_layers': 8.0, 'power_of_lr': 2.0, 'dropout_input': 0.05, 'dropout_hidden': 0.15000000000000002, 'batch_size': 80.0}. Best is trial 14 with value: 0.2053417921066284.\u001b[0m\n",
      "\u001b[32m[I 2021-04-04 08:02:00,203]\u001b[0m Trial 17 finished with value: 0.21886887550354006 and parameters: {'n_neurons': 152.0, 'n_hidden_layers': 8.0, 'power_of_lr': 4.0, 'dropout_input': 0.05, 'dropout_hidden': 0.05, 'batch_size': 144.0}. Best is trial 14 with value: 0.2053417921066284.\u001b[0m\n",
      "\u001b[32m[I 2021-04-04 08:02:20,772]\u001b[0m Trial 18 finished with value: 0.2087376952171326 and parameters: {'n_neurons': 264.0, 'n_hidden_layers': 8.0, 'power_of_lr': 3.0, 'dropout_input': 0.0, 'dropout_hidden': 0.2, 'batch_size': 80.0}. Best is trial 14 with value: 0.2053417921066284.\u001b[0m\n",
      "\u001b[32m[I 2021-04-04 08:02:42,166]\u001b[0m Trial 19 finished with value: 0.2087376952171326 and parameters: {'n_neurons': 376.0, 'n_hidden_layers': 9.0, 'power_of_lr': 3.0, 'dropout_input': 0.15000000000000002, 'dropout_hidden': 0.05, 'batch_size': 112.0}. Best is trial 14 with value: 0.2053417921066284.\u001b[0m\n",
      "\u001b[32m[I 2021-04-04 08:02:53,267]\u001b[0m Trial 20 finished with value: 0.2300608873367309 and parameters: {'n_neurons': 280.0, 'n_hidden_layers': 7.0, 'power_of_lr': 2.0, 'dropout_input': 0.05, 'dropout_hidden': 0.25, 'batch_size': 64.0}. Best is trial 14 with value: 0.2053417921066284.\u001b[0m\n",
      "\u001b[32m[I 2021-04-04 08:03:10,444]\u001b[0m Trial 21 finished with value: 0.21659657955169676 and parameters: {'n_neurons': 272.0, 'n_hidden_layers': 7.0, 'power_of_lr': 3.0, 'dropout_input': 0.0, 'dropout_hidden': 0.2, 'batch_size': 88.0}. Best is trial 14 with value: 0.2053417921066284.\u001b[0m\n",
      "\u001b[32m[I 2021-04-04 08:03:28,972]\u001b[0m Trial 22 finished with value: 0.23229552507400508 and parameters: {'n_neurons': 376.0, 'n_hidden_layers': 9.0, 'power_of_lr': 4.0, 'dropout_input': 0.15000000000000002, 'dropout_hidden': 0.05, 'batch_size': 112.0}. Best is trial 14 with value: 0.2053417921066284.\u001b[0m\n",
      "\u001b[32m[I 2021-04-04 08:03:53,600]\u001b[0m Trial 23 finished with value: 0.2155043721199036 and parameters: {'n_neurons': 376.0, 'n_hidden_layers': 9.0, 'power_of_lr': 3.0, 'dropout_input': 0.2, 'dropout_hidden': 0.1, 'batch_size': 112.0}. Best is trial 14 with value: 0.2053417921066284.\u001b[0m\n",
      "\u001b[32m[I 2021-04-04 08:04:06,586]\u001b[0m Trial 24 finished with value: 0.20201494693756106 and parameters: {'n_neurons': 136.0, 'n_hidden_layers': 9.0, 'power_of_lr': 3.0, 'dropout_input': 0.15000000000000002, 'dropout_hidden': 0.0, 'batch_size': 144.0}. Best is trial 24 with value: 0.20201494693756106.\u001b[0m\n",
      "\u001b[32m[I 2021-04-04 08:04:14,579]\u001b[0m Trial 25 finished with value: 0.19755195379257207 and parameters: {'n_neurons': 88.0, 'n_hidden_layers': 7.0, 'power_of_lr': 2.0, 'dropout_input': 0.15000000000000002, 'dropout_hidden': 0.0, 'batch_size': 144.0}. Best is trial 25 with value: 0.19755195379257207.\u001b[0m\n",
      "\u001b[32m[I 2021-04-04 08:04:20,167]\u001b[0m Trial 26 finished with value: 0.34687088727951054 and parameters: {'n_neurons': 88.0, 'n_hidden_layers': 5.0, 'power_of_lr': 1.0, 'dropout_input': 0.2, 'dropout_hidden': 0.0, 'batch_size': 152.0}. Best is trial 25 with value: 0.19755195379257207.\u001b[0m\n",
      "\u001b[32m[I 2021-04-04 08:04:28,658]\u001b[0m Trial 27 finished with value: 0.26493628025054927 and parameters: {'n_neurons': 112.0, 'n_hidden_layers': 7.0, 'power_of_lr': 2.0, 'dropout_input': 0.15000000000000002, 'dropout_hidden': 0.0, 'batch_size': 168.0}. Best is trial 25 with value: 0.19755195379257207.\u001b[0m\n"
     ]
    },
    {
     "name": "stderr",
     "output_type": "stream",
     "text": [
      "\u001b[32m[I 2021-04-04 08:04:36,190]\u001b[0m Trial 28 finished with value: 0.21777666807174678 and parameters: {'n_neurons': 136.0, 'n_hidden_layers': 5.0, 'power_of_lr': 2.0, 'dropout_input': 0.15000000000000002, 'dropout_hidden': 0.0, 'batch_size': 160.0}. Best is trial 25 with value: 0.19755195379257207.\u001b[0m\n",
      "\u001b[32m[I 2021-04-04 08:04:42,052]\u001b[0m Trial 29 finished with value: 0.38389931917190556 and parameters: {'n_neurons': 56.0, 'n_hidden_layers': 7.0, 'power_of_lr': 1.0, 'dropout_input': 0.15000000000000002, 'dropout_hidden': 0.1, 'batch_size': 136.0}. Best is trial 25 with value: 0.19755195379257207.\u001b[0m\n",
      "\u001b[32m[I 2021-04-04 08:04:56,887]\u001b[0m Trial 30 finished with value: 0.24580377340316772 and parameters: {'n_neurons': 200.0, 'n_hidden_layers': 9.0, 'power_of_lr': 2.0, 'dropout_input': 0.2, 'dropout_hidden': 0.05, 'batch_size': 128.0}. Best is trial 25 with value: 0.19755195379257207.\u001b[0m\n",
      "\u001b[32m[I 2021-04-04 08:05:11,263]\u001b[0m Trial 31 finished with value: 0.22666499614715574 and parameters: {'n_neurons': 224.0, 'n_hidden_layers': 8.0, 'power_of_lr': 3.0, 'dropout_input': 0.1, 'dropout_hidden': 0.1, 'batch_size': 96.0}. Best is trial 25 with value: 0.19755195379257207.\u001b[0m\n",
      "\u001b[32m[I 2021-04-04 08:05:20,236]\u001b[0m Trial 32 finished with value: 0.21554830074310305 and parameters: {'n_neurons': 48.0, 'n_hidden_layers': 7.0, 'power_of_lr': 3.0, 'dropout_input': 0.05, 'dropout_hidden': 0.2, 'batch_size': 64.0}. Best is trial 25 with value: 0.19755195379257207.\u001b[0m\n",
      "\u001b[32m[I 2021-04-04 08:05:32,411]\u001b[0m Trial 33 finished with value: 0.2334254026412964 and parameters: {'n_neurons': 176.0, 'n_hidden_layers': 6.0, 'power_of_lr': 4.0, 'dropout_input': 0.05, 'dropout_hidden': 0.15000000000000002, 'batch_size': 176.0}. Best is trial 25 with value: 0.19755195379257207.\u001b[0m\n",
      "\u001b[32m[I 2021-04-04 08:05:43,856]\u001b[0m Trial 34 finished with value: 0.20424958467483523 and parameters: {'n_neurons': 112.0, 'n_hidden_layers': 9.0, 'power_of_lr': 3.0, 'dropout_input': 0.1, 'dropout_hidden': 0.1, 'batch_size': 128.0}. Best is trial 25 with value: 0.19755195379257207.\u001b[0m\n",
      "\u001b[32m[I 2021-04-04 08:05:53,481]\u001b[0m Trial 35 finished with value: 0.2311844825744629 and parameters: {'n_neurons': 112.0, 'n_hidden_layers': 9.0, 'power_of_lr': 2.0, 'dropout_input': 0.1, 'dropout_hidden': 0.35000000000000003, 'batch_size': 128.0}. Best is trial 25 with value: 0.19755195379257207.\u001b[0m\n",
      "\u001b[32m[I 2021-04-04 08:06:00,287]\u001b[0m Trial 36 finished with value: 0.22672777175903325 and parameters: {'n_neurons': 48.0, 'n_hidden_layers': 6.0, 'power_of_lr': 3.0, 'dropout_input': 0.15000000000000002, 'dropout_hidden': 0.05, 'batch_size': 144.0}. Best is trial 25 with value: 0.19755195379257207.\u001b[0m\n",
      "\u001b[32m[I 2021-04-04 08:06:07,818]\u001b[0m Trial 37 finished with value: 0.20655326843261723 and parameters: {'n_neurons': 136.0, 'n_hidden_layers': 5.0, 'power_of_lr': 2.0, 'dropout_input': 0.15000000000000002, 'dropout_hidden': 0.0, 'batch_size': 184.0}. Best is trial 25 with value: 0.19755195379257207.\u001b[0m\n",
      "\u001b[32m[I 2021-04-04 08:06:24,365]\u001b[0m Trial 38 finished with value: 0.2244491934776306 and parameters: {'n_neurons': 184.0, 'n_hidden_layers': 10.0, 'power_of_lr': 4.0, 'dropout_input': 0.1, 'dropout_hidden': 0.15000000000000002, 'batch_size': 160.0}. Best is trial 25 with value: 0.19755195379257207.\u001b[0m\n",
      "\u001b[32m[I 2021-04-04 08:06:33,012]\u001b[0m Trial 39 finished with value: 0.2222271084785461 and parameters: {'n_neurons': 88.0, 'n_hidden_layers': 7.0, 'power_of_lr': 3.0, 'dropout_input': 0.1, 'dropout_hidden': 0.30000000000000004, 'batch_size': 200.0}. Best is trial 25 with value: 0.19755195379257207.\u001b[0m\n",
      "\u001b[32m[I 2021-04-04 08:06:38,576]\u001b[0m Trial 40 finished with value: 0.29065972566604614 and parameters: {'n_neurons': 24.0, 'n_hidden_layers': 6.0, 'power_of_lr': 1.0, 'dropout_input': 0.2, 'dropout_hidden': 0.1, 'batch_size': 240.0}. Best is trial 25 with value: 0.19755195379257207.\u001b[0m\n",
      "\u001b[32m[I 2021-04-04 08:06:45,237]\u001b[0m Trial 41 finished with value: 0.20876280069351194 and parameters: {'n_neurons': 144.0, 'n_hidden_layers': 5.0, 'power_of_lr': 2.0, 'dropout_input': 0.15000000000000002, 'dropout_hidden': 0.0, 'batch_size': 192.0}. Best is trial 25 with value: 0.19755195379257207.\u001b[0m\n",
      "\u001b[32m[I 2021-04-04 08:06:51,774]\u001b[0m Trial 42 finished with value: 0.22334443330764775 and parameters: {'n_neurons': 112.0, 'n_hidden_layers': 4.0, 'power_of_lr': 2.0, 'dropout_input': 0.15000000000000002, 'dropout_hidden': 0.0, 'batch_size': 176.0}. Best is trial 25 with value: 0.19755195379257207.\u001b[0m\n",
      "\u001b[32m[I 2021-04-04 08:06:59,531]\u001b[0m Trial 43 finished with value: 0.20984872579574587 and parameters: {'n_neurons': 152.0, 'n_hidden_layers': 4.0, 'power_of_lr': 3.0, 'dropout_input': 0.1, 'dropout_hidden': 0.05, 'batch_size': 120.0}. Best is trial 25 with value: 0.19755195379257207.\u001b[0m\n",
      "\u001b[32m[I 2021-04-04 08:07:05,203]\u001b[0m Trial 44 finished with value: 0.28291381597518916 and parameters: {'n_neurons': 72.0, 'n_hidden_layers': 5.0, 'power_of_lr': 1.0, 'dropout_input': 0.15000000000000002, 'dropout_hidden': 0.0, 'batch_size': 152.0}. Best is trial 25 with value: 0.19755195379257207.\u001b[0m\n",
      "\u001b[32m[I 2021-04-04 08:07:11,947]\u001b[0m Trial 45 finished with value: 0.24355658292770388 and parameters: {'n_neurons': 120.0, 'n_hidden_layers': 4.0, 'power_of_lr': 2.0, 'dropout_input': 0.15000000000000002, 'dropout_hidden': 0.05, 'batch_size': 184.0}. Best is trial 25 with value: 0.19755195379257207.\u001b[0m\n",
      "\u001b[32m[I 2021-04-04 08:07:17,011]\u001b[0m Trial 46 finished with value: 0.2704161643981934 and parameters: {'n_neurons': 24.0, 'n_hidden_layers': 3.0, 'power_of_lr': 3.0, 'dropout_input': 0.1, 'dropout_hidden': 0.35000000000000003, 'batch_size': 224.0}. Best is trial 25 with value: 0.19755195379257207.\u001b[0m\n",
      "\u001b[32m[I 2021-04-04 08:07:29,445]\u001b[0m Trial 47 finished with value: 0.23904337882995608 and parameters: {'n_neurons': 240.0, 'n_hidden_layers': 6.0, 'power_of_lr': 2.0, 'dropout_input': 0.2, 'dropout_hidden': 0.15000000000000002, 'batch_size': 32.0}. Best is trial 25 with value: 0.19755195379257207.\u001b[0m\n",
      "\u001b[32m[I 2021-04-04 08:07:42,994]\u001b[0m Trial 48 finished with value: 0.20204633474349976 and parameters: {'n_neurons': 168.0, 'n_hidden_layers': 10.0, 'power_of_lr': 3.0, 'dropout_input': 0.1, 'dropout_hidden': 0.0, 'batch_size': 136.0}. Best is trial 25 with value: 0.19755195379257207.\u001b[0m\n",
      "\u001b[32m[I 2021-04-04 08:07:59,320]\u001b[0m Trial 49 finished with value: 0.23227670192718508 and parameters: {'n_neurons': 208.0, 'n_hidden_layers': 10.0, 'power_of_lr': 4.0, 'dropout_input': 0.1, 'dropout_hidden': 0.1, 'batch_size': 136.0}. Best is trial 25 with value: 0.19755195379257207.\u001b[0m\n",
      "\u001b[32m[I 2021-04-04 08:08:14,690]\u001b[0m Trial 50 finished with value: 0.20877535343170162 and parameters: {'n_neurons': 168.0, 'n_hidden_layers': 9.0, 'power_of_lr': 3.0, 'dropout_input': 0.1, 'dropout_hidden': 0.05, 'batch_size': 120.0}. Best is trial 25 with value: 0.19755195379257207.\u001b[0m\n",
      "\u001b[32m[I 2021-04-04 08:08:29,530]\u001b[0m Trial 51 finished with value: 0.19977403879165645 and parameters: {'n_neurons': 128.0, 'n_hidden_layers': 10.0, 'power_of_lr': 3.0, 'dropout_input': 0.15000000000000002, 'dropout_hidden': 0.0, 'batch_size': 104.0}. Best is trial 25 with value: 0.19755195379257207.\u001b[0m\n",
      "\u001b[32m[I 2021-04-04 08:08:43,357]\u001b[0m Trial 52 finished with value: 0.20092273950576778 and parameters: {'n_neurons': 192.0, 'n_hidden_layers': 10.0, 'power_of_lr': 3.0, 'dropout_input': 0.1, 'dropout_hidden': 0.0, 'batch_size': 104.0}. Best is trial 25 with value: 0.19755195379257207.\u001b[0m\n",
      "\u001b[32m[I 2021-04-04 08:09:01,419]\u001b[0m Trial 53 finished with value: 0.19866299629211426 and parameters: {'n_neurons': 192.0, 'n_hidden_layers': 10.0, 'power_of_lr': 3.0, 'dropout_input': 0.1, 'dropout_hidden': 0.0, 'batch_size': 104.0}. Best is trial 25 with value: 0.19755195379257207.\u001b[0m\n",
      "\u001b[32m[I 2021-04-04 08:09:19,863]\u001b[0m Trial 54 finished with value: 0.2154729843139649 and parameters: {'n_neurons': 192.0, 'n_hidden_layers': 10.0, 'power_of_lr': 4.0, 'dropout_input': 0.1, 'dropout_hidden': 0.0, 'batch_size': 104.0}. Best is trial 25 with value: 0.19755195379257207.\u001b[0m\n",
      "\u001b[32m[I 2021-04-04 08:09:36,978]\u001b[0m Trial 55 finished with value: 0.2132069587707519 and parameters: {'n_neurons': 224.0, 'n_hidden_layers': 10.0, 'power_of_lr': 3.0, 'dropout_input': 0.15000000000000002, 'dropout_hidden': 0.0, 'batch_size': 104.0}. Best is trial 25 with value: 0.19755195379257207.\u001b[0m\n"
     ]
    },
    {
     "name": "stderr",
     "output_type": "stream",
     "text": [
      "\u001b[32m[I 2021-04-04 08:09:52,555]\u001b[0m Trial 56 finished with value: 0.2154604315757751 and parameters: {'n_neurons': 160.0, 'n_hidden_layers': 10.0, 'power_of_lr': 3.0, 'dropout_input': 0.1, 'dropout_hidden': 0.0, 'batch_size': 144.0}. Best is trial 25 with value: 0.19755195379257207.\u001b[0m\n",
      "\u001b[32m[I 2021-04-04 08:10:07,835]\u001b[0m Trial 57 finished with value: 0.20538573265075688 and parameters: {'n_neurons': 128.0, 'n_hidden_layers': 10.0, 'power_of_lr': 3.0, 'dropout_input': 0.15000000000000002, 'dropout_hidden': 0.05, 'batch_size': 96.0}. Best is trial 25 with value: 0.19755195379257207.\u001b[0m\n",
      "\u001b[32m[I 2021-04-04 08:10:32,731]\u001b[0m Trial 58 finished with value: 0.21095976829528806 and parameters: {'n_neurons': 296.0, 'n_hidden_layers': 9.0, 'power_of_lr': 4.0, 'dropout_input': 0.15000000000000002, 'dropout_hidden': 0.0, 'batch_size': 72.0}. Best is trial 25 with value: 0.19755195379257207.\u001b[0m\n",
      "\u001b[32m[I 2021-04-04 08:10:44,607]\u001b[0m Trial 59 finished with value: 0.21888771057128908 and parameters: {'n_neurons': 96.0, 'n_hidden_layers': 10.0, 'power_of_lr': 3.0, 'dropout_input': 0.1, 'dropout_hidden': 0.05, 'batch_size': 104.0}. Best is trial 25 with value: 0.19755195379257207.\u001b[0m\n",
      "\u001b[32m[I 2021-04-04 08:10:59,350]\u001b[0m Trial 60 finished with value: 0.2065344333648682 and parameters: {'n_neurons': 208.0, 'n_hidden_layers': 9.0, 'power_of_lr': 3.0, 'dropout_input': 0.15000000000000002, 'dropout_hidden': 0.0, 'batch_size': 120.0}. Best is trial 25 with value: 0.19755195379257207.\u001b[0m\n",
      "\u001b[32m[I 2021-04-04 08:11:08,081]\u001b[0m Trial 61 finished with value: 0.2109974384307861 and parameters: {'n_neurons': 64.0, 'n_hidden_layers': 9.0, 'power_of_lr': 3.0, 'dropout_input': 0.1, 'dropout_hidden': 0.05, 'batch_size': 128.0}. Best is trial 25 with value: 0.19755195379257207.\u001b[0m\n",
      "\u001b[32m[I 2021-04-04 08:11:17,560]\u001b[0m Trial 62 finished with value: 0.21882493495941158 and parameters: {'n_neurons': 104.0, 'n_hidden_layers': 8.0, 'power_of_lr': 3.0, 'dropout_input': 0.1, 'dropout_hidden': 0.0, 'batch_size': 136.0}. Best is trial 25 with value: 0.19755195379257207.\u001b[0m\n",
      "\u001b[32m[I 2021-04-04 08:11:32,112]\u001b[0m Trial 63 finished with value: 0.2154290437698364 and parameters: {'n_neurons': 168.0, 'n_hidden_layers': 10.0, 'power_of_lr': 3.0, 'dropout_input': 0.1, 'dropout_hidden': 0.05, 'batch_size': 152.0}. Best is trial 25 with value: 0.19755195379257207.\u001b[0m\n",
      "\u001b[32m[I 2021-04-04 08:11:46,634]\u001b[0m Trial 64 finished with value: 0.20428724288940425 and parameters: {'n_neurons': 152.0, 'n_hidden_layers': 9.0, 'power_of_lr': 3.0, 'dropout_input': 0.1, 'dropout_hidden': 0.0, 'batch_size': 88.0}. Best is trial 25 with value: 0.19755195379257207.\u001b[0m\n",
      "\u001b[32m[I 2021-04-04 08:12:02,892]\u001b[0m Trial 65 finished with value: 0.20534807443618774 and parameters: {'n_neurons': 128.0, 'n_hidden_layers': 10.0, 'power_of_lr': 3.0, 'dropout_input': 0.05, 'dropout_hidden': 0.0, 'batch_size': 112.0}. Best is trial 25 with value: 0.19755195379257207.\u001b[0m\n",
      "\u001b[32m[I 2021-04-04 08:12:12,783]\u001b[0m Trial 66 finished with value: 0.22446174621582027 and parameters: {'n_neurons': 80.0, 'n_hidden_layers': 8.0, 'power_of_lr': 4.0, 'dropout_input': 0.15000000000000002, 'dropout_hidden': 0.05, 'batch_size': 120.0}. Best is trial 25 with value: 0.19755195379257207.\u001b[0m\n",
      "\u001b[32m[I 2021-04-04 08:12:27,977]\u001b[0m Trial 67 finished with value: 0.20428097248077393 and parameters: {'n_neurons': 192.0, 'n_hidden_layers': 9.0, 'power_of_lr': 3.0, 'dropout_input': 0.1, 'dropout_hidden': 0.1, 'batch_size': 144.0}. Best is trial 25 with value: 0.19755195379257207.\u001b[0m\n",
      "\u001b[32m[I 2021-04-04 08:12:42,483]\u001b[0m Trial 68 finished with value: 0.21544787883758543 and parameters: {'n_neurons': 144.0, 'n_hidden_layers': 10.0, 'power_of_lr': 3.0, 'dropout_input': 0.05, 'dropout_hidden': 0.0, 'batch_size': 160.0}. Best is trial 25 with value: 0.19755195379257207.\u001b[0m\n",
      "\u001b[32m[I 2021-04-04 08:12:57,860]\u001b[0m Trial 69 finished with value: 0.21327600479125974 and parameters: {'n_neurons': 256.0, 'n_hidden_layers': 9.0, 'power_of_lr': 3.0, 'dropout_input': 0.15000000000000002, 'dropout_hidden': 0.05, 'batch_size': 128.0}. Best is trial 25 with value: 0.19755195379257207.\u001b[0m\n",
      "\u001b[32m[I 2021-04-04 08:13:12,604]\u001b[0m Trial 70 finished with value: 0.22779487371444707 and parameters: {'n_neurons': 176.0, 'n_hidden_layers': 8.0, 'power_of_lr': 4.0, 'dropout_input': 0.1, 'dropout_hidden': 0.0, 'batch_size': 104.0}. Best is trial 25 with value: 0.19755195379257207.\u001b[0m\n",
      "\u001b[32m[I 2021-04-04 08:13:26,586]\u001b[0m Trial 71 finished with value: 0.22222083806991577 and parameters: {'n_neurons': 192.0, 'n_hidden_layers': 9.0, 'power_of_lr': 3.0, 'dropout_input': 0.1, 'dropout_hidden': 0.25, 'batch_size': 144.0}. Best is trial 25 with value: 0.19755195379257207.\u001b[0m\n",
      "\u001b[32m[I 2021-04-04 08:13:44,301]\u001b[0m Trial 72 finished with value: 0.21547926664352413 and parameters: {'n_neurons': 208.0, 'n_hidden_layers': 10.0, 'power_of_lr': 3.0, 'dropout_input': 0.1, 'dropout_hidden': 0.1, 'batch_size': 144.0}. Best is trial 25 with value: 0.19755195379257207.\u001b[0m\n",
      "\u001b[32m[I 2021-04-04 08:13:58,402]\u001b[0m Trial 73 finished with value: 0.22330049276351926 and parameters: {'n_neurons': 160.0, 'n_hidden_layers': 9.0, 'power_of_lr': 3.0, 'dropout_input': 0.1, 'dropout_hidden': 0.2, 'batch_size': 112.0}. Best is trial 25 with value: 0.19755195379257207.\u001b[0m\n",
      "\u001b[32m[I 2021-04-04 08:14:08,081]\u001b[0m Trial 74 finished with value: 0.2266587257385254 and parameters: {'n_neurons': 96.0, 'n_hidden_layers': 8.0, 'power_of_lr': 3.0, 'dropout_input': 0.1, 'dropout_hidden': 0.05, 'batch_size': 136.0}. Best is trial 25 with value: 0.19755195379257207.\u001b[0m\n",
      "\u001b[32m[I 2021-04-04 08:14:19,637]\u001b[0m Trial 75 finished with value: 0.21545414924621586 and parameters: {'n_neurons': 128.0, 'n_hidden_layers': 9.0, 'power_of_lr': 3.0, 'dropout_input': 0.15000000000000002, 'dropout_hidden': 0.1, 'batch_size': 168.0}. Best is trial 25 with value: 0.19755195379257207.\u001b[0m\n",
      "\u001b[32m[I 2021-04-04 08:14:32,536]\u001b[0m Trial 76 finished with value: 0.23341912031173706 and parameters: {'n_neurons': 184.0, 'n_hidden_layers': 10.0, 'power_of_lr': 2.0, 'dropout_input': 0.1, 'dropout_hidden': 0.0, 'batch_size': 88.0}. Best is trial 25 with value: 0.19755195379257207.\u001b[0m\n",
      "\u001b[32m[I 2021-04-04 08:14:55,979]\u001b[0m Trial 77 finished with value: 0.21321324110031126 and parameters: {'n_neurons': 504.0, 'n_hidden_layers': 9.0, 'power_of_lr': 3.0, 'dropout_input': 0.15000000000000002, 'dropout_hidden': 0.05, 'batch_size': 152.0}. Best is trial 25 with value: 0.19755195379257207.\u001b[0m\n",
      "\u001b[32m[I 2021-04-04 08:15:15,966]\u001b[0m Trial 78 finished with value: 0.22110351324081423 and parameters: {'n_neurons': 216.0, 'n_hidden_layers': 10.0, 'power_of_lr': 3.0, 'dropout_input': 0.2, 'dropout_hidden': 0.1, 'batch_size': 128.0}. Best is trial 25 with value: 0.19755195379257207.\u001b[0m\n",
      "\u001b[32m[I 2021-04-04 08:15:29,018]\u001b[0m Trial 79 finished with value: 0.2076140999794006 and parameters: {'n_neurons': 112.0, 'n_hidden_layers': 9.0, 'power_of_lr': 3.0, 'dropout_input': 0.05, 'dropout_hidden': 0.15000000000000002, 'batch_size': 96.0}. Best is trial 25 with value: 0.19755195379257207.\u001b[0m\n",
      "\u001b[32m[I 2021-04-04 08:15:42,135]\u001b[0m Trial 80 finished with value: 0.23458038568496709 and parameters: {'n_neurons': 240.0, 'n_hidden_layers': 8.0, 'power_of_lr': 2.0, 'dropout_input': 0.1, 'dropout_hidden': 0.0, 'batch_size': 120.0}. Best is trial 25 with value: 0.19755195379257207.\u001b[0m\n",
      "\u001b[32m[I 2021-04-04 08:15:55,065]\u001b[0m Trial 81 finished with value: 0.21434310674667356 and parameters: {'n_neurons': 144.0, 'n_hidden_layers': 9.0, 'power_of_lr': 3.0, 'dropout_input': 0.1, 'dropout_hidden': 0.0, 'batch_size': 88.0}. Best is trial 25 with value: 0.19755195379257207.\u001b[0m\n",
      "\u001b[32m[I 2021-04-04 08:16:10,379]\u001b[0m Trial 82 finished with value: 0.21437449455261226 and parameters: {'n_neurons': 152.0, 'n_hidden_layers': 10.0, 'power_of_lr': 3.0, 'dropout_input': 0.1, 'dropout_hidden': 0.0, 'batch_size': 48.0}. Best is trial 25 with value: 0.19755195379257207.\u001b[0m\n",
      "\u001b[32m[I 2021-04-04 08:16:30,051]\u001b[0m Trial 83 finished with value: 0.2323143601417541 and parameters: {'n_neurons': 192.0, 'n_hidden_layers': 9.0, 'power_of_lr': 3.0, 'dropout_input': 0.1, 'dropout_hidden': 0.05, 'batch_size': 64.0}. Best is trial 25 with value: 0.19755195379257207.\u001b[0m\n"
     ]
    },
    {
     "name": "stderr",
     "output_type": "stream",
     "text": [
      "\u001b[32m[I 2021-04-04 08:16:45,559]\u001b[0m Trial 84 finished with value: 0.22891218662261958 and parameters: {'n_neurons': 168.0, 'n_hidden_layers': 10.0, 'power_of_lr': 3.0, 'dropout_input': 0.1, 'dropout_hidden': 0.0, 'batch_size': 72.0}. Best is trial 25 with value: 0.19755195379257207.\u001b[0m\n",
      "\u001b[32m[I 2021-04-04 08:16:58,101]\u001b[0m Trial 85 finished with value: 0.22220827341079707 and parameters: {'n_neurons': 136.0, 'n_hidden_layers': 8.0, 'power_of_lr': 3.0, 'dropout_input': 0.15000000000000002, 'dropout_hidden': 0.0, 'batch_size': 88.0}. Best is trial 25 with value: 0.19755195379257207.\u001b[0m\n",
      "\u001b[32m[I 2021-04-04 08:17:09,528]\u001b[0m Trial 86 finished with value: 0.23789467811584475 and parameters: {'n_neurons': 80.0, 'n_hidden_layers': 9.0, 'power_of_lr': 3.0, 'dropout_input': 0.05, 'dropout_hidden': 0.4, 'batch_size': 112.0}. Best is trial 25 with value: 0.19755195379257207.\u001b[0m\n",
      "\u001b[32m[I 2021-04-04 08:17:20,775]\u001b[0m Trial 87 finished with value: 0.23228925466537476 and parameters: {'n_neurons': 120.0, 'n_hidden_layers': 10.0, 'power_of_lr': 3.0, 'dropout_input': 0.1, 'dropout_hidden': 0.05, 'batch_size': 168.0}. Best is trial 25 with value: 0.19755195379257207.\u001b[0m\n",
      "\u001b[32m[I 2021-04-04 08:17:38,714]\u001b[0m Trial 88 finished with value: 0.21436194181442259 and parameters: {'n_neurons': 160.0, 'n_hidden_layers': 8.0, 'power_of_lr': 4.0, 'dropout_input': 0.1, 'dropout_hidden': 0.0, 'batch_size': 80.0}. Best is trial 25 with value: 0.19755195379257207.\u001b[0m\n",
      "\u001b[32m[I 2021-04-04 08:17:49,535]\u001b[0m Trial 89 finished with value: 0.21885005235671995 and parameters: {'n_neurons': 96.0, 'n_hidden_layers': 9.0, 'power_of_lr': 3.0, 'dropout_input': 0.15000000000000002, 'dropout_hidden': 0.05, 'batch_size': 104.0}. Best is trial 25 with value: 0.19755195379257207.\u001b[0m\n",
      "\u001b[32m[I 2021-04-04 08:18:02,769]\u001b[0m Trial 90 finished with value: 0.2725629329681396 and parameters: {'n_neurons': 184.0, 'n_hidden_layers': 10.0, 'power_of_lr': 2.0, 'dropout_input': 0.1, 'dropout_hidden': 0.2, 'batch_size': 136.0}. Best is trial 25 with value: 0.19755195379257207.\u001b[0m\n",
      "\u001b[32m[I 2021-04-04 08:18:17,943]\u001b[0m Trial 91 finished with value: 0.19414978027343754 and parameters: {'n_neurons': 232.0, 'n_hidden_layers': 7.0, 'power_of_lr': 3.0, 'dropout_input': 0.05, 'dropout_hidden': 0.1, 'batch_size': 80.0}. Best is trial 91 with value: 0.19414978027343754.\u001b[0m\n",
      "\u001b[32m[I 2021-04-04 08:18:33,643]\u001b[0m Trial 92 finished with value: 0.19753940105438228 and parameters: {'n_neurons': 224.0, 'n_hidden_layers': 7.0, 'power_of_lr': 3.0, 'dropout_input': 0.05, 'dropout_hidden': 0.1, 'batch_size': 72.0}. Best is trial 91 with value: 0.19414978027343754.\u001b[0m\n",
      "\u001b[32m[I 2021-04-04 08:18:56,907]\u001b[0m Trial 93 finished with value: 0.2221643447875976 and parameters: {'n_neurons': 256.0, 'n_hidden_layers': 7.0, 'power_of_lr': 3.0, 'dropout_input': 0.0, 'dropout_hidden': 0.1, 'batch_size': 72.0}. Best is trial 91 with value: 0.19414978027343754.\u001b[0m\n",
      "\u001b[32m[I 2021-04-04 08:19:13,928]\u001b[0m Trial 94 finished with value: 0.21432428359985356 and parameters: {'n_neurons': 224.0, 'n_hidden_layers': 7.0, 'power_of_lr': 3.0, 'dropout_input': 0.05, 'dropout_hidden': 0.1, 'batch_size': 48.0}. Best is trial 91 with value: 0.19414978027343754.\u001b[0m\n",
      "\u001b[32m[I 2021-04-04 08:19:31,332]\u001b[0m Trial 95 finished with value: 0.20763292312622073 and parameters: {'n_neurons': 240.0, 'n_hidden_layers': 6.0, 'power_of_lr': 3.0, 'dropout_input': 0.05, 'dropout_hidden': 0.1, 'batch_size': 56.0}. Best is trial 91 with value: 0.19414978027343754.\u001b[0m\n",
      "\u001b[32m[I 2021-04-04 08:19:48,308]\u001b[0m Trial 96 finished with value: 0.20313854217529292 and parameters: {'n_neurons': 288.0, 'n_hidden_layers': 7.0, 'power_of_lr': 3.0, 'dropout_input': 0.05, 'dropout_hidden': 0.15000000000000002, 'batch_size': 96.0}. Best is trial 91 with value: 0.19414978027343754.\u001b[0m\n",
      "\u001b[32m[I 2021-04-04 08:20:04,814]\u001b[0m Trial 97 finished with value: 0.21097232103347774 and parameters: {'n_neurons': 280.0, 'n_hidden_layers': 7.0, 'power_of_lr': 3.0, 'dropout_input': 0.05, 'dropout_hidden': 0.15000000000000002, 'batch_size': 80.0}. Best is trial 91 with value: 0.19414978027343754.\u001b[0m\n",
      "\u001b[32m[I 2021-04-04 08:20:20,563]\u001b[0m Trial 98 finished with value: 0.20204633474349976 and parameters: {'n_neurons': 304.0, 'n_hidden_layers': 7.0, 'power_of_lr': 3.0, 'dropout_input': 0.05, 'dropout_hidden': 0.15000000000000002, 'batch_size': 112.0}. Best is trial 91 with value: 0.19414978027343754.\u001b[0m\n",
      "\u001b[32m[I 2021-04-04 08:20:38,644]\u001b[0m Trial 99 finished with value: 0.21544787883758543 and parameters: {'n_neurons': 296.0, 'n_hidden_layers': 7.0, 'power_of_lr': 3.0, 'dropout_input': 0.05, 'dropout_hidden': 0.15000000000000002, 'batch_size': 96.0}. Best is trial 91 with value: 0.19414978027343754.\u001b[0m\n",
      "\u001b[32m[I 2021-04-04 08:20:52,760]\u001b[0m Trial 100 finished with value: 0.20429979562759404 and parameters: {'n_neurons': 336.0, 'n_hidden_layers': 6.0, 'power_of_lr': 2.0, 'dropout_input': 0.05, 'dropout_hidden': 0.15000000000000002, 'batch_size': 96.0}. Best is trial 91 with value: 0.19414978027343754.\u001b[0m\n",
      "\u001b[32m[I 2021-04-04 08:21:09,317]\u001b[0m Trial 101 finished with value: 0.21769506931304927 and parameters: {'n_neurons': 312.0, 'n_hidden_layers': 7.0, 'power_of_lr': 3.0, 'dropout_input': 0.05, 'dropout_hidden': 0.15000000000000002, 'batch_size': 104.0}. Best is trial 91 with value: 0.19414978027343754.\u001b[0m\n",
      "\u001b[32m[I 2021-04-04 08:21:30,849]\u001b[0m Trial 102 finished with value: 0.20765802860260008 and parameters: {'n_neurons': 296.0, 'n_hidden_layers': 7.0, 'power_of_lr': 3.0, 'dropout_input': 0.05, 'dropout_hidden': 0.2, 'batch_size': 120.0}. Best is trial 91 with value: 0.19414978027343754.\u001b[0m\n",
      "\u001b[32m[I 2021-04-04 08:21:48,888]\u001b[0m Trial 103 finished with value: 0.22101564407348628 and parameters: {'n_neurons': 344.0, 'n_hidden_layers': 6.0, 'power_of_lr': 3.0, 'dropout_input': 0.0, 'dropout_hidden': 0.15000000000000002, 'batch_size': 112.0}. Best is trial 91 with value: 0.19414978027343754.\u001b[0m\n",
      "\u001b[32m[I 2021-04-04 08:22:03,603]\u001b[0m Trial 104 finished with value: 0.2143180012702942 and parameters: {'n_neurons': 264.0, 'n_hidden_layers': 7.0, 'power_of_lr': 3.0, 'dropout_input': 0.05, 'dropout_hidden': 0.1, 'batch_size': 128.0}. Best is trial 91 with value: 0.19414978027343754.\u001b[0m\n",
      "\u001b[32m[I 2021-04-04 08:22:20,004]\u001b[0m Trial 105 finished with value: 0.20876280069351194 and parameters: {'n_neurons': 312.0, 'n_hidden_layers': 7.0, 'power_of_lr': 3.0, 'dropout_input': 0.05, 'dropout_hidden': 0.2, 'batch_size': 88.0}. Best is trial 91 with value: 0.19414978027343754.\u001b[0m\n",
      "\u001b[32m[I 2021-04-04 08:22:33,472]\u001b[0m Trial 106 finished with value: 0.20313854217529292 and parameters: {'n_neurons': 248.0, 'n_hidden_layers': 6.0, 'power_of_lr': 3.0, 'dropout_input': 0.05, 'dropout_hidden': 0.1, 'batch_size': 80.0}. Best is trial 91 with value: 0.19414978027343754.\u001b[0m\n",
      "\u001b[32m[I 2021-04-04 08:22:48,306]\u001b[0m Trial 107 finished with value: 0.2054045677185059 and parameters: {'n_neurons': 280.0, 'n_hidden_layers': 6.0, 'power_of_lr': 3.0, 'dropout_input': 0.05, 'dropout_hidden': 0.15000000000000002, 'batch_size': 80.0}. Best is trial 91 with value: 0.19414978027343754.\u001b[0m\n",
      "\u001b[32m[I 2021-04-04 08:23:06,610]\u001b[0m Trial 108 finished with value: 0.21432428359985356 and parameters: {'n_neurons': 256.0, 'n_hidden_layers': 7.0, 'power_of_lr': 3.0, 'dropout_input': 0.0, 'dropout_hidden': 0.30000000000000004, 'batch_size': 72.0}. Best is trial 91 with value: 0.19414978027343754.\u001b[0m\n",
      "\u001b[32m[I 2021-04-04 08:23:22,544]\u001b[0m Trial 109 finished with value: 0.21098488569259644 and parameters: {'n_neurons': 232.0, 'n_hidden_layers': 6.0, 'power_of_lr': 3.0, 'dropout_input': 0.05, 'dropout_hidden': 0.25, 'batch_size': 96.0}. Best is trial 91 with value: 0.19414978027343754.\u001b[0m\n",
      "\u001b[32m[I 2021-04-04 08:23:37,251]\u001b[0m Trial 110 finished with value: 0.20093529224395756 and parameters: {'n_neurons': 216.0, 'n_hidden_layers': 7.0, 'power_of_lr': 3.0, 'dropout_input': 0.05, 'dropout_hidden': 0.05, 'batch_size': 56.0}. Best is trial 91 with value: 0.19414978027343754.\u001b[0m\n",
      "\u001b[32m[I 2021-04-04 08:23:52,662]\u001b[0m Trial 111 finished with value: 0.21655263900756838 and parameters: {'n_neurons': 216.0, 'n_hidden_layers': 7.0, 'power_of_lr': 3.0, 'dropout_input': 0.05, 'dropout_hidden': 0.05, 'batch_size': 80.0}. Best is trial 91 with value: 0.19414978027343754.\u001b[0m\n"
     ]
    },
    {
     "name": "stderr",
     "output_type": "stream",
     "text": [
      "\u001b[32m[I 2021-04-04 08:24:04,509]\u001b[0m Trial 112 finished with value: 0.2076266527175903 and parameters: {'n_neurons': 200.0, 'n_hidden_layers': 6.0, 'power_of_lr': 3.0, 'dropout_input': 0.05, 'dropout_hidden': 0.1, 'batch_size': 56.0}. Best is trial 91 with value: 0.19414978027343754.\u001b[0m\n",
      "\u001b[32m[I 2021-04-04 08:24:21,101]\u001b[0m Trial 113 finished with value: 0.2165714740753174 and parameters: {'n_neurons': 248.0, 'n_hidden_layers': 7.0, 'power_of_lr': 3.0, 'dropout_input': 0.05, 'dropout_hidden': 0.05, 'batch_size': 56.0}. Best is trial 91 with value: 0.19414978027343754.\u001b[0m\n",
      "\u001b[32m[I 2021-04-04 08:24:43,505]\u001b[0m Trial 114 finished with value: 0.1964471817016602 and parameters: {'n_neurons': 232.0, 'n_hidden_layers': 8.0, 'power_of_lr': 3.0, 'dropout_input': 0.05, 'dropout_hidden': 0.05, 'batch_size': 32.0}. Best is trial 91 with value: 0.19414978027343754.\u001b[0m\n",
      "\u001b[32m[I 2021-04-04 08:25:02,944]\u001b[0m Trial 115 finished with value: 0.2042621374130249 and parameters: {'n_neurons': 272.0, 'n_hidden_layers': 8.0, 'power_of_lr': 3.0, 'dropout_input': 0.05, 'dropout_hidden': 0.0, 'batch_size': 40.0}. Best is trial 91 with value: 0.19414978027343754.\u001b[0m\n",
      "\u001b[32m[I 2021-04-04 08:25:25,663]\u001b[0m Trial 116 finished with value: 0.21996736526489258 and parameters: {'n_neurons': 232.0, 'n_hidden_layers': 8.0, 'power_of_lr': 3.0, 'dropout_input': 0.05, 'dropout_hidden': 0.05, 'batch_size': 32.0}. Best is trial 91 with value: 0.19414978027343754.\u001b[0m\n",
      "\u001b[32m[I 2021-04-04 08:25:41,102]\u001b[0m Trial 117 finished with value: 0.20987384319305424 and parameters: {'n_neurons': 216.0, 'n_hidden_layers': 7.0, 'power_of_lr': 3.0, 'dropout_input': 0.05, 'dropout_hidden': 0.0, 'batch_size': 64.0}. Best is trial 91 with value: 0.19414978027343754.\u001b[0m\n",
      "\u001b[32m[I 2021-04-04 08:25:57,744]\u001b[0m Trial 118 finished with value: 0.2143305540084839 and parameters: {'n_neurons': 200.0, 'n_hidden_layers': 6.0, 'power_of_lr': 3.0, 'dropout_input': 0.15000000000000002, 'dropout_hidden': 0.05, 'batch_size': 24.0}. Best is trial 91 with value: 0.19414978027343754.\u001b[0m\n",
      "\u001b[32m[I 2021-04-04 08:26:17,807]\u001b[0m Trial 119 finished with value: 0.21656519174575806 and parameters: {'n_neurons': 248.0, 'n_hidden_layers': 5.0, 'power_of_lr': 3.0, 'dropout_input': 0.05, 'dropout_hidden': 0.05, 'batch_size': 16.0}. Best is trial 91 with value: 0.19414978027343754.\u001b[0m\n",
      "\u001b[32m[I 2021-04-04 08:27:15,188]\u001b[0m Trial 120 finished with value: 0.21434310674667356 and parameters: {'n_neurons': 224.0, 'n_hidden_layers': 8.0, 'power_of_lr': 4.0, 'dropout_input': 0.05, 'dropout_hidden': 0.0, 'batch_size': 8.0}. Best is trial 91 with value: 0.19414978027343754.\u001b[0m\n",
      "\u001b[32m[I 2021-04-04 08:27:30,946]\u001b[0m Trial 121 finished with value: 0.21544159650802608 and parameters: {'n_neurons': 296.0, 'n_hidden_layers': 7.0, 'power_of_lr': 3.0, 'dropout_input': 0.05, 'dropout_hidden': 0.1, 'batch_size': 64.0}. Best is trial 91 with value: 0.19414978027343754.\u001b[0m\n",
      "\u001b[32m[I 2021-04-04 08:27:48,374]\u001b[0m Trial 122 finished with value: 0.2075952649116516 and parameters: {'n_neurons': 272.0, 'n_hidden_layers': 7.0, 'power_of_lr': 3.0, 'dropout_input': 0.05, 'dropout_hidden': 0.1, 'batch_size': 88.0}. Best is trial 91 with value: 0.19414978027343754.\u001b[0m\n",
      "\u001b[32m[I 2021-04-04 08:28:02,041]\u001b[0m Trial 123 finished with value: 0.21769506931304927 and parameters: {'n_neurons': 200.0, 'n_hidden_layers': 8.0, 'power_of_lr': 3.0, 'dropout_input': 0.05, 'dropout_hidden': 0.0, 'batch_size': 104.0}. Best is trial 91 with value: 0.19414978027343754.\u001b[0m\n",
      "\u001b[32m[I 2021-04-04 08:28:16,619]\u001b[0m Trial 124 finished with value: 0.21097232103347774 and parameters: {'n_neurons': 248.0, 'n_hidden_layers': 7.0, 'power_of_lr': 3.0, 'dropout_input': 0.05, 'dropout_hidden': 0.1, 'batch_size': 112.0}. Best is trial 91 with value: 0.19414978027343754.\u001b[0m\n",
      "\u001b[32m[I 2021-04-04 08:28:28,711]\u001b[0m Trial 125 finished with value: 0.21544159650802608 and parameters: {'n_neurons': 176.0, 'n_hidden_layers': 6.0, 'power_of_lr': 3.0, 'dropout_input': 0.05, 'dropout_hidden': 0.0, 'batch_size': 80.0}. Best is trial 91 with value: 0.19414978027343754.\u001b[0m\n",
      "\u001b[32m[I 2021-04-04 08:28:43,817]\u001b[0m Trial 126 finished with value: 0.41294959783554075 and parameters: {'n_neurons': 208.0, 'n_hidden_layers': 7.0, 'power_of_lr': 1.0, 'dropout_input': 0.0, 'dropout_hidden': 0.05, 'batch_size': 96.0}. Best is trial 91 with value: 0.19414978027343754.\u001b[0m\n",
      "\u001b[32m[I 2021-04-04 08:28:57,887]\u001b[0m Trial 127 finished with value: 0.22888708114624023 and parameters: {'n_neurons': 232.0, 'n_hidden_layers': 7.0, 'power_of_lr': 3.0, 'dropout_input': 0.15000000000000002, 'dropout_hidden': 0.0, 'batch_size': 72.0}. Best is trial 91 with value: 0.19414978027343754.\u001b[0m\n",
      "\u001b[32m[I 2021-04-04 08:29:12,357]\u001b[0m Trial 128 finished with value: 0.2188123822212219 and parameters: {'n_neurons': 168.0, 'n_hidden_layers': 8.0, 'power_of_lr': 3.0, 'dropout_input': 0.05, 'dropout_hidden': 0.05, 'batch_size': 152.0}. Best is trial 91 with value: 0.19414978027343754.\u001b[0m\n",
      "\u001b[32m[I 2021-04-04 08:29:28,032]\u001b[0m Trial 129 finished with value: 0.21211475133895874 and parameters: {'n_neurons': 288.0, 'n_hidden_layers': 7.0, 'power_of_lr': 3.0, 'dropout_input': 0.05, 'dropout_hidden': 0.1, 'batch_size': 120.0}. Best is trial 91 with value: 0.19414978027343754.\u001b[0m\n",
      "\u001b[32m[I 2021-04-04 08:29:42,195]\u001b[0m Trial 130 finished with value: 0.21324462890624996 and parameters: {'n_neurons': 184.0, 'n_hidden_layers': 10.0, 'power_of_lr': 3.0, 'dropout_input': 0.15000000000000002, 'dropout_hidden': 0.0, 'batch_size': 136.0}. Best is trial 91 with value: 0.19414978027343754.\u001b[0m\n",
      "\u001b[32m[I 2021-04-04 08:29:55,667]\u001b[0m Trial 131 finished with value: 0.19866926670074458 and parameters: {'n_neurons': 120.0, 'n_hidden_layers': 10.0, 'power_of_lr': 3.0, 'dropout_input': 0.05, 'dropout_hidden': 0.1, 'batch_size': 104.0}. Best is trial 91 with value: 0.19414978027343754.\u001b[0m\n",
      "\u001b[32m[I 2021-04-04 08:30:01,431]\u001b[0m Trial 132 finished with value: 0.22446802854537962 and parameters: {'n_neurons': 136.0, 'n_hidden_layers': 2.0, 'power_of_lr': 3.0, 'dropout_input': 0.05, 'dropout_hidden': 0.1, 'batch_size': 104.0}. Best is trial 91 with value: 0.19414978027343754.\u001b[0m\n",
      "\u001b[32m[I 2021-04-04 08:30:13,352]\u001b[0m Trial 133 finished with value: 0.21655263900756838 and parameters: {'n_neurons': 120.0, 'n_hidden_layers': 10.0, 'power_of_lr': 3.0, 'dropout_input': 0.05, 'dropout_hidden': 0.1, 'batch_size': 88.0}. Best is trial 91 with value: 0.19414978027343754.\u001b[0m\n",
      "\u001b[32m[I 2021-04-04 08:30:39,387]\u001b[0m Trial 134 finished with value: 0.2087565183639526 and parameters: {'n_neurons': 312.0, 'n_hidden_layers': 10.0, 'power_of_lr': 3.0, 'dropout_input': 0.05, 'dropout_hidden': 0.15000000000000002, 'batch_size': 48.0}. Best is trial 91 with value: 0.19414978027343754.\u001b[0m\n",
      "\u001b[32m[I 2021-04-04 08:30:52,255]\u001b[0m Trial 135 finished with value: 0.21543532609939575 and parameters: {'n_neurons': 96.0, 'n_hidden_layers': 10.0, 'power_of_lr': 3.0, 'dropout_input': 0.05, 'dropout_hidden': 0.05, 'batch_size': 96.0}. Best is trial 91 with value: 0.19414978027343754.\u001b[0m\n",
      "\u001b[32m[I 2021-04-04 08:31:08,829]\u001b[0m Trial 136 finished with value: 0.20655326843261723 and parameters: {'n_neurons': 216.0, 'n_hidden_layers': 10.0, 'power_of_lr': 3.0, 'dropout_input': 0.05, 'dropout_hidden': 0.15000000000000002, 'batch_size': 104.0}. Best is trial 91 with value: 0.19414978027343754.\u001b[0m\n",
      "\u001b[32m[I 2021-04-04 08:31:24,191]\u001b[0m Trial 137 finished with value: 0.21877472400665288 and parameters: {'n_neurons': 240.0, 'n_hidden_layers': 7.0, 'power_of_lr': 3.0, 'dropout_input': 0.05, 'dropout_hidden': 0.1, 'batch_size': 112.0}. Best is trial 91 with value: 0.19414978027343754.\u001b[0m\n",
      "\u001b[32m[I 2021-04-04 08:31:37,025]\u001b[0m Trial 138 finished with value: 0.2109786033630371 and parameters: {'n_neurons': 144.0, 'n_hidden_layers': 8.0, 'power_of_lr': 3.0, 'dropout_input': 0.15000000000000002, 'dropout_hidden': 0.0, 'batch_size': 72.0}. Best is trial 91 with value: 0.19414978027343754.\u001b[0m\n",
      "\u001b[32m[I 2021-04-04 08:31:44,784]\u001b[0m Trial 139 finished with value: 0.21097232103347774 and parameters: {'n_neurons': 64.0, 'n_hidden_layers': 6.0, 'power_of_lr': 3.0, 'dropout_input': 0.05, 'dropout_hidden': 0.05, 'batch_size': 120.0}. Best is trial 91 with value: 0.19414978027343754.\u001b[0m\n"
     ]
    },
    {
     "name": "stderr",
     "output_type": "stream",
     "text": [
      "\u001b[32m[I 2021-04-04 08:31:57,506]\u001b[0m Trial 140 finished with value: 0.3354779958724976 and parameters: {'n_neurons': 104.0, 'n_hidden_layers': 10.0, 'power_of_lr': 3.0, 'dropout_input': 0.2, 'dropout_hidden': 0.5, 'batch_size': 160.0}. Best is trial 91 with value: 0.19414978027343754.\u001b[0m\n",
      "\u001b[32m[I 2021-04-04 08:32:10,902]\u001b[0m Trial 141 finished with value: 0.21882493495941158 and parameters: {'n_neurons': 120.0, 'n_hidden_layers': 10.0, 'power_of_lr': 3.0, 'dropout_input': 0.1, 'dropout_hidden': 0.1, 'batch_size': 128.0}. Best is trial 91 with value: 0.19414978027343754.\u001b[0m\n",
      "\u001b[32m[I 2021-04-04 08:32:21,018]\u001b[0m Trial 142 finished with value: 0.21210219860076907 and parameters: {'n_neurons': 112.0, 'n_hidden_layers': 7.0, 'power_of_lr': 3.0, 'dropout_input': 0.1, 'dropout_hidden': 0.1, 'batch_size': 136.0}. Best is trial 91 with value: 0.19414978027343754.\u001b[0m\n",
      "\u001b[32m[I 2021-04-04 08:32:39,689]\u001b[0m Trial 143 finished with value: 0.21104764938354492 and parameters: {'n_neurons': 264.0, 'n_hidden_layers': 10.0, 'power_of_lr': 3.0, 'dropout_input': 0.1, 'dropout_hidden': 0.1, 'batch_size': 144.0}. Best is trial 91 with value: 0.19414978027343754.\u001b[0m\n",
      "\u001b[32m[I 2021-04-04 08:32:54,225]\u001b[0m Trial 144 finished with value: 0.21209591627120972 and parameters: {'n_neurons': 160.0, 'n_hidden_layers': 9.0, 'power_of_lr': 3.0, 'dropout_input': 0.05, 'dropout_hidden': 0.15000000000000002, 'batch_size': 112.0}. Best is trial 91 with value: 0.19414978027343754.\u001b[0m\n",
      "\u001b[32m[I 2021-04-04 08:33:04,661]\u001b[0m Trial 145 finished with value: 0.2120896458625794 and parameters: {'n_neurons': 88.0, 'n_hidden_layers': 8.0, 'power_of_lr': 3.0, 'dropout_input': 0.15000000000000002, 'dropout_hidden': 0.0, 'batch_size': 104.0}. Best is trial 91 with value: 0.19414978027343754.\u001b[0m\n",
      "\u001b[32m[I 2021-04-04 08:33:17,351]\u001b[0m Trial 146 finished with value: 0.22105957269668575 and parameters: {'n_neurons': 128.0, 'n_hidden_layers': 7.0, 'power_of_lr': 3.0, 'dropout_input': 0.05, 'dropout_hidden': 0.05, 'batch_size': 120.0}. Best is trial 91 with value: 0.19414978027343754.\u001b[0m\n",
      "\u001b[32m[I 2021-04-04 08:33:30,949]\u001b[0m Trial 147 finished with value: 0.21548553705215456 and parameters: {'n_neurons': 176.0, 'n_hidden_layers': 9.0, 'power_of_lr': 3.0, 'dropout_input': 0.1, 'dropout_hidden': 0.1, 'batch_size': 128.0}. Best is trial 91 with value: 0.19414978027343754.\u001b[0m\n",
      "\u001b[32m[I 2021-04-04 08:33:48,322]\u001b[0m Trial 148 finished with value: 0.21660913228988643 and parameters: {'n_neurons': 224.0, 'n_hidden_layers': 10.0, 'power_of_lr': 3.0, 'dropout_input': 0.15000000000000002, 'dropout_hidden': 0.0, 'batch_size': 96.0}. Best is trial 91 with value: 0.19414978027343754.\u001b[0m\n",
      "\u001b[32m[I 2021-04-04 08:33:58,423]\u001b[0m Trial 149 finished with value: 0.21769506931304927 and parameters: {'n_neurons': 208.0, 'n_hidden_layers': 6.0, 'power_of_lr': 3.0, 'dropout_input': 0.05, 'dropout_hidden': 0.15000000000000002, 'batch_size': 144.0}. Best is trial 91 with value: 0.19414978027343754.\u001b[0m\n",
      "\u001b[32m[I 2021-04-04 08:34:11,240]\u001b[0m Trial 150 finished with value: 0.20762037038803105 and parameters: {'n_neurons': 192.0, 'n_hidden_layers': 7.0, 'power_of_lr': 3.0, 'dropout_input': 0.05, 'dropout_hidden': 0.05, 'batch_size': 80.0}. Best is trial 91 with value: 0.19414978027343754.\u001b[0m\n",
      "\u001b[32m[I 2021-04-04 08:34:32,007]\u001b[0m Trial 151 finished with value: 0.19866299629211426 and parameters: {'n_neurons': 280.0, 'n_hidden_layers': 8.0, 'power_of_lr': 3.0, 'dropout_input': 0.05, 'dropout_hidden': 0.0, 'batch_size': 48.0}. Best is trial 91 with value: 0.19414978027343754.\u001b[0m\n",
      "\u001b[32m[I 2021-04-04 08:35:03,834]\u001b[0m Trial 152 finished with value: 0.19645346403121944 and parameters: {'n_neurons': 304.0, 'n_hidden_layers': 8.0, 'power_of_lr': 3.0, 'dropout_input': 0.05, 'dropout_hidden': 0.0, 'batch_size': 32.0}. Best is trial 91 with value: 0.19414978027343754.\u001b[0m\n",
      "\u001b[32m[I 2021-04-04 08:35:26,585]\u001b[0m Trial 153 finished with value: 0.21434310674667356 and parameters: {'n_neurons': 320.0, 'n_hidden_layers': 8.0, 'power_of_lr': 3.0, 'dropout_input': 0.05, 'dropout_hidden': 0.0, 'batch_size': 32.0}. Best is trial 91 with value: 0.19414978027343754.\u001b[0m\n",
      "\u001b[32m[I 2021-04-04 08:35:45,604]\u001b[0m Trial 154 finished with value: 0.2098989486694336 and parameters: {'n_neurons': 288.0, 'n_hidden_layers': 8.0, 'power_of_lr': 3.0, 'dropout_input': 0.05, 'dropout_hidden': 0.0, 'batch_size': 40.0}. Best is trial 91 with value: 0.19414978027343754.\u001b[0m\n",
      "\u001b[32m[I 2021-04-04 08:36:09,549]\u001b[0m Trial 155 finished with value: 0.20876907110214238 and parameters: {'n_neurons': 328.0, 'n_hidden_layers': 8.0, 'power_of_lr': 3.0, 'dropout_input': 0.05, 'dropout_hidden': 0.0, 'batch_size': 24.0}. Best is trial 91 with value: 0.19414978027343754.\u001b[0m\n",
      "\u001b[32m[I 2021-04-04 08:36:26,321]\u001b[0m Trial 156 finished with value: 0.20429979562759404 and parameters: {'n_neurons': 280.0, 'n_hidden_layers': 7.0, 'power_of_lr': 3.0, 'dropout_input': 0.05, 'dropout_hidden': 0.0, 'batch_size': 40.0}. Best is trial 91 with value: 0.19414978027343754.\u001b[0m\n",
      "\u001b[32m[I 2021-04-04 08:36:51,825]\u001b[0m Trial 157 finished with value: 0.21319440603256223 and parameters: {'n_neurons': 304.0, 'n_hidden_layers': 8.0, 'power_of_lr': 3.0, 'dropout_input': 0.05, 'dropout_hidden': 0.0, 'batch_size': 48.0}. Best is trial 91 with value: 0.19414978027343754.\u001b[0m\n",
      "\u001b[32m[I 2021-04-04 08:37:09,896]\u001b[0m Trial 158 finished with value: 0.20428724288940425 and parameters: {'n_neurons': 256.0, 'n_hidden_layers': 7.0, 'power_of_lr': 3.0, 'dropout_input': 0.05, 'dropout_hidden': 0.0, 'batch_size': 64.0}. Best is trial 91 with value: 0.19414978027343754.\u001b[0m\n",
      "\u001b[32m[I 2021-04-04 08:37:29,863]\u001b[0m Trial 159 finished with value: 0.20650932788848875 and parameters: {'n_neurons': 248.0, 'n_hidden_layers': 8.0, 'power_of_lr': 3.0, 'dropout_input': 0.05, 'dropout_hidden': 0.0, 'batch_size': 56.0}. Best is trial 91 with value: 0.19414978027343754.\u001b[0m\n",
      "\u001b[32m[I 2021-04-04 08:37:55,705]\u001b[0m Trial 160 finished with value: 0.21548553705215456 and parameters: {'n_neurons': 272.0, 'n_hidden_layers': 7.0, 'power_of_lr': 3.0, 'dropout_input': 0.05, 'dropout_hidden': 0.05, 'batch_size': 32.0}. Best is trial 91 with value: 0.19414978027343754.\u001b[0m\n",
      "\u001b[32m[I 2021-04-04 08:38:30,908]\u001b[0m Trial 161 finished with value: 0.22107840776443477 and parameters: {'n_neurons': 304.0, 'n_hidden_layers': 10.0, 'power_of_lr': 3.0, 'dropout_input': 0.05, 'dropout_hidden': 0.2, 'batch_size': 24.0}. Best is trial 91 with value: 0.19414978027343754.\u001b[0m\n",
      "\u001b[32m[I 2021-04-04 08:38:47,158]\u001b[0m Trial 162 finished with value: 0.2155231952667236 and parameters: {'n_neurons': 104.0, 'n_hidden_layers': 9.0, 'power_of_lr': 3.0, 'dropout_input': 0.1, 'dropout_hidden': 0.1, 'batch_size': 152.0}. Best is trial 91 with value: 0.19414978027343754.\u001b[0m\n",
      "\u001b[32m[I 2021-04-04 08:39:10,675]\u001b[0m Trial 163 finished with value: 0.21655892133712773 and parameters: {'n_neurons': 288.0, 'n_hidden_layers': 9.0, 'power_of_lr': 3.0, 'dropout_input': 0.05, 'dropout_hidden': 0.0, 'batch_size': 48.0}. Best is trial 91 with value: 0.19414978027343754.\u001b[0m\n",
      "\u001b[32m[I 2021-04-04 08:39:30,207]\u001b[0m Trial 164 finished with value: 0.2065156102180481 and parameters: {'n_neurons': 232.0, 'n_hidden_layers': 8.0, 'power_of_lr': 3.0, 'dropout_input': 0.15000000000000002, 'dropout_hidden': 0.1, 'batch_size': 40.0}. Best is trial 91 with value: 0.19414978027343754.\u001b[0m\n",
      "\u001b[32m[I 2021-04-04 08:39:48,459]\u001b[0m Trial 165 finished with value: 0.2199862003326416 and parameters: {'n_neurons': 344.0, 'n_hidden_layers': 7.0, 'power_of_lr': 3.0, 'dropout_input': 0.05, 'dropout_hidden': 0.05, 'batch_size': 88.0}. Best is trial 91 with value: 0.19414978027343754.\u001b[0m\n",
      "\u001b[32m[I 2021-04-04 08:40:04,864]\u001b[0m Trial 166 finished with value: 0.2188123822212219 and parameters: {'n_neurons': 144.0, 'n_hidden_layers': 10.0, 'power_of_lr': 3.0, 'dropout_input': 0.05, 'dropout_hidden': 0.0, 'batch_size': 112.0}. Best is trial 91 with value: 0.19414978027343754.\u001b[0m\n",
      "\u001b[32m[I 2021-04-04 08:40:20,050]\u001b[0m Trial 167 finished with value: 0.21100370883941655 and parameters: {'n_neurons': 200.0, 'n_hidden_layers': 8.0, 'power_of_lr': 3.0, 'dropout_input': 0.1, 'dropout_hidden': 0.05, 'batch_size': 96.0}. Best is trial 91 with value: 0.19414978027343754.\u001b[0m\n"
     ]
    },
    {
     "name": "stderr",
     "output_type": "stream",
     "text": [
      "\u001b[32m[I 2021-04-04 08:40:36,271]\u001b[0m Trial 168 finished with value: 0.19640952348709106 and parameters: {'n_neurons': 216.0, 'n_hidden_layers': 9.0, 'power_of_lr': 3.0, 'dropout_input': 0.05, 'dropout_hidden': 0.0, 'batch_size': 104.0}. Best is trial 91 with value: 0.19414978027343754.\u001b[0m\n",
      "\u001b[32m[I 2021-04-04 08:41:02,666]\u001b[0m Trial 169 finished with value: 0.21212730407714842 and parameters: {'n_neurons': 232.0, 'n_hidden_layers': 10.0, 'power_of_lr': 3.0, 'dropout_input': 0.05, 'dropout_hidden': 0.0, 'batch_size': 16.0}. Best is trial 91 with value: 0.19414978027343754.\u001b[0m\n",
      "\u001b[32m[I 2021-04-04 08:41:15,603]\u001b[0m Trial 170 finished with value: 0.20649050474166875 and parameters: {'n_neurons': 216.0, 'n_hidden_layers': 7.0, 'power_of_lr': 3.0, 'dropout_input': 0.05, 'dropout_hidden': 0.0, 'batch_size': 104.0}. Best is trial 91 with value: 0.19414978027343754.\u001b[0m\n",
      "\u001b[32m[I 2021-04-04 08:41:27,212]\u001b[0m Trial 171 finished with value: 0.21209591627120972 and parameters: {'n_neurons': 80.0, 'n_hidden_layers': 9.0, 'power_of_lr': 3.0, 'dropout_input': 0.05, 'dropout_hidden': 0.0, 'batch_size': 112.0}. Best is trial 91 with value: 0.19414978027343754.\u001b[0m\n",
      "\u001b[32m[I 2021-04-04 08:41:50,245]\u001b[0m Trial 172 finished with value: 0.20650305747985842 and parameters: {'n_neurons': 240.0, 'n_hidden_layers': 9.0, 'power_of_lr': 3.0, 'dropout_input': 0.05, 'dropout_hidden': 0.0, 'batch_size': 104.0}. Best is trial 91 with value: 0.19414978027343754.\u001b[0m\n",
      "\u001b[32m[I 2021-04-04 08:42:11,257]\u001b[0m Trial 173 finished with value: 0.20985500812530522 and parameters: {'n_neurons': 264.0, 'n_hidden_layers': 9.0, 'power_of_lr': 3.0, 'dropout_input': 0.05, 'dropout_hidden': 0.1, 'batch_size': 96.0}. Best is trial 91 with value: 0.19414978027343754.\u001b[0m\n",
      "\u001b[32m[I 2021-04-04 08:42:22,349]\u001b[0m Trial 174 finished with value: 0.2131567478179932 and parameters: {'n_neurons': 216.0, 'n_hidden_layers': 5.0, 'power_of_lr': 3.0, 'dropout_input': 0.05, 'dropout_hidden': 0.0, 'batch_size': 88.0}. Best is trial 91 with value: 0.19414978027343754.\u001b[0m\n",
      "\u001b[32m[I 2021-04-04 08:42:40,935]\u001b[0m Trial 175 finished with value: 0.20877535343170162 and parameters: {'n_neurons': 184.0, 'n_hidden_layers': 10.0, 'power_of_lr': 3.0, 'dropout_input': 0.15000000000000002, 'dropout_hidden': 0.0, 'batch_size': 32.0}. Best is trial 91 with value: 0.19414978027343754.\u001b[0m\n",
      "\u001b[32m[I 2021-04-04 08:42:53,310]\u001b[0m Trial 176 finished with value: 0.21104136705398557 and parameters: {'n_neurons': 128.0, 'n_hidden_layers': 8.0, 'power_of_lr': 3.0, 'dropout_input': 0.1, 'dropout_hidden': 0.15000000000000002, 'batch_size': 136.0}. Best is trial 91 with value: 0.19414978027343754.\u001b[0m\n",
      "\u001b[32m[I 2021-04-04 08:43:14,823]\u001b[0m Trial 177 finished with value: 0.22218316793441772 and parameters: {'n_neurons': 224.0, 'n_hidden_layers': 9.0, 'power_of_lr': 3.0, 'dropout_input': 0.05, 'dropout_hidden': 0.1, 'batch_size': 72.0}. Best is trial 91 with value: 0.19414978027343754.\u001b[0m\n",
      "\u001b[32m[I 2021-04-04 08:43:30,204]\u001b[0m Trial 178 finished with value: 0.22665244340896606 and parameters: {'n_neurons': 304.0, 'n_hidden_layers': 7.0, 'power_of_lr': 3.0, 'dropout_input': 0.05, 'dropout_hidden': 0.0, 'batch_size': 128.0}. Best is trial 91 with value: 0.19414978027343754.\u001b[0m\n",
      "\u001b[32m[I 2021-04-04 08:43:48,752]\u001b[0m Trial 179 finished with value: 0.19981169700622559 and parameters: {'n_neurons': 200.0, 'n_hidden_layers': 10.0, 'power_of_lr': 3.0, 'dropout_input': 0.1, 'dropout_hidden': 0.05, 'batch_size': 120.0}. Best is trial 91 with value: 0.19414978027343754.\u001b[0m\n",
      "\u001b[32m[I 2021-04-04 08:44:05,506]\u001b[0m Trial 180 finished with value: 0.19642207622528074 and parameters: {'n_neurons': 192.0, 'n_hidden_layers': 10.0, 'power_of_lr': 3.0, 'dropout_input': 0.1, 'dropout_hidden': 0.05, 'batch_size': 112.0}. Best is trial 91 with value: 0.19414978027343754.\u001b[0m\n",
      "\u001b[32m[I 2021-04-04 08:44:21,723]\u001b[0m Trial 181 finished with value: 0.21883748769760136 and parameters: {'n_neurons': 200.0, 'n_hidden_layers': 10.0, 'power_of_lr': 3.0, 'dropout_input': 0.1, 'dropout_hidden': 0.05, 'batch_size': 104.0}. Best is trial 91 with value: 0.19414978027343754.\u001b[0m\n",
      "\u001b[32m[I 2021-04-04 08:44:43,143]\u001b[0m Trial 182 finished with value: 0.20765175819396975 and parameters: {'n_neurons': 184.0, 'n_hidden_layers': 10.0, 'power_of_lr': 3.0, 'dropout_input': 0.1, 'dropout_hidden': 0.05, 'batch_size': 112.0}. Best is trial 91 with value: 0.19414978027343754.\u001b[0m\n",
      "\u001b[32m[I 2021-04-04 08:45:00,558]\u001b[0m Trial 183 finished with value: 0.20316364765167239 and parameters: {'n_neurons': 208.0, 'n_hidden_layers': 10.0, 'power_of_lr': 3.0, 'dropout_input': 0.1, 'dropout_hidden': 0.05, 'batch_size': 120.0}. Best is trial 91 with value: 0.19414978027343754.\u001b[0m\n",
      "\u001b[32m[I 2021-04-04 08:45:10,421]\u001b[0m Trial 184 finished with value: 0.22891218662261958 and parameters: {'n_neurons': 40.0, 'n_hidden_layers': 10.0, 'power_of_lr': 3.0, 'dropout_input': 0.1, 'dropout_hidden': 0.05, 'batch_size': 112.0}. Best is trial 91 with value: 0.19414978027343754.\u001b[0m\n",
      "\u001b[32m[I 2021-04-04 08:45:27,697]\u001b[0m Trial 185 finished with value: 0.21657774448394773 and parameters: {'n_neurons': 192.0, 'n_hidden_layers': 10.0, 'power_of_lr': 3.0, 'dropout_input': 0.1, 'dropout_hidden': 0.05, 'batch_size': 96.0}. Best is trial 91 with value: 0.19414978027343754.\u001b[0m\n",
      "\u001b[32m[I 2021-04-04 08:45:42,879]\u001b[0m Trial 186 finished with value: 0.21439960002899172 and parameters: {'n_neurons': 168.0, 'n_hidden_layers': 10.0, 'power_of_lr': 3.0, 'dropout_input': 0.05, 'dropout_hidden': 0.0, 'batch_size': 120.0}. Best is trial 91 with value: 0.19414978027343754.\u001b[0m\n",
      "\u001b[32m[I 2021-04-04 08:46:18,168]\u001b[0m Trial 187 finished with value: 0.22556650638580322 and parameters: {'n_neurons': 200.0, 'n_hidden_layers': 10.0, 'power_of_lr': 5.0, 'dropout_input': 0.15000000000000002, 'dropout_hidden': 0.05, 'batch_size': 56.0}. Best is trial 91 with value: 0.19414978027343754.\u001b[0m\n",
      "\u001b[32m[I 2021-04-04 08:46:37,885]\u001b[0m Trial 188 finished with value: 0.21656519174575806 and parameters: {'n_neurons': 224.0, 'n_hidden_layers': 10.0, 'power_of_lr': 3.0, 'dropout_input': 0.05, 'dropout_hidden': 0.0, 'batch_size': 104.0}. Best is trial 91 with value: 0.19414978027343754.\u001b[0m\n",
      "\u001b[32m[I 2021-04-04 08:46:51,959]\u001b[0m Trial 189 finished with value: 0.1975582242012024 and parameters: {'n_neurons': 208.0, 'n_hidden_layers': 7.0, 'power_of_lr': 3.0, 'dropout_input': 0.1, 'dropout_hidden': 0.05, 'batch_size': 104.0}. Best is trial 91 with value: 0.19414978027343754.\u001b[0m\n",
      "\u001b[32m[I 2021-04-04 08:47:02,823]\u001b[0m Trial 190 finished with value: 0.2166028618812561 and parameters: {'n_neurons': 176.0, 'n_hidden_layers': 6.0, 'power_of_lr': 3.0, 'dropout_input': 0.1, 'dropout_hidden': 0.05, 'batch_size': 112.0}. Best is trial 91 with value: 0.19414978027343754.\u001b[0m\n",
      "\u001b[32m[I 2021-04-04 08:47:17,925]\u001b[0m Trial 191 finished with value: 0.21545414924621586 and parameters: {'n_neurons': 208.0, 'n_hidden_layers': 7.0, 'power_of_lr': 3.0, 'dropout_input': 0.1, 'dropout_hidden': 0.05, 'batch_size': 96.0}. Best is trial 91 with value: 0.19414978027343754.\u001b[0m\n",
      "\u001b[32m[I 2021-04-04 08:47:27,896]\u001b[0m Trial 192 finished with value: 0.38389931917190556 and parameters: {'n_neurons': 192.0, 'n_hidden_layers': 7.0, 'power_of_lr': 1.0, 'dropout_input': 0.1, 'dropout_hidden': 0.05, 'batch_size': 104.0}. Best is trial 91 with value: 0.19414978027343754.\u001b[0m\n",
      "\u001b[32m[I 2021-04-04 08:47:43,798]\u001b[0m Trial 193 finished with value: 0.21544787883758543 and parameters: {'n_neurons': 216.0, 'n_hidden_layers': 7.0, 'power_of_lr': 3.0, 'dropout_input': 0.1, 'dropout_hidden': 0.0, 'batch_size': 120.0}. Best is trial 91 with value: 0.19414978027343754.\u001b[0m\n",
      "\u001b[32m[I 2021-04-04 08:47:58,076]\u001b[0m Trial 194 finished with value: 0.21433683633804324 and parameters: {'n_neurons': 232.0, 'n_hidden_layers': 7.0, 'power_of_lr': 3.0, 'dropout_input': 0.1, 'dropout_hidden': 0.0, 'batch_size': 80.0}. Best is trial 91 with value: 0.19414978027343754.\u001b[0m\n",
      "\u001b[32m[I 2021-04-04 08:48:13,812]\u001b[0m Trial 195 finished with value: 0.22213923931121826 and parameters: {'n_neurons': 208.0, 'n_hidden_layers': 7.0, 'power_of_lr': 3.0, 'dropout_input': 0.05, 'dropout_hidden': 0.0, 'batch_size': 88.0}. Best is trial 91 with value: 0.19414978027343754.\u001b[0m\n",
      "\u001b[32m[I 2021-04-04 08:48:30,291]\u001b[0m Trial 196 finished with value: 0.21095976829528806 and parameters: {'n_neurons': 192.0, 'n_hidden_layers': 10.0, 'power_of_lr': 3.0, 'dropout_input': 0.1, 'dropout_hidden': 0.05, 'batch_size': 104.0}. Best is trial 91 with value: 0.19414978027343754.\u001b[0m\n"
     ]
    },
    {
     "name": "stderr",
     "output_type": "stream",
     "text": [
      "\u001b[32m[I 2021-04-04 08:48:55,082]\u001b[0m Trial 197 finished with value: 0.20762037038803105 and parameters: {'n_neurons': 248.0, 'n_hidden_layers': 10.0, 'power_of_lr': 3.0, 'dropout_input': 0.05, 'dropout_hidden': 0.05, 'batch_size': 64.0}. Best is trial 91 with value: 0.19414978027343754.\u001b[0m\n",
      "\u001b[32m[I 2021-04-04 08:49:08,122]\u001b[0m Trial 198 finished with value: 0.1986881017684936 and parameters: {'n_neurons': 152.0, 'n_hidden_layers': 8.0, 'power_of_lr': 3.0, 'dropout_input': 0.15000000000000002, 'dropout_hidden': 0.1, 'batch_size': 112.0}. Best is trial 91 with value: 0.19414978027343754.\u001b[0m\n",
      "\u001b[32m[I 2021-04-04 08:49:20,106]\u001b[0m Trial 199 finished with value: 0.20535434484481807 and parameters: {'n_neurons': 160.0, 'n_hidden_layers': 8.0, 'power_of_lr': 3.0, 'dropout_input': 0.15000000000000002, 'dropout_hidden': 0.0, 'batch_size': 112.0}. Best is trial 91 with value: 0.19414978027343754.\u001b[0m\n",
      "\u001b[32m[I 2021-04-04 08:49:40,445]\u001b[0m Trial 200 finished with value: 0.2110288143157959 and parameters: {'n_neurons': 416.0, 'n_hidden_layers': 8.0, 'power_of_lr': 3.0, 'dropout_input': 0.15000000000000002, 'dropout_hidden': 0.1, 'batch_size': 128.0}. Best is trial 91 with value: 0.19414978027343754.\u001b[0m\n",
      "\u001b[32m[I 2021-04-04 08:49:53,543]\u001b[0m Trial 201 finished with value: 0.21212730407714842 and parameters: {'n_neurons': 136.0, 'n_hidden_layers': 8.0, 'power_of_lr': 3.0, 'dropout_input': 0.15000000000000002, 'dropout_hidden': 0.1, 'batch_size': 112.0}. Best is trial 91 with value: 0.19414978027343754.\u001b[0m\n",
      "\u001b[32m[I 2021-04-04 08:50:06,401]\u001b[0m Trial 202 finished with value: 0.2222584962844849 and parameters: {'n_neurons': 160.0, 'n_hidden_layers': 7.0, 'power_of_lr': 3.0, 'dropout_input': 0.15000000000000002, 'dropout_hidden': 0.1, 'batch_size': 104.0}. Best is trial 91 with value: 0.19414978027343754.\u001b[0m\n",
      "\u001b[32m[I 2021-04-04 08:50:20,704]\u001b[0m Trial 203 finished with value: 0.22891846895217893 and parameters: {'n_neurons': 176.0, 'n_hidden_layers': 8.0, 'power_of_lr': 3.0, 'dropout_input': 0.15000000000000002, 'dropout_hidden': 0.1, 'batch_size': 96.0}. Best is trial 91 with value: 0.19414978027343754.\u001b[0m\n",
      "\u001b[32m[I 2021-04-04 08:50:38,272]\u001b[0m Trial 204 finished with value: 0.19419372081756592 and parameters: {'n_neurons': 320.0, 'n_hidden_layers': 7.0, 'power_of_lr': 3.0, 'dropout_input': 0.05, 'dropout_hidden': 0.1, 'batch_size': 112.0}. Best is trial 91 with value: 0.19414978027343754.\u001b[0m\n",
      "\u001b[32m[I 2021-04-04 08:50:49,673]\u001b[0m Trial 205 finished with value: 0.1975582242012024 and parameters: {'n_neurons': 152.0, 'n_hidden_layers': 7.0, 'power_of_lr': 3.0, 'dropout_input': 0.15000000000000002, 'dropout_hidden': 0.05, 'batch_size': 120.0}. Best is trial 91 with value: 0.19414978027343754.\u001b[0m\n",
      "\u001b[32m[I 2021-04-04 08:51:11,669]\u001b[0m Trial 206 finished with value: 0.23906848430633543 and parameters: {'n_neurons': 328.0, 'n_hidden_layers': 7.0, 'power_of_lr': 3.0, 'dropout_input': 0.15000000000000002, 'dropout_hidden': 0.05, 'batch_size': 120.0}. Best is trial 91 with value: 0.19414978027343754.\u001b[0m\n",
      "\u001b[32m[I 2021-04-04 08:51:25,817]\u001b[0m Trial 207 finished with value: 0.2300106763839722 and parameters: {'n_neurons': 152.0, 'n_hidden_layers': 8.0, 'power_of_lr': 3.0, 'dropout_input': 0.15000000000000002, 'dropout_hidden': 0.05, 'batch_size': 136.0}. Best is trial 91 with value: 0.19414978027343754.\u001b[0m\n",
      "\u001b[32m[I 2021-04-04 08:51:36,343]\u001b[0m Trial 208 finished with value: 0.22893729209899905 and parameters: {'n_neurons': 144.0, 'n_hidden_layers': 7.0, 'power_of_lr': 3.0, 'dropout_input': 0.15000000000000002, 'dropout_hidden': 0.05, 'batch_size': 120.0}. Best is trial 91 with value: 0.19414978027343754.\u001b[0m\n",
      "\u001b[32m[I 2021-04-04 08:51:51,656]\u001b[0m Trial 209 finished with value: 0.2054547786712646 and parameters: {'n_neurons': 320.0, 'n_hidden_layers': 7.0, 'power_of_lr': 3.0, 'dropout_input': 0.15000000000000002, 'dropout_hidden': 0.05, 'batch_size': 112.0}. Best is trial 91 with value: 0.19414978027343754.\u001b[0m\n",
      "\u001b[32m[I 2021-04-04 08:52:06,533]\u001b[0m Trial 210 finished with value: 0.21996108293533323 and parameters: {'n_neurons': 168.0, 'n_hidden_layers': 10.0, 'power_of_lr': 3.0, 'dropout_input': 0.15000000000000002, 'dropout_hidden': 0.0, 'batch_size': 144.0}. Best is trial 91 with value: 0.19414978027343754.\u001b[0m\n",
      "\u001b[32m[I 2021-04-04 08:52:23,365]\u001b[0m Trial 211 finished with value: 0.2076140999794006 and parameters: {'n_neurons': 312.0, 'n_hidden_layers': 7.0, 'power_of_lr': 3.0, 'dropout_input': 0.05, 'dropout_hidden': 0.1, 'batch_size': 104.0}. Best is trial 91 with value: 0.19414978027343754.\u001b[0m\n",
      "\u001b[32m[I 2021-04-04 08:52:33,665]\u001b[0m Trial 212 finished with value: 0.21319440603256223 and parameters: {'n_neurons': 152.0, 'n_hidden_layers': 7.0, 'power_of_lr': 3.0, 'dropout_input': 0.1, 'dropout_hidden': 0.0, 'batch_size': 112.0}. Best is trial 91 with value: 0.19414978027343754.\u001b[0m\n",
      "\u001b[32m[I 2021-04-04 08:52:48,296]\u001b[0m Trial 213 finished with value: 0.2143305540084839 and parameters: {'n_neurons': 296.0, 'n_hidden_layers': 7.0, 'power_of_lr': 3.0, 'dropout_input': 0.05, 'dropout_hidden': 0.0, 'batch_size': 120.0}. Best is trial 91 with value: 0.19414978027343754.\u001b[0m\n",
      "\u001b[32m[I 2021-04-04 08:53:05,074]\u001b[0m Trial 214 finished with value: 0.2064842224121094 and parameters: {'n_neurons': 240.0, 'n_hidden_layers': 8.0, 'power_of_lr': 3.0, 'dropout_input': 0.05, 'dropout_hidden': 0.1, 'batch_size': 128.0}. Best is trial 91 with value: 0.19414978027343754.\u001b[0m\n",
      "\u001b[32m[I 2021-04-04 08:53:16,789]\u001b[0m Trial 215 finished with value: 0.2288996338844299 and parameters: {'n_neurons': 136.0, 'n_hidden_layers': 7.0, 'power_of_lr': 3.0, 'dropout_input': 0.15000000000000002, 'dropout_hidden': 0.05, 'batch_size': 104.0}. Best is trial 91 with value: 0.19414978027343754.\u001b[0m\n",
      "\u001b[32m[I 2021-04-04 08:53:33,763]\u001b[0m Trial 216 finished with value: 0.22778232097625728 and parameters: {'n_neurons': 224.0, 'n_hidden_layers': 6.0, 'power_of_lr': 3.0, 'dropout_input': 0.1, 'dropout_hidden': 0.1, 'batch_size': 24.0}. Best is trial 91 with value: 0.19414978027343754.\u001b[0m\n",
      "\u001b[32m[I 2021-04-04 08:53:48,166]\u001b[0m Trial 217 finished with value: 0.2065156102180481 and parameters: {'n_neurons': 120.0, 'n_hidden_layers': 10.0, 'power_of_lr': 3.0, 'dropout_input': 0.05, 'dropout_hidden': 0.1, 'batch_size': 144.0}. Best is trial 91 with value: 0.19414978027343754.\u001b[0m\n",
      "\u001b[32m[I 2021-04-04 08:54:06,926]\u001b[0m Trial 218 finished with value: 0.2042621374130249 and parameters: {'n_neurons': 280.0, 'n_hidden_layers': 7.0, 'power_of_lr': 3.0, 'dropout_input': 0.05, 'dropout_hidden': 0.0, 'batch_size': 112.0}. Best is trial 91 with value: 0.19414978027343754.\u001b[0m\n",
      "\u001b[32m[I 2021-04-04 08:54:26,482]\u001b[0m Trial 219 finished with value: 0.20539201498031612 and parameters: {'n_neurons': 216.0, 'n_hidden_layers': 10.0, 'power_of_lr': 3.0, 'dropout_input': 0.15000000000000002, 'dropout_hidden': 0.05, 'batch_size': 128.0}. Best is trial 91 with value: 0.19414978027343754.\u001b[0m\n",
      "\u001b[32m[I 2021-04-04 08:54:52,987]\u001b[0m Trial 220 finished with value: 0.20204633474349976 and parameters: {'n_neurons': 344.0, 'n_hidden_layers': 6.0, 'power_of_lr': 3.0, 'dropout_input': 0.05, 'dropout_hidden': 0.1, 'batch_size': 48.0}. Best is trial 91 with value: 0.19414978027343754.\u001b[0m\n",
      "\u001b[32m[I 2021-04-04 08:55:15,786]\u001b[0m Trial 221 finished with value: 0.20315737724304195 and parameters: {'n_neurons': 360.0, 'n_hidden_layers': 6.0, 'power_of_lr': 3.0, 'dropout_input': 0.05, 'dropout_hidden': 0.1, 'batch_size': 40.0}. Best is trial 91 with value: 0.19414978027343754.\u001b[0m\n",
      "\u001b[32m[I 2021-04-04 08:55:34,020]\u001b[0m Trial 222 finished with value: 0.20313854217529292 and parameters: {'n_neurons': 352.0, 'n_hidden_layers': 5.0, 'power_of_lr': 3.0, 'dropout_input': 0.05, 'dropout_hidden': 0.1, 'batch_size': 48.0}. Best is trial 91 with value: 0.19414978027343754.\u001b[0m\n",
      "\u001b[32m[I 2021-04-04 08:55:47,476]\u001b[0m Trial 223 finished with value: 0.21095349788665774 and parameters: {'n_neurons': 184.0, 'n_hidden_layers': 6.0, 'power_of_lr': 3.0, 'dropout_input': 0.05, 'dropout_hidden': 0.1, 'batch_size': 56.0}. Best is trial 91 with value: 0.19414978027343754.\u001b[0m\n",
      "\u001b[32m[I 2021-04-04 08:56:13,194]\u001b[0m Trial 224 finished with value: 0.21435567140579226 and parameters: {'n_neurons': 336.0, 'n_hidden_layers': 7.0, 'power_of_lr': 3.0, 'dropout_input': 0.05, 'dropout_hidden': 0.15000000000000002, 'batch_size': 40.0}. Best is trial 91 with value: 0.19414978027343754.\u001b[0m\n"
     ]
    },
    {
     "name": "stderr",
     "output_type": "stream",
     "text": [
      "\u001b[32m[I 2021-04-04 08:56:36,874]\u001b[0m Trial 225 finished with value: 0.20758271217346191 and parameters: {'n_neurons': 360.0, 'n_hidden_layers': 6.0, 'power_of_lr': 3.0, 'dropout_input': 0.05, 'dropout_hidden': 0.1, 'batch_size': 48.0}. Best is trial 91 with value: 0.19414978027343754.\u001b[0m\n",
      "\u001b[32m[I 2021-04-04 08:56:52,891]\u001b[0m Trial 226 finished with value: 0.21772645711898808 and parameters: {'n_neurons': 320.0, 'n_hidden_layers': 7.0, 'power_of_lr': 3.0, 'dropout_input': 0.1, 'dropout_hidden': 0.2, 'batch_size': 104.0}. Best is trial 91 with value: 0.19414978027343754.\u001b[0m\n",
      "\u001b[32m[I 2021-04-04 08:57:13,538]\u001b[0m Trial 227 finished with value: 0.20876907110214238 and parameters: {'n_neurons': 360.0, 'n_hidden_layers': 5.0, 'power_of_lr': 3.0, 'dropout_input': 0.05, 'dropout_hidden': 0.1, 'batch_size': 32.0}. Best is trial 91 with value: 0.19414978027343754.\u001b[0m\n",
      "\u001b[32m[I 2021-04-04 08:57:27,133]\u001b[0m Trial 228 finished with value: 0.2109660506248474 and parameters: {'n_neurons': 200.0, 'n_hidden_layers': 7.0, 'power_of_lr': 3.0, 'dropout_input': 0.05, 'dropout_hidden': 0.0, 'batch_size': 112.0}. Best is trial 91 with value: 0.19414978027343754.\u001b[0m\n",
      "\u001b[32m[I 2021-04-04 08:57:52,498]\u001b[0m Trial 229 finished with value: 0.20984245538711543 and parameters: {'n_neurons': 352.0, 'n_hidden_layers': 8.0, 'power_of_lr': 3.0, 'dropout_input': 0.05, 'dropout_hidden': 0.1, 'batch_size': 56.0}. Best is trial 91 with value: 0.19414978027343754.\u001b[0m\n",
      "\u001b[32m[I 2021-04-04 08:58:08,496]\u001b[0m Trial 230 finished with value: 0.22445546388626103 and parameters: {'n_neurons': 304.0, 'n_hidden_layers': 7.0, 'power_of_lr': 3.0, 'dropout_input': 0.1, 'dropout_hidden': 0.05, 'batch_size': 96.0}. Best is trial 91 with value: 0.19414978027343754.\u001b[0m\n",
      "\u001b[32m[I 2021-04-04 08:58:40,097]\u001b[0m Trial 231 finished with value: 0.21880611181259157 and parameters: {'n_neurons': 384.0, 'n_hidden_layers': 10.0, 'power_of_lr': 3.0, 'dropout_input': 0.05, 'dropout_hidden': 0.1, 'batch_size': 48.0}. Best is trial 91 with value: 0.19414978027343754.\u001b[0m\n",
      "\u001b[32m[I 2021-04-04 08:58:55,891]\u001b[0m Trial 232 finished with value: 0.21655892133712773 and parameters: {'n_neurons': 336.0, 'n_hidden_layers': 5.0, 'power_of_lr': 3.0, 'dropout_input': 0.05, 'dropout_hidden': 0.1, 'batch_size': 48.0}. Best is trial 91 with value: 0.19414978027343754.\u001b[0m\n",
      "\u001b[32m[I 2021-04-04 08:59:09,238]\u001b[0m Trial 233 finished with value: 0.21544787883758543 and parameters: {'n_neurons': 344.0, 'n_hidden_layers': 5.0, 'power_of_lr': 3.0, 'dropout_input': 0.05, 'dropout_hidden': 0.0, 'batch_size': 152.0}. Best is trial 91 with value: 0.19414978027343754.\u001b[0m\n",
      "\u001b[32m[I 2021-04-04 08:59:21,800]\u001b[0m Trial 234 finished with value: 0.21659657955169676 and parameters: {'n_neurons': 136.0, 'n_hidden_layers': 7.0, 'power_of_lr': 3.0, 'dropout_input': 0.05, 'dropout_hidden': 0.15000000000000002, 'batch_size': 104.0}. Best is trial 91 with value: 0.19414978027343754.\u001b[0m\n",
      "\u001b[32m[I 2021-04-04 08:59:30,726]\u001b[0m Trial 235 finished with value: 0.20875024795532227 and parameters: {'n_neurons': 152.0, 'n_hidden_layers': 4.0, 'power_of_lr': 3.0, 'dropout_input': 0.05, 'dropout_hidden': 0.0, 'batch_size': 112.0}. Best is trial 91 with value: 0.19414978027343754.\u001b[0m\n",
      "\u001b[32m[I 2021-04-04 08:59:53,223]\u001b[0m Trial 236 finished with value: 0.2165714740753174 and parameters: {'n_neurons': 208.0, 'n_hidden_layers': 7.0, 'power_of_lr': 3.0, 'dropout_input': 0.05, 'dropout_hidden': 0.05, 'batch_size': 80.0}. Best is trial 91 with value: 0.19414978027343754.\u001b[0m\n",
      "\u001b[32m[I 2021-04-04 09:00:13,498]\u001b[0m Trial 237 finished with value: 0.21881866455078125 and parameters: {'n_neurons': 240.0, 'n_hidden_layers': 10.0, 'power_of_lr': 3.0, 'dropout_input': 0.15000000000000002, 'dropout_hidden': 0.1, 'batch_size': 64.0}. Best is trial 91 with value: 0.19414978027343754.\u001b[0m\n",
      "\u001b[32m[I 2021-04-04 09:00:31,325]\u001b[0m Trial 238 finished with value: 0.20314482450485227 and parameters: {'n_neurons': 280.0, 'n_hidden_layers': 7.0, 'power_of_lr': 3.0, 'dropout_input': 0.05, 'dropout_hidden': 0.25, 'batch_size': 104.0}. Best is trial 91 with value: 0.19414978027343754.\u001b[0m\n",
      "\u001b[32m[I 2021-04-04 09:00:46,678]\u001b[0m Trial 239 finished with value: 0.20315737724304195 and parameters: {'n_neurons': 224.0, 'n_hidden_layers': 6.0, 'power_of_lr': 3.0, 'dropout_input': 0.1, 'dropout_hidden': 0.1, 'batch_size': 48.0}. Best is trial 91 with value: 0.19414978027343754.\u001b[0m\n",
      "\u001b[32m[I 2021-04-04 09:01:13,330]\u001b[0m Trial 240 finished with value: 0.23897433280944824 and parameters: {'n_neurons': 288.0, 'n_hidden_layers': 8.0, 'power_of_lr': 3.0, 'dropout_input': 0.05, 'dropout_hidden': 0.0, 'batch_size': 40.0}. Best is trial 91 with value: 0.19414978027343754.\u001b[0m\n",
      "\u001b[32m[I 2021-04-04 09:01:31,201]\u001b[0m Trial 241 finished with value: 0.19975520372390743 and parameters: {'n_neurons': 192.0, 'n_hidden_layers': 10.0, 'power_of_lr': 3.0, 'dropout_input': 0.05, 'dropout_hidden': 0.1, 'batch_size': 72.0}. Best is trial 91 with value: 0.19414978027343754.\u001b[0m\n",
      "\u001b[32m[I 2021-04-04 09:01:48,597]\u001b[0m Trial 242 finished with value: 0.21435567140579226 and parameters: {'n_neurons': 184.0, 'n_hidden_layers': 10.0, 'power_of_lr': 3.0, 'dropout_input': 0.05, 'dropout_hidden': 0.1, 'batch_size': 72.0}. Best is trial 91 with value: 0.19414978027343754.\u001b[0m\n",
      "\u001b[32m[I 2021-04-04 09:02:09,113]\u001b[0m Trial 243 finished with value: 0.20536690950393677 and parameters: {'n_neurons': 192.0, 'n_hidden_layers': 10.0, 'power_of_lr': 3.0, 'dropout_input': 0.05, 'dropout_hidden': 0.1, 'batch_size': 56.0}. Best is trial 91 with value: 0.19414978027343754.\u001b[0m\n",
      "\u001b[32m[I 2021-04-04 09:02:28,218]\u001b[0m Trial 244 finished with value: 0.20763920545578007 and parameters: {'n_neurons': 208.0, 'n_hidden_layers': 10.0, 'power_of_lr': 3.0, 'dropout_input': 0.05, 'dropout_hidden': 0.1, 'batch_size': 64.0}. Best is trial 91 with value: 0.19414978027343754.\u001b[0m\n",
      "\u001b[32m[I 2021-04-04 09:02:40,553]\u001b[0m Trial 245 finished with value: 0.2009101867675781 and parameters: {'n_neurons': 176.0, 'n_hidden_layers': 5.0, 'power_of_lr': 3.0, 'dropout_input': 0.05, 'dropout_hidden': 0.1, 'batch_size': 72.0}. Best is trial 91 with value: 0.19414978027343754.\u001b[0m\n",
      "\u001b[32m[I 2021-04-04 09:02:58,482]\u001b[0m Trial 246 finished with value: 0.19529848098754887 and parameters: {'n_neurons': 168.0, 'n_hidden_layers': 10.0, 'power_of_lr': 3.0, 'dropout_input': 0.05, 'dropout_hidden': 0.05, 'batch_size': 72.0}. Best is trial 91 with value: 0.19414978027343754.\u001b[0m\n",
      "\u001b[32m[I 2021-04-04 09:03:18,909]\u001b[0m Trial 247 finished with value: 0.1964283585548401 and parameters: {'n_neurons': 168.0, 'n_hidden_layers': 10.0, 'power_of_lr': 3.0, 'dropout_input': 0.05, 'dropout_hidden': 0.05, 'batch_size': 72.0}. Best is trial 91 with value: 0.19414978027343754.\u001b[0m\n",
      "\u001b[32m[I 2021-04-04 09:03:35,773]\u001b[0m Trial 248 finished with value: 0.2289435744285584 and parameters: {'n_neurons': 168.0, 'n_hidden_layers': 10.0, 'power_of_lr': 3.0, 'dropout_input': 0.1, 'dropout_hidden': 0.05, 'batch_size': 72.0}. Best is trial 91 with value: 0.19414978027343754.\u001b[0m\n",
      "\u001b[32m[I 2021-04-04 09:03:55,109]\u001b[0m Trial 249 finished with value: 0.19977403879165645 and parameters: {'n_neurons': 176.0, 'n_hidden_layers': 10.0, 'power_of_lr': 3.0, 'dropout_input': 0.05, 'dropout_hidden': 0.05, 'batch_size': 72.0}. Best is trial 91 with value: 0.19414978027343754.\u001b[0m\n",
      "\u001b[32m[I 2021-04-04 09:04:22,305]\u001b[0m Trial 250 finished with value: 0.20539201498031612 and parameters: {'n_neurons': 176.0, 'n_hidden_layers': 10.0, 'power_of_lr': 3.0, 'dropout_input': 0.05, 'dropout_hidden': 0.05, 'batch_size': 72.0}. Best is trial 91 with value: 0.19414978027343754.\u001b[0m\n",
      "\u001b[32m[I 2021-04-04 09:04:41,261]\u001b[0m Trial 251 finished with value: 0.2109974384307861 and parameters: {'n_neurons': 176.0, 'n_hidden_layers': 10.0, 'power_of_lr': 3.0, 'dropout_input': 0.05, 'dropout_hidden': 0.05, 'batch_size': 64.0}. Best is trial 91 with value: 0.19414978027343754.\u001b[0m\n",
      "\u001b[32m[I 2021-04-04 09:05:00,467]\u001b[0m Trial 252 finished with value: 0.21436194181442259 and parameters: {'n_neurons': 160.0, 'n_hidden_layers': 10.0, 'power_of_lr': 3.0, 'dropout_input': 0.05, 'dropout_hidden': 0.05, 'batch_size': 72.0}. Best is trial 91 with value: 0.19414978027343754.\u001b[0m\n",
      "\u001b[32m[I 2021-04-04 09:05:18,316]\u001b[0m Trial 253 finished with value: 0.2199548125267029 and parameters: {'n_neurons': 192.0, 'n_hidden_layers': 10.0, 'power_of_lr': 3.0, 'dropout_input': 0.15000000000000002, 'dropout_hidden': 0.05, 'batch_size': 64.0}. Best is trial 91 with value: 0.19414978027343754.\u001b[0m\n"
     ]
    },
    {
     "name": "stderr",
     "output_type": "stream",
     "text": [
      "\u001b[32m[I 2021-04-04 09:05:38,152]\u001b[0m Trial 254 finished with value: 0.20649050474166875 and parameters: {'n_neurons': 184.0, 'n_hidden_layers': 10.0, 'power_of_lr': 3.0, 'dropout_input': 0.05, 'dropout_hidden': 0.05, 'batch_size': 80.0}. Best is trial 91 with value: 0.19414978027343754.\u001b[0m\n",
      "\u001b[32m[I 2021-04-04 09:05:55,974]\u001b[0m Trial 255 finished with value: 0.22112234830856325 and parameters: {'n_neurons': 168.0, 'n_hidden_layers': 10.0, 'power_of_lr': 3.0, 'dropout_input': 0.15000000000000002, 'dropout_hidden': 0.05, 'batch_size': 72.0}. Best is trial 91 with value: 0.19414978027343754.\u001b[0m\n",
      "\u001b[32m[I 2021-04-04 09:06:13,307]\u001b[0m Trial 256 finished with value: 0.19644091129302976 and parameters: {'n_neurons': 200.0, 'n_hidden_layers': 10.0, 'power_of_lr': 3.0, 'dropout_input': 0.05, 'dropout_hidden': 0.05, 'batch_size': 72.0}. Best is trial 91 with value: 0.19414978027343754.\u001b[0m\n",
      "\u001b[32m[I 2021-04-04 09:06:34,202]\u001b[0m Trial 257 finished with value: 0.21321324110031126 and parameters: {'n_neurons': 200.0, 'n_hidden_layers': 10.0, 'power_of_lr': 3.0, 'dropout_input': 0.05, 'dropout_hidden': 0.05, 'batch_size': 72.0}. Best is trial 91 with value: 0.19414978027343754.\u001b[0m\n",
      "\u001b[32m[I 2021-04-04 09:06:51,886]\u001b[0m Trial 258 finished with value: 0.21323834657669072 and parameters: {'n_neurons': 152.0, 'n_hidden_layers': 10.0, 'power_of_lr': 3.0, 'dropout_input': 0.05, 'dropout_hidden': 0.05, 'batch_size': 64.0}. Best is trial 91 with value: 0.19414978027343754.\u001b[0m\n",
      "\u001b[32m[I 2021-04-04 09:07:09,846]\u001b[0m Trial 259 finished with value: 0.2020400524139404 and parameters: {'n_neurons': 192.0, 'n_hidden_layers': 9.0, 'power_of_lr': 3.0, 'dropout_input': 0.05, 'dropout_hidden': 0.05, 'batch_size': 80.0}. Best is trial 91 with value: 0.19414978027343754.\u001b[0m\n",
      "\u001b[32m[I 2021-04-04 09:07:28,537]\u001b[0m Trial 260 finished with value: 0.19529221057891843 and parameters: {'n_neurons': 176.0, 'n_hidden_layers': 10.0, 'power_of_lr': 3.0, 'dropout_input': 0.05, 'dropout_hidden': 0.05, 'batch_size': 72.0}. Best is trial 91 with value: 0.19414978027343754.\u001b[0m\n",
      "\u001b[32m[I 2021-04-04 09:07:49,309]\u001b[0m Trial 261 finished with value: 0.20539828538894656 and parameters: {'n_neurons': 176.0, 'n_hidden_layers': 10.0, 'power_of_lr': 3.0, 'dropout_input': 0.05, 'dropout_hidden': 0.05, 'batch_size': 72.0}. Best is trial 91 with value: 0.19414978027343754.\u001b[0m\n",
      "\u001b[32m[I 2021-04-04 09:08:11,028]\u001b[0m Trial 262 finished with value: 0.1952545523643494 and parameters: {'n_neurons': 200.0, 'n_hidden_layers': 10.0, 'power_of_lr': 3.0, 'dropout_input': 0.05, 'dropout_hidden': 0.05, 'batch_size': 80.0}. Best is trial 91 with value: 0.19414978027343754.\u001b[0m\n",
      "\u001b[32m[I 2021-04-04 09:08:30,999]\u001b[0m Trial 263 finished with value: 0.2053731799125671 and parameters: {'n_neurons': 184.0, 'n_hidden_layers': 10.0, 'power_of_lr': 3.0, 'dropout_input': 0.05, 'dropout_hidden': 0.05, 'batch_size': 80.0}. Best is trial 91 with value: 0.19414978027343754.\u001b[0m\n",
      "\u001b[32m[I 2021-04-04 09:09:00,329]\u001b[0m Trial 264 finished with value: 0.20534807443618774 and parameters: {'n_neurons': 192.0, 'n_hidden_layers': 10.0, 'power_of_lr': 3.0, 'dropout_input': 0.05, 'dropout_hidden': 0.05, 'batch_size': 72.0}. Best is trial 91 with value: 0.19414978027343754.\u001b[0m\n",
      "\u001b[32m[I 2021-04-04 09:09:21,581]\u001b[0m Trial 265 finished with value: 0.19868181943893437 and parameters: {'n_neurons': 200.0, 'n_hidden_layers': 10.0, 'power_of_lr': 3.0, 'dropout_input': 0.05, 'dropout_hidden': 0.05, 'batch_size': 80.0}. Best is trial 91 with value: 0.19414978027343754.\u001b[0m\n",
      "\u001b[32m[I 2021-04-04 09:09:43,440]\u001b[0m Trial 266 finished with value: 0.21662796735763545 and parameters: {'n_neurons': 200.0, 'n_hidden_layers': 10.0, 'power_of_lr': 3.0, 'dropout_input': 0.05, 'dropout_hidden': 0.05, 'batch_size': 80.0}. Best is trial 91 with value: 0.19414978027343754.\u001b[0m\n",
      "\u001b[32m[I 2021-04-04 09:10:01,445]\u001b[0m Trial 267 finished with value: 0.21210219860076907 and parameters: {'n_neurons': 168.0, 'n_hidden_layers': 10.0, 'power_of_lr': 3.0, 'dropout_input': 0.05, 'dropout_hidden': 0.05, 'batch_size': 88.0}. Best is trial 91 with value: 0.19414978027343754.\u001b[0m\n",
      "\u001b[32m[I 2021-04-04 09:10:20,012]\u001b[0m Trial 268 finished with value: 0.21323207616806028 and parameters: {'n_neurons': 176.0, 'n_hidden_layers': 10.0, 'power_of_lr': 3.0, 'dropout_input': 0.05, 'dropout_hidden': 0.05, 'batch_size': 72.0}. Best is trial 91 with value: 0.19414978027343754.\u001b[0m\n",
      "\u001b[32m[I 2021-04-04 09:10:40,641]\u001b[0m Trial 269 finished with value: 0.20426841974258425 and parameters: {'n_neurons': 200.0, 'n_hidden_layers': 10.0, 'power_of_lr': 3.0, 'dropout_input': 0.05, 'dropout_hidden': 0.05, 'batch_size': 80.0}. Best is trial 91 with value: 0.19414978027343754.\u001b[0m\n",
      "\u001b[32m[I 2021-04-04 09:11:00,356]\u001b[0m Trial 270 finished with value: 0.20311971902847292 and parameters: {'n_neurons': 208.0, 'n_hidden_layers': 10.0, 'power_of_lr': 3.0, 'dropout_input': 0.05, 'dropout_hidden': 0.05, 'batch_size': 72.0}. Best is trial 91 with value: 0.19414978027343754.\u001b[0m\n",
      "\u001b[32m[I 2021-04-04 09:11:20,017]\u001b[0m Trial 271 finished with value: 0.2154604315757751 and parameters: {'n_neurons': 184.0, 'n_hidden_layers': 10.0, 'power_of_lr': 3.0, 'dropout_input': 0.2, 'dropout_hidden': 0.05, 'batch_size': 80.0}. Best is trial 91 with value: 0.19414978027343754.\u001b[0m\n",
      "\u001b[32m[I 2021-04-04 09:11:38,256]\u001b[0m Trial 272 finished with value: 0.20871257781982422 and parameters: {'n_neurons': 160.0, 'n_hidden_layers': 10.0, 'power_of_lr': 3.0, 'dropout_input': 0.05, 'dropout_hidden': 0.05, 'batch_size': 64.0}. Best is trial 91 with value: 0.19414978027343754.\u001b[0m\n",
      "\u001b[32m[I 2021-04-04 09:11:57,638]\u001b[0m Trial 273 finished with value: 0.21099115610122676 and parameters: {'n_neurons': 216.0, 'n_hidden_layers': 10.0, 'power_of_lr': 3.0, 'dropout_input': 0.05, 'dropout_hidden': 0.05, 'batch_size': 88.0}. Best is trial 91 with value: 0.19414978027343754.\u001b[0m\n",
      "\u001b[32m[I 2021-04-04 09:12:14,685]\u001b[0m Trial 274 finished with value: 0.22220200300216675 and parameters: {'n_neurons': 184.0, 'n_hidden_layers': 10.0, 'power_of_lr': 3.0, 'dropout_input': 0.05, 'dropout_hidden': 0.05, 'batch_size': 64.0}. Best is trial 91 with value: 0.19414978027343754.\u001b[0m\n",
      "\u001b[32m[I 2021-04-04 09:12:36,889]\u001b[0m Trial 275 finished with value: 0.2210846781730652 and parameters: {'n_neurons': 200.0, 'n_hidden_layers': 10.0, 'power_of_lr': 3.0, 'dropout_input': 0.05, 'dropout_hidden': 0.05, 'batch_size': 72.0}. Best is trial 91 with value: 0.19414978027343754.\u001b[0m\n",
      "\u001b[32m[I 2021-04-04 09:12:55,800]\u001b[0m Trial 276 finished with value: 0.2188437700271606 and parameters: {'n_neurons': 168.0, 'n_hidden_layers': 10.0, 'power_of_lr': 3.0, 'dropout_input': 0.05, 'dropout_hidden': 0.05, 'batch_size': 80.0}. Best is trial 91 with value: 0.19414978027343754.\u001b[0m\n",
      "\u001b[32m[I 2021-04-04 09:13:21,993]\u001b[0m Trial 277 finished with value: 0.2165902972221374 and parameters: {'n_neurons': 192.0, 'n_hidden_layers': 9.0, 'power_of_lr': 3.0, 'dropout_input': 0.05, 'dropout_hidden': 0.05, 'batch_size': 16.0}. Best is trial 91 with value: 0.19414978027343754.\u001b[0m\n",
      "\u001b[32m[I 2021-04-04 09:13:42,591]\u001b[0m Trial 278 finished with value: 0.20655326843261723 and parameters: {'n_neurons': 208.0, 'n_hidden_layers': 10.0, 'power_of_lr': 3.0, 'dropout_input': 0.05, 'dropout_hidden': 0.05, 'batch_size': 88.0}. Best is trial 91 with value: 0.19414978027343754.\u001b[0m\n",
      "\u001b[32m[I 2021-04-04 09:14:05,269]\u001b[0m Trial 279 finished with value: 0.38389931917190556 and parameters: {'n_neurons': 160.0, 'n_hidden_layers': 10.0, 'power_of_lr': 1.0, 'dropout_input': 0.05, 'dropout_hidden': 0.05, 'batch_size': 256.0}. Best is trial 91 with value: 0.19414978027343754.\u001b[0m\n",
      "\u001b[32m[I 2021-04-04 09:14:24,801]\u001b[0m Trial 280 finished with value: 0.19418743848800657 and parameters: {'n_neurons': 176.0, 'n_hidden_layers': 10.0, 'power_of_lr': 3.0, 'dropout_input': 0.05, 'dropout_hidden': 0.05, 'batch_size': 72.0}. Best is trial 91 with value: 0.19414978027343754.\u001b[0m\n",
      "\u001b[32m[I 2021-04-04 09:14:41,515]\u001b[0m Trial 281 finished with value: 0.20875024795532227 and parameters: {'n_neurons': 144.0, 'n_hidden_layers': 10.0, 'power_of_lr': 3.0, 'dropout_input': 0.05, 'dropout_hidden': 0.05, 'batch_size': 80.0}. Best is trial 91 with value: 0.19414978027343754.\u001b[0m\n",
      "\u001b[32m[I 2021-04-04 09:15:02,007]\u001b[0m Trial 282 finished with value: 0.20205888748168943 and parameters: {'n_neurons': 224.0, 'n_hidden_layers': 10.0, 'power_of_lr': 3.0, 'dropout_input': 0.05, 'dropout_hidden': 0.05, 'batch_size': 88.0}. Best is trial 91 with value: 0.19414978027343754.\u001b[0m\n"
     ]
    },
    {
     "name": "stderr",
     "output_type": "stream",
     "text": [
      "\u001b[32m[I 2021-04-04 09:15:24,676]\u001b[0m Trial 283 finished with value: 0.2154604315757751 and parameters: {'n_neurons': 216.0, 'n_hidden_layers': 10.0, 'power_of_lr': 3.0, 'dropout_input': 0.05, 'dropout_hidden': 0.05, 'batch_size': 72.0}. Best is trial 91 with value: 0.19414978027343754.\u001b[0m\n",
      "\u001b[32m[I 2021-04-04 09:15:43,055]\u001b[0m Trial 284 finished with value: 0.21431173086166377 and parameters: {'n_neurons': 200.0, 'n_hidden_layers': 9.0, 'power_of_lr': 3.0, 'dropout_input': 0.05, 'dropout_hidden': 0.05, 'batch_size': 120.0}. Best is trial 91 with value: 0.19414978027343754.\u001b[0m\n",
      "\u001b[32m[I 2021-04-04 09:16:01,669]\u001b[0m Trial 285 finished with value: 0.2087251305580139 and parameters: {'n_neurons': 176.0, 'n_hidden_layers': 10.0, 'power_of_lr': 3.0, 'dropout_input': 0.05, 'dropout_hidden': 0.05, 'batch_size': 64.0}. Best is trial 91 with value: 0.19414978027343754.\u001b[0m\n",
      "\u001b[32m[I 2021-04-04 09:16:22,937]\u001b[0m Trial 286 finished with value: 0.2255288481712341 and parameters: {'n_neurons': 184.0, 'n_hidden_layers': 10.0, 'power_of_lr': 3.0, 'dropout_input': 0.0, 'dropout_hidden': 0.05, 'batch_size': 96.0}. Best is trial 91 with value: 0.19414978027343754.\u001b[0m\n",
      "\u001b[32m[I 2021-04-04 09:16:41,916]\u001b[0m Trial 287 finished with value: 0.21324462890624996 and parameters: {'n_neurons': 160.0, 'n_hidden_layers': 10.0, 'power_of_lr': 3.0, 'dropout_input': 0.05, 'dropout_hidden': 0.0, 'batch_size': 24.0}. Best is trial 91 with value: 0.19414978027343754.\u001b[0m\n",
      "\u001b[32m[I 2021-04-04 09:16:58,754]\u001b[0m Trial 288 finished with value: 0.21210219860076907 and parameters: {'n_neurons': 208.0, 'n_hidden_layers': 8.0, 'power_of_lr': 3.0, 'dropout_input': 0.05, 'dropout_hidden': 0.05, 'batch_size': 80.0}. Best is trial 91 with value: 0.19414978027343754.\u001b[0m\n",
      "\u001b[32m[I 2021-04-04 09:17:43,797]\u001b[0m Trial 289 finished with value: 0.20314482450485227 and parameters: {'n_neurons': 192.0, 'n_hidden_layers': 10.0, 'power_of_lr': 3.0, 'dropout_input': 0.05, 'dropout_hidden': 0.05, 'batch_size': 8.0}. Best is trial 91 with value: 0.19414978027343754.\u001b[0m\n",
      "\u001b[32m[I 2021-04-04 09:17:59,493]\u001b[0m Trial 290 finished with value: 0.2053731799125671 and parameters: {'n_neurons': 152.0, 'n_hidden_layers': 10.0, 'power_of_lr': 3.0, 'dropout_input': 0.05, 'dropout_hidden': 0.0, 'batch_size': 112.0}. Best is trial 91 with value: 0.19414978027343754.\u001b[0m\n",
      "\u001b[32m[I 2021-04-04 09:18:13,152]\u001b[0m Trial 291 finished with value: 0.22556650638580322 and parameters: {'n_neurons': 72.0, 'n_hidden_layers': 9.0, 'power_of_lr': 3.0, 'dropout_input': 0.05, 'dropout_hidden': 0.4, 'batch_size': 64.0}. Best is trial 91 with value: 0.19414978027343754.\u001b[0m\n",
      "\u001b[32m[I 2021-04-04 09:18:38,530]\u001b[0m Trial 292 finished with value: 0.2165902972221374 and parameters: {'n_neurons': 232.0, 'n_hidden_layers': 10.0, 'power_of_lr': 3.0, 'dropout_input': 0.05, 'dropout_hidden': 0.05, 'batch_size': 72.0}. Best is trial 91 with value: 0.19414978027343754.\u001b[0m\n",
      "\u001b[32m[I 2021-04-04 09:18:56,688]\u001b[0m Trial 293 finished with value: 0.20765175819396975 and parameters: {'n_neurons': 184.0, 'n_hidden_layers': 10.0, 'power_of_lr': 3.0, 'dropout_input': 0.05, 'dropout_hidden': 0.05, 'batch_size': 80.0}. Best is trial 91 with value: 0.19414978027343754.\u001b[0m\n",
      "\u001b[32m[I 2021-04-04 09:19:12,923]\u001b[0m Trial 294 finished with value: 0.20089763402938843 and parameters: {'n_neurons': 168.0, 'n_hidden_layers': 9.0, 'power_of_lr': 3.0, 'dropout_input': 0.05, 'dropout_hidden': 0.0, 'batch_size': 72.0}. Best is trial 91 with value: 0.19414978027343754.\u001b[0m\n",
      "\u001b[32m[I 2021-04-04 09:19:26,006]\u001b[0m Trial 295 finished with value: 0.21436822414398193 and parameters: {'n_neurons': 128.0, 'n_hidden_layers': 8.0, 'power_of_lr': 3.0, 'dropout_input': 0.15000000000000002, 'dropout_hidden': 0.05, 'batch_size': 120.0}. Best is trial 91 with value: 0.19414978027343754.\u001b[0m\n",
      "\u001b[32m[I 2021-04-04 09:19:53,037]\u001b[0m Trial 296 finished with value: 0.20762037038803105 and parameters: {'n_neurons': 104.0, 'n_hidden_layers': 10.0, 'power_of_lr': 2.0, 'dropout_input': 0.05, 'dropout_hidden': 0.05, 'batch_size': 120.0}. Best is trial 91 with value: 0.19414978027343754.\u001b[0m\n",
      "\u001b[32m[I 2021-04-04 09:20:09,921]\u001b[0m Trial 297 finished with value: 0.22778859138488772 and parameters: {'n_neurons': 192.0, 'n_hidden_layers': 10.0, 'power_of_lr': 3.0, 'dropout_input': 0.05, 'dropout_hidden': 0.0, 'batch_size': 88.0}. Best is trial 91 with value: 0.19414978027343754.\u001b[0m\n",
      "\u001b[32m[I 2021-04-04 09:20:26,546]\u001b[0m Trial 298 finished with value: 0.20536062717437742 and parameters: {'n_neurons': 208.0, 'n_hidden_layers': 8.0, 'power_of_lr': 3.0, 'dropout_input': 0.05, 'dropout_hidden': 0.05, 'batch_size': 104.0}. Best is trial 91 with value: 0.19414978027343754.\u001b[0m\n",
      "\u001b[32m[I 2021-04-04 09:20:46,648]\u001b[0m Trial 299 finished with value: 0.22105330228805542 and parameters: {'n_neurons': 216.0, 'n_hidden_layers': 10.0, 'power_of_lr': 3.0, 'dropout_input': 0.05, 'dropout_hidden': 0.1, 'batch_size': 112.0}. Best is trial 91 with value: 0.19414978027343754.\u001b[0m\n",
      "\u001b[32m[I 2021-04-04 09:21:06,786]\u001b[0m Trial 300 finished with value: 0.21768878698349003 and parameters: {'n_neurons': 200.0, 'n_hidden_layers': 10.0, 'power_of_lr': 3.0, 'dropout_input': 0.05, 'dropout_hidden': 0.0, 'batch_size': 96.0}. Best is trial 91 with value: 0.19414978027343754.\u001b[0m\n",
      "\u001b[32m[I 2021-04-04 09:21:22,392]\u001b[0m Trial 301 finished with value: 0.22671521902084346 and parameters: {'n_neurons': 144.0, 'n_hidden_layers': 8.0, 'power_of_lr': 3.0, 'dropout_input': 0.15000000000000002, 'dropout_hidden': 0.05, 'batch_size': 32.0}. Best is trial 91 with value: 0.19414978027343754.\u001b[0m\n",
      "\u001b[32m[I 2021-04-04 09:21:42,578]\u001b[0m Trial 302 finished with value: 0.20985500812530522 and parameters: {'n_neurons': 176.0, 'n_hidden_layers': 10.0, 'power_of_lr': 3.0, 'dropout_input': 0.05, 'dropout_hidden': 0.0, 'batch_size': 64.0}. Best is trial 91 with value: 0.19414978027343754.\u001b[0m\n",
      "\u001b[32m[I 2021-04-04 09:21:59,658]\u001b[0m Trial 303 finished with value: 0.21435567140579226 and parameters: {'n_neurons': 224.0, 'n_hidden_layers': 10.0, 'power_of_lr': 3.0, 'dropout_input': 0.05, 'dropout_hidden': 0.05, 'batch_size': 80.0}. Best is trial 91 with value: 0.19414978027343754.\u001b[0m\n",
      "\u001b[32m[I 2021-04-04 09:22:18,592]\u001b[0m Trial 304 finished with value: 0.20874396562576292 and parameters: {'n_neurons': 152.0, 'n_hidden_layers': 10.0, 'power_of_lr': 3.0, 'dropout_input': 0.05, 'dropout_hidden': 0.1, 'batch_size': 72.0}. Best is trial 91 with value: 0.19414978027343754.\u001b[0m\n",
      "\u001b[32m[I 2021-04-04 09:22:33,682]\u001b[0m Trial 305 finished with value: 0.2188563227653504 and parameters: {'n_neurons': 200.0, 'n_hidden_layers': 9.0, 'power_of_lr': 3.0, 'dropout_input': 0.15000000000000002, 'dropout_hidden': 0.05, 'batch_size': 88.0}. Best is trial 91 with value: 0.19414978027343754.\u001b[0m\n",
      "\u001b[32m[I 2021-04-04 09:22:49,823]\u001b[0m Trial 306 finished with value: 0.21321324110031126 and parameters: {'n_neurons': 168.0, 'n_hidden_layers': 10.0, 'power_of_lr': 3.0, 'dropout_input': 0.05, 'dropout_hidden': 0.0, 'batch_size': 112.0}. Best is trial 91 with value: 0.19414978027343754.\u001b[0m\n",
      "\u001b[32m[I 2021-04-04 09:23:08,891]\u001b[0m Trial 307 finished with value: 0.19751429557800293 and parameters: {'n_neurons': 192.0, 'n_hidden_layers': 10.0, 'power_of_lr': 3.0, 'dropout_input': 0.05, 'dropout_hidden': 0.1, 'batch_size': 104.0}. Best is trial 91 with value: 0.19414978027343754.\u001b[0m\n",
      "\u001b[32m[I 2021-04-04 09:23:23,324]\u001b[0m Trial 308 finished with value: 0.2143305540084839 and parameters: {'n_neurons': 184.0, 'n_hidden_layers': 8.0, 'power_of_lr': 3.0, 'dropout_input': 0.05, 'dropout_hidden': 0.1, 'batch_size': 104.0}. Best is trial 91 with value: 0.19414978027343754.\u001b[0m\n",
      "\u001b[32m[I 2021-04-04 09:23:37,353]\u001b[0m Trial 309 finished with value: 0.2009101867675781 and parameters: {'n_neurons': 88.0, 'n_hidden_layers': 10.0, 'power_of_lr': 3.0, 'dropout_input': 0.05, 'dropout_hidden': 0.1, 'batch_size': 96.0}. Best is trial 91 with value: 0.19414978027343754.\u001b[0m\n",
      "\u001b[32m[I 2021-04-04 09:23:56,775]\u001b[0m Trial 310 finished with value: 0.2098989486694336 and parameters: {'n_neurons': 160.0, 'n_hidden_layers': 10.0, 'power_of_lr': 3.0, 'dropout_input': 0.05, 'dropout_hidden': 0.1, 'batch_size': 64.0}. Best is trial 91 with value: 0.19414978027343754.\u001b[0m\n"
     ]
    },
    {
     "name": "stderr",
     "output_type": "stream",
     "text": [
      "\u001b[32m[I 2021-04-04 09:24:15,144]\u001b[0m Trial 311 finished with value: 0.2065156102180481 and parameters: {'n_neurons': 176.0, 'n_hidden_layers': 10.0, 'power_of_lr': 3.0, 'dropout_input': 0.05, 'dropout_hidden': 0.1, 'batch_size': 104.0}. Best is trial 91 with value: 0.19414978027343754.\u001b[0m\n",
      "\u001b[32m[I 2021-04-04 09:24:32,800]\u001b[0m Trial 312 finished with value: 0.20760781764984126 and parameters: {'n_neurons': 192.0, 'n_hidden_layers': 9.0, 'power_of_lr': 3.0, 'dropout_input': 0.05, 'dropout_hidden': 0.1, 'batch_size': 96.0}. Best is trial 91 with value: 0.19414978027343754.\u001b[0m\n",
      "\u001b[32m[I 2021-04-04 09:24:47,542]\u001b[0m Trial 313 finished with value: 0.21434310674667356 and parameters: {'n_neurons': 112.0, 'n_hidden_layers': 8.0, 'power_of_lr': 3.0, 'dropout_input': 0.05, 'dropout_hidden': 0.1, 'batch_size': 80.0}. Best is trial 91 with value: 0.19414978027343754.\u001b[0m\n",
      "\u001b[32m[I 2021-04-04 09:25:27,442]\u001b[0m Trial 314 finished with value: 0.20987384319305424 and parameters: {'n_neurons': 232.0, 'n_hidden_layers': 10.0, 'power_of_lr': 3.0, 'dropout_input': 0.05, 'dropout_hidden': 0.0, 'batch_size': 72.0}. Best is trial 91 with value: 0.19414978027343754.\u001b[0m\n",
      "\u001b[32m[I 2021-04-04 09:25:48,597]\u001b[0m Trial 315 finished with value: 0.20650932788848875 and parameters: {'n_neurons': 216.0, 'n_hidden_layers': 9.0, 'power_of_lr': 3.0, 'dropout_input': 0.05, 'dropout_hidden': 0.1, 'batch_size': 104.0}. Best is trial 91 with value: 0.19414978027343754.\u001b[0m\n",
      "\u001b[32m[I 2021-04-04 09:26:10,375]\u001b[0m Trial 316 finished with value: 0.21767623424530025 and parameters: {'n_neurons': 168.0, 'n_hidden_layers': 10.0, 'power_of_lr': 3.0, 'dropout_input': 0.05, 'dropout_hidden': 0.0, 'batch_size': 80.0}. Best is trial 91 with value: 0.19414978027343754.\u001b[0m\n",
      "\u001b[32m[I 2021-04-04 09:26:21,109]\u001b[0m Trial 317 finished with value: 0.21323834657669072 and parameters: {'n_neurons': 48.0, 'n_hidden_layers': 8.0, 'power_of_lr': 3.0, 'dropout_input': 0.05, 'dropout_hidden': 0.05, 'batch_size': 112.0}. Best is trial 91 with value: 0.19414978027343754.\u001b[0m\n",
      "\u001b[32m[I 2021-04-04 09:26:40,539]\u001b[0m Trial 318 finished with value: 0.21320068836212158 and parameters: {'n_neurons': 184.0, 'n_hidden_layers': 10.0, 'power_of_lr': 3.0, 'dropout_input': 0.05, 'dropout_hidden': 0.1, 'batch_size': 32.0}. Best is trial 91 with value: 0.19414978027343754.\u001b[0m\n",
      "\u001b[32m[I 2021-04-04 09:26:57,930]\u001b[0m Trial 319 finished with value: 0.23787584304809573 and parameters: {'n_neurons': 208.0, 'n_hidden_layers': 10.0, 'power_of_lr': 3.0, 'dropout_input': 0.05, 'dropout_hidden': 0.05, 'batch_size': 88.0}. Best is trial 91 with value: 0.19414978027343754.\u001b[0m\n",
      "\u001b[32m[I 2021-04-04 09:27:14,173]\u001b[0m Trial 320 finished with value: 0.2188751578330994 and parameters: {'n_neurons': 136.0, 'n_hidden_layers': 10.0, 'power_of_lr': 3.0, 'dropout_input': 0.2, 'dropout_hidden': 0.0, 'batch_size': 64.0}. Best is trial 91 with value: 0.19414978027343754.\u001b[0m\n",
      "\u001b[32m[I 2021-04-04 09:27:32,714]\u001b[0m Trial 321 finished with value: 0.20319503545761108 and parameters: {'n_neurons': 256.0, 'n_hidden_layers': 8.0, 'power_of_lr': 3.0, 'dropout_input': 0.15000000000000002, 'dropout_hidden': 0.05, 'batch_size': 72.0}. Best is trial 91 with value: 0.19414978027343754.\u001b[0m\n",
      "\u001b[32m[I 2021-04-04 09:27:53,436]\u001b[0m Trial 322 finished with value: 0.19529848098754887 and parameters: {'n_neurons': 192.0, 'n_hidden_layers': 10.0, 'power_of_lr': 3.0, 'dropout_input': 0.05, 'dropout_hidden': 0.1, 'batch_size': 96.0}. Best is trial 91 with value: 0.19414978027343754.\u001b[0m\n",
      "\u001b[32m[I 2021-04-04 09:28:09,581]\u001b[0m Trial 323 finished with value: 0.21769506931304927 and parameters: {'n_neurons': 192.0, 'n_hidden_layers': 7.0, 'power_of_lr': 3.0, 'dropout_input': 0.05, 'dropout_hidden': 0.1, 'batch_size': 96.0}. Best is trial 91 with value: 0.19414978027343754.\u001b[0m\n",
      "\u001b[32m[I 2021-04-04 09:28:27,954]\u001b[0m Trial 324 finished with value: 0.22441153526306157 and parameters: {'n_neurons': 192.0, 'n_hidden_layers': 10.0, 'power_of_lr': 3.0, 'dropout_input': 0.05, 'dropout_hidden': 0.1, 'batch_size': 104.0}. Best is trial 91 with value: 0.19414978027343754.\u001b[0m\n",
      "\u001b[32m[I 2021-04-04 09:28:49,487]\u001b[0m Trial 325 finished with value: 0.20876907110214238 and parameters: {'n_neurons': 224.0, 'n_hidden_layers': 9.0, 'power_of_lr': 3.0, 'dropout_input': 0.05, 'dropout_hidden': 0.30000000000000004, 'batch_size': 96.0}. Best is trial 91 with value: 0.19414978027343754.\u001b[0m\n",
      "\u001b[32m[I 2021-04-04 09:29:19,638]\u001b[0m Trial 326 finished with value: 0.20871886014938357 and parameters: {'n_neurons': 208.0, 'n_hidden_layers': 10.0, 'power_of_lr': 3.0, 'dropout_input': 0.05, 'dropout_hidden': 0.1, 'batch_size': 56.0}. Best is trial 91 with value: 0.19414978027343754.\u001b[0m\n",
      "\u001b[32m[I 2021-04-04 09:29:39,872]\u001b[0m Trial 327 finished with value: 0.21435567140579226 and parameters: {'n_neurons': 176.0, 'n_hidden_layers': 10.0, 'power_of_lr': 3.0, 'dropout_input': 0.05, 'dropout_hidden': 0.1, 'batch_size': 88.0}. Best is trial 91 with value: 0.19414978027343754.\u001b[0m\n",
      "\u001b[32m[I 2021-04-04 09:29:57,121]\u001b[0m Trial 328 finished with value: 0.2143493890762329 and parameters: {'n_neurons': 184.0, 'n_hidden_layers': 7.0, 'power_of_lr': 3.0, 'dropout_input': 0.05, 'dropout_hidden': 0.1, 'batch_size': 72.0}. Best is trial 91 with value: 0.19414978027343754.\u001b[0m\n",
      "\u001b[32m[I 2021-04-04 09:30:12,102]\u001b[0m Trial 329 finished with value: 0.2255790591239929 and parameters: {'n_neurons': 120.0, 'n_hidden_layers': 10.0, 'power_of_lr': 3.0, 'dropout_input': 0.15000000000000002, 'dropout_hidden': 0.1, 'batch_size': 104.0}. Best is trial 91 with value: 0.19414978027343754.\u001b[0m\n",
      "\u001b[32m[I 2021-04-04 09:30:29,120]\u001b[0m Trial 330 finished with value: 0.21545414924621586 and parameters: {'n_neurons': 200.0, 'n_hidden_layers': 8.0, 'power_of_lr': 3.0, 'dropout_input': 0.05, 'dropout_hidden': 0.05, 'batch_size': 80.0}. Best is trial 91 with value: 0.19414978027343754.\u001b[0m\n",
      "\u001b[32m[I 2021-04-04 09:30:35,786]\u001b[0m Trial 331 finished with value: 0.2300608873367309 and parameters: {'n_neurons': 216.0, 'n_hidden_layers': 1.0, 'power_of_lr': 3.0, 'dropout_input': 0.0, 'dropout_hidden': 0.0, 'batch_size': 112.0}. Best is trial 91 with value: 0.19414978027343754.\u001b[0m\n",
      "\u001b[32m[I 2021-04-04 09:30:56,002]\u001b[0m Trial 332 finished with value: 0.21435567140579226 and parameters: {'n_neurons': 176.0, 'n_hidden_layers': 10.0, 'power_of_lr': 3.0, 'dropout_input': 0.05, 'dropout_hidden': 0.1, 'batch_size': 72.0}. Best is trial 91 with value: 0.19414978027343754.\u001b[0m\n",
      "\u001b[32m[I 2021-04-04 09:31:26,150]\u001b[0m Trial 333 finished with value: 0.21994853019714355 and parameters: {'n_neurons': 240.0, 'n_hidden_layers': 7.0, 'power_of_lr': 2.0, 'dropout_input': 0.15000000000000002, 'dropout_hidden': 0.0, 'batch_size': 104.0}. Best is trial 91 with value: 0.19414978027343754.\u001b[0m\n",
      "\u001b[32m[I 2021-04-04 09:31:55,995]\u001b[0m Trial 334 finished with value: 0.20873141288757324 and parameters: {'n_neurons': 320.0, 'n_hidden_layers': 10.0, 'power_of_lr': 3.0, 'dropout_input': 0.05, 'dropout_hidden': 0.1, 'batch_size': 104.0}. Best is trial 91 with value: 0.19414978027343754.\u001b[0m\n",
      "\u001b[32m[I 2021-04-04 09:32:14,494]\u001b[0m Trial 335 finished with value: 0.19978659152984624 and parameters: {'n_neurons': 200.0, 'n_hidden_layers': 8.0, 'power_of_lr': 3.0, 'dropout_input': 0.05, 'dropout_hidden': 0.15000000000000002, 'batch_size': 96.0}. Best is trial 91 with value: 0.19414978027343754.\u001b[0m\n",
      "\u001b[32m[I 2021-04-04 09:32:32,426]\u001b[0m Trial 336 finished with value: 0.20090390443801875 and parameters: {'n_neurons': 168.0, 'n_hidden_layers': 9.0, 'power_of_lr': 3.0, 'dropout_input': 0.05, 'dropout_hidden': 0.05, 'batch_size': 80.0}. Best is trial 91 with value: 0.19414978027343754.\u001b[0m\n",
      "\u001b[32m[I 2021-04-04 09:32:48,107]\u001b[0m Trial 337 finished with value: 0.2210972428321838 and parameters: {'n_neurons': 232.0, 'n_hidden_layers': 7.0, 'power_of_lr': 3.0, 'dropout_input': 0.15000000000000002, 'dropout_hidden': 0.1, 'batch_size': 112.0}. Best is trial 91 with value: 0.19414978027343754.\u001b[0m\n",
      "\u001b[32m[I 2021-04-04 09:32:54,600]\u001b[0m Trial 338 finished with value: 0.22782624959945674 and parameters: {'n_neurons': 144.0, 'n_hidden_layers': 2.0, 'power_of_lr': 3.0, 'dropout_input': 0.05, 'dropout_hidden': 0.0, 'batch_size': 88.0}. Best is trial 91 with value: 0.19414978027343754.\u001b[0m\n"
     ]
    },
    {
     "name": "stderr",
     "output_type": "stream",
     "text": [
      "\u001b[32m[I 2021-04-04 09:33:13,845]\u001b[0m Trial 339 finished with value: 0.21097232103347774 and parameters: {'n_neurons': 192.0, 'n_hidden_layers': 10.0, 'power_of_lr': 3.0, 'dropout_input': 0.05, 'dropout_hidden': 0.05, 'batch_size': 72.0}. Best is trial 91 with value: 0.19414978027343754.\u001b[0m\n",
      "\u001b[32m[I 2021-04-04 09:33:37,868]\u001b[0m Trial 340 finished with value: 0.2278011441230774 and parameters: {'n_neurons': 208.0, 'n_hidden_layers': 10.0, 'power_of_lr': 3.0, 'dropout_input': 0.05, 'dropout_hidden': 0.0, 'batch_size': 96.0}. Best is trial 91 with value: 0.19414978027343754.\u001b[0m\n",
      "\u001b[32m[I 2021-04-04 09:33:59,970]\u001b[0m Trial 341 finished with value: 0.20311971902847292 and parameters: {'n_neurons': 184.0, 'n_hidden_layers': 10.0, 'power_of_lr': 3.0, 'dropout_input': 0.05, 'dropout_hidden': 0.05, 'batch_size': 64.0}. Best is trial 91 with value: 0.19414978027343754.\u001b[0m\n",
      "\u001b[32m[I 2021-04-04 09:34:13,288]\u001b[0m Trial 342 finished with value: 0.2087251305580139 and parameters: {'n_neurons': 152.0, 'n_hidden_layers': 7.0, 'power_of_lr': 3.0, 'dropout_input': 0.05, 'dropout_hidden': 0.1, 'batch_size': 112.0}. Best is trial 91 with value: 0.19414978027343754.\u001b[0m\n",
      "\u001b[32m[I 2021-04-04 09:34:35,904]\u001b[0m Trial 343 finished with value: 0.2188123822212219 and parameters: {'n_neurons': 224.0, 'n_hidden_layers': 10.0, 'power_of_lr': 3.0, 'dropout_input': 0.15000000000000002, 'dropout_hidden': 0.0, 'batch_size': 24.0}. Best is trial 91 with value: 0.19414978027343754.\u001b[0m\n",
      "\u001b[32m[I 2021-04-04 09:34:58,729]\u001b[0m Trial 344 finished with value: 0.2020212292671204 and parameters: {'n_neurons': 168.0, 'n_hidden_layers': 10.0, 'power_of_lr': 3.0, 'dropout_input': 0.05, 'dropout_hidden': 0.05, 'batch_size': 80.0}. Best is trial 91 with value: 0.19414978027343754.\u001b[0m\n",
      "\u001b[32m[I 2021-04-04 09:35:19,174]\u001b[0m Trial 345 finished with value: 0.2121084809303284 and parameters: {'n_neurons': 192.0, 'n_hidden_layers': 9.0, 'power_of_lr': 3.0, 'dropout_input': 0.05, 'dropout_hidden': 0.05, 'batch_size': 64.0}. Best is trial 91 with value: 0.19414978027343754.\u001b[0m\n",
      "\u001b[32m[I 2021-04-04 09:35:42,354]\u001b[0m Trial 346 finished with value: 0.21659657955169676 and parameters: {'n_neurons': 488.0, 'n_hidden_layers': 7.0, 'power_of_lr': 3.0, 'dropout_input': 0.05, 'dropout_hidden': 0.1, 'batch_size': 104.0}. Best is trial 91 with value: 0.19414978027343754.\u001b[0m\n",
      "\u001b[32m[I 2021-04-04 09:36:01,853]\u001b[0m Trial 347 finished with value: 0.20431863069534306 and parameters: {'n_neurons': 264.0, 'n_hidden_layers': 8.0, 'power_of_lr': 3.0, 'dropout_input': 0.15000000000000002, 'dropout_hidden': 0.1, 'batch_size': 112.0}. Best is trial 91 with value: 0.19414978027343754.\u001b[0m\n",
      "\u001b[32m[I 2021-04-04 09:36:23,846]\u001b[0m Trial 348 finished with value: 0.2143493890762329 and parameters: {'n_neurons': 216.0, 'n_hidden_layers': 10.0, 'power_of_lr': 3.0, 'dropout_input': 0.05, 'dropout_hidden': 0.0, 'batch_size': 120.0}. Best is trial 91 with value: 0.19414978027343754.\u001b[0m\n",
      "\u001b[32m[I 2021-04-04 09:36:44,469]\u001b[0m Trial 349 finished with value: 0.20760781764984126 and parameters: {'n_neurons': 184.0, 'n_hidden_layers': 10.0, 'power_of_lr': 3.0, 'dropout_input': 0.05, 'dropout_hidden': 0.05, 'batch_size': 88.0}. Best is trial 91 with value: 0.19414978027343754.\u001b[0m\n",
      "\u001b[32m[I 2021-04-04 09:37:09,736]\u001b[0m Trial 350 finished with value: 0.2177327275276184 and parameters: {'n_neurons': 200.0, 'n_hidden_layers': 10.0, 'power_of_lr': 3.0, 'dropout_input': 0.05, 'dropout_hidden': 0.05, 'batch_size': 56.0}. Best is trial 91 with value: 0.19414978027343754.\u001b[0m\n",
      "\u001b[32m[I 2021-04-04 09:37:22,273]\u001b[0m Trial 351 finished with value: 0.20987384319305424 and parameters: {'n_neurons': 96.0, 'n_hidden_layers': 8.0, 'power_of_lr': 3.0, 'dropout_input': 0.05, 'dropout_hidden': 0.15000000000000002, 'batch_size': 104.0}. Best is trial 91 with value: 0.19414978027343754.\u001b[0m\n",
      "\u001b[32m[I 2021-04-04 09:37:34,997]\u001b[0m Trial 352 finished with value: 0.22665244340896606 and parameters: {'n_neurons': 128.0, 'n_hidden_layers': 7.0, 'power_of_lr': 3.0, 'dropout_input': 0.05, 'dropout_hidden': 0.0, 'batch_size': 112.0}. Best is trial 91 with value: 0.19414978027343754.\u001b[0m\n",
      "\u001b[32m[I 2021-04-04 09:37:51,347]\u001b[0m Trial 353 finished with value: 0.21323207616806028 and parameters: {'n_neurons': 160.0, 'n_hidden_layers': 9.0, 'power_of_lr': 3.0, 'dropout_input': 0.05, 'dropout_hidden': 0.05, 'batch_size': 72.0}. Best is trial 91 with value: 0.19414978027343754.\u001b[0m\n",
      "\u001b[32m[I 2021-04-04 09:38:30,319]\u001b[0m Trial 354 finished with value: 0.19529221057891843 and parameters: {'n_neurons': 176.0, 'n_hidden_layers': 10.0, 'power_of_lr': 3.0, 'dropout_input': 0.05, 'dropout_hidden': 0.05, 'batch_size': 80.0}. Best is trial 91 with value: 0.19414978027343754.\u001b[0m\n",
      "\u001b[32m[I 2021-04-04 09:38:56,183]\u001b[0m Trial 355 finished with value: 0.2098675608634949 and parameters: {'n_neurons': 208.0, 'n_hidden_layers': 10.0, 'power_of_lr': 3.0, 'dropout_input': 0.05, 'dropout_hidden': 0.05, 'batch_size': 80.0}. Best is trial 91 with value: 0.19414978027343754.\u001b[0m\n",
      "\u001b[32m[I 2021-04-04 09:39:14,848]\u001b[0m Trial 356 finished with value: 0.21207081079483037 and parameters: {'n_neurons': 200.0, 'n_hidden_layers': 8.0, 'power_of_lr': 3.0, 'dropout_input': 0.05, 'dropout_hidden': 0.1, 'batch_size': 80.0}. Best is trial 91 with value: 0.19414978027343754.\u001b[0m\n",
      "\u001b[32m[I 2021-04-04 09:39:37,092]\u001b[0m Trial 357 finished with value: 0.20423703193664555 and parameters: {'n_neurons': 176.0, 'n_hidden_layers': 10.0, 'power_of_lr': 3.0, 'dropout_input': 0.05, 'dropout_hidden': 0.05, 'batch_size': 32.0}. Best is trial 91 with value: 0.19414978027343754.\u001b[0m\n",
      "\u001b[32m[I 2021-04-04 09:39:53,829]\u001b[0m Trial 358 finished with value: 0.2232879400253296 and parameters: {'n_neurons': 160.0, 'n_hidden_layers': 7.0, 'power_of_lr': 3.0, 'dropout_input': 0.05, 'dropout_hidden': 0.05, 'batch_size': 88.0}. Best is trial 91 with value: 0.19414978027343754.\u001b[0m\n",
      "\u001b[32m[I 2021-04-04 09:40:06,424]\u001b[0m Trial 359 finished with value: 0.21772017478942873 and parameters: {'n_neurons': 32.0, 'n_hidden_layers': 10.0, 'power_of_lr': 3.0, 'dropout_input': 0.05, 'dropout_hidden': 0.1, 'batch_size': 96.0}. Best is trial 91 with value: 0.19414978027343754.\u001b[0m\n",
      "\u001b[32m[I 2021-04-04 09:40:24,132]\u001b[0m Trial 360 finished with value: 0.20092273950576778 and parameters: {'n_neurons': 184.0, 'n_hidden_layers': 9.0, 'power_of_lr': 3.0, 'dropout_input': 0.05, 'dropout_hidden': 0.05, 'batch_size': 88.0}. Best is trial 91 with value: 0.19414978027343754.\u001b[0m\n",
      "\u001b[32m[I 2021-04-04 09:40:50,572]\u001b[0m Trial 361 finished with value: 0.2199548125267029 and parameters: {'n_neurons': 248.0, 'n_hidden_layers': 10.0, 'power_of_lr': 3.0, 'dropout_input': 0.05, 'dropout_hidden': 0.05, 'batch_size': 80.0}. Best is trial 91 with value: 0.19414978027343754.\u001b[0m\n",
      "\u001b[32m[I 2021-04-04 09:41:04,067]\u001b[0m Trial 362 finished with value: 0.38389931917190556 and parameters: {'n_neurons': 8.0, 'n_hidden_layers': 10.0, 'power_of_lr': 3.0, 'dropout_input': 0.05, 'dropout_hidden': 0.35000000000000003, 'batch_size': 64.0}. Best is trial 91 with value: 0.19414978027343754.\u001b[0m\n",
      "\u001b[32m[I 2021-04-04 09:41:20,592]\u001b[0m Trial 363 finished with value: 0.38389931917190556 and parameters: {'n_neurons': 216.0, 'n_hidden_layers': 7.0, 'power_of_lr': 1.0, 'dropout_input': 0.05, 'dropout_hidden': 0.1, 'batch_size': 16.0}. Best is trial 91 with value: 0.19414978027343754.\u001b[0m\n",
      "\u001b[32m[I 2021-04-04 09:41:47,505]\u001b[0m Trial 364 finished with value: 0.21991087198257442 and parameters: {'n_neurons': 312.0, 'n_hidden_layers': 10.0, 'power_of_lr': 3.0, 'dropout_input': 0.05, 'dropout_hidden': 0.05, 'batch_size': 120.0}. Best is trial 91 with value: 0.19414978027343754.\u001b[0m\n",
      "\u001b[32m[I 2021-04-04 09:42:00,432]\u001b[0m Trial 365 finished with value: 0.21104764938354492 and parameters: {'n_neurons': 72.0, 'n_hidden_layers': 8.0, 'power_of_lr': 3.0, 'dropout_input': 0.05, 'dropout_hidden': 0.15000000000000002, 'batch_size': 72.0}. Best is trial 91 with value: 0.19414978027343754.\u001b[0m\n",
      "\u001b[32m[I 2021-04-04 09:42:27,407]\u001b[0m Trial 366 finished with value: 0.2636181116104126 and parameters: {'n_neurons': 192.0, 'n_hidden_layers': 7.0, 'power_of_lr': 5.0, 'dropout_input': 0.1, 'dropout_hidden': 0.1, 'batch_size': 80.0}. Best is trial 91 with value: 0.19414978027343754.\u001b[0m\n"
     ]
    },
    {
     "name": "stderr",
     "output_type": "stream",
     "text": [
      "\u001b[32m[I 2021-04-04 09:42:53,853]\u001b[0m Trial 367 finished with value: 0.21097232103347774 and parameters: {'n_neurons': 296.0, 'n_hidden_layers': 10.0, 'power_of_lr': 3.0, 'dropout_input': 0.05, 'dropout_hidden': 0.05, 'batch_size': 96.0}. Best is trial 91 with value: 0.19414978027343754.\u001b[0m\n",
      "\u001b[32m[I 2021-04-04 09:43:18,359]\u001b[0m Trial 368 finished with value: 0.2042433142662048 and parameters: {'n_neurons': 232.0, 'n_hidden_layers': 10.0, 'power_of_lr': 3.0, 'dropout_input': 0.05, 'dropout_hidden': 0.1, 'batch_size': 88.0}. Best is trial 91 with value: 0.19414978027343754.\u001b[0m\n",
      "\u001b[32m[I 2021-04-04 09:43:32,478]\u001b[0m Trial 369 finished with value: 0.22677798271179195 and parameters: {'n_neurons': 200.0, 'n_hidden_layers': 8.0, 'power_of_lr': 3.0, 'dropout_input': 0.05, 'dropout_hidden': 0.05, 'batch_size': 232.0}. Best is trial 91 with value: 0.19414978027343754.\u001b[0m\n",
      "\u001b[32m[I 2021-04-04 09:43:49,716]\u001b[0m Trial 370 finished with value: 0.23115937709808354 and parameters: {'n_neurons': 168.0, 'n_hidden_layers': 9.0, 'power_of_lr': 2.0, 'dropout_input': 0.05, 'dropout_hidden': 0.1, 'batch_size': 64.0}. Best is trial 91 with value: 0.19414978027343754.\u001b[0m\n",
      "\u001b[32m[I 2021-04-04 09:44:10,815]\u001b[0m Trial 371 finished with value: 0.2154918193817139 and parameters: {'n_neurons': 216.0, 'n_hidden_layers': 10.0, 'power_of_lr': 3.0, 'dropout_input': 0.05, 'dropout_hidden': 0.05, 'batch_size': 112.0}. Best is trial 91 with value: 0.19414978027343754.\u001b[0m\n",
      "\u001b[32m[I 2021-04-04 09:44:35,090]\u001b[0m Trial 372 finished with value: 0.2132822871208191 and parameters: {'n_neurons': 184.0, 'n_hidden_layers': 10.0, 'power_of_lr': 3.0, 'dropout_input': 0.1, 'dropout_hidden': 0.05, 'batch_size': 72.0}. Best is trial 91 with value: 0.19414978027343754.\u001b[0m\n",
      "\u001b[32m[I 2021-04-04 09:44:51,386]\u001b[0m Trial 373 finished with value: 0.20315737724304195 and parameters: {'n_neurons': 192.0, 'n_hidden_layers': 7.0, 'power_of_lr': 3.0, 'dropout_input': 0.05, 'dropout_hidden': 0.1, 'batch_size': 40.0}. Best is trial 91 with value: 0.19414978027343754.\u001b[0m\n",
      "\u001b[32m[I 2021-04-04 09:45:09,680]\u001b[0m Trial 374 finished with value: 0.20087252855300908 and parameters: {'n_neurons': 208.0, 'n_hidden_layers': 10.0, 'power_of_lr': 3.0, 'dropout_input': 0.05, 'dropout_hidden': 0.05, 'batch_size': 104.0}. Best is trial 91 with value: 0.19414978027343754.\u001b[0m\n",
      "\u001b[32m[I 2021-04-04 09:45:25,303]\u001b[0m Trial 375 finished with value: 0.23792605400085454 and parameters: {'n_neurons': 176.0, 'n_hidden_layers': 8.0, 'power_of_lr': 3.0, 'dropout_input': 0.2, 'dropout_hidden': 0.05, 'batch_size': 80.0}. Best is trial 91 with value: 0.19414978027343754.\u001b[0m\n",
      "\u001b[32m[I 2021-04-04 09:46:10,518]\u001b[0m Trial 376 finished with value: 0.20985500812530522 and parameters: {'n_neurons': 152.0, 'n_hidden_layers': 10.0, 'power_of_lr': 3.0, 'dropout_input': 0.05, 'dropout_hidden': 0.1, 'batch_size': 120.0}. Best is trial 91 with value: 0.19414978027343754.\u001b[0m\n",
      "\u001b[32m[I 2021-04-04 09:46:39,055]\u001b[0m Trial 377 finished with value: 0.1997803092002869 and parameters: {'n_neurons': 272.0, 'n_hidden_layers': 7.0, 'power_of_lr': 3.0, 'dropout_input': 0.05, 'dropout_hidden': 0.05, 'batch_size': 24.0}. Best is trial 91 with value: 0.19414978027343754.\u001b[0m\n",
      "\u001b[32m[I 2021-04-04 09:47:06,362]\u001b[0m Trial 378 finished with value: 0.22105330228805542 and parameters: {'n_neurons': 200.0, 'n_hidden_layers': 10.0, 'power_of_lr': 3.0, 'dropout_input': 0.0, 'dropout_hidden': 0.0, 'batch_size': 72.0}. Best is trial 91 with value: 0.19414978027343754.\u001b[0m\n",
      "\u001b[32m[I 2021-04-04 09:47:29,886]\u001b[0m Trial 379 finished with value: 0.20649677515029907 and parameters: {'n_neurons': 224.0, 'n_hidden_layers': 9.0, 'power_of_lr': 3.0, 'dropout_input': 0.05, 'dropout_hidden': 0.05, 'batch_size': 56.0}. Best is trial 91 with value: 0.19414978027343754.\u001b[0m\n",
      "\u001b[32m[I 2021-04-04 09:47:49,343]\u001b[0m Trial 380 finished with value: 0.2110288143157959 and parameters: {'n_neurons': 184.0, 'n_hidden_layers': 10.0, 'power_of_lr': 3.0, 'dropout_input': 0.05, 'dropout_hidden': 0.1, 'batch_size': 128.0}. Best is trial 91 with value: 0.19414978027343754.\u001b[0m\n",
      "\u001b[32m[I 2021-04-04 09:48:06,293]\u001b[0m Trial 381 finished with value: 0.20090390443801875 and parameters: {'n_neurons': 168.0, 'n_hidden_layers': 8.0, 'power_of_lr': 3.0, 'dropout_input': 0.05, 'dropout_hidden': 0.05, 'batch_size': 88.0}. Best is trial 91 with value: 0.19414978027343754.\u001b[0m\n",
      "\u001b[32m[I 2021-04-04 09:48:23,260]\u001b[0m Trial 382 finished with value: 0.2109974384307861 and parameters: {'n_neurons': 240.0, 'n_hidden_layers': 7.0, 'power_of_lr': 3.0, 'dropout_input': 0.05, 'dropout_hidden': 0.1, 'batch_size': 104.0}. Best is trial 91 with value: 0.19414978027343754.\u001b[0m\n",
      "\u001b[32m[I 2021-04-04 09:48:33,464]\u001b[0m Trial 383 finished with value: 0.2009101867675781 and parameters: {'n_neurons': 328.0, 'n_hidden_layers': 3.0, 'power_of_lr': 3.0, 'dropout_input': 0.1, 'dropout_hidden': 0.0, 'batch_size': 96.0}. Best is trial 91 with value: 0.19414978027343754.\u001b[0m\n",
      "\u001b[32m[I 2021-04-04 09:48:53,329]\u001b[0m Trial 384 finished with value: 0.20315737724304195 and parameters: {'n_neurons': 208.0, 'n_hidden_layers': 10.0, 'power_of_lr': 3.0, 'dropout_input': 0.05, 'dropout_hidden': 0.05, 'batch_size': 112.0}. Best is trial 91 with value: 0.19414978027343754.\u001b[0m\n",
      "\u001b[32m[I 2021-04-04 09:49:13,111]\u001b[0m Trial 385 finished with value: 0.20985500812530522 and parameters: {'n_neurons': 160.0, 'n_hidden_layers': 10.0, 'power_of_lr': 3.0, 'dropout_input': 0.05, 'dropout_hidden': 0.1, 'batch_size': 80.0}. Best is trial 91 with value: 0.19414978027343754.\u001b[0m\n",
      "\u001b[32m[I 2021-04-04 09:49:32,417]\u001b[0m Trial 386 finished with value: 0.21321324110031126 and parameters: {'n_neurons': 192.0, 'n_hidden_layers': 10.0, 'power_of_lr': 3.0, 'dropout_input': 0.05, 'dropout_hidden': 0.05, 'batch_size': 96.0}. Best is trial 91 with value: 0.19414978027343754.\u001b[0m\n",
      "\u001b[32m[I 2021-04-04 09:49:47,783]\u001b[0m Trial 387 finished with value: 0.19643462896347041 and parameters: {'n_neurons': 176.0, 'n_hidden_layers': 7.0, 'power_of_lr': 3.0, 'dropout_input': 0.05, 'dropout_hidden': 0.15000000000000002, 'batch_size': 112.0}. Best is trial 91 with value: 0.19414978027343754.\u001b[0m\n",
      "\u001b[32m[I 2021-04-04 09:50:02,870]\u001b[0m Trial 388 finished with value: 0.2199548125267029 and parameters: {'n_neurons': 168.0, 'n_hidden_layers': 7.0, 'power_of_lr': 3.0, 'dropout_input': 0.1, 'dropout_hidden': 0.15000000000000002, 'batch_size': 120.0}. Best is trial 91 with value: 0.19414978027343754.\u001b[0m\n",
      "\u001b[32m[I 2021-04-04 09:50:17,537]\u001b[0m Trial 389 finished with value: 0.20652816295623777 and parameters: {'n_neurons': 176.0, 'n_hidden_layers': 7.0, 'power_of_lr': 3.0, 'dropout_input': 0.05, 'dropout_hidden': 0.15000000000000002, 'batch_size': 112.0}. Best is trial 91 with value: 0.19414978027343754.\u001b[0m\n",
      "\u001b[32m[I 2021-04-04 09:50:31,888]\u001b[0m Trial 390 finished with value: 0.21099115610122676 and parameters: {'n_neurons': 152.0, 'n_hidden_layers': 7.0, 'power_of_lr': 3.0, 'dropout_input': 0.05, 'dropout_hidden': 0.05, 'batch_size': 104.0}. Best is trial 91 with value: 0.19414978027343754.\u001b[0m\n",
      "\u001b[32m[I 2021-04-04 09:50:45,074]\u001b[0m Trial 391 finished with value: 0.1987006545066834 and parameters: {'n_neurons': 176.0, 'n_hidden_layers': 7.0, 'power_of_lr': 3.0, 'dropout_input': 0.05, 'dropout_hidden': 0.15000000000000002, 'batch_size': 208.0}. Best is trial 91 with value: 0.19414978027343754.\u001b[0m\n",
      "\u001b[32m[I 2021-04-04 09:51:02,010]\u001b[0m Trial 392 finished with value: 0.20873141288757324 and parameters: {'n_neurons': 240.0, 'n_hidden_layers': 7.0, 'power_of_lr': 3.0, 'dropout_input': 0.05, 'dropout_hidden': 0.0, 'batch_size': 112.0}. Best is trial 91 with value: 0.19414978027343754.\u001b[0m\n",
      "\u001b[32m[I 2021-04-04 09:51:17,350]\u001b[0m Trial 393 finished with value: 0.21432428359985356 and parameters: {'n_neurons': 224.0, 'n_hidden_layers': 7.0, 'power_of_lr': 3.0, 'dropout_input': 0.05, 'dropout_hidden': 0.05, 'batch_size': 104.0}. Best is trial 91 with value: 0.19414978027343754.\u001b[0m\n",
      "\u001b[32m[I 2021-04-04 09:51:33,729]\u001b[0m Trial 394 finished with value: 0.20873141288757324 and parameters: {'n_neurons': 144.0, 'n_hidden_layers': 8.0, 'power_of_lr': 3.0, 'dropout_input': 0.05, 'dropout_hidden': 0.05, 'batch_size': 112.0}. Best is trial 91 with value: 0.19414978027343754.\u001b[0m\n"
     ]
    },
    {
     "name": "stderr",
     "output_type": "stream",
     "text": [
      "\u001b[32m[I 2021-04-04 09:51:48,696]\u001b[0m Trial 395 finished with value: 0.2109660506248474 and parameters: {'n_neurons': 160.0, 'n_hidden_layers': 7.0, 'power_of_lr': 3.0, 'dropout_input': 0.05, 'dropout_hidden': 0.0, 'batch_size': 104.0}. Best is trial 91 with value: 0.19414978027343754.\u001b[0m\n",
      "\u001b[32m[I 2021-04-04 09:52:04,778]\u001b[0m Trial 396 finished with value: 0.2143493890762329 and parameters: {'n_neurons': 184.0, 'n_hidden_layers': 7.0, 'power_of_lr': 3.0, 'dropout_input': 0.05, 'dropout_hidden': 0.2, 'batch_size': 128.0}. Best is trial 91 with value: 0.19414978027343754.\u001b[0m\n",
      "\u001b[32m[I 2021-04-04 09:52:20,214]\u001b[0m Trial 397 finished with value: 0.20205888748168943 and parameters: {'n_neurons': 200.0, 'n_hidden_layers': 8.0, 'power_of_lr': 3.0, 'dropout_input': 0.05, 'dropout_hidden': 0.05, 'batch_size': 120.0}. Best is trial 91 with value: 0.19414978027343754.\u001b[0m\n",
      "\u001b[32m[I 2021-04-04 09:52:39,007]\u001b[0m Trial 398 finished with value: 0.2120770931243896 and parameters: {'n_neurons': 312.0, 'n_hidden_layers': 7.0, 'power_of_lr': 3.0, 'dropout_input': 0.05, 'dropout_hidden': 0.0, 'batch_size': 120.0}. Best is trial 91 with value: 0.19414978027343754.\u001b[0m\n",
      "\u001b[32m[I 2021-04-04 09:52:54,219]\u001b[0m Trial 399 finished with value: 0.19640952348709106 and parameters: {'n_neurons': 208.0, 'n_hidden_layers': 6.0, 'power_of_lr': 3.0, 'dropout_input': 0.1, 'dropout_hidden': 0.05, 'batch_size': 88.0}. Best is trial 91 with value: 0.19414978027343754.\u001b[0m\n",
      "\u001b[32m[I 2021-04-04 09:53:09,623]\u001b[0m Trial 400 finished with value: 0.2098989486694336 and parameters: {'n_neurons': 216.0, 'n_hidden_layers': 7.0, 'power_of_lr': 3.0, 'dropout_input': 0.1, 'dropout_hidden': 0.05, 'batch_size': 88.0}. Best is trial 91 with value: 0.19414978027343754.\u001b[0m\n",
      "\u001b[32m[I 2021-04-04 09:54:06,230]\u001b[0m Trial 401 finished with value: 0.20541712045669558 and parameters: {'n_neurons': 208.0, 'n_hidden_layers': 7.0, 'power_of_lr': 3.0, 'dropout_input': 0.1, 'dropout_hidden': 0.05, 'batch_size': 96.0}. Best is trial 91 with value: 0.19414978027343754.\u001b[0m\n",
      "\u001b[32m[I 2021-04-04 09:54:24,567]\u001b[0m Trial 402 finished with value: 0.22003012895584106 and parameters: {'n_neurons': 232.0, 'n_hidden_layers': 6.0, 'power_of_lr': 3.0, 'dropout_input': 0.1, 'dropout_hidden': 0.05, 'batch_size': 88.0}. Best is trial 91 with value: 0.19414978027343754.\u001b[0m\n",
      "\u001b[32m[I 2021-04-04 09:54:42,787]\u001b[0m Trial 403 finished with value: 0.20988011360168457 and parameters: {'n_neurons': 224.0, 'n_hidden_layers': 7.0, 'power_of_lr': 3.0, 'dropout_input': 0.1, 'dropout_hidden': 0.05, 'batch_size': 88.0}. Best is trial 91 with value: 0.19414978027343754.\u001b[0m\n",
      "\u001b[32m[I 2021-04-04 09:55:00,171]\u001b[0m Trial 404 finished with value: 0.21095976829528806 and parameters: {'n_neurons': 208.0, 'n_hidden_layers': 6.0, 'power_of_lr': 3.0, 'dropout_input': 0.1, 'dropout_hidden': 0.05, 'batch_size': 96.0}. Best is trial 91 with value: 0.19414978027343754.\u001b[0m\n",
      "\u001b[32m[I 2021-04-04 09:55:13,396]\u001b[0m Trial 405 finished with value: 0.20536690950393677 and parameters: {'n_neurons': 256.0, 'n_hidden_layers': 4.0, 'power_of_lr': 3.0, 'dropout_input': 0.1, 'dropout_hidden': 0.0, 'batch_size': 80.0}. Best is trial 91 with value: 0.19414978027343754.\u001b[0m\n",
      "\u001b[32m[I 2021-04-04 09:55:28,718]\u001b[0m Trial 406 finished with value: 0.2087565183639526 and parameters: {'n_neurons': 192.0, 'n_hidden_layers': 6.0, 'power_of_lr': 3.0, 'dropout_input': 0.1, 'dropout_hidden': 0.05, 'batch_size': 160.0}. Best is trial 91 with value: 0.19414978027343754.\u001b[0m\n",
      "\u001b[32m[I 2021-04-04 09:55:45,102]\u001b[0m Trial 407 finished with value: 0.21101626157760622 and parameters: {'n_neurons': 200.0, 'n_hidden_layers': 6.0, 'power_of_lr': 3.0, 'dropout_input': 0.1, 'dropout_hidden': 0.05, 'batch_size': 32.0}. Best is trial 91 with value: 0.19414978027343754.\u001b[0m\n",
      "\u001b[32m[I 2021-04-04 09:56:01,793]\u001b[0m Trial 408 finished with value: 0.19643462896347041 and parameters: {'n_neurons': 216.0, 'n_hidden_layers': 7.0, 'power_of_lr': 3.0, 'dropout_input': 0.05, 'dropout_hidden': 0.05, 'batch_size': 88.0}. Best is trial 91 with value: 0.19414978027343754.\u001b[0m\n",
      "\u001b[32m[I 2021-04-04 09:56:17,846]\u001b[0m Trial 409 finished with value: 0.21216496229171755 and parameters: {'n_neurons': 216.0, 'n_hidden_layers': 7.0, 'power_of_lr': 3.0, 'dropout_input': 0.1, 'dropout_hidden': 0.05, 'batch_size': 88.0}. Best is trial 91 with value: 0.19414978027343754.\u001b[0m\n",
      "\u001b[32m[I 2021-04-04 09:56:36,824]\u001b[0m Trial 410 finished with value: 0.21658402681350708 and parameters: {'n_neurons': 224.0, 'n_hidden_layers': 7.0, 'power_of_lr': 3.0, 'dropout_input': 0.05, 'dropout_hidden': 0.0, 'batch_size': 96.0}. Best is trial 91 with value: 0.19414978027343754.\u001b[0m\n",
      "\u001b[32m[I 2021-04-04 09:56:57,223]\u001b[0m Trial 411 finished with value: 0.21101626157760622 and parameters: {'n_neurons': 56.0, 'n_hidden_layers': 7.0, 'power_of_lr': 3.0, 'dropout_input': 0.05, 'dropout_hidden': 0.05, 'batch_size': 16.0}. Best is trial 91 with value: 0.19414978027343754.\u001b[0m\n",
      "\u001b[32m[I 2021-04-04 09:57:17,944]\u001b[0m Trial 412 finished with value: 0.21206454038619993 and parameters: {'n_neurons': 288.0, 'n_hidden_layers': 7.0, 'power_of_lr': 3.0, 'dropout_input': 0.05, 'dropout_hidden': 0.05, 'batch_size': 96.0}. Best is trial 91 with value: 0.19414978027343754.\u001b[0m\n",
      "\u001b[32m[I 2021-04-04 09:57:35,914]\u001b[0m Trial 413 finished with value: 0.20646538734436037 and parameters: {'n_neurons': 232.0, 'n_hidden_layers': 7.0, 'power_of_lr': 3.0, 'dropout_input': 0.05, 'dropout_hidden': 0.0, 'batch_size': 96.0}. Best is trial 91 with value: 0.19414978027343754.\u001b[0m\n",
      "\u001b[32m[I 2021-04-04 09:57:53,106]\u001b[0m Trial 414 finished with value: 0.20536062717437742 and parameters: {'n_neurons': 184.0, 'n_hidden_layers': 7.0, 'power_of_lr': 3.0, 'dropout_input': 0.05, 'dropout_hidden': 0.05, 'batch_size': 88.0}. Best is trial 91 with value: 0.19414978027343754.\u001b[0m\n",
      "\u001b[32m[I 2021-04-04 09:58:11,399]\u001b[0m Trial 415 finished with value: 0.22332559823989873 and parameters: {'n_neurons': 248.0, 'n_hidden_layers': 7.0, 'power_of_lr': 3.0, 'dropout_input': 0.1, 'dropout_hidden': 0.0, 'batch_size': 104.0}. Best is trial 91 with value: 0.19414978027343754.\u001b[0m\n",
      "\u001b[32m[I 2021-04-04 09:58:28,484]\u001b[0m Trial 416 finished with value: 0.20871886014938357 and parameters: {'n_neurons': 216.0, 'n_hidden_layers': 6.0, 'power_of_lr': 3.0, 'dropout_input': 0.05, 'dropout_hidden': 0.05, 'batch_size': 80.0}. Best is trial 91 with value: 0.19414978027343754.\u001b[0m\n",
      "\u001b[32m[I 2021-04-04 09:58:44,007]\u001b[0m Trial 417 finished with value: 0.21206454038619993 and parameters: {'n_neurons': 184.0, 'n_hidden_layers': 7.0, 'power_of_lr': 3.0, 'dropout_input': 0.05, 'dropout_hidden': 0.05, 'batch_size': 136.0}. Best is trial 91 with value: 0.19414978027343754.\u001b[0m\n",
      "\u001b[32m[I 2021-04-04 09:59:07,359]\u001b[0m Trial 418 finished with value: 0.2255288481712341 and parameters: {'n_neurons': 208.0, 'n_hidden_layers': 7.0, 'power_of_lr': 3.0, 'dropout_input': 0.05, 'dropout_hidden': 0.0, 'batch_size': 40.0}. Best is trial 91 with value: 0.19414978027343754.\u001b[0m\n",
      "\u001b[32m[I 2021-04-04 09:59:24,773]\u001b[0m Trial 419 finished with value: 0.21997991800308225 and parameters: {'n_neurons': 272.0, 'n_hidden_layers': 6.0, 'power_of_lr': 3.0, 'dropout_input': 0.1, 'dropout_hidden': 0.05, 'batch_size': 88.0}. Best is trial 91 with value: 0.19414978027343754.\u001b[0m\n",
      "\u001b[32m[I 2021-04-04 09:59:40,920]\u001b[0m Trial 420 finished with value: 0.38389931917190556 and parameters: {'n_neurons': 176.0, 'n_hidden_layers': 9.0, 'power_of_lr': 1.0, 'dropout_input': 0.05, 'dropout_hidden': 0.5, 'batch_size': 96.0}. Best is trial 91 with value: 0.19414978027343754.\u001b[0m\n",
      "\u001b[32m[I 2021-04-04 10:00:01,668]\u001b[0m Trial 421 finished with value: 0.20982990264892576 and parameters: {'n_neurons': 304.0, 'n_hidden_layers': 7.0, 'power_of_lr': 3.0, 'dropout_input': 0.05, 'dropout_hidden': 0.05, 'batch_size': 72.0}. Best is trial 91 with value: 0.19414978027343754.\u001b[0m\n",
      "\u001b[32m[I 2021-04-04 10:00:20,669]\u001b[0m Trial 422 finished with value: 0.2221768975257874 and parameters: {'n_neurons': 328.0, 'n_hidden_layers': 7.0, 'power_of_lr': 3.0, 'dropout_input': 0.05, 'dropout_hidden': 0.0, 'batch_size': 104.0}. Best is trial 91 with value: 0.19414978027343754.\u001b[0m\n",
      "\u001b[32m[I 2021-04-04 10:00:39,822]\u001b[0m Trial 423 finished with value: 0.19644091129302976 and parameters: {'n_neurons': 232.0, 'n_hidden_layers': 9.0, 'power_of_lr': 3.0, 'dropout_input': 0.05, 'dropout_hidden': 0.05, 'batch_size': 80.0}. Best is trial 91 with value: 0.19414978027343754.\u001b[0m\n"
     ]
    },
    {
     "name": "stderr",
     "output_type": "stream",
     "text": [
      "\u001b[32m[I 2021-04-04 10:01:02,598]\u001b[0m Trial 424 finished with value: 0.2143180012702942 and parameters: {'n_neurons': 232.0, 'n_hidden_layers': 9.0, 'power_of_lr': 3.0, 'dropout_input': 0.05, 'dropout_hidden': 0.05, 'batch_size': 80.0}. Best is trial 91 with value: 0.19414978027343754.\u001b[0m\n",
      "\u001b[32m[I 2021-04-04 10:01:24,929]\u001b[0m Trial 425 finished with value: 0.2143493890762329 and parameters: {'n_neurons': 240.0, 'n_hidden_layers': 9.0, 'power_of_lr': 3.0, 'dropout_input': 0.05, 'dropout_hidden': 0.05, 'batch_size': 80.0}. Best is trial 91 with value: 0.19414978027343754.\u001b[0m\n",
      "\u001b[32m[I 2021-04-04 10:01:43,981]\u001b[0m Trial 426 finished with value: 0.20765802860260008 and parameters: {'n_neurons': 224.0, 'n_hidden_layers': 9.0, 'power_of_lr': 3.0, 'dropout_input': 0.05, 'dropout_hidden': 0.05, 'batch_size': 88.0}. Best is trial 91 with value: 0.19414978027343754.\u001b[0m\n",
      "\u001b[32m[I 2021-04-04 10:02:03,084]\u001b[0m Trial 427 finished with value: 0.2019898414611816 and parameters: {'n_neurons': 232.0, 'n_hidden_layers': 7.0, 'power_of_lr': 3.0, 'dropout_input': 0.1, 'dropout_hidden': 0.05, 'batch_size': 72.0}. Best is trial 91 with value: 0.19414978027343754.\u001b[0m\n",
      "\u001b[32m[I 2021-04-04 10:02:20,968]\u001b[0m Trial 428 finished with value: 0.21207081079483037 and parameters: {'n_neurons': 216.0, 'n_hidden_layers': 6.0, 'power_of_lr': 3.0, 'dropout_input': 0.05, 'dropout_hidden': 0.05, 'batch_size': 80.0}. Best is trial 91 with value: 0.19414978027343754.\u001b[0m\n",
      "\u001b[32m[I 2021-04-04 10:03:02,495]\u001b[0m Trial 429 finished with value: 0.2020212292671204 and parameters: {'n_neurons': 240.0, 'n_hidden_layers': 7.0, 'power_of_lr': 3.0, 'dropout_input': 0.05, 'dropout_hidden': 0.05, 'batch_size': 8.0}. Best is trial 91 with value: 0.19414978027343754.\u001b[0m\n",
      "\u001b[32m[I 2021-04-04 10:04:19,051]\u001b[0m Trial 430 finished with value: 0.2076266527175903 and parameters: {'n_neurons': 248.0, 'n_hidden_layers': 8.0, 'power_of_lr': 3.0, 'dropout_input': 0.05, 'dropout_hidden': 0.2, 'batch_size': 64.0}. Best is trial 91 with value: 0.19414978027343754.\u001b[0m\n",
      "\u001b[32m[I 2021-04-04 10:04:38,657]\u001b[0m Trial 431 finished with value: 0.19753940105438228 and parameters: {'n_neurons': 200.0, 'n_hidden_layers': 7.0, 'power_of_lr': 3.0, 'dropout_input': 0.05, 'dropout_hidden': 0.0, 'batch_size': 88.0}. Best is trial 91 with value: 0.19414978027343754.\u001b[0m\n",
      "\u001b[32m[I 2021-04-04 10:04:56,304]\u001b[0m Trial 432 finished with value: 0.23120959997177126 and parameters: {'n_neurons': 200.0, 'n_hidden_layers': 7.0, 'power_of_lr': 2.0, 'dropout_input': 0.05, 'dropout_hidden': 0.0, 'batch_size': 88.0}. Best is trial 91 with value: 0.19414978027343754.\u001b[0m\n",
      "\u001b[32m[I 2021-04-04 10:05:20,427]\u001b[0m Trial 433 finished with value: 0.22674032449722292 and parameters: {'n_neurons': 256.0, 'n_hidden_layers': 7.0, 'power_of_lr': 4.0, 'dropout_input': 0.05, 'dropout_hidden': 0.05, 'batch_size': 80.0}. Best is trial 91 with value: 0.19414978027343754.\u001b[0m\n",
      "\u001b[32m[I 2021-04-04 10:05:40,040]\u001b[0m Trial 434 finished with value: 0.20758898258209224 and parameters: {'n_neurons': 216.0, 'n_hidden_layers': 7.0, 'power_of_lr': 3.0, 'dropout_input': 0.05, 'dropout_hidden': 0.05, 'batch_size': 72.0}. Best is trial 91 with value: 0.19414978027343754.\u001b[0m\n",
      "\u001b[32m[I 2021-04-04 10:05:58,884]\u001b[0m Trial 435 finished with value: 0.20203378200531008 and parameters: {'n_neurons': 208.0, 'n_hidden_layers': 7.0, 'power_of_lr': 3.0, 'dropout_input': 0.05, 'dropout_hidden': 0.0, 'batch_size': 80.0}. Best is trial 91 with value: 0.19414978027343754.\u001b[0m\n",
      "\u001b[32m[I 2021-04-04 10:06:15,120]\u001b[0m Trial 436 finished with value: 0.21326973438262942 and parameters: {'n_neurons': 192.0, 'n_hidden_layers': 7.0, 'power_of_lr': 2.0, 'dropout_input': 0.1, 'dropout_hidden': 0.05, 'batch_size': 88.0}. Best is trial 91 with value: 0.19414978027343754.\u001b[0m\n",
      "\u001b[32m[I 2021-04-04 10:06:34,509]\u001b[0m Trial 437 finished with value: 0.2232879400253296 and parameters: {'n_neurons': 224.0, 'n_hidden_layers': 7.0, 'power_of_lr': 3.0, 'dropout_input': 0.05, 'dropout_hidden': 0.05, 'batch_size': 80.0}. Best is trial 91 with value: 0.19414978027343754.\u001b[0m\n",
      "\u001b[32m[I 2021-04-04 10:06:53,189]\u001b[0m Trial 438 finished with value: 0.22110979557037358 and parameters: {'n_neurons': 200.0, 'n_hidden_layers': 7.0, 'power_of_lr': 3.0, 'dropout_input': 0.05, 'dropout_hidden': 0.0, 'batch_size': 88.0}. Best is trial 91 with value: 0.19414978027343754.\u001b[0m\n",
      "\u001b[32m[I 2021-04-04 10:07:11,311]\u001b[0m Trial 439 finished with value: 0.2165902972221374 and parameters: {'n_neurons': 192.0, 'n_hidden_layers': 7.0, 'power_of_lr': 3.0, 'dropout_input': 0.05, 'dropout_hidden': 0.05, 'batch_size': 88.0}. Best is trial 91 with value: 0.19414978027343754.\u001b[0m\n",
      "\u001b[32m[I 2021-04-04 10:07:32,545]\u001b[0m Trial 440 finished with value: 0.21434310674667356 and parameters: {'n_neurons': 208.0, 'n_hidden_layers': 9.0, 'power_of_lr': 3.0, 'dropout_input': 0.1, 'dropout_hidden': 0.05, 'batch_size': 144.0}. Best is trial 91 with value: 0.19414978027343754.\u001b[0m\n",
      "\u001b[32m[I 2021-04-04 10:07:49,416]\u001b[0m Trial 441 finished with value: 0.20763292312622073 and parameters: {'n_neurons': 168.0, 'n_hidden_layers': 6.0, 'power_of_lr': 3.0, 'dropout_input': 0.05, 'dropout_hidden': 0.05, 'batch_size': 96.0}. Best is trial 91 with value: 0.19414978027343754.\u001b[0m\n",
      "\u001b[32m[I 2021-04-04 10:08:08,115]\u001b[0m Trial 442 finished with value: 0.21882493495941158 and parameters: {'n_neurons': 184.0, 'n_hidden_layers': 7.0, 'power_of_lr': 3.0, 'dropout_input': 0.05, 'dropout_hidden': 0.0, 'batch_size': 96.0}. Best is trial 91 with value: 0.19414978027343754.\u001b[0m\n",
      "\u001b[32m[I 2021-04-04 10:08:29,532]\u001b[0m Trial 443 finished with value: 0.21098488569259644 and parameters: {'n_neurons': 232.0, 'n_hidden_layers': 8.0, 'power_of_lr': 3.0, 'dropout_input': 0.05, 'dropout_hidden': 0.05, 'batch_size': 72.0}. Best is trial 91 with value: 0.19414978027343754.\u001b[0m\n",
      "\u001b[32m[I 2021-04-04 10:08:47,628]\u001b[0m Trial 444 finished with value: 0.22226476669311523 and parameters: {'n_neurons': 208.0, 'n_hidden_layers': 7.0, 'power_of_lr': 3.0, 'dropout_input': 0.2, 'dropout_hidden': 0.25, 'batch_size': 88.0}. Best is trial 91 with value: 0.19414978027343754.\u001b[0m\n",
      "\u001b[32m[I 2021-04-04 10:09:12,052]\u001b[0m Trial 445 finished with value: 0.20874396562576292 and parameters: {'n_neurons': 200.0, 'n_hidden_layers': 10.0, 'power_of_lr': 3.0, 'dropout_input': 0.05, 'dropout_hidden': 0.05, 'batch_size': 80.0}. Best is trial 91 with value: 0.19414978027343754.\u001b[0m\n",
      "\u001b[32m[I 2021-04-04 10:09:32,507]\u001b[0m Trial 446 finished with value: 0.20763292312622073 and parameters: {'n_neurons': 176.0, 'n_hidden_layers': 8.0, 'power_of_lr': 3.0, 'dropout_input': 0.05, 'dropout_hidden': 0.0, 'batch_size': 32.0}. Best is trial 91 with value: 0.19414978027343754.\u001b[0m\n",
      "\u001b[32m[I 2021-04-04 10:09:59,139]\u001b[0m Trial 447 finished with value: 0.21545414924621586 and parameters: {'n_neurons': 224.0, 'n_hidden_layers': 10.0, 'power_of_lr': 3.0, 'dropout_input': 0.1, 'dropout_hidden': 0.05, 'batch_size': 80.0}. Best is trial 91 with value: 0.19414978027343754.\u001b[0m\n",
      "\u001b[32m[I 2021-04-04 10:10:19,846]\u001b[0m Trial 448 finished with value: 0.20875024795532227 and parameters: {'n_neurons': 248.0, 'n_hidden_layers': 7.0, 'power_of_lr': 3.0, 'dropout_input': 0.05, 'dropout_hidden': 0.0, 'batch_size': 64.0}. Best is trial 91 with value: 0.19414978027343754.\u001b[0m\n",
      "\u001b[32m[I 2021-04-04 10:10:49,123]\u001b[0m Trial 449 finished with value: 0.22104074954986574 and parameters: {'n_neurons': 192.0, 'n_hidden_layers': 10.0, 'power_of_lr': 3.0, 'dropout_input': 0.0, 'dropout_hidden': 0.05, 'batch_size': 72.0}. Best is trial 91 with value: 0.19414978027343754.\u001b[0m\n",
      "\u001b[32m[I 2021-04-04 10:11:13,197]\u001b[0m Trial 450 finished with value: 0.2109786033630371 and parameters: {'n_neurons': 216.0, 'n_hidden_layers': 10.0, 'power_of_lr': 3.0, 'dropout_input': 0.05, 'dropout_hidden': 0.05, 'batch_size': 96.0}. Best is trial 91 with value: 0.19414978027343754.\u001b[0m\n",
      "\u001b[32m[I 2021-04-04 10:11:31,849]\u001b[0m Trial 451 finished with value: 0.2042935252189636 and parameters: {'n_neurons': 184.0, 'n_hidden_layers': 7.0, 'power_of_lr': 3.0, 'dropout_input': 0.05, 'dropout_hidden': 0.05, 'batch_size': 88.0}. Best is trial 91 with value: 0.19414978027343754.\u001b[0m\n",
      "\u001b[32m[I 2021-04-04 10:11:55,723]\u001b[0m Trial 452 finished with value: 0.20200239419937138 and parameters: {'n_neurons': 200.0, 'n_hidden_layers': 9.0, 'power_of_lr': 3.0, 'dropout_input': 0.05, 'dropout_hidden': 0.15000000000000002, 'batch_size': 104.0}. Best is trial 91 with value: 0.19414978027343754.\u001b[0m\n"
     ]
    },
    {
     "name": "stderr",
     "output_type": "stream",
     "text": [
      "\u001b[32m[I 2021-04-04 10:12:24,428]\u001b[0m Trial 453 finished with value: 0.19869437217712405 and parameters: {'n_neurons': 240.0, 'n_hidden_layers': 8.0, 'power_of_lr': 3.0, 'dropout_input': 0.05, 'dropout_hidden': 0.0, 'batch_size': 24.0}. Best is trial 91 with value: 0.19414978027343754.\u001b[0m\n",
      "\u001b[32m[I 2021-04-04 10:12:45,653]\u001b[0m Trial 454 finished with value: 0.20873141288757324 and parameters: {'n_neurons': 176.0, 'n_hidden_layers': 10.0, 'power_of_lr': 3.0, 'dropout_input': 0.1, 'dropout_hidden': 0.05, 'batch_size': 152.0}. Best is trial 91 with value: 0.19414978027343754.\u001b[0m\n",
      "\u001b[32m[I 2021-04-04 10:13:11,544]\u001b[0m Trial 455 finished with value: 0.2143305540084839 and parameters: {'n_neurons': 216.0, 'n_hidden_layers': 10.0, 'power_of_lr': 3.0, 'dropout_input': 0.05, 'dropout_hidden': 0.05, 'batch_size': 112.0}. Best is trial 91 with value: 0.19414978027343754.\u001b[0m\n",
      "\u001b[32m[I 2021-04-04 10:13:37,059]\u001b[0m Trial 456 finished with value: 0.21098488569259644 and parameters: {'n_neurons': 296.0, 'n_hidden_layers': 7.0, 'power_of_lr': 3.0, 'dropout_input': 0.05, 'dropout_hidden': 0.0, 'batch_size': 56.0}. Best is trial 91 with value: 0.19414978027343754.\u001b[0m\n",
      "\u001b[32m[I 2021-04-04 10:14:02,985]\u001b[0m Trial 457 finished with value: 0.20986129045486446 and parameters: {'n_neurons': 264.0, 'n_hidden_layers': 8.0, 'power_of_lr': 3.0, 'dropout_input': 0.05, 'dropout_hidden': 0.05, 'batch_size': 72.0}. Best is trial 91 with value: 0.19414978027343754.\u001b[0m\n",
      "\u001b[32m[I 2021-04-04 10:15:20,913]\u001b[0m Trial 458 finished with value: 0.21879982948303223 and parameters: {'n_neurons': 168.0, 'n_hidden_layers': 7.0, 'power_of_lr': 3.0, 'dropout_input': 0.1, 'dropout_hidden': 0.1, 'batch_size': 128.0}. Best is trial 91 with value: 0.19414978027343754.\u001b[0m\n",
      "\u001b[32m[I 2021-04-04 10:15:39,296]\u001b[0m Trial 459 finished with value: 0.2165902972221374 and parameters: {'n_neurons': 192.0, 'n_hidden_layers': 6.0, 'power_of_lr': 3.0, 'dropout_input': 0.05, 'dropout_hidden': 0.1, 'batch_size': 80.0}. Best is trial 91 with value: 0.19414978027343754.\u001b[0m\n",
      "\u001b[32m[I 2021-04-04 10:16:06,816]\u001b[0m Trial 460 finished with value: 0.2244491934776306 and parameters: {'n_neurons': 208.0, 'n_hidden_layers': 10.0, 'power_of_lr': 3.0, 'dropout_input': 0.05, 'dropout_hidden': 0.05, 'batch_size': 96.0}. Best is trial 91 with value: 0.19414978027343754.\u001b[0m\n",
      "\u001b[32m[I 2021-04-04 10:16:32,700]\u001b[0m Trial 461 finished with value: 0.21659657955169676 and parameters: {'n_neurons': 320.0, 'n_hidden_layers': 7.0, 'power_of_lr': 3.0, 'dropout_input': 0.05, 'dropout_hidden': 0.0, 'batch_size': 72.0}. Best is trial 91 with value: 0.19414978027343754.\u001b[0m\n",
      "\u001b[32m[I 2021-04-04 10:16:53,416]\u001b[0m Trial 462 finished with value: 0.21657774448394773 and parameters: {'n_neurons': 216.0, 'n_hidden_layers': 7.0, 'power_of_lr': 3.0, 'dropout_input': 0.05, 'dropout_hidden': 0.05, 'batch_size': 64.0}. Best is trial 91 with value: 0.19414978027343754.\u001b[0m\n",
      "\u001b[32m[I 2021-04-04 10:17:21,703]\u001b[0m Trial 463 finished with value: 0.2188437700271606 and parameters: {'n_neurons': 224.0, 'n_hidden_layers': 9.0, 'power_of_lr': 3.0, 'dropout_input': 0.05, 'dropout_hidden': 0.05, 'batch_size': 40.0}. Best is trial 91 with value: 0.19414978027343754.\u001b[0m\n",
      "\u001b[32m[I 2021-04-04 10:17:47,406]\u001b[0m Trial 464 finished with value: 0.21206454038619993 and parameters: {'n_neurons': 192.0, 'n_hidden_layers': 10.0, 'power_of_lr': 3.0, 'dropout_input': 0.05, 'dropout_hidden': 0.0, 'batch_size': 104.0}. Best is trial 91 with value: 0.19414978027343754.\u001b[0m\n",
      "\u001b[32m[I 2021-04-04 10:18:14,505]\u001b[0m Trial 465 finished with value: 0.21769506931304927 and parameters: {'n_neurons': 280.0, 'n_hidden_layers': 8.0, 'power_of_lr': 3.0, 'dropout_input': 0.05, 'dropout_hidden': 0.1, 'batch_size': 80.0}. Best is trial 91 with value: 0.19414978027343754.\u001b[0m\n",
      "\u001b[32m[I 2021-04-04 10:18:41,831]\u001b[0m Trial 466 finished with value: 0.19532358646392822 and parameters: {'n_neurons': 200.0, 'n_hidden_layers': 10.0, 'power_of_lr': 3.0, 'dropout_input': 0.1, 'dropout_hidden': 0.05, 'batch_size': 88.0}. Best is trial 91 with value: 0.19414978027343754.\u001b[0m\n",
      "\u001b[32m[I 2021-04-04 10:19:09,550]\u001b[0m Trial 467 finished with value: 0.2054045677185059 and parameters: {'n_neurons': 208.0, 'n_hidden_layers': 10.0, 'power_of_lr': 3.0, 'dropout_input': 0.1, 'dropout_hidden': 0.05, 'batch_size': 88.0}. Best is trial 91 with value: 0.19414978027343754.\u001b[0m\n",
      "\u001b[32m[I 2021-04-04 10:19:33,414]\u001b[0m Trial 468 finished with value: 0.21876845359802244 and parameters: {'n_neurons': 200.0, 'n_hidden_layers': 10.0, 'power_of_lr': 3.0, 'dropout_input': 0.05, 'dropout_hidden': 0.05, 'batch_size': 88.0}. Best is trial 91 with value: 0.19414978027343754.\u001b[0m\n",
      "\u001b[32m[I 2021-04-04 10:19:47,810]\u001b[0m Trial 469 finished with value: 0.24010421037673946 and parameters: {'n_neurons': 16.0, 'n_hidden_layers': 10.0, 'power_of_lr': 3.0, 'dropout_input': 0.05, 'dropout_hidden': 0.05, 'batch_size': 88.0}. Best is trial 91 with value: 0.19414978027343754.\u001b[0m\n",
      "\u001b[32m[I 2021-04-04 10:20:07,810]\u001b[0m Trial 470 finished with value: 0.21883748769760136 and parameters: {'n_neurons': 232.0, 'n_hidden_layers': 5.0, 'power_of_lr': 3.0, 'dropout_input': 0.05, 'dropout_hidden': 0.05, 'batch_size': 80.0}. Best is trial 91 with value: 0.19414978027343754.\u001b[0m\n",
      "\u001b[32m[I 2021-04-04 10:20:26,646]\u001b[0m Trial 471 finished with value: 0.2064842224121094 and parameters: {'n_neurons': 176.0, 'n_hidden_layers': 7.0, 'power_of_lr': 3.0, 'dropout_input': 0.05, 'dropout_hidden': 0.05, 'batch_size': 88.0}. Best is trial 91 with value: 0.19414978027343754.\u001b[0m\n",
      "\u001b[32m[I 2021-04-04 10:20:49,261]\u001b[0m Trial 472 finished with value: 0.20877535343170162 and parameters: {'n_neurons': 160.0, 'n_hidden_layers': 9.0, 'power_of_lr': 3.0, 'dropout_input': 0.1, 'dropout_hidden': 0.05, 'batch_size': 136.0}. Best is trial 91 with value: 0.19414978027343754.\u001b[0m\n",
      "\u001b[32m[I 2021-04-04 10:21:09,454]\u001b[0m Trial 473 finished with value: 0.2109660506248474 and parameters: {'n_neurons': 184.0, 'n_hidden_layers': 7.0, 'power_of_lr': 3.0, 'dropout_input': 0.05, 'dropout_hidden': 0.1, 'batch_size': 72.0}. Best is trial 91 with value: 0.19414978027343754.\u001b[0m\n",
      "\u001b[32m[I 2021-04-04 10:21:35,445]\u001b[0m Trial 474 finished with value: 0.21769506931304927 and parameters: {'n_neurons': 216.0, 'n_hidden_layers': 10.0, 'power_of_lr': 3.0, 'dropout_input': 0.05, 'dropout_hidden': 0.05, 'batch_size': 96.0}. Best is trial 91 with value: 0.19414978027343754.\u001b[0m\n",
      "\u001b[32m[I 2021-04-04 10:21:58,142]\u001b[0m Trial 475 finished with value: 0.2053731799125671 and parameters: {'n_neurons': 200.0, 'n_hidden_layers': 6.0, 'power_of_lr': 3.0, 'dropout_input': 0.05, 'dropout_hidden': 0.15000000000000002, 'batch_size': 80.0}. Best is trial 91 with value: 0.19414978027343754.\u001b[0m\n",
      "\u001b[32m[I 2021-04-04 10:22:17,476]\u001b[0m Trial 476 finished with value: 0.20871886014938357 and parameters: {'n_neurons': 184.0, 'n_hidden_layers': 7.0, 'power_of_lr': 3.0, 'dropout_input': 0.05, 'dropout_hidden': 0.05, 'batch_size': 72.0}. Best is trial 91 with value: 0.19414978027343754.\u001b[0m\n",
      "\u001b[32m[I 2021-04-04 10:22:42,522]\u001b[0m Trial 477 finished with value: 0.20986129045486446 and parameters: {'n_neurons': 224.0, 'n_hidden_layers': 10.0, 'power_of_lr': 3.0, 'dropout_input': 0.1, 'dropout_hidden': 0.1, 'batch_size': 80.0}. Best is trial 91 with value: 0.19414978027343754.\u001b[0m\n",
      "\u001b[32m[I 2021-04-04 10:23:07,661]\u001b[0m Trial 478 finished with value: 0.21777666807174678 and parameters: {'n_neurons': 208.0, 'n_hidden_layers': 10.0, 'power_of_lr': 3.0, 'dropout_input': 0.05, 'dropout_hidden': 0.05, 'batch_size': 88.0}. Best is trial 91 with value: 0.19414978027343754.\u001b[0m\n",
      "\u001b[32m[I 2021-04-04 10:23:30,640]\u001b[0m Trial 479 finished with value: 0.21430544853210454 and parameters: {'n_neurons': 240.0, 'n_hidden_layers': 7.0, 'power_of_lr': 3.0, 'dropout_input': 0.05, 'dropout_hidden': 0.05, 'batch_size': 80.0}. Best is trial 91 with value: 0.19414978027343754.\u001b[0m\n",
      "\u001b[32m[I 2021-04-04 10:23:53,626]\u001b[0m Trial 480 finished with value: 0.19869437217712405 and parameters: {'n_neurons': 192.0, 'n_hidden_layers': 10.0, 'power_of_lr': 3.0, 'dropout_input': 0.05, 'dropout_hidden': 0.05, 'batch_size': 64.0}. Best is trial 91 with value: 0.19414978027343754.\u001b[0m\n",
      "\u001b[32m[I 2021-04-04 10:24:17,259]\u001b[0m Trial 481 finished with value: 0.20536690950393677 and parameters: {'n_neurons': 168.0, 'n_hidden_layers': 9.0, 'power_of_lr': 3.0, 'dropout_input': 0.05, 'dropout_hidden': 0.1, 'batch_size': 120.0}. Best is trial 91 with value: 0.19414978027343754.\u001b[0m\n"
     ]
    },
    {
     "name": "stderr",
     "output_type": "stream",
     "text": [
      "\u001b[32m[I 2021-04-04 10:24:36,647]\u001b[0m Trial 482 finished with value: 0.20428097248077393 and parameters: {'n_neurons': 176.0, 'n_hidden_layers': 7.0, 'power_of_lr': 3.0, 'dropout_input': 0.05, 'dropout_hidden': 0.05, 'batch_size': 96.0}. Best is trial 91 with value: 0.19414978027343754.\u001b[0m\n",
      "\u001b[32m[I 2021-04-04 10:25:03,400]\u001b[0m Trial 483 finished with value: 0.2031510949134827 and parameters: {'n_neurons': 200.0, 'n_hidden_layers': 10.0, 'power_of_lr': 3.0, 'dropout_input': 0.1, 'dropout_hidden': 0.05, 'batch_size': 72.0}. Best is trial 91 with value: 0.19414978027343754.\u001b[0m\n",
      "\u001b[32m[I 2021-04-04 10:25:28,256]\u001b[0m Trial 484 finished with value: 0.2188563227653504 and parameters: {'n_neurons': 224.0, 'n_hidden_layers': 10.0, 'power_of_lr': 3.0, 'dropout_input': 0.0, 'dropout_hidden': 0.45, 'batch_size': 88.0}. Best is trial 91 with value: 0.19414978027343754.\u001b[0m\n",
      "\u001b[32m[I 2021-04-04 10:25:51,574]\u001b[0m Trial 485 finished with value: 0.21546670198440554 and parameters: {'n_neurons': 208.0, 'n_hidden_layers': 7.0, 'power_of_lr': 3.0, 'dropout_input': 0.05, 'dropout_hidden': 0.1, 'batch_size': 80.0}. Best is trial 91 with value: 0.19414978027343754.\u001b[0m\n",
      "\u001b[32m[I 2021-04-04 10:26:14,766]\u001b[0m Trial 486 finished with value: 0.2132069587707519 and parameters: {'n_neurons': 192.0, 'n_hidden_layers': 10.0, 'power_of_lr': 3.0, 'dropout_input': 0.05, 'dropout_hidden': 0.05, 'batch_size': 96.0}. Best is trial 91 with value: 0.19414978027343754.\u001b[0m\n",
      "\u001b[32m[I 2021-04-04 10:27:48,428]\u001b[0m Trial 487 finished with value: 0.2131881356239319 and parameters: {'n_neurons': 232.0, 'n_hidden_layers': 6.0, 'power_of_lr': 3.0, 'dropout_input': 0.05, 'dropout_hidden': 0.05, 'batch_size': 112.0}. Best is trial 91 with value: 0.19414978027343754.\u001b[0m\n",
      "\u001b[32m[I 2021-04-04 10:28:11,087]\u001b[0m Trial 488 finished with value: 0.21769506931304927 and parameters: {'n_neurons': 160.0, 'n_hidden_layers': 7.0, 'power_of_lr': 3.0, 'dropout_input': 0.05, 'dropout_hidden': 0.05, 'batch_size': 88.0}. Best is trial 91 with value: 0.19414978027343754.\u001b[0m\n",
      "\u001b[32m[I 2021-04-04 10:28:37,224]\u001b[0m Trial 489 finished with value: 0.2065344333648682 and parameters: {'n_neurons': 216.0, 'n_hidden_layers': 9.0, 'power_of_lr': 3.0, 'dropout_input': 0.2, 'dropout_hidden': 0.1, 'batch_size': 72.0}. Best is trial 91 with value: 0.19414978027343754.\u001b[0m\n",
      "\u001b[32m[I 2021-04-04 10:29:14,229]\u001b[0m Trial 490 finished with value: 0.20537946224212644 and parameters: {'n_neurons': 336.0, 'n_hidden_layers': 10.0, 'power_of_lr': 3.0, 'dropout_input': 0.05, 'dropout_hidden': 0.05, 'batch_size': 104.0}. Best is trial 91 with value: 0.19414978027343754.\u001b[0m\n",
      "\u001b[32m[I 2021-04-04 10:29:32,364]\u001b[0m Trial 491 finished with value: 0.2289435744285584 and parameters: {'n_neurons': 176.0, 'n_hidden_layers': 7.0, 'power_of_lr': 3.0, 'dropout_input': 0.1, 'dropout_hidden': 0.05, 'batch_size': 64.0}. Best is trial 91 with value: 0.19414978027343754.\u001b[0m\n",
      "\u001b[32m[I 2021-04-04 10:30:21,432]\u001b[0m Trial 492 finished with value: 0.21435567140579226 and parameters: {'n_neurons': 448.0, 'n_hidden_layers': 10.0, 'power_of_lr': 3.0, 'dropout_input': 0.05, 'dropout_hidden': 0.30000000000000004, 'batch_size': 96.0}. Best is trial 91 with value: 0.19414978027343754.\u001b[0m\n",
      "\u001b[32m[I 2021-04-04 10:30:40,347]\u001b[0m Trial 493 finished with value: 0.2121084809303284 and parameters: {'n_neurons': 184.0, 'n_hidden_layers': 7.0, 'power_of_lr': 3.0, 'dropout_input': 0.05, 'dropout_hidden': 0.1, 'batch_size': 88.0}. Best is trial 91 with value: 0.19414978027343754.\u001b[0m\n",
      "\u001b[32m[I 2021-04-04 10:31:06,149]\u001b[0m Trial 494 finished with value: 0.2131881356239319 and parameters: {'n_neurons': 200.0, 'n_hidden_layers': 10.0, 'power_of_lr': 3.0, 'dropout_input': 0.05, 'dropout_hidden': 0.05, 'batch_size': 80.0}. Best is trial 91 with value: 0.19414978027343754.\u001b[0m\n",
      "\u001b[32m[I 2021-04-04 10:31:25,995]\u001b[0m Trial 495 finished with value: 0.19866926670074458 and parameters: {'n_neurons': 168.0, 'n_hidden_layers': 7.0, 'power_of_lr': 3.0, 'dropout_input': 0.1, 'dropout_hidden': 0.05, 'batch_size': 120.0}. Best is trial 91 with value: 0.19414978027343754.\u001b[0m\n",
      "\u001b[32m[I 2021-04-04 10:31:53,371]\u001b[0m Trial 496 finished with value: 0.21883748769760136 and parameters: {'n_neurons': 208.0, 'n_hidden_layers': 10.0, 'power_of_lr': 3.0, 'dropout_input': 0.05, 'dropout_hidden': 0.1, 'batch_size': 112.0}. Best is trial 91 with value: 0.19414978027343754.\u001b[0m\n",
      "\u001b[32m[I 2021-04-04 10:32:29,192]\u001b[0m Trial 497 finished with value: 0.2076454758644104 and parameters: {'n_neurons': 224.0, 'n_hidden_layers': 10.0, 'power_of_lr': 4.0, 'dropout_input': 0.05, 'dropout_hidden': 0.05, 'batch_size': 72.0}. Best is trial 91 with value: 0.19414978027343754.\u001b[0m\n",
      "\u001b[32m[I 2021-04-04 10:32:42,814]\u001b[0m Trial 498 finished with value: 0.38389931917190556 and parameters: {'n_neurons': 192.0, 'n_hidden_layers': 6.0, 'power_of_lr': 1.0, 'dropout_input': 0.05, 'dropout_hidden': 0.05, 'batch_size': 128.0}. Best is trial 91 with value: 0.19414978027343754.\u001b[0m\n",
      "\u001b[32m[I 2021-04-04 10:33:05,267]\u001b[0m Trial 499 finished with value: 0.21321324110031126 and parameters: {'n_neurons': 232.0, 'n_hidden_layers': 9.0, 'power_of_lr': 3.0, 'dropout_input': 0.05, 'dropout_hidden': 0.1, 'batch_size': 104.0}. Best is trial 91 with value: 0.19414978027343754.\u001b[0m\n",
      "\u001b[32m[I 2021-04-04 10:33:29,573]\u001b[0m Trial 500 finished with value: 0.20426841974258425 and parameters: {'n_neurons': 216.0, 'n_hidden_layers': 7.0, 'power_of_lr': 3.0, 'dropout_input': 0.05, 'dropout_hidden': 0.05, 'batch_size': 80.0}. Best is trial 91 with value: 0.19414978027343754.\u001b[0m\n",
      "\u001b[32m[I 2021-04-04 10:33:52,923]\u001b[0m Trial 501 finished with value: 0.20985500812530522 and parameters: {'n_neurons': 184.0, 'n_hidden_layers': 10.0, 'power_of_lr': 3.0, 'dropout_input': 0.05, 'dropout_hidden': 0.1, 'batch_size': 160.0}. Best is trial 91 with value: 0.19414978027343754.\u001b[0m\n",
      "\u001b[32m[I 2021-04-04 10:34:14,529]\u001b[0m Trial 502 finished with value: 0.2098989486694336 and parameters: {'n_neurons': 208.0, 'n_hidden_layers': 7.0, 'power_of_lr': 3.0, 'dropout_input': 0.1, 'dropout_hidden': 0.15000000000000002, 'batch_size': 88.0}. Best is trial 91 with value: 0.19414978027343754.\u001b[0m\n",
      "\u001b[32m[I 2021-04-04 10:34:43,961]\u001b[0m Trial 503 finished with value: 0.21322579383850093 and parameters: {'n_neurons': 248.0, 'n_hidden_layers': 10.0, 'power_of_lr': 3.0, 'dropout_input': 0.05, 'dropout_hidden': 0.05, 'batch_size': 96.0}. Best is trial 91 with value: 0.19414978027343754.\u001b[0m\n",
      "\u001b[32m[I 2021-04-04 10:35:09,864]\u001b[0m Trial 504 finished with value: 0.19754567146301272 and parameters: {'n_neurons': 376.0, 'n_hidden_layers': 7.0, 'power_of_lr': 3.0, 'dropout_input': 0.05, 'dropout_hidden': 0.0, 'batch_size': 64.0}. Best is trial 91 with value: 0.19414978027343754.\u001b[0m\n",
      "\u001b[32m[I 2021-04-04 10:35:48,321]\u001b[0m Trial 505 finished with value: 0.2042433142662048 and parameters: {'n_neurons': 352.0, 'n_hidden_layers': 10.0, 'power_of_lr': 3.0, 'dropout_input': 0.05, 'dropout_hidden': 0.0, 'batch_size': 64.0}. Best is trial 91 with value: 0.19414978027343754.\u001b[0m\n",
      "\u001b[32m[I 2021-04-04 10:36:14,139]\u001b[0m Trial 506 finished with value: 0.19529848098754887 and parameters: {'n_neurons': 224.0, 'n_hidden_layers': 7.0, 'power_of_lr': 3.0, 'dropout_input': 0.05, 'dropout_hidden': 0.0, 'batch_size': 72.0}. Best is trial 91 with value: 0.19414978027343754.\u001b[0m\n",
      "\u001b[32m[I 2021-04-04 10:36:35,893]\u001b[0m Trial 507 finished with value: 0.20763920545578007 and parameters: {'n_neurons': 416.0, 'n_hidden_layers': 6.0, 'power_of_lr': 3.0, 'dropout_input': 0.05, 'dropout_hidden': 0.0, 'batch_size': 72.0}. Best is trial 91 with value: 0.19414978027343754.\u001b[0m\n",
      "\u001b[32m[I 2021-04-04 10:37:16,165]\u001b[0m Trial 508 finished with value: 0.20988011360168457 and parameters: {'n_neurons': 376.0, 'n_hidden_layers': 9.0, 'power_of_lr': 3.0, 'dropout_input': 0.05, 'dropout_hidden': 0.0, 'batch_size': 64.0}. Best is trial 91 with value: 0.19414978027343754.\u001b[0m\n",
      "\u001b[32m[I 2021-04-04 10:37:39,386]\u001b[0m Trial 509 finished with value: 0.21657774448394773 and parameters: {'n_neurons': 400.0, 'n_hidden_layers': 7.0, 'power_of_lr': 3.0, 'dropout_input': 0.05, 'dropout_hidden': 0.0, 'batch_size': 56.0}. Best is trial 91 with value: 0.19414978027343754.\u001b[0m\n",
      "\u001b[32m[I 2021-04-04 10:38:07,529]\u001b[0m Trial 510 finished with value: 0.20310715436935423 and parameters: {'n_neurons': 248.0, 'n_hidden_layers': 10.0, 'power_of_lr': 3.0, 'dropout_input': 0.05, 'dropout_hidden': 0.0, 'batch_size': 72.0}. Best is trial 91 with value: 0.19414978027343754.\u001b[0m\n"
     ]
    },
    {
     "name": "stderr",
     "output_type": "stream",
     "text": [
      "\u001b[32m[I 2021-04-04 10:38:53,002]\u001b[0m Trial 511 finished with value: 0.20536062717437742 and parameters: {'n_neurons': 416.0, 'n_hidden_layers': 7.0, 'power_of_lr': 3.0, 'dropout_input': 0.05, 'dropout_hidden': 0.2, 'batch_size': 64.0}. Best is trial 91 with value: 0.19414978027343754.\u001b[0m\n",
      "\u001b[32m[I 2021-04-04 10:39:21,769]\u001b[0m Trial 512 finished with value: 0.21544159650802608 and parameters: {'n_neurons': 224.0, 'n_hidden_layers': 10.0, 'power_of_lr': 3.0, 'dropout_input': 0.05, 'dropout_hidden': 0.0, 'batch_size': 72.0}. Best is trial 91 with value: 0.19414978027343754.\u001b[0m\n",
      "\u001b[32m[I 2021-04-04 10:39:53,780]\u001b[0m Trial 513 finished with value: 0.22444291114807124 and parameters: {'n_neurons': 240.0, 'n_hidden_layers': 10.0, 'power_of_lr': 3.0, 'dropout_input': 0.05, 'dropout_hidden': 0.0, 'batch_size': 80.0}. Best is trial 91 with value: 0.19414978027343754.\u001b[0m\n",
      "\u001b[32m[I 2021-04-04 10:40:38,228]\u001b[0m Trial 514 finished with value: 0.21323834657669072 and parameters: {'n_neurons': 400.0, 'n_hidden_layers': 9.0, 'power_of_lr': 3.0, 'dropout_input': 0.05, 'dropout_hidden': 0.0, 'batch_size': 64.0}. Best is trial 91 with value: 0.19414978027343754.\u001b[0m\n",
      "\u001b[32m[I 2021-04-04 10:41:03,937]\u001b[0m Trial 515 finished with value: 0.20541083812713623 and parameters: {'n_neurons': 384.0, 'n_hidden_layers': 7.0, 'power_of_lr': 2.0, 'dropout_input': 0.05, 'dropout_hidden': 0.0, 'batch_size': 72.0}. Best is trial 91 with value: 0.19414978027343754.\u001b[0m\n",
      "\u001b[32m[I 2021-04-04 10:41:28,970]\u001b[0m Trial 516 finished with value: 0.21319440603256223 and parameters: {'n_neurons': 232.0, 'n_hidden_layers': 10.0, 'power_of_lr': 3.0, 'dropout_input': 0.05, 'dropout_hidden': 0.0, 'batch_size': 80.0}. Best is trial 91 with value: 0.19414978027343754.\u001b[0m\n",
      "\u001b[32m[I 2021-04-04 10:44:13,377]\u001b[0m Trial 517 finished with value: 0.20985500812530522 and parameters: {'n_neurons': 248.0, 'n_hidden_layers': 7.0, 'power_of_lr': 3.0, 'dropout_input': 0.05, 'dropout_hidden': 0.0, 'batch_size': 72.0}. Best is trial 91 with value: 0.19414978027343754.\u001b[0m\n",
      "\u001b[32m[I 2021-04-04 10:44:59,241]\u001b[0m Trial 518 finished with value: 0.2131881356239319 and parameters: {'n_neurons': 368.0, 'n_hidden_layers': 10.0, 'power_of_lr': 3.0, 'dropout_input': 0.05, 'dropout_hidden': 0.0, 'batch_size': 80.0}. Best is trial 91 with value: 0.19414978027343754.\u001b[0m\n",
      "\u001b[32m[I 2021-04-04 10:45:31,991]\u001b[0m Trial 519 finished with value: 0.21881866455078125 and parameters: {'n_neurons': 384.0, 'n_hidden_layers': 7.0, 'power_of_lr': 3.0, 'dropout_input': 0.05, 'dropout_hidden': 0.0, 'batch_size': 56.0}. Best is trial 91 with value: 0.19414978027343754.\u001b[0m\n",
      "\u001b[32m[I 2021-04-04 10:46:10,579]\u001b[0m Trial 520 finished with value: 0.21210219860076907 and parameters: {'n_neurons': 232.0, 'n_hidden_layers': 10.0, 'power_of_lr': 3.0, 'dropout_input': 0.05, 'dropout_hidden': 0.0, 'batch_size': 72.0}. Best is trial 91 with value: 0.19414978027343754.\u001b[0m\n",
      "\u001b[32m[I 2021-04-04 10:46:33,173]\u001b[0m Trial 521 finished with value: 0.20984245538711543 and parameters: {'n_neurons': 224.0, 'n_hidden_layers': 7.0, 'power_of_lr': 3.0, 'dropout_input': 0.05, 'dropout_hidden': 0.0, 'batch_size': 80.0}. Best is trial 91 with value: 0.19414978027343754.\u001b[0m\n",
      "\u001b[32m[I 2021-04-04 10:47:13,479]\u001b[0m Trial 522 finished with value: 0.20316364765167239 and parameters: {'n_neurons': 440.0, 'n_hidden_layers': 9.0, 'power_of_lr': 3.0, 'dropout_input': 0.05, 'dropout_hidden': 0.0, 'batch_size': 176.0}. Best is trial 91 with value: 0.19414978027343754.\u001b[0m\n",
      "\u001b[32m[I 2021-04-04 10:47:39,966]\u001b[0m Trial 523 finished with value: 0.20762037038803105 and parameters: {'n_neurons': 256.0, 'n_hidden_layers': 10.0, 'power_of_lr': 3.0, 'dropout_input': 0.05, 'dropout_hidden': 0.0, 'batch_size': 80.0}. Best is trial 91 with value: 0.19414978027343754.\u001b[0m\n",
      "\u001b[32m[I 2021-04-04 10:48:25,797]\u001b[0m Trial 524 finished with value: 0.21323834657669072 and parameters: {'n_neurons': 456.0, 'n_hidden_layers': 10.0, 'power_of_lr': 3.0, 'dropout_input': 0.05, 'dropout_hidden': 0.15000000000000002, 'batch_size': 144.0}. Best is trial 91 with value: 0.19414978027343754.\u001b[0m\n",
      "\u001b[32m[I 2021-04-04 10:48:47,265]\u001b[0m Trial 525 finished with value: 0.2154729843139649 and parameters: {'n_neurons': 216.0, 'n_hidden_layers': 7.0, 'power_of_lr': 3.0, 'dropout_input': 0.05, 'dropout_hidden': 0.1, 'batch_size': 64.0}. Best is trial 91 with value: 0.19414978027343754.\u001b[0m\n",
      "\u001b[32m[I 2021-04-04 10:49:10,225]\u001b[0m Trial 526 finished with value: 0.19191514253616337 and parameters: {'n_neurons': 200.0, 'n_hidden_layers': 6.0, 'power_of_lr': 3.0, 'dropout_input': 0.05, 'dropout_hidden': 0.0, 'batch_size': 72.0}. Best is trial 526 with value: 0.19191514253616337.\u001b[0m\n",
      "\u001b[32m[I 2021-04-04 10:49:32,619]\u001b[0m Trial 527 finished with value: 0.2109660506248474 and parameters: {'n_neurons': 192.0, 'n_hidden_layers': 6.0, 'power_of_lr': 3.0, 'dropout_input': 0.05, 'dropout_hidden': 0.0, 'batch_size': 72.0}. Best is trial 526 with value: 0.19191514253616337.\u001b[0m\n",
      "\u001b[32m[I 2021-04-04 10:49:55,551]\u001b[0m Trial 528 finished with value: 0.20985500812530522 and parameters: {'n_neurons': 192.0, 'n_hidden_layers': 5.0, 'power_of_lr': 3.0, 'dropout_input': 0.05, 'dropout_hidden': 0.0, 'batch_size': 72.0}. Best is trial 526 with value: 0.19191514253616337.\u001b[0m\n",
      "\u001b[32m[I 2021-04-04 10:50:15,550]\u001b[0m Trial 529 finished with value: 0.20763292312622073 and parameters: {'n_neurons': 208.0, 'n_hidden_layers': 6.0, 'power_of_lr': 3.0, 'dropout_input': 0.05, 'dropout_hidden': 0.1, 'batch_size': 64.0}. Best is trial 526 with value: 0.19191514253616337.\u001b[0m\n",
      "\u001b[32m[I 2021-04-04 10:50:33,366]\u001b[0m Trial 530 finished with value: 0.20984872579574587 and parameters: {'n_neurons': 176.0, 'n_hidden_layers': 6.0, 'power_of_lr': 3.0, 'dropout_input': 0.05, 'dropout_hidden': 0.0, 'batch_size': 80.0}. Best is trial 526 with value: 0.19191514253616337.\u001b[0m\n",
      "\u001b[32m[I 2021-04-04 10:50:54,590]\u001b[0m Trial 531 finished with value: 0.2076454758644104 and parameters: {'n_neurons': 200.0, 'n_hidden_layers': 5.0, 'power_of_lr': 3.0, 'dropout_input': 0.05, 'dropout_hidden': 0.1, 'batch_size': 72.0}. Best is trial 526 with value: 0.19191514253616337.\u001b[0m\n",
      "\u001b[32m[I 2021-04-04 10:51:15,220]\u001b[0m Trial 532 finished with value: 0.20423703193664555 and parameters: {'n_neurons': 184.0, 'n_hidden_layers': 6.0, 'power_of_lr': 3.0, 'dropout_input': 0.05, 'dropout_hidden': 0.0, 'batch_size': 72.0}. Best is trial 526 with value: 0.19191514253616337.\u001b[0m\n",
      "\u001b[32m[I 2021-04-04 10:51:31,606]\u001b[0m Trial 533 finished with value: 0.20429979562759404 and parameters: {'n_neurons': 200.0, 'n_hidden_layers': 6.0, 'power_of_lr': 3.0, 'dropout_input': 0.05, 'dropout_hidden': 0.0, 'batch_size': 88.0}. Best is trial 526 with value: 0.19191514253616337.\u001b[0m\n",
      "\u001b[32m[I 2021-04-04 10:51:57,979]\u001b[0m Trial 534 finished with value: 0.19979286193847656 and parameters: {'n_neurons': 216.0, 'n_hidden_layers': 6.0, 'power_of_lr': 3.0, 'dropout_input': 0.05, 'dropout_hidden': 0.1, 'batch_size': 64.0}. Best is trial 526 with value: 0.19191514253616337.\u001b[0m\n",
      "\u001b[32m[I 2021-04-04 10:52:16,423]\u001b[0m Trial 535 finished with value: 0.2031008839607239 and parameters: {'n_neurons': 168.0, 'n_hidden_layers': 6.0, 'power_of_lr': 3.0, 'dropout_input': 0.05, 'dropout_hidden': 0.05, 'batch_size': 80.0}. Best is trial 526 with value: 0.19191514253616337.\u001b[0m\n",
      "\u001b[32m[I 2021-04-04 10:53:00,538]\u001b[0m Trial 536 finished with value: 0.21659657955169676 and parameters: {'n_neurons': 424.0, 'n_hidden_layers': 10.0, 'power_of_lr': 3.0, 'dropout_input': 0.05, 'dropout_hidden': 0.05, 'batch_size': 56.0}. Best is trial 526 with value: 0.19191514253616337.\u001b[0m\n",
      "\u001b[32m[I 2021-04-04 10:53:20,366]\u001b[0m Trial 537 finished with value: 0.20881301164627075 and parameters: {'n_neurons': 192.0, 'n_hidden_layers': 6.0, 'power_of_lr': 3.0, 'dropout_input': 0.05, 'dropout_hidden': 0.4, 'batch_size': 88.0}. Best is trial 526 with value: 0.19191514253616337.\u001b[0m\n",
      "\u001b[32m[I 2021-04-04 10:53:39,837]\u001b[0m Trial 538 finished with value: 0.19977403879165645 and parameters: {'n_neurons': 176.0, 'n_hidden_layers': 5.0, 'power_of_lr': 3.0, 'dropout_input': 0.05, 'dropout_hidden': 0.15000000000000002, 'batch_size': 80.0}. Best is trial 526 with value: 0.19191514253616337.\u001b[0m\n",
      "\u001b[32m[I 2021-04-04 10:54:04,135]\u001b[0m Trial 539 finished with value: 0.21883748769760136 and parameters: {'n_neurons': 200.0, 'n_hidden_layers': 10.0, 'power_of_lr': 3.0, 'dropout_input': 0.05, 'dropout_hidden': 0.05, 'batch_size': 64.0}. Best is trial 526 with value: 0.19191514253616337.\u001b[0m\n"
     ]
    },
    {
     "name": "stderr",
     "output_type": "stream",
     "text": [
      "\u001b[32m[I 2021-04-04 10:54:40,284]\u001b[0m Trial 540 finished with value: 0.20760153532028203 and parameters: {'n_neurons': 216.0, 'n_hidden_layers': 10.0, 'power_of_lr': 3.0, 'dropout_input': 0.05, 'dropout_hidden': 0.1, 'batch_size': 72.0}. Best is trial 526 with value: 0.19191514253616337.\u001b[0m\n",
      "\u001b[32m[I 2021-04-04 10:55:09,211]\u001b[0m Trial 541 finished with value: 0.2098675608634949 and parameters: {'n_neurons': 240.0, 'n_hidden_layers': 10.0, 'power_of_lr': 3.0, 'dropout_input': 0.05, 'dropout_hidden': 0.0, 'batch_size': 88.0}. Best is trial 526 with value: 0.19191514253616337.\u001b[0m\n",
      "\u001b[32m[I 2021-04-04 10:55:31,276]\u001b[0m Trial 542 finished with value: 0.21657774448394773 and parameters: {'n_neurons': 208.0, 'n_hidden_layers': 9.0, 'power_of_lr': 3.0, 'dropout_input': 0.05, 'dropout_hidden': 0.05, 'batch_size': 80.0}. Best is trial 526 with value: 0.19191514253616337.\u001b[0m\n",
      "\u001b[32m[I 2021-04-04 10:55:56,914]\u001b[0m Trial 543 finished with value: 0.20312598943710325 and parameters: {'n_neurons': 184.0, 'n_hidden_layers': 10.0, 'power_of_lr': 3.0, 'dropout_input': 0.05, 'dropout_hidden': 0.05, 'batch_size': 72.0}. Best is trial 526 with value: 0.19191514253616337.\u001b[0m\n",
      "\u001b[32m[I 2021-04-04 10:56:22,798]\u001b[0m Trial 544 finished with value: 0.22330049276351926 and parameters: {'n_neurons': 224.0, 'n_hidden_layers': 6.0, 'power_of_lr': 3.0, 'dropout_input': 0.05, 'dropout_hidden': 0.0, 'batch_size': 80.0}. Best is trial 526 with value: 0.19191514253616337.\u001b[0m\n",
      "\u001b[32m[I 2021-04-04 10:56:45,193]\u001b[0m Trial 545 finished with value: 0.2166342377662659 and parameters: {'n_neurons': 168.0, 'n_hidden_layers': 9.0, 'power_of_lr': 3.0, 'dropout_input': 0.05, 'dropout_hidden': 0.05, 'batch_size': 64.0}. Best is trial 526 with value: 0.19191514253616337.\u001b[0m\n",
      "\u001b[32m[I 2021-04-04 10:57:26,693]\u001b[0m Trial 546 finished with value: 0.20880045890808108 and parameters: {'n_neurons': 160.0, 'n_hidden_layers': 10.0, 'power_of_lr': 3.0, 'dropout_input': 0.05, 'dropout_hidden': 0.1, 'batch_size': 88.0}. Best is trial 526 with value: 0.19191514253616337.\u001b[0m\n",
      "\u001b[32m[I 2021-04-04 10:58:03,486]\u001b[0m Trial 547 finished with value: 0.2020212292671204 and parameters: {'n_neurons': 200.0, 'n_hidden_layers': 10.0, 'power_of_lr': 3.0, 'dropout_input': 0.05, 'dropout_hidden': 0.05, 'batch_size': 72.0}. Best is trial 526 with value: 0.19191514253616337.\u001b[0m\n",
      "\u001b[32m[I 2021-04-04 10:58:43,193]\u001b[0m Trial 548 finished with value: 0.2266398906707764 and parameters: {'n_neurons': 368.0, 'n_hidden_layers': 10.0, 'power_of_lr': 3.0, 'dropout_input': 0.05, 'dropout_hidden': 0.0, 'batch_size': 80.0}. Best is trial 526 with value: 0.19191514253616337.\u001b[0m\n",
      "\u001b[32m[I 2021-04-04 10:59:13,714]\u001b[0m Trial 549 finished with value: 0.2154604315757751 and parameters: {'n_neurons': 184.0, 'n_hidden_layers': 8.0, 'power_of_lr': 3.0, 'dropout_input': 0.05, 'dropout_hidden': 0.05, 'batch_size': 56.0}. Best is trial 526 with value: 0.19191514253616337.\u001b[0m\n",
      "\u001b[32m[I 2021-04-04 10:59:43,823]\u001b[0m Trial 550 finished with value: 0.2109660506248474 and parameters: {'n_neurons': 232.0, 'n_hidden_layers': 10.0, 'power_of_lr': 3.0, 'dropout_input': 0.05, 'dropout_hidden': 0.15000000000000002, 'batch_size': 72.0}. Best is trial 526 with value: 0.19191514253616337.\u001b[0m\n",
      "\u001b[32m[I 2021-04-04 11:05:07,983]\u001b[0m Trial 551 finished with value: 0.21098488569259644 and parameters: {'n_neurons': 208.0, 'n_hidden_layers': 10.0, 'power_of_lr': 3.0, 'dropout_input': 0.05, 'dropout_hidden': 0.1, 'batch_size': 88.0}. Best is trial 526 with value: 0.19191514253616337.\u001b[0m\n",
      "\u001b[32m[I 2021-04-04 11:05:37,358]\u001b[0m Trial 552 finished with value: 0.20205888748168943 and parameters: {'n_neurons': 192.0, 'n_hidden_layers': 10.0, 'power_of_lr': 3.0, 'dropout_input': 0.05, 'dropout_hidden': 0.05, 'batch_size': 64.0}. Best is trial 526 with value: 0.19191514253616337.\u001b[0m\n",
      "\u001b[32m[I 2021-04-04 11:06:12,123]\u001b[0m Trial 553 finished with value: 0.21655263900756838 and parameters: {'n_neurons': 216.0, 'n_hidden_layers': 9.0, 'power_of_lr': 3.0, 'dropout_input': 0.05, 'dropout_hidden': 0.05, 'batch_size': 24.0}. Best is trial 526 with value: 0.19191514253616337.\u001b[0m\n",
      "\u001b[32m[I 2021-04-04 11:06:32,397]\u001b[0m Trial 554 finished with value: 0.21662168502807622 and parameters: {'n_neurons': 160.0, 'n_hidden_layers': 7.0, 'power_of_lr': 3.0, 'dropout_input': 0.05, 'dropout_hidden': 0.25, 'batch_size': 88.0}. Best is trial 526 with value: 0.19191514253616337.\u001b[0m\n",
      "\u001b[32m[I 2021-04-04 11:07:03,687]\u001b[0m Trial 555 finished with value: 0.21991087198257442 and parameters: {'n_neurons': 264.0, 'n_hidden_layers': 7.0, 'power_of_lr': 3.0, 'dropout_input': 0.05, 'dropout_hidden': 0.0, 'batch_size': 80.0}. Best is trial 526 with value: 0.19191514253616337.\u001b[0m\n",
      "\u001b[32m[I 2021-04-04 11:07:27,257]\u001b[0m Trial 556 finished with value: 0.20089763402938843 and parameters: {'n_neurons': 240.0, 'n_hidden_layers': 8.0, 'power_of_lr': 3.0, 'dropout_input': 0.05, 'dropout_hidden': 0.1, 'batch_size': 96.0}. Best is trial 526 with value: 0.19191514253616337.\u001b[0m\n",
      "\u001b[32m[I 2021-04-04 11:07:55,624]\u001b[0m Trial 557 finished with value: 0.1964158058166504 and parameters: {'n_neurons': 200.0, 'n_hidden_layers': 10.0, 'power_of_lr': 3.0, 'dropout_input': 0.05, 'dropout_hidden': 0.05, 'batch_size': 72.0}. Best is trial 526 with value: 0.19191514253616337.\u001b[0m\n",
      "\u001b[32m[I 2021-04-04 11:08:29,891]\u001b[0m Trial 558 finished with value: 0.20539201498031612 and parameters: {'n_neurons': 200.0, 'n_hidden_layers': 10.0, 'power_of_lr': 3.0, 'dropout_input': 0.05, 'dropout_hidden': 0.05, 'batch_size': 72.0}. Best is trial 526 with value: 0.19191514253616337.\u001b[0m\n",
      "\u001b[32m[I 2021-04-04 11:08:53,973]\u001b[0m Trial 559 finished with value: 0.2120896458625794 and parameters: {'n_neurons': 184.0, 'n_hidden_layers': 10.0, 'power_of_lr': 3.0, 'dropout_input': 0.05, 'dropout_hidden': 0.05, 'batch_size': 80.0}. Best is trial 526 with value: 0.19191514253616337.\u001b[0m\n",
      "\u001b[32m[I 2021-04-04 11:09:27,725]\u001b[0m Trial 560 finished with value: 0.21318185329437256 and parameters: {'n_neurons': 208.0, 'n_hidden_layers': 10.0, 'power_of_lr': 3.0, 'dropout_input': 0.05, 'dropout_hidden': 0.05, 'batch_size': 80.0}. Best is trial 526 with value: 0.19191514253616337.\u001b[0m\n",
      "\u001b[32m[I 2021-04-04 11:09:53,207]\u001b[0m Trial 561 finished with value: 0.21099115610122676 and parameters: {'n_neurons': 176.0, 'n_hidden_layers': 10.0, 'power_of_lr': 3.0, 'dropout_input': 0.05, 'dropout_hidden': 0.05, 'batch_size': 96.0}. Best is trial 526 with value: 0.19191514253616337.\u001b[0m\n",
      "\u001b[32m[I 2021-04-04 11:10:28,514]\u001b[0m Trial 562 finished with value: 0.20089763402938843 and parameters: {'n_neurons': 192.0, 'n_hidden_layers': 10.0, 'power_of_lr': 3.0, 'dropout_input': 0.05, 'dropout_hidden': 0.05, 'batch_size': 72.0}. Best is trial 526 with value: 0.19191514253616337.\u001b[0m\n",
      "\u001b[32m[I 2021-04-04 11:10:57,178]\u001b[0m Trial 563 finished with value: 0.21883748769760136 and parameters: {'n_neurons': 216.0, 'n_hidden_layers': 10.0, 'power_of_lr': 3.0, 'dropout_input': 0.05, 'dropout_hidden': 0.2, 'batch_size': 88.0}. Best is trial 526 with value: 0.19191514253616337.\u001b[0m\n",
      "\u001b[32m[I 2021-04-04 11:11:33,518]\u001b[0m Trial 564 finished with value: 0.19526710510253908 and parameters: {'n_neurons': 200.0, 'n_hidden_layers': 10.0, 'power_of_lr': 3.0, 'dropout_input': 0.05, 'dropout_hidden': 0.05, 'batch_size': 72.0}. Best is trial 526 with value: 0.19191514253616337.\u001b[0m\n",
      "\u001b[32m[I 2021-04-04 11:12:10,234]\u001b[0m Trial 565 finished with value: 0.20986129045486446 and parameters: {'n_neurons': 176.0, 'n_hidden_layers': 10.0, 'power_of_lr': 3.0, 'dropout_input': 0.05, 'dropout_hidden': 0.05, 'batch_size': 64.0}. Best is trial 526 with value: 0.19191514253616337.\u001b[0m\n",
      "\u001b[32m[I 2021-04-04 11:12:39,569]\u001b[0m Trial 566 finished with value: 0.21544159650802608 and parameters: {'n_neurons': 224.0, 'n_hidden_layers': 10.0, 'power_of_lr': 3.0, 'dropout_input': 0.05, 'dropout_hidden': 0.05, 'batch_size': 72.0}. Best is trial 526 with value: 0.19191514253616337.\u001b[0m\n",
      "\u001b[32m[I 2021-04-04 11:13:17,869]\u001b[0m Trial 567 finished with value: 0.2087251305580139 and parameters: {'n_neurons': 208.0, 'n_hidden_layers': 10.0, 'power_of_lr': 3.0, 'dropout_input': 0.05, 'dropout_hidden': 0.05, 'batch_size': 72.0}. Best is trial 526 with value: 0.19191514253616337.\u001b[0m\n"
     ]
    },
    {
     "name": "stderr",
     "output_type": "stream",
     "text": [
      "\u001b[32m[I 2021-04-04 11:13:47,313]\u001b[0m Trial 568 finished with value: 0.20760781764984126 and parameters: {'n_neurons': 192.0, 'n_hidden_layers': 10.0, 'power_of_lr': 3.0, 'dropout_input': 0.05, 'dropout_hidden': 0.05, 'batch_size': 56.0}. Best is trial 526 with value: 0.19191514253616337.\u001b[0m\n",
      "\u001b[32m[I 2021-04-04 11:14:25,020]\u001b[0m Trial 569 finished with value: 0.20428097248077393 and parameters: {'n_neurons': 184.0, 'n_hidden_layers': 10.0, 'power_of_lr': 3.0, 'dropout_input': 0.05, 'dropout_hidden': 0.05, 'batch_size': 72.0}. Best is trial 526 with value: 0.19191514253616337.\u001b[0m\n",
      "\u001b[32m[I 2021-04-04 11:14:50,295]\u001b[0m Trial 570 finished with value: 0.2188563227653504 and parameters: {'n_neurons': 200.0, 'n_hidden_layers': 4.0, 'power_of_lr': 3.0, 'dropout_input': 0.05, 'dropout_hidden': 0.05, 'batch_size': 88.0}. Best is trial 526 with value: 0.19191514253616337.\u001b[0m\n",
      "\u001b[32m[I 2021-04-04 11:15:25,164]\u001b[0m Trial 571 finished with value: 0.21099115610122676 and parameters: {'n_neurons': 216.0, 'n_hidden_layers': 9.0, 'power_of_lr': 3.0, 'dropout_input': 0.1, 'dropout_hidden': 0.1, 'batch_size': 64.0}. Best is trial 526 with value: 0.19191514253616337.\u001b[0m\n",
      "\u001b[32m[I 2021-04-04 11:16:00,967]\u001b[0m Trial 572 finished with value: 0.2132195115089417 and parameters: {'n_neurons': 200.0, 'n_hidden_layers': 10.0, 'power_of_lr': 3.0, 'dropout_input': 0.05, 'dropout_hidden': 0.05, 'batch_size': 80.0}. Best is trial 526 with value: 0.19191514253616337.\u001b[0m\n",
      "\u001b[32m[I 2021-04-04 11:16:30,462]\u001b[0m Trial 573 finished with value: 0.2020400524139404 and parameters: {'n_neurons': 168.0, 'n_hidden_layers': 10.0, 'power_of_lr': 3.0, 'dropout_input': 0.05, 'dropout_hidden': 0.05, 'batch_size': 96.0}. Best is trial 526 with value: 0.19191514253616337.\u001b[0m\n",
      "\u001b[32m[I 2021-04-04 11:17:02,268]\u001b[0m Trial 574 finished with value: 0.20088508129119875 and parameters: {'n_neurons': 192.0, 'n_hidden_layers': 10.0, 'power_of_lr': 3.0, 'dropout_input': 0.05, 'dropout_hidden': 0.05, 'batch_size': 80.0}. Best is trial 526 with value: 0.19191514253616337.\u001b[0m\n",
      "\u001b[32m[I 2021-04-04 11:17:44,730]\u001b[0m Trial 575 finished with value: 0.20650305747985842 and parameters: {'n_neurons': 224.0, 'n_hidden_layers': 10.0, 'power_of_lr': 3.0, 'dropout_input': 0.05, 'dropout_hidden': 0.1, 'batch_size': 64.0}. Best is trial 526 with value: 0.19191514253616337.\u001b[0m\n",
      "\u001b[32m[I 2021-04-04 11:18:18,034]\u001b[0m Trial 576 finished with value: 0.21323834657669072 and parameters: {'n_neurons': 184.0, 'n_hidden_layers': 10.0, 'power_of_lr': 3.0, 'dropout_input': 0.05, 'dropout_hidden': 0.05, 'batch_size': 96.0}. Best is trial 526 with value: 0.19191514253616337.\u001b[0m\n",
      "\u001b[32m[I 2021-04-04 11:18:42,065]\u001b[0m Trial 577 finished with value: 0.21544159650802608 and parameters: {'n_neurons': 208.0, 'n_hidden_layers': 9.0, 'power_of_lr': 3.0, 'dropout_input': 0.05, 'dropout_hidden': 0.05, 'batch_size': 72.0}. Best is trial 526 with value: 0.19191514253616337.\u001b[0m\n",
      "\u001b[32m[I 2021-04-04 11:19:28,881]\u001b[0m Trial 578 finished with value: 0.2042621374130249 and parameters: {'n_neurons': 328.0, 'n_hidden_layers': 10.0, 'power_of_lr': 3.0, 'dropout_input': 0.05, 'dropout_hidden': 0.1, 'batch_size': 72.0}. Best is trial 526 with value: 0.19191514253616337.\u001b[0m\n",
      "\u001b[32m[I 2021-04-04 11:19:56,523]\u001b[0m Trial 579 finished with value: 0.18744586706161503 and parameters: {'n_neurons': 232.0, 'n_hidden_layers': 10.0, 'power_of_lr': 3.0, 'dropout_input': 0.05, 'dropout_hidden': 0.05, 'batch_size': 80.0}. Best is trial 579 with value: 0.18744586706161503.\u001b[0m\n",
      "\u001b[32m[I 2021-04-04 11:20:21,470]\u001b[0m Trial 580 finished with value: 0.20201494693756106 and parameters: {'n_neurons': 152.0, 'n_hidden_layers': 10.0, 'power_of_lr': 3.0, 'dropout_input': 0.05, 'dropout_hidden': 0.05, 'batch_size': 80.0}. Best is trial 579 with value: 0.18744586706161503.\u001b[0m\n",
      "\u001b[32m[I 2021-04-04 11:20:54,818]\u001b[0m Trial 581 finished with value: 0.20989266633987425 and parameters: {'n_neurons': 232.0, 'n_hidden_layers': 10.0, 'power_of_lr': 3.0, 'dropout_input': 0.05, 'dropout_hidden': 0.05, 'batch_size': 80.0}. Best is trial 579 with value: 0.18744586706161503.\u001b[0m\n",
      "\u001b[32m[I 2021-04-04 11:21:21,264]\u001b[0m Trial 582 finished with value: 0.21888142824172974 and parameters: {'n_neurons': 176.0, 'n_hidden_layers': 10.0, 'power_of_lr': 3.0, 'dropout_input': 0.1, 'dropout_hidden': 0.05, 'batch_size': 80.0}. Best is trial 579 with value: 0.18744586706161503.\u001b[0m\n",
      "\u001b[32m[I 2021-04-04 11:26:19,697]\u001b[0m Trial 583 finished with value: 0.19866926670074458 and parameters: {'n_neurons': 256.0, 'n_hidden_layers': 10.0, 'power_of_lr': 3.0, 'dropout_input': 0.05, 'dropout_hidden': 0.05, 'batch_size': 88.0}. Best is trial 579 with value: 0.18744586706161503.\u001b[0m\n",
      "\u001b[32m[I 2021-04-04 11:26:49,086]\u001b[0m Trial 584 finished with value: 0.2210344672203064 and parameters: {'n_neurons': 240.0, 'n_hidden_layers': 10.0, 'power_of_lr': 3.0, 'dropout_input': 0.05, 'dropout_hidden': 0.05, 'batch_size': 80.0}. Best is trial 579 with value: 0.18744586706161503.\u001b[0m\n",
      "\u001b[32m[I 2021-04-04 11:27:24,054]\u001b[0m Trial 585 finished with value: 0.21772017478942873 and parameters: {'n_neurons': 168.0, 'n_hidden_layers': 10.0, 'power_of_lr': 3.0, 'dropout_input': 0.05, 'dropout_hidden': 0.05, 'batch_size': 72.0}. Best is trial 579 with value: 0.18744586706161503.\u001b[0m\n",
      "\u001b[32m[I 2021-04-04 11:27:52,929]\u001b[0m Trial 586 finished with value: 0.22222083806991577 and parameters: {'n_neurons': 224.0, 'n_hidden_layers': 10.0, 'power_of_lr': 3.0, 'dropout_input': 0.1, 'dropout_hidden': 0.05, 'batch_size': 64.0}. Best is trial 579 with value: 0.18744586706161503.\u001b[0m\n",
      "\u001b[32m[I 2021-04-04 11:28:27,535]\u001b[0m Trial 587 finished with value: 0.2042621374130249 and parameters: {'n_neurons': 192.0, 'n_hidden_layers': 10.0, 'power_of_lr': 3.0, 'dropout_input': 0.05, 'dropout_hidden': 0.05, 'batch_size': 88.0}. Best is trial 579 with value: 0.18744586706161503.\u001b[0m\n",
      "\u001b[32m[I 2021-04-04 11:28:57,129]\u001b[0m Trial 588 finished with value: 0.20986129045486446 and parameters: {'n_neurons': 200.0, 'n_hidden_layers': 10.0, 'power_of_lr': 3.0, 'dropout_input': 0.05, 'dropout_hidden': 0.05, 'batch_size': 80.0}. Best is trial 579 with value: 0.18744586706161503.\u001b[0m\n",
      "\u001b[32m[I 2021-04-04 11:29:29,805]\u001b[0m Trial 589 finished with value: 0.21098488569259644 and parameters: {'n_neurons': 232.0, 'n_hidden_layers': 9.0, 'power_of_lr': 3.0, 'dropout_input': 0.05, 'dropout_hidden': 0.05, 'batch_size': 72.0}. Best is trial 579 with value: 0.18744586706161503.\u001b[0m\n",
      "\u001b[32m[I 2021-04-04 11:30:04,142]\u001b[0m Trial 590 finished with value: 0.2255790591239929 and parameters: {'n_neurons': 216.0, 'n_hidden_layers': 10.0, 'power_of_lr': 3.0, 'dropout_input': 0.05, 'dropout_hidden': 0.05, 'batch_size': 32.0}. Best is trial 579 with value: 0.18744586706161503.\u001b[0m\n",
      "\u001b[32m[I 2021-04-04 11:30:38,090]\u001b[0m Trial 591 finished with value: 0.21433683633804324 and parameters: {'n_neurons': 184.0, 'n_hidden_layers': 10.0, 'power_of_lr': 3.0, 'dropout_input': 0.05, 'dropout_hidden': 0.05, 'batch_size': 88.0}. Best is trial 579 with value: 0.18744586706161503.\u001b[0m\n",
      "\u001b[32m[I 2021-04-04 11:31:06,464]\u001b[0m Trial 592 finished with value: 0.1997991442680359 and parameters: {'n_neurons': 168.0, 'n_hidden_layers': 9.0, 'power_of_lr': 3.0, 'dropout_input': 0.05, 'dropout_hidden': 0.05, 'batch_size': 104.0}. Best is trial 579 with value: 0.18744586706161503.\u001b[0m\n",
      "\u001b[32m[I 2021-04-04 11:31:55,022]\u001b[0m Trial 593 finished with value: 0.2233381509780884 and parameters: {'n_neurons': 208.0, 'n_hidden_layers': 10.0, 'power_of_lr': 5.0, 'dropout_input': 0.05, 'dropout_hidden': 0.05, 'batch_size': 72.0}. Best is trial 579 with value: 0.18744586706161503.\u001b[0m\n",
      "\u001b[32m[I 2021-04-04 11:32:23,055]\u001b[0m Trial 594 finished with value: 0.20875024795532227 and parameters: {'n_neurons': 160.0, 'n_hidden_layers': 10.0, 'power_of_lr': 3.0, 'dropout_input': 0.05, 'dropout_hidden': 0.05, 'batch_size': 80.0}. Best is trial 579 with value: 0.18744586706161503.\u001b[0m\n",
      "\u001b[32m[I 2021-04-04 11:33:01,629]\u001b[0m Trial 595 finished with value: 0.21098488569259644 and parameters: {'n_neurons': 184.0, 'n_hidden_layers': 10.0, 'power_of_lr': 3.0, 'dropout_input': 0.1, 'dropout_hidden': 0.05, 'batch_size': 72.0}. Best is trial 579 with value: 0.18744586706161503.\u001b[0m\n",
      "\u001b[32m[I 2021-04-04 11:33:46,824]\u001b[0m Trial 596 finished with value: 0.21207081079483037 and parameters: {'n_neurons': 208.0, 'n_hidden_layers': 10.0, 'power_of_lr': 3.0, 'dropout_input': 0.0, 'dropout_hidden': 0.05, 'batch_size': 56.0}. Best is trial 579 with value: 0.18744586706161503.\u001b[0m\n"
     ]
    },
    {
     "name": "stderr",
     "output_type": "stream",
     "text": [
      "\u001b[32m[I 2021-04-04 11:34:16,274]\u001b[0m Trial 597 finished with value: 0.2154604315757751 and parameters: {'n_neurons': 240.0, 'n_hidden_layers': 10.0, 'power_of_lr': 3.0, 'dropout_input': 0.05, 'dropout_hidden': 0.05, 'batch_size': 96.0}. Best is trial 579 with value: 0.18744586706161503.\u001b[0m\n",
      "\u001b[32m[I 2021-04-04 11:34:49,261]\u001b[0m Trial 598 finished with value: 0.19527965784072876 and parameters: {'n_neurons': 312.0, 'n_hidden_layers': 9.0, 'power_of_lr': 3.0, 'dropout_input': 0.05, 'dropout_hidden': 0.05, 'batch_size': 64.0}. Best is trial 579 with value: 0.18744586706161503.\u001b[0m\n",
      "\u001b[32m[I 2021-04-04 11:35:29,197]\u001b[0m Trial 599 finished with value: 0.20984872579574587 and parameters: {'n_neurons': 312.0, 'n_hidden_layers': 9.0, 'power_of_lr': 3.0, 'dropout_input': 0.05, 'dropout_hidden': 0.05, 'batch_size': 64.0}. Best is trial 579 with value: 0.18744586706161503.\u001b[0m\n",
      "\u001b[32m[I 2021-04-04 11:36:09,947]\u001b[0m Trial 600 finished with value: 0.20873141288757324 and parameters: {'n_neurons': 312.0, 'n_hidden_layers': 9.0, 'power_of_lr': 3.0, 'dropout_input': 0.05, 'dropout_hidden': 0.05, 'batch_size': 72.0}. Best is trial 579 with value: 0.18744586706161503.\u001b[0m\n",
      "\u001b[32m[I 2021-04-04 11:36:48,198]\u001b[0m Trial 601 finished with value: 0.21994225978851323 and parameters: {'n_neurons': 304.0, 'n_hidden_layers': 9.0, 'power_of_lr': 3.0, 'dropout_input': 0.05, 'dropout_hidden': 0.05, 'batch_size': 64.0}. Best is trial 579 with value: 0.18744586706161503.\u001b[0m\n",
      "\u001b[32m[I 2021-04-04 11:37:20,722]\u001b[0m Trial 602 finished with value: 0.20760153532028203 and parameters: {'n_neurons': 320.0, 'n_hidden_layers': 9.0, 'power_of_lr': 3.0, 'dropout_input': 0.05, 'dropout_hidden': 0.05, 'batch_size': 64.0}. Best is trial 579 with value: 0.18744586706161503.\u001b[0m\n",
      "\u001b[32m[I 2021-04-04 11:38:02,919]\u001b[0m Trial 603 finished with value: 0.20984872579574587 and parameters: {'n_neurons': 336.0, 'n_hidden_layers': 9.0, 'power_of_lr': 3.0, 'dropout_input': 0.05, 'dropout_hidden': 0.05, 'batch_size': 40.0}. Best is trial 579 with value: 0.18744586706161503.\u001b[0m\n",
      "\u001b[32m[I 2021-04-04 11:38:35,034]\u001b[0m Trial 604 finished with value: 0.22443664073944092 and parameters: {'n_neurons': 312.0, 'n_hidden_layers': 9.0, 'power_of_lr': 3.0, 'dropout_input': 0.05, 'dropout_hidden': 0.05, 'batch_size': 80.0}. Best is trial 579 with value: 0.18744586706161503.\u001b[0m\n",
      "\u001b[32m[I 2021-04-04 11:39:12,345]\u001b[0m Trial 605 finished with value: 0.2143305540084839 and parameters: {'n_neurons': 336.0, 'n_hidden_layers': 9.0, 'power_of_lr': 3.0, 'dropout_input': 0.1, 'dropout_hidden': 0.05, 'batch_size': 72.0}. Best is trial 579 with value: 0.18744586706161503.\u001b[0m\n",
      "\u001b[32m[I 2021-04-04 11:39:47,846]\u001b[0m Trial 606 finished with value: 0.20765802860260008 and parameters: {'n_neurons': 304.0, 'n_hidden_layers': 9.0, 'power_of_lr': 3.0, 'dropout_input': 0.05, 'dropout_hidden': 0.05, 'batch_size': 80.0}. Best is trial 579 with value: 0.18744586706161503.\u001b[0m\n",
      "\u001b[32m[I 2021-04-04 11:40:58,367]\u001b[0m Trial 607 finished with value: 0.2210846781730652 and parameters: {'n_neurons': 320.0, 'n_hidden_layers': 9.0, 'power_of_lr': 3.0, 'dropout_input': 0.05, 'dropout_hidden': 0.05, 'batch_size': 8.0}. Best is trial 579 with value: 0.18744586706161503.\u001b[0m\n",
      "\u001b[32m[I 2021-04-04 11:41:34,996]\u001b[0m Trial 608 finished with value: 0.20089763402938843 and parameters: {'n_neurons': 224.0, 'n_hidden_layers': 9.0, 'power_of_lr': 3.0, 'dropout_input': 0.05, 'dropout_hidden': 0.05, 'batch_size': 48.0}. Best is trial 579 with value: 0.18744586706161503.\u001b[0m\n",
      "\u001b[32m[I 2021-04-04 11:41:54,687]\u001b[0m Trial 609 finished with value: 0.21768878698349003 and parameters: {'n_neurons': 232.0, 'n_hidden_layers': 5.0, 'power_of_lr': 3.0, 'dropout_input': 0.05, 'dropout_hidden': 0.05, 'batch_size': 72.0}. Best is trial 579 with value: 0.18744586706161503.\u001b[0m\n",
      "\u001b[32m[I 2021-04-04 11:42:26,862]\u001b[0m Trial 610 finished with value: 0.21210219860076907 and parameters: {'n_neurons': 224.0, 'n_hidden_layers': 9.0, 'power_of_lr': 3.0, 'dropout_input': 0.05, 'dropout_hidden': 0.05, 'batch_size': 80.0}. Best is trial 579 with value: 0.18744586706161503.\u001b[0m\n",
      "\u001b[32m[I 2021-04-04 11:43:04,616]\u001b[0m Trial 611 finished with value: 0.2142991781234741 and parameters: {'n_neurons': 296.0, 'n_hidden_layers': 8.0, 'power_of_lr': 3.0, 'dropout_input': 0.05, 'dropout_hidden': 0.05, 'batch_size': 56.0}. Best is trial 579 with value: 0.18744586706161503.\u001b[0m\n",
      "\u001b[32m[I 2021-04-04 11:43:27,765]\u001b[0m Trial 612 finished with value: 0.2121210336685181 and parameters: {'n_neurons': 248.0, 'n_hidden_layers': 6.0, 'power_of_lr': 3.0, 'dropout_input': 0.1, 'dropout_hidden': 0.05, 'batch_size': 72.0}. Best is trial 579 with value: 0.18744586706161503.\u001b[0m\n",
      "\u001b[32m[I 2021-04-04 11:44:04,526]\u001b[0m Trial 613 finished with value: 0.19979286193847656 and parameters: {'n_neurons': 176.0, 'n_hidden_layers': 10.0, 'power_of_lr': 3.0, 'dropout_input': 0.05, 'dropout_hidden': 0.05, 'batch_size': 64.0}. Best is trial 579 with value: 0.18744586706161503.\u001b[0m\n",
      "\u001b[32m[I 2021-04-04 11:44:38,348]\u001b[0m Trial 614 finished with value: 0.2109786033630371 and parameters: {'n_neurons': 328.0, 'n_hidden_layers': 9.0, 'power_of_lr': 3.0, 'dropout_input': 0.05, 'dropout_hidden': 0.05, 'batch_size': 80.0}. Best is trial 579 with value: 0.18744586706161503.\u001b[0m\n",
      "\u001b[32m[I 2021-04-04 11:45:18,914]\u001b[0m Trial 615 finished with value: 0.22109096050262456 and parameters: {'n_neurons': 216.0, 'n_hidden_layers': 10.0, 'power_of_lr': 3.0, 'dropout_input': 0.05, 'dropout_hidden': 0.30000000000000004, 'batch_size': 72.0}. Best is trial 579 with value: 0.18744586706161503.\u001b[0m\n",
      "\u001b[32m[I 2021-04-04 11:45:47,187]\u001b[0m Trial 616 finished with value: 0.20650932788848875 and parameters: {'n_neurons': 200.0, 'n_hidden_layers': 10.0, 'power_of_lr': 3.0, 'dropout_input': 0.05, 'dropout_hidden': 0.05, 'batch_size': 88.0}. Best is trial 579 with value: 0.18744586706161503.\u001b[0m\n",
      "\u001b[32m[I 2021-04-04 11:46:15,397]\u001b[0m Trial 617 finished with value: 0.1930638432502747 and parameters: {'n_neurons': 152.0, 'n_hidden_layers': 10.0, 'power_of_lr': 3.0, 'dropout_input': 0.05, 'dropout_hidden': 0.05, 'batch_size': 80.0}. Best is trial 579 with value: 0.18744586706161503.\u001b[0m\n",
      "\u001b[32m[I 2021-04-04 11:52:10,675]\u001b[0m Trial 618 finished with value: 0.2087376952171326 and parameters: {'n_neurons': 160.0, 'n_hidden_layers': 10.0, 'power_of_lr': 3.0, 'dropout_input': 0.05, 'dropout_hidden': 0.05, 'batch_size': 80.0}. Best is trial 579 with value: 0.18744586706161503.\u001b[0m\n",
      "\u001b[32m[I 2021-04-04 11:52:45,242]\u001b[0m Trial 619 finished with value: 0.21099115610122676 and parameters: {'n_neurons': 144.0, 'n_hidden_layers': 10.0, 'power_of_lr': 3.0, 'dropout_input': 0.05, 'dropout_hidden': 0.05, 'batch_size': 88.0}. Best is trial 579 with value: 0.18744586706161503.\u001b[0m\n",
      "\u001b[32m[I 2021-04-04 11:53:13,411]\u001b[0m Trial 620 finished with value: 0.21102254390716557 and parameters: {'n_neurons': 152.0, 'n_hidden_layers': 10.0, 'power_of_lr': 3.0, 'dropout_input': 0.1, 'dropout_hidden': 0.05, 'batch_size': 80.0}. Best is trial 579 with value: 0.18744586706161503.\u001b[0m\n",
      "\u001b[32m[I 2021-04-04 11:53:47,344]\u001b[0m Trial 621 finished with value: 0.20765175819396975 and parameters: {'n_neurons': 136.0, 'n_hidden_layers': 10.0, 'power_of_lr': 3.0, 'dropout_input': 0.05, 'dropout_hidden': 0.05, 'batch_size': 72.0}. Best is trial 579 with value: 0.18744586706161503.\u001b[0m\n",
      "\u001b[32m[I 2021-04-04 11:54:17,184]\u001b[0m Trial 622 finished with value: 0.21098488569259644 and parameters: {'n_neurons': 152.0, 'n_hidden_layers': 10.0, 'power_of_lr': 3.0, 'dropout_input': 0.05, 'dropout_hidden': 0.05, 'batch_size': 80.0}. Best is trial 579 with value: 0.18744586706161503.\u001b[0m\n",
      "\u001b[32m[I 2021-04-04 11:54:56,419]\u001b[0m Trial 623 finished with value: 0.2188751578330994 and parameters: {'n_neurons': 160.0, 'n_hidden_layers': 10.0, 'power_of_lr': 3.0, 'dropout_input': 0.05, 'dropout_hidden': 0.05, 'batch_size': 88.0}. Best is trial 579 with value: 0.18744586706161503.\u001b[0m\n",
      "\u001b[32m[I 2021-04-04 11:55:25,924]\u001b[0m Trial 624 finished with value: 0.21098488569259644 and parameters: {'n_neurons': 176.0, 'n_hidden_layers': 10.0, 'power_of_lr': 3.0, 'dropout_input': 0.05, 'dropout_hidden': 0.05, 'batch_size': 64.0}. Best is trial 579 with value: 0.18744586706161503.\u001b[0m\n",
      "\u001b[32m[I 2021-04-04 11:56:01,099]\u001b[0m Trial 625 finished with value: 0.21212730407714842 and parameters: {'n_neurons': 168.0, 'n_hidden_layers': 10.0, 'power_of_lr': 3.0, 'dropout_input': 0.05, 'dropout_hidden': 0.05, 'batch_size': 72.0}. Best is trial 579 with value: 0.18744586706161503.\u001b[0m\n"
     ]
    },
    {
     "name": "stderr",
     "output_type": "stream",
     "text": [
      "\u001b[32m[I 2021-04-04 11:56:29,507]\u001b[0m Trial 626 finished with value: 0.19534242153167725 and parameters: {'n_neurons': 144.0, 'n_hidden_layers': 10.0, 'power_of_lr': 3.0, 'dropout_input': 0.05, 'dropout_hidden': 0.05, 'batch_size': 88.0}. Best is trial 579 with value: 0.18744586706161503.\u001b[0m\n",
      "\u001b[32m[I 2021-04-04 11:57:02,944]\u001b[0m Trial 627 finished with value: 0.2132195115089417 and parameters: {'n_neurons': 160.0, 'n_hidden_layers': 10.0, 'power_of_lr': 3.0, 'dropout_input': 0.1, 'dropout_hidden': 0.05, 'batch_size': 88.0}. Best is trial 579 with value: 0.18744586706161503.\u001b[0m\n",
      "\u001b[32m[I 2021-04-04 11:57:28,511]\u001b[0m Trial 628 finished with value: 0.21319440603256223 and parameters: {'n_neurons': 144.0, 'n_hidden_layers': 5.0, 'power_of_lr': 3.0, 'dropout_input': 0.05, 'dropout_hidden': 0.05, 'batch_size': 64.0}. Best is trial 579 with value: 0.18744586706161503.\u001b[0m\n",
      "\u001b[32m[I 2021-04-04 11:57:56,799]\u001b[0m Trial 629 finished with value: 0.2031510949134827 and parameters: {'n_neurons': 152.0, 'n_hidden_layers': 10.0, 'power_of_lr': 3.0, 'dropout_input': 0.05, 'dropout_hidden': 0.05, 'batch_size': 88.0}. Best is trial 579 with value: 0.18744586706161503.\u001b[0m\n",
      "\u001b[32m[I 2021-04-04 11:58:34,100]\u001b[0m Trial 630 finished with value: 0.20986129045486446 and parameters: {'n_neurons': 152.0, 'n_hidden_layers': 10.0, 'power_of_lr': 3.0, 'dropout_input': 0.05, 'dropout_hidden': 0.05, 'batch_size': 80.0}. Best is trial 579 with value: 0.18744586706161503.\u001b[0m\n",
      "\u001b[32m[I 2021-04-04 11:59:03,820]\u001b[0m Trial 631 finished with value: 0.20203378200531008 and parameters: {'n_neurons': 144.0, 'n_hidden_layers': 10.0, 'power_of_lr': 3.0, 'dropout_input': 0.05, 'dropout_hidden': 0.05, 'batch_size': 80.0}. Best is trial 579 with value: 0.18744586706161503.\u001b[0m\n",
      "\u001b[32m[I 2021-04-04 11:59:40,218]\u001b[0m Trial 632 finished with value: 0.20986129045486446 and parameters: {'n_neurons': 136.0, 'n_hidden_layers': 10.0, 'power_of_lr': 3.0, 'dropout_input': 0.05, 'dropout_hidden': 0.2, 'batch_size': 72.0}. Best is trial 579 with value: 0.18744586706161503.\u001b[0m\n",
      "\u001b[32m[I 2021-04-04 12:00:13,739]\u001b[0m Trial 633 finished with value: 0.20763292312622073 and parameters: {'n_neurons': 176.0, 'n_hidden_layers': 10.0, 'power_of_lr': 3.0, 'dropout_input': 0.05, 'dropout_hidden': 0.05, 'batch_size': 64.0}. Best is trial 579 with value: 0.18744586706161503.\u001b[0m\n",
      "\u001b[32m[I 2021-04-04 12:00:47,356]\u001b[0m Trial 634 finished with value: 0.19531103372573855 and parameters: {'n_neurons': 128.0, 'n_hidden_layers': 10.0, 'power_of_lr': 3.0, 'dropout_input': 0.05, 'dropout_hidden': 0.05, 'batch_size': 88.0}. Best is trial 579 with value: 0.18744586706161503.\u001b[0m\n",
      "\u001b[32m[I 2021-04-04 12:01:17,165]\u001b[0m Trial 635 finished with value: 0.21432428359985356 and parameters: {'n_neurons': 128.0, 'n_hidden_layers': 10.0, 'power_of_lr': 3.0, 'dropout_input': 0.1, 'dropout_hidden': 0.05, 'batch_size': 96.0}. Best is trial 579 with value: 0.18744586706161503.\u001b[0m\n",
      "\u001b[32m[I 2021-04-04 12:01:33,304]\u001b[0m Trial 636 finished with value: 0.22781369686126707 and parameters: {'n_neurons': 112.0, 'n_hidden_layers': 1.0, 'power_of_lr': 3.0, 'dropout_input': 0.05, 'dropout_hidden': 0.05, 'batch_size': 88.0}. Best is trial 579 with value: 0.18744586706161503.\u001b[0m\n",
      "\u001b[32m[I 2021-04-04 12:01:51,543]\u001b[0m Trial 637 finished with value: 0.21100370883941655 and parameters: {'n_neurons': 152.0, 'n_hidden_layers': 4.0, 'power_of_lr': 3.0, 'dropout_input': 0.05, 'dropout_hidden': 0.05, 'batch_size': 88.0}. Best is trial 579 with value: 0.18744586706161503.\u001b[0m\n",
      "\u001b[32m[I 2021-04-04 12:02:29,168]\u001b[0m Trial 638 finished with value: 0.20200239419937138 and parameters: {'n_neurons': 144.0, 'n_hidden_layers': 10.0, 'power_of_lr': 3.0, 'dropout_input': 0.05, 'dropout_hidden': 0.05, 'batch_size': 96.0}. Best is trial 579 with value: 0.18744586706161503.\u001b[0m\n",
      "\u001b[32m[I 2021-04-04 12:03:16,908]\u001b[0m Trial 639 finished with value: 0.19979286193847656 and parameters: {'n_neurons': 144.0, 'n_hidden_layers': 10.0, 'power_of_lr': 3.0, 'dropout_input': 0.05, 'dropout_hidden': 0.05, 'batch_size': 88.0}. Best is trial 579 with value: 0.18744586706161503.\u001b[0m\n",
      "\u001b[32m[I 2021-04-04 12:04:01,091]\u001b[0m Trial 640 finished with value: 0.21657774448394773 and parameters: {'n_neurons': 160.0, 'n_hidden_layers': 10.0, 'power_of_lr': 3.0, 'dropout_input': 0.05, 'dropout_hidden': 0.05, 'batch_size': 88.0}. Best is trial 579 with value: 0.18744586706161503.\u001b[0m\n",
      "\u001b[32m[I 2021-04-04 12:04:46,501]\u001b[0m Trial 641 finished with value: 0.19977403879165645 and parameters: {'n_neurons': 128.0, 'n_hidden_layers': 10.0, 'power_of_lr': 3.0, 'dropout_input': 0.05, 'dropout_hidden': 0.05, 'batch_size': 96.0}. Best is trial 579 with value: 0.18744586706161503.\u001b[0m\n",
      "\u001b[32m[I 2021-04-04 12:05:25,661]\u001b[0m Trial 642 finished with value: 0.2154918193817139 and parameters: {'n_neurons': 144.0, 'n_hidden_layers': 10.0, 'power_of_lr': 3.0, 'dropout_input': 0.1, 'dropout_hidden': 0.05, 'batch_size': 80.0}. Best is trial 579 with value: 0.18744586706161503.\u001b[0m\n",
      "\u001b[32m[I 2021-04-04 12:05:58,534]\u001b[0m Trial 643 finished with value: 0.20984872579574587 and parameters: {'n_neurons': 120.0, 'n_hidden_layers': 10.0, 'power_of_lr': 3.0, 'dropout_input': 0.05, 'dropout_hidden': 0.05, 'batch_size': 72.0}. Best is trial 579 with value: 0.18744586706161503.\u001b[0m\n",
      "\u001b[32m[I 2021-04-04 12:06:37,272]\u001b[0m Trial 644 finished with value: 0.21775783300399776 and parameters: {'n_neurons': 136.0, 'n_hidden_layers': 10.0, 'power_of_lr': 3.0, 'dropout_input': 0.05, 'dropout_hidden': 0.05, 'batch_size': 56.0}. Best is trial 579 with value: 0.18744586706161503.\u001b[0m\n",
      "\u001b[32m[I 2021-04-04 12:07:16,118]\u001b[0m Trial 645 finished with value: 0.19643462896347041 and parameters: {'n_neurons': 128.0, 'n_hidden_layers': 10.0, 'power_of_lr': 3.0, 'dropout_input': 0.05, 'dropout_hidden': 0.05, 'batch_size': 80.0}. Best is trial 579 with value: 0.18744586706161503.\u001b[0m\n",
      "\u001b[32m[I 2021-04-04 12:07:51,717]\u001b[0m Trial 646 finished with value: 0.19871948957443242 and parameters: {'n_neurons': 128.0, 'n_hidden_layers': 10.0, 'power_of_lr': 3.0, 'dropout_input': 0.05, 'dropout_hidden': 0.05, 'batch_size': 88.0}. Best is trial 579 with value: 0.18744586706161503.\u001b[0m\n",
      "\u001b[32m[I 2021-04-04 12:08:23,635]\u001b[0m Trial 647 finished with value: 0.2065344333648682 and parameters: {'n_neurons': 144.0, 'n_hidden_layers': 10.0, 'power_of_lr': 3.0, 'dropout_input': 0.05, 'dropout_hidden': 0.05, 'batch_size': 80.0}. Best is trial 579 with value: 0.18744586706161503.\u001b[0m\n",
      "\u001b[32m[I 2021-04-04 12:09:07,000]\u001b[0m Trial 648 finished with value: 0.2042621374130249 and parameters: {'n_neurons': 128.0, 'n_hidden_layers': 10.0, 'power_of_lr': 3.0, 'dropout_input': 0.05, 'dropout_hidden': 0.05, 'batch_size': 96.0}. Best is trial 579 with value: 0.18744586706161503.\u001b[0m\n",
      "\u001b[32m[I 2021-04-04 12:09:23,482]\u001b[0m Trial 649 finished with value: 0.23456155061721806 and parameters: {'n_neurons': 104.0, 'n_hidden_layers': 3.0, 'power_of_lr': 3.0, 'dropout_input': 0.1, 'dropout_hidden': 0.05, 'batch_size': 88.0}. Best is trial 579 with value: 0.18744586706161503.\u001b[0m\n",
      "\u001b[32m[I 2021-04-04 12:10:03,573]\u001b[0m Trial 650 finished with value: 0.20982990264892576 and parameters: {'n_neurons': 120.0, 'n_hidden_layers': 10.0, 'power_of_lr': 3.0, 'dropout_input': 0.05, 'dropout_hidden': 0.05, 'batch_size': 80.0}. Best is trial 579 with value: 0.18744586706161503.\u001b[0m\n",
      "\u001b[32m[I 2021-04-04 12:10:34,595]\u001b[0m Trial 651 finished with value: 0.1997803092002869 and parameters: {'n_neurons': 104.0, 'n_hidden_layers': 10.0, 'power_of_lr': 3.0, 'dropout_input': 0.05, 'dropout_hidden': 0.05, 'batch_size': 88.0}. Best is trial 579 with value: 0.18744586706161503.\u001b[0m\n",
      "\u001b[32m[I 2021-04-04 12:11:12,116]\u001b[0m Trial 652 finished with value: 0.2109660506248474 and parameters: {'n_neurons': 120.0, 'n_hidden_layers': 10.0, 'power_of_lr': 3.0, 'dropout_input': 0.05, 'dropout_hidden': 0.05, 'batch_size': 80.0}. Best is trial 579 with value: 0.18744586706161503.\u001b[0m\n",
      "\u001b[32m[I 2021-04-04 12:11:51,171]\u001b[0m Trial 653 finished with value: 0.20316364765167239 and parameters: {'n_neurons': 128.0, 'n_hidden_layers': 10.0, 'power_of_lr': 3.0, 'dropout_input': 0.05, 'dropout_hidden': 0.1, 'batch_size': 96.0}. Best is trial 579 with value: 0.18744586706161503.\u001b[0m\n",
      "\u001b[32m[I 2021-04-04 12:12:32,676]\u001b[0m Trial 654 finished with value: 0.20318875312805174 and parameters: {'n_neurons': 136.0, 'n_hidden_layers': 10.0, 'power_of_lr': 3.0, 'dropout_input': 0.05, 'dropout_hidden': 0.15000000000000002, 'batch_size': 72.0}. Best is trial 579 with value: 0.18744586706161503.\u001b[0m\n"
     ]
    },
    {
     "name": "stderr",
     "output_type": "stream",
     "text": [
      "\u001b[32m[I 2021-04-04 12:21:12,965]\u001b[0m Trial 655 finished with value: 0.19527965784072876 and parameters: {'n_neurons': 168.0, 'n_hidden_layers': 10.0, 'power_of_lr': 3.0, 'dropout_input': 0.05, 'dropout_hidden': 0.05, 'batch_size': 80.0}. Best is trial 579 with value: 0.18744586706161503.\u001b[0m\n",
      "\u001b[32m[I 2021-04-04 12:21:53,380]\u001b[0m Trial 656 finished with value: 0.2075952649116516 and parameters: {'n_neurons': 144.0, 'n_hidden_layers': 10.0, 'power_of_lr': 3.0, 'dropout_input': 0.05, 'dropout_hidden': 0.05, 'batch_size': 80.0}. Best is trial 579 with value: 0.18744586706161503.\u001b[0m\n",
      "\u001b[32m[I 2021-04-04 12:22:35,556]\u001b[0m Trial 657 finished with value: 0.21216496229171755 and parameters: {'n_neurons': 168.0, 'n_hidden_layers': 10.0, 'power_of_lr': 3.0, 'dropout_input': 0.1, 'dropout_hidden': 0.35000000000000003, 'batch_size': 88.0}. Best is trial 579 with value: 0.18744586706161503.\u001b[0m\n",
      "\u001b[32m[I 2021-04-04 12:23:04,112]\u001b[0m Trial 658 finished with value: 0.2165902972221374 and parameters: {'n_neurons': 160.0, 'n_hidden_layers': 5.0, 'power_of_lr': 3.0, 'dropout_input': 0.05, 'dropout_hidden': 0.05, 'batch_size': 72.0}. Best is trial 579 with value: 0.18744586706161503.\u001b[0m\n",
      "\u001b[32m[I 2021-04-04 12:23:18,793]\u001b[0m Trial 659 finished with value: 0.23786329030990605 and parameters: {'n_neurons': 168.0, 'n_hidden_layers': 2.0, 'power_of_lr': 3.0, 'dropout_input': 0.05, 'dropout_hidden': 0.1, 'batch_size': 64.0}. Best is trial 579 with value: 0.18744586706161503.\u001b[0m\n",
      "\u001b[32m[I 2021-04-04 12:23:57,373]\u001b[0m Trial 660 finished with value: 0.21097232103347774 and parameters: {'n_neurons': 160.0, 'n_hidden_layers': 10.0, 'power_of_lr': 3.0, 'dropout_input': 0.05, 'dropout_hidden': 0.05, 'batch_size': 96.0}. Best is trial 579 with value: 0.18744586706161503.\u001b[0m\n",
      "\u001b[32m[I 2021-04-04 12:24:27,138]\u001b[0m Trial 661 finished with value: 0.21319440603256223 and parameters: {'n_neurons': 112.0, 'n_hidden_layers': 10.0, 'power_of_lr': 3.0, 'dropout_input': 0.05, 'dropout_hidden': 0.05, 'batch_size': 80.0}. Best is trial 579 with value: 0.18744586706161503.\u001b[0m\n",
      "\u001b[32m[I 2021-04-04 12:25:07,078]\u001b[0m Trial 662 finished with value: 0.20767058134078975 and parameters: {'n_neurons': 152.0, 'n_hidden_layers': 10.0, 'power_of_lr': 3.0, 'dropout_input': 0.1, 'dropout_hidden': 0.05, 'batch_size': 72.0}. Best is trial 579 with value: 0.18744586706161503.\u001b[0m\n",
      "\u001b[32m[I 2021-04-04 12:25:51,722]\u001b[0m Trial 663 finished with value: 0.2120896458625794 and parameters: {'n_neurons': 168.0, 'n_hidden_layers': 10.0, 'power_of_lr': 3.0, 'dropout_input': 0.05, 'dropout_hidden': 0.05, 'batch_size': 80.0}. Best is trial 579 with value: 0.18744586706161503.\u001b[0m\n",
      "\u001b[32m[I 2021-04-04 12:35:37,721]\u001b[0m Trial 664 finished with value: 0.1930638432502747 and parameters: {'n_neurons': 176.0, 'n_hidden_layers': 10.0, 'power_of_lr': 3.0, 'dropout_input': 0.0, 'dropout_hidden': 0.1, 'batch_size': 88.0}. Best is trial 579 with value: 0.18744586706161503.\u001b[0m\n",
      "\u001b[32m[I 2021-04-04 12:36:38,189]\u001b[0m Trial 665 finished with value: 0.21216496229171755 and parameters: {'n_neurons': 176.0, 'n_hidden_layers': 10.0, 'power_of_lr': 3.0, 'dropout_input': 0.1, 'dropout_hidden': 0.1, 'batch_size': 88.0}. Best is trial 579 with value: 0.18744586706161503.\u001b[0m\n",
      "\u001b[32m[I 2021-04-04 12:37:35,291]\u001b[0m Trial 666 finished with value: 0.22218316793441772 and parameters: {'n_neurons': 136.0, 'n_hidden_layers': 10.0, 'power_of_lr': 3.0, 'dropout_input': 0.0, 'dropout_hidden': 0.1, 'batch_size': 80.0}. Best is trial 579 with value: 0.18744586706161503.\u001b[0m\n",
      "\u001b[32m[I 2021-04-04 12:38:35,967]\u001b[0m Trial 667 finished with value: 0.22552257776260376 and parameters: {'n_neurons': 184.0, 'n_hidden_layers': 10.0, 'power_of_lr': 3.0, 'dropout_input': 0.0, 'dropout_hidden': 0.1, 'batch_size': 88.0}. Best is trial 579 with value: 0.18744586706161503.\u001b[0m\n",
      "\u001b[32m[I 2021-04-04 12:39:31,459]\u001b[0m Trial 668 finished with value: 0.21097232103347774 and parameters: {'n_neurons': 192.0, 'n_hidden_layers': 10.0, 'power_of_lr': 3.0, 'dropout_input': 0.0, 'dropout_hidden': 0.1, 'batch_size': 88.0}. Best is trial 579 with value: 0.18744586706161503.\u001b[0m\n",
      "\u001b[32m[I 2021-04-04 12:40:29,960]\u001b[0m Trial 669 finished with value: 0.2020400524139404 and parameters: {'n_neurons': 184.0, 'n_hidden_layers': 10.0, 'power_of_lr': 3.0, 'dropout_input': 0.1, 'dropout_hidden': 0.1, 'batch_size': 96.0}. Best is trial 579 with value: 0.18744586706161503.\u001b[0m\n",
      "\u001b[32m[I 2021-04-04 12:41:34,729]\u001b[0m Trial 670 finished with value: 0.2065344333648682 and parameters: {'n_neurons': 136.0, 'n_hidden_layers': 10.0, 'power_of_lr': 3.0, 'dropout_input': 0.0, 'dropout_hidden': 0.1, 'batch_size': 72.0}. Best is trial 579 with value: 0.18744586706161503.\u001b[0m\n",
      "\u001b[32m[I 2021-04-04 12:42:38,581]\u001b[0m Trial 671 finished with value: 0.20874396562576292 and parameters: {'n_neurons': 152.0, 'n_hidden_layers': 10.0, 'power_of_lr': 3.0, 'dropout_input': 0.0, 'dropout_hidden': 0.05, 'batch_size': 80.0}. Best is trial 579 with value: 0.18744586706161503.\u001b[0m\n",
      "\u001b[32m[I 2021-04-04 12:43:32,846]\u001b[0m Trial 672 finished with value: 0.20091645717620854 and parameters: {'n_neurons': 168.0, 'n_hidden_layers': 10.0, 'power_of_lr': 3.0, 'dropout_input': 0.0, 'dropout_hidden': 0.05, 'batch_size': 88.0}. Best is trial 579 with value: 0.18744586706161503.\u001b[0m\n",
      "\u001b[32m[I 2021-04-04 12:44:28,249]\u001b[0m Trial 673 finished with value: 0.22220200300216675 and parameters: {'n_neurons': 152.0, 'n_hidden_layers': 10.0, 'power_of_lr': 3.0, 'dropout_input': 0.1, 'dropout_hidden': 0.05, 'batch_size': 64.0}. Best is trial 579 with value: 0.18744586706161503.\u001b[0m\n",
      "\u001b[32m[I 2021-04-04 12:45:21,967]\u001b[0m Trial 674 finished with value: 0.20760781764984126 and parameters: {'n_neurons': 176.0, 'n_hidden_layers': 10.0, 'power_of_lr': 3.0, 'dropout_input': 0.1, 'dropout_hidden': 0.15000000000000002, 'batch_size': 104.0}. Best is trial 579 with value: 0.18744586706161503.\u001b[0m\n",
      "\u001b[32m[I 2021-04-04 12:46:11,185]\u001b[0m Trial 675 finished with value: 0.21656519174575806 and parameters: {'n_neurons': 136.0, 'n_hidden_layers': 10.0, 'power_of_lr': 3.0, 'dropout_input': 0.0, 'dropout_hidden': 0.1, 'batch_size': 72.0}. Best is trial 579 with value: 0.18744586706161503.\u001b[0m\n",
      "\u001b[32m[I 2021-04-04 12:47:09,096]\u001b[0m Trial 676 finished with value: 0.21099115610122676 and parameters: {'n_neurons': 192.0, 'n_hidden_layers': 10.0, 'power_of_lr': 3.0, 'dropout_input': 0.0, 'dropout_hidden': 0.05, 'batch_size': 88.0}. Best is trial 579 with value: 0.18744586706161503.\u001b[0m\n",
      "\u001b[32m[I 2021-04-04 12:48:04,725]\u001b[0m Trial 677 finished with value: 0.20202749967575073 and parameters: {'n_neurons': 184.0, 'n_hidden_layers': 10.0, 'power_of_lr': 3.0, 'dropout_input': 0.1, 'dropout_hidden': 0.05, 'batch_size': 96.0}. Best is trial 579 with value: 0.18744586706161503.\u001b[0m\n",
      "\u001b[32m[I 2021-04-04 12:48:54,691]\u001b[0m Trial 678 finished with value: 0.2132508993148804 and parameters: {'n_neurons': 120.0, 'n_hidden_layers': 10.0, 'power_of_lr': 3.0, 'dropout_input': 0.1, 'dropout_hidden': 0.05, 'batch_size': 80.0}. Best is trial 579 with value: 0.18744586706161503.\u001b[0m\n",
      "\u001b[32m[I 2021-04-04 12:49:51,304]\u001b[0m Trial 679 finished with value: 0.20982990264892576 and parameters: {'n_neurons': 160.0, 'n_hidden_layers': 10.0, 'power_of_lr': 3.0, 'dropout_input': 0.0, 'dropout_hidden': 0.1, 'batch_size': 80.0}. Best is trial 579 with value: 0.18744586706161503.\u001b[0m\n",
      "\u001b[32m[I 2021-04-04 12:50:44,215]\u001b[0m Trial 680 finished with value: 0.19418743848800657 and parameters: {'n_neurons': 168.0, 'n_hidden_layers': 10.0, 'power_of_lr': 3.0, 'dropout_input': 0.05, 'dropout_hidden': 0.05, 'batch_size': 72.0}. Best is trial 579 with value: 0.18744586706161503.\u001b[0m\n",
      "\u001b[32m[I 2021-04-04 12:51:42,718]\u001b[0m Trial 681 finished with value: 0.22441153526306157 and parameters: {'n_neurons': 168.0, 'n_hidden_layers': 10.0, 'power_of_lr': 3.0, 'dropout_input': 0.05, 'dropout_hidden': 0.0, 'batch_size': 56.0}. Best is trial 579 with value: 0.18744586706161503.\u001b[0m\n",
      "\u001b[32m[I 2021-04-04 12:55:34,356]\u001b[0m Trial 682 finished with value: 0.20766431093215942 and parameters: {'n_neurons': 168.0, 'n_hidden_layers': 10.0, 'power_of_lr': 3.0, 'dropout_input': 0.05, 'dropout_hidden': 0.05, 'batch_size': 64.0}. Best is trial 579 with value: 0.18744586706161503.\u001b[0m\n"
     ]
    },
    {
     "name": "stderr",
     "output_type": "stream",
     "text": [
      "\u001b[32m[I 2021-04-04 12:56:31,434]\u001b[0m Trial 683 finished with value: 0.21771389245986938 and parameters: {'n_neurons': 176.0, 'n_hidden_layers': 10.0, 'power_of_lr': 3.0, 'dropout_input': 0.1, 'dropout_hidden': 0.05, 'batch_size': 72.0}. Best is trial 579 with value: 0.18744586706161503.\u001b[0m\n",
      "\u001b[32m[I 2021-04-04 12:57:24,297]\u001b[0m Trial 684 finished with value: 0.2143493890762329 and parameters: {'n_neurons': 160.0, 'n_hidden_layers': 10.0, 'power_of_lr': 3.0, 'dropout_input': 0.05, 'dropout_hidden': 0.05, 'batch_size': 64.0}. Best is trial 579 with value: 0.18744586706161503.\u001b[0m\n",
      "\u001b[32m[I 2021-04-04 12:58:16,379]\u001b[0m Trial 685 finished with value: 0.19978659152984624 and parameters: {'n_neurons': 176.0, 'n_hidden_layers': 10.0, 'power_of_lr': 3.0, 'dropout_input': 0.05, 'dropout_hidden': 0.0, 'batch_size': 72.0}. Best is trial 579 with value: 0.18744586706161503.\u001b[0m\n",
      "\u001b[32m[I 2021-04-04 12:59:05,638]\u001b[0m Trial 686 finished with value: 0.2042621374130249 and parameters: {'n_neurons': 160.0, 'n_hidden_layers': 10.0, 'power_of_lr': 3.0, 'dropout_input': 0.05, 'dropout_hidden': 0.05, 'batch_size': 72.0}. Best is trial 579 with value: 0.18744586706161503.\u001b[0m\n",
      "\u001b[32m[I 2021-04-04 12:59:53,518]\u001b[0m Trial 687 finished with value: 0.21209591627120972 and parameters: {'n_neurons': 184.0, 'n_hidden_layers': 10.0, 'power_of_lr': 3.0, 'dropout_input': 0.05, 'dropout_hidden': 0.1, 'batch_size': 72.0}. Best is trial 579 with value: 0.18744586706161503.\u001b[0m\n",
      "\u001b[32m[I 2021-04-04 13:00:38,948]\u001b[0m Trial 688 finished with value: 0.20536062717437742 and parameters: {'n_neurons': 168.0, 'n_hidden_layers': 10.0, 'power_of_lr': 3.0, 'dropout_input': 0.05, 'dropout_hidden': 0.05, 'batch_size': 64.0}. Best is trial 579 with value: 0.18744586706161503.\u001b[0m\n",
      "\u001b[32m[I 2021-04-04 13:01:23,180]\u001b[0m Trial 689 finished with value: 0.21883748769760136 and parameters: {'n_neurons': 152.0, 'n_hidden_layers': 10.0, 'power_of_lr': 3.0, 'dropout_input': 0.1, 'dropout_hidden': 0.1, 'batch_size': 72.0}. Best is trial 579 with value: 0.18744586706161503.\u001b[0m\n",
      "\u001b[32m[I 2021-04-04 13:02:13,969]\u001b[0m Trial 690 finished with value: 0.2132069587707519 and parameters: {'n_neurons': 192.0, 'n_hidden_layers': 10.0, 'power_of_lr': 3.0, 'dropout_input': 0.05, 'dropout_hidden': 0.05, 'batch_size': 80.0}. Best is trial 579 with value: 0.18744586706161503.\u001b[0m\n",
      "\u001b[32m[I 2021-04-04 13:03:11,716]\u001b[0m Trial 691 finished with value: 0.21213358640670776 and parameters: {'n_neurons': 176.0, 'n_hidden_layers': 10.0, 'power_of_lr': 3.0, 'dropout_input': 0.05, 'dropout_hidden': 0.0, 'batch_size': 64.0}. Best is trial 579 with value: 0.18744586706161503.\u001b[0m\n",
      "\u001b[32m[I 2021-04-04 13:16:13,727]\u001b[0m Trial 692 finished with value: 0.21996736526489258 and parameters: {'n_neurons': 192.0, 'n_hidden_layers': 10.0, 'power_of_lr': 3.0, 'dropout_input': 0.0, 'dropout_hidden': 0.05, 'batch_size': 72.0}. Best is trial 579 with value: 0.18744586706161503.\u001b[0m\n",
      "\u001b[32m[I 2021-04-04 13:17:02,750]\u001b[0m Trial 693 finished with value: 0.20539201498031612 and parameters: {'n_neurons': 168.0, 'n_hidden_layers': 10.0, 'power_of_lr': 3.0, 'dropout_input': 0.05, 'dropout_hidden': 0.05, 'batch_size': 80.0}. Best is trial 579 with value: 0.18744586706161503.\u001b[0m\n",
      "\u001b[32m[I 2021-04-04 13:17:49,898]\u001b[0m Trial 694 finished with value: 0.21658402681350708 and parameters: {'n_neurons': 160.0, 'n_hidden_layers': 10.0, 'power_of_lr': 3.0, 'dropout_input': 0.05, 'dropout_hidden': 0.05, 'batch_size': 56.0}. Best is trial 579 with value: 0.18744586706161503.\u001b[0m\n",
      "\u001b[32m[I 2021-04-04 13:18:35,597]\u001b[0m Trial 695 finished with value: 0.20987384319305424 and parameters: {'n_neurons': 184.0, 'n_hidden_layers': 10.0, 'power_of_lr': 3.0, 'dropout_input': 0.05, 'dropout_hidden': 0.0, 'batch_size': 72.0}. Best is trial 579 with value: 0.18744586706161503.\u001b[0m\n",
      "\u001b[32m[I 2021-04-04 13:19:19,841]\u001b[0m Trial 696 finished with value: 0.2109472155570984 and parameters: {'n_neurons': 200.0, 'n_hidden_layers': 10.0, 'power_of_lr': 3.0, 'dropout_input': 0.05, 'dropout_hidden': 0.05, 'batch_size': 80.0}. Best is trial 579 with value: 0.18744586706161503.\u001b[0m\n",
      "\u001b[32m[I 2021-04-04 13:20:07,147]\u001b[0m Trial 697 finished with value: 0.21772645711898808 and parameters: {'n_neurons': 152.0, 'n_hidden_layers': 10.0, 'power_of_lr': 3.0, 'dropout_input': 0.05, 'dropout_hidden': 0.05, 'batch_size': 64.0}. Best is trial 579 with value: 0.18744586706161503.\u001b[0m\n",
      "\u001b[32m[I 2021-04-04 13:20:58,363]\u001b[0m Trial 698 finished with value: 0.2356474876403809 and parameters: {'n_neurons': 176.0, 'n_hidden_layers': 10.0, 'power_of_lr': 3.0, 'dropout_input': 0.1, 'dropout_hidden': 0.1, 'batch_size': 88.0}. Best is trial 579 with value: 0.18744586706161503.\u001b[0m\n",
      "\u001b[32m[I 2021-04-04 13:21:46,227]\u001b[0m Trial 699 finished with value: 0.2210658550262451 and parameters: {'n_neurons': 184.0, 'n_hidden_layers': 10.0, 'power_of_lr': 3.0, 'dropout_input': 0.05, 'dropout_hidden': 0.05, 'batch_size': 80.0}. Best is trial 579 with value: 0.18744586706161503.\u001b[0m\n",
      "\u001b[32m[I 2021-04-04 13:22:36,196]\u001b[0m Trial 700 finished with value: 0.20424958467483523 and parameters: {'n_neurons': 200.0, 'n_hidden_layers': 10.0, 'power_of_lr': 3.0, 'dropout_input': 0.05, 'dropout_hidden': 0.1, 'batch_size': 72.0}. Best is trial 579 with value: 0.18744586706161503.\u001b[0m\n",
      "\u001b[32m[I 2021-04-04 13:23:29,647]\u001b[0m Trial 701 finished with value: 0.21662168502807622 and parameters: {'n_neurons': 168.0, 'n_hidden_layers': 10.0, 'power_of_lr': 3.0, 'dropout_input': 0.05, 'dropout_hidden': 0.05, 'batch_size': 88.0}. Best is trial 579 with value: 0.18744586706161503.\u001b[0m\n",
      "\u001b[32m[I 2021-04-04 13:24:20,526]\u001b[0m Trial 702 finished with value: 0.20880045890808108 and parameters: {'n_neurons': 192.0, 'n_hidden_layers': 10.0, 'power_of_lr': 3.0, 'dropout_input': 0.05, 'dropout_hidden': 0.0, 'batch_size': 64.0}. Best is trial 579 with value: 0.18744586706161503.\u001b[0m\n",
      "\u001b[32m[I 2021-04-04 13:25:10,728]\u001b[0m Trial 703 finished with value: 0.20654698610305788 and parameters: {'n_neurons': 176.0, 'n_hidden_layers': 10.0, 'power_of_lr': 3.0, 'dropout_input': 0.1, 'dropout_hidden': 0.05, 'batch_size': 96.0}. Best is trial 579 with value: 0.18744586706161503.\u001b[0m\n",
      "\u001b[32m[I 2021-04-04 13:26:40,393]\u001b[0m Trial 704 finished with value: 0.20762037038803105 and parameters: {'n_neurons': 512.0, 'n_hidden_layers': 10.0, 'power_of_lr': 3.0, 'dropout_input': 0.05, 'dropout_hidden': 0.05, 'batch_size': 72.0}. Best is trial 579 with value: 0.18744586706161503.\u001b[0m\n",
      "\u001b[32m[I 2021-04-04 13:27:14,464]\u001b[0m Trial 705 finished with value: 0.20089135169982908 and parameters: {'n_neurons': 152.0, 'n_hidden_layers': 5.0, 'power_of_lr': 3.0, 'dropout_input': 0.05, 'dropout_hidden': 0.0, 'batch_size': 56.0}. Best is trial 579 with value: 0.18744586706161503.\u001b[0m\n",
      "\u001b[32m[I 2021-04-04 13:28:09,713]\u001b[0m Trial 706 finished with value: 0.21991715431213377 and parameters: {'n_neurons': 192.0, 'n_hidden_layers': 10.0, 'power_of_lr': 3.0, 'dropout_input': 0.05, 'dropout_hidden': 0.05, 'batch_size': 80.0}. Best is trial 579 with value: 0.18744586706161503.\u001b[0m\n",
      "\u001b[32m[I 2021-04-04 13:29:06,747]\u001b[0m Trial 707 finished with value: 0.2210846781730652 and parameters: {'n_neurons': 160.0, 'n_hidden_layers': 10.0, 'power_of_lr': 3.0, 'dropout_input': 0.05, 'dropout_hidden': 0.05, 'batch_size': 88.0}. Best is trial 579 with value: 0.18744586706161503.\u001b[0m\n",
      "\u001b[32m[I 2021-04-04 13:30:01,643]\u001b[0m Trial 708 finished with value: 0.21211475133895874 and parameters: {'n_neurons': 184.0, 'n_hidden_layers': 10.0, 'power_of_lr': 3.0, 'dropout_input': 0.05, 'dropout_hidden': 0.1, 'batch_size': 72.0}. Best is trial 579 with value: 0.18744586706161503.\u001b[0m\n",
      "\u001b[32m[I 2021-04-04 13:31:02,581]\u001b[0m Trial 709 finished with value: 0.21653381586074827 and parameters: {'n_neurons': 200.0, 'n_hidden_layers': 10.0, 'power_of_lr': 3.0, 'dropout_input': 0.05, 'dropout_hidden': 0.05, 'batch_size': 80.0}. Best is trial 579 with value: 0.18744586706161503.\u001b[0m\n",
      "\u001b[32m[I 2021-04-04 13:32:01,505]\u001b[0m Trial 710 finished with value: 0.2098675608634949 and parameters: {'n_neurons': 144.0, 'n_hidden_layers': 6.0, 'power_of_lr': 3.0, 'dropout_input': 0.1, 'dropout_hidden': 0.0, 'batch_size': 64.0}. Best is trial 579 with value: 0.18744586706161503.\u001b[0m\n",
      "\u001b[32m[I 2021-04-04 13:33:09,529]\u001b[0m Trial 711 finished with value: 0.19977403879165645 and parameters: {'n_neurons': 168.0, 'n_hidden_layers': 10.0, 'power_of_lr': 3.0, 'dropout_input': 0.05, 'dropout_hidden': 0.05, 'batch_size': 80.0}. Best is trial 579 with value: 0.18744586706161503.\u001b[0m\n"
     ]
    },
    {
     "name": "stderr",
     "output_type": "stream",
     "text": [
      "\u001b[32m[I 2021-04-04 13:34:06,041]\u001b[0m Trial 712 finished with value: 0.23001695871353145 and parameters: {'n_neurons': 208.0, 'n_hidden_layers': 10.0, 'power_of_lr': 3.0, 'dropout_input': 0.05, 'dropout_hidden': 0.1, 'batch_size': 88.0}. Best is trial 579 with value: 0.18744586706161503.\u001b[0m\n",
      "\u001b[32m[I 2021-04-04 13:35:04,427]\u001b[0m Trial 713 finished with value: 0.20536062717437742 and parameters: {'n_neurons': 184.0, 'n_hidden_layers': 10.0, 'power_of_lr': 3.0, 'dropout_input': 0.05, 'dropout_hidden': 0.05, 'batch_size': 96.0}. Best is trial 579 with value: 0.18744586706161503.\u001b[0m\n",
      "\u001b[32m[I 2021-04-04 13:36:09,182]\u001b[0m Trial 714 finished with value: 0.21100999116897579 and parameters: {'n_neurons': 344.0, 'n_hidden_layers': 10.0, 'power_of_lr': 3.0, 'dropout_input': 0.05, 'dropout_hidden': 0.05, 'batch_size': 72.0}. Best is trial 579 with value: 0.18744586706161503.\u001b[0m\n",
      "\u001b[32m[I 2021-04-04 13:37:06,692]\u001b[0m Trial 715 finished with value: 0.1986567139625549 and parameters: {'n_neurons': 176.0, 'n_hidden_layers': 10.0, 'power_of_lr': 3.0, 'dropout_input': 0.05, 'dropout_hidden': 0.05, 'batch_size': 80.0}. Best is trial 579 with value: 0.18744586706161503.\u001b[0m\n",
      "\u001b[32m[I 2021-04-04 13:37:46,851]\u001b[0m Trial 716 finished with value: 0.2120770931243896 and parameters: {'n_neurons': 144.0, 'n_hidden_layers': 6.0, 'power_of_lr': 3.0, 'dropout_input': 0.1, 'dropout_hidden': 0.0, 'batch_size': 88.0}. Best is trial 579 with value: 0.18744586706161503.\u001b[0m\n",
      "\u001b[32m[I 2021-04-04 13:38:45,249]\u001b[0m Trial 717 finished with value: 0.21432428359985356 and parameters: {'n_neurons': 208.0, 'n_hidden_layers': 10.0, 'power_of_lr': 3.0, 'dropout_input': 0.0, 'dropout_hidden': 0.1, 'batch_size': 72.0}. Best is trial 579 with value: 0.18744586706161503.\u001b[0m\n",
      "\u001b[32m[I 2021-04-04 13:39:36,158]\u001b[0m Trial 718 finished with value: 0.22109096050262456 and parameters: {'n_neurons': 160.0, 'n_hidden_layers': 10.0, 'power_of_lr': 3.0, 'dropout_input': 0.05, 'dropout_hidden': 0.05, 'batch_size': 64.0}. Best is trial 579 with value: 0.18744586706161503.\u001b[0m\n",
      "\u001b[32m[I 2021-04-04 13:40:27,799]\u001b[0m Trial 719 finished with value: 0.2176825165748596 and parameters: {'n_neurons': 192.0, 'n_hidden_layers': 10.0, 'power_of_lr': 3.0, 'dropout_input': 0.05, 'dropout_hidden': 0.05, 'batch_size': 80.0}. Best is trial 579 with value: 0.18744586706161503.\u001b[0m\n",
      "\u001b[32m[I 2021-04-04 13:41:18,156]\u001b[0m Trial 720 finished with value: 0.20649677515029907 and parameters: {'n_neurons': 200.0, 'n_hidden_layers': 10.0, 'power_of_lr': 3.0, 'dropout_input': 0.05, 'dropout_hidden': 0.05, 'batch_size': 96.0}. Best is trial 579 with value: 0.18744586706161503.\u001b[0m\n",
      "\u001b[32m[I 2021-04-04 13:42:09,249]\u001b[0m Trial 721 finished with value: 0.21770762205123906 and parameters: {'n_neurons': 176.0, 'n_hidden_layers': 10.0, 'power_of_lr': 3.0, 'dropout_input': 0.05, 'dropout_hidden': 0.0, 'batch_size': 72.0}. Best is trial 579 with value: 0.18744586706161503.\u001b[0m\n",
      "\u001b[32m[I 2021-04-04 13:42:34,786]\u001b[0m Trial 722 finished with value: 0.21773900985717776 and parameters: {'n_neurons': 208.0, 'n_hidden_layers': 4.0, 'power_of_lr': 3.0, 'dropout_input': 0.05, 'dropout_hidden': 0.1, 'batch_size': 192.0}. Best is trial 579 with value: 0.18744586706161503.\u001b[0m\n",
      "\u001b[32m[I 2021-04-04 13:43:24,850]\u001b[0m Trial 723 finished with value: 0.21992970705032344 and parameters: {'n_neurons': 160.0, 'n_hidden_layers': 10.0, 'power_of_lr': 3.0, 'dropout_input': 0.05, 'dropout_hidden': 0.05, 'batch_size': 80.0}. Best is trial 579 with value: 0.18744586706161503.\u001b[0m\n",
      "\u001b[32m[I 2021-04-04 13:44:13,614]\u001b[0m Trial 724 finished with value: 0.2042935252189636 and parameters: {'n_neurons': 184.0, 'n_hidden_layers': 10.0, 'power_of_lr': 3.0, 'dropout_input': 0.1, 'dropout_hidden': 0.05, 'batch_size': 88.0}. Best is trial 579 with value: 0.18744586706161503.\u001b[0m\n",
      "\u001b[32m[I 2021-04-04 13:44:54,448]\u001b[0m Trial 725 finished with value: 0.19531103372573855 and parameters: {'n_neurons': 200.0, 'n_hidden_layers': 6.0, 'power_of_lr': 3.0, 'dropout_input': 0.05, 'dropout_hidden': 0.05, 'batch_size': 64.0}. Best is trial 579 with value: 0.18744586706161503.\u001b[0m\n",
      "\u001b[32m[I 2021-04-04 13:45:35,536]\u001b[0m Trial 726 finished with value: 0.2131881356239319 and parameters: {'n_neurons': 208.0, 'n_hidden_layers': 6.0, 'power_of_lr': 3.0, 'dropout_input': 0.05, 'dropout_hidden': 0.0, 'batch_size': 56.0}. Best is trial 579 with value: 0.18744586706161503.\u001b[0m\n",
      "\u001b[32m[I 2021-04-04 13:46:10,821]\u001b[0m Trial 727 finished with value: 0.21099115610122676 and parameters: {'n_neurons': 200.0, 'n_hidden_layers': 6.0, 'power_of_lr': 3.0, 'dropout_input': 0.05, 'dropout_hidden': 0.05, 'batch_size': 56.0}. Best is trial 579 with value: 0.18744586706161503.\u001b[0m\n",
      "\u001b[32m[I 2021-04-04 13:46:47,756]\u001b[0m Trial 728 finished with value: 0.20314482450485227 and parameters: {'n_neurons': 216.0, 'n_hidden_layers': 6.0, 'power_of_lr': 3.0, 'dropout_input': 0.05, 'dropout_hidden': 0.05, 'batch_size': 64.0}. Best is trial 579 with value: 0.18744586706161503.\u001b[0m\n",
      "\u001b[32m[I 2021-04-04 13:47:20,730]\u001b[0m Trial 729 finished with value: 0.2121084809303284 and parameters: {'n_neurons': 192.0, 'n_hidden_layers': 6.0, 'power_of_lr': 3.0, 'dropout_input': 0.05, 'dropout_hidden': 0.1, 'batch_size': 64.0}. Best is trial 579 with value: 0.18744586706161503.\u001b[0m\n",
      "\u001b[32m[I 2021-04-04 13:53:26,661]\u001b[0m Trial 730 finished with value: 0.22109096050262456 and parameters: {'n_neurons': 208.0, 'n_hidden_layers': 6.0, 'power_of_lr': 3.0, 'dropout_input': 0.1, 'dropout_hidden': 0.05, 'batch_size': 56.0}. Best is trial 579 with value: 0.18744586706161503.\u001b[0m\n",
      "\u001b[32m[I 2021-04-04 13:53:49,629]\u001b[0m Trial 731 finished with value: 0.2076266527175903 and parameters: {'n_neurons': 200.0, 'n_hidden_layers': 6.0, 'power_of_lr': 3.0, 'dropout_input': 0.05, 'dropout_hidden': 0.05, 'batch_size': 64.0}. Best is trial 579 with value: 0.18744586706161503.\u001b[0m\n",
      "\u001b[32m[I 2021-04-04 13:54:15,522]\u001b[0m Trial 732 finished with value: 0.20987384319305424 and parameters: {'n_neurons': 216.0, 'n_hidden_layers': 6.0, 'power_of_lr': 3.0, 'dropout_input': 0.05, 'dropout_hidden': 0.05, 'batch_size': 96.0}. Best is trial 579 with value: 0.18744586706161503.\u001b[0m\n",
      "\u001b[32m[I 2021-04-04 13:54:34,608]\u001b[0m Trial 733 finished with value: 0.21209591627120972 and parameters: {'n_neurons': 200.0, 'n_hidden_layers': 5.0, 'power_of_lr': 3.0, 'dropout_input': 0.05, 'dropout_hidden': 0.1, 'batch_size': 88.0}. Best is trial 579 with value: 0.18744586706161503.\u001b[0m\n",
      "\u001b[32m[I 2021-04-04 13:54:58,649]\u001b[0m Trial 734 finished with value: 0.21434310674667356 and parameters: {'n_neurons': 184.0, 'n_hidden_layers': 6.0, 'power_of_lr': 3.0, 'dropout_input': 0.05, 'dropout_hidden': 0.0, 'batch_size': 80.0}. Best is trial 579 with value: 0.18744586706161503.\u001b[0m\n",
      "\u001b[32m[I 2021-04-04 13:55:18,266]\u001b[0m Trial 735 finished with value: 0.20541083812713623 and parameters: {'n_neurons': 192.0, 'n_hidden_layers': 6.0, 'power_of_lr': 3.0, 'dropout_input': 0.1, 'dropout_hidden': 0.05, 'batch_size': 72.0}. Best is trial 579 with value: 0.18744586706161503.\u001b[0m\n",
      "\u001b[32m[I 2021-04-04 14:08:28,630]\u001b[0m Trial 736 finished with value: 0.2120896458625794 and parameters: {'n_neurons': 216.0, 'n_hidden_layers': 6.0, 'power_of_lr': 3.0, 'dropout_input': 0.05, 'dropout_hidden': 0.05, 'batch_size': 64.0}. Best is trial 579 with value: 0.18744586706161503.\u001b[0m\n",
      "\u001b[32m[I 2021-04-04 14:09:01,393]\u001b[0m Trial 737 finished with value: 0.21878727674484255 and parameters: {'n_neurons': 192.0, 'n_hidden_layers': 6.0, 'power_of_lr': 3.0, 'dropout_input': 0.05, 'dropout_hidden': 0.0, 'batch_size': 104.0}. Best is trial 579 with value: 0.18744586706161503.\u001b[0m\n",
      "\u001b[32m[I 2021-04-04 14:09:33,571]\u001b[0m Trial 738 finished with value: 0.20874396562576292 and parameters: {'n_neurons': 208.0, 'n_hidden_layers': 6.0, 'power_of_lr': 3.0, 'dropout_input': 0.05, 'dropout_hidden': 0.05, 'batch_size': 72.0}. Best is trial 579 with value: 0.18744586706161503.\u001b[0m\n",
      "\u001b[32m[I 2021-04-04 14:10:00,507]\u001b[0m Trial 739 finished with value: 0.21658402681350708 and parameters: {'n_neurons': 184.0, 'n_hidden_layers': 6.0, 'power_of_lr': 3.0, 'dropout_input': 0.05, 'dropout_hidden': 0.05, 'batch_size': 96.0}. Best is trial 579 with value: 0.18744586706161503.\u001b[0m\n",
      "\u001b[32m[I 2021-04-04 14:10:40,156]\u001b[0m Trial 740 finished with value: 0.21772645711898808 and parameters: {'n_neurons': 216.0, 'n_hidden_layers': 10.0, 'power_of_lr': 3.0, 'dropout_input': 0.05, 'dropout_hidden': 0.05, 'batch_size': 88.0}. Best is trial 579 with value: 0.18744586706161503.\u001b[0m\n"
     ]
    },
    {
     "name": "stderr",
     "output_type": "stream",
     "text": [
      "\u001b[32m[I 2021-04-04 14:11:21,389]\u001b[0m Trial 741 finished with value: 0.20767058134078975 and parameters: {'n_neurons': 200.0, 'n_hidden_layers': 10.0, 'power_of_lr': 3.0, 'dropout_input': 0.05, 'dropout_hidden': 0.1, 'batch_size': 80.0}. Best is trial 579 with value: 0.18744586706161503.\u001b[0m\n",
      "\u001b[32m[I 2021-04-04 14:11:47,324]\u001b[0m Trial 742 finished with value: 0.20092900991439822 and parameters: {'n_neurons': 176.0, 'n_hidden_layers': 5.0, 'power_of_lr': 3.0, 'dropout_input': 0.05, 'dropout_hidden': 0.05, 'batch_size': 56.0}. Best is trial 579 with value: 0.18744586706161503.\u001b[0m\n",
      "\u001b[32m[I 2021-04-04 14:12:27,297]\u001b[0m Trial 743 finished with value: 0.22446802854537962 and parameters: {'n_neurons': 192.0, 'n_hidden_layers': 10.0, 'power_of_lr': 3.0, 'dropout_input': 0.1, 'dropout_hidden': 0.45, 'batch_size': 80.0}. Best is trial 579 with value: 0.18744586706161503.\u001b[0m\n",
      "\u001b[32m[I 2021-04-04 14:13:02,494]\u001b[0m Trial 744 finished with value: 0.22104701995849607 and parameters: {'n_neurons': 208.0, 'n_hidden_layers': 6.0, 'power_of_lr': 3.0, 'dropout_input': 0.05, 'dropout_hidden': 0.05, 'batch_size': 72.0}. Best is trial 579 with value: 0.18744586706161503.\u001b[0m\n",
      "\u001b[32m[I 2021-04-04 14:13:49,413]\u001b[0m Trial 745 finished with value: 0.20987384319305424 and parameters: {'n_neurons': 224.0, 'n_hidden_layers': 10.0, 'power_of_lr': 4.0, 'dropout_input': 0.05, 'dropout_hidden': 0.0, 'batch_size': 88.0}. Best is trial 579 with value: 0.18744586706161503.\u001b[0m\n",
      "\u001b[32m[I 2021-04-04 14:14:34,878]\u001b[0m Trial 746 finished with value: 0.2120896458625794 and parameters: {'n_neurons': 200.0, 'n_hidden_layers': 10.0, 'power_of_lr': 3.0, 'dropout_input': 0.05, 'dropout_hidden': 0.1, 'batch_size': 64.0}. Best is trial 579 with value: 0.18744586706161503.\u001b[0m\n",
      "\u001b[32m[I 2021-04-04 14:15:14,614]\u001b[0m Trial 747 finished with value: 0.2121084809303284 and parameters: {'n_neurons': 168.0, 'n_hidden_layers': 10.0, 'power_of_lr': 3.0, 'dropout_input': 0.05, 'dropout_hidden': 0.05, 'batch_size': 72.0}. Best is trial 579 with value: 0.18744586706161503.\u001b[0m\n",
      "\u001b[32m[I 2021-04-04 14:15:59,095]\u001b[0m Trial 748 finished with value: 0.21886887550354006 and parameters: {'n_neurons': 184.0, 'n_hidden_layers': 10.0, 'power_of_lr': 3.0, 'dropout_input': 0.05, 'dropout_hidden': 0.05, 'batch_size': 88.0}. Best is trial 579 with value: 0.18744586706161503.\u001b[0m\n",
      "\u001b[32m[I 2021-04-04 14:16:27,131]\u001b[0m Trial 749 finished with value: 0.2087376952171326 and parameters: {'n_neurons': 144.0, 'n_hidden_layers': 6.0, 'power_of_lr': 3.0, 'dropout_input': 0.05, 'dropout_hidden': 0.05, 'batch_size': 96.0}. Best is trial 579 with value: 0.18744586706161503.\u001b[0m\n",
      "\u001b[32m[I 2021-04-04 14:17:11,775]\u001b[0m Trial 750 finished with value: 0.20313854217529292 and parameters: {'n_neurons': 176.0, 'n_hidden_layers': 10.0, 'power_of_lr': 3.0, 'dropout_input': 0.05, 'dropout_hidden': 0.1, 'batch_size': 80.0}. Best is trial 579 with value: 0.18744586706161503.\u001b[0m\n",
      "\u001b[32m[I 2021-04-04 14:17:59,968]\u001b[0m Trial 751 finished with value: 0.22999812364578243 and parameters: {'n_neurons': 192.0, 'n_hidden_layers': 10.0, 'power_of_lr': 3.0, 'dropout_input': 0.05, 'dropout_hidden': 0.0, 'batch_size': 72.0}. Best is trial 579 with value: 0.18744586706161503.\u001b[0m\n",
      "\u001b[32m[I 2021-04-04 14:18:53,079]\u001b[0m Trial 752 finished with value: 0.20988011360168457 and parameters: {'n_neurons': 208.0, 'n_hidden_layers': 10.0, 'power_of_lr': 3.0, 'dropout_input': 0.0, 'dropout_hidden': 0.05, 'batch_size': 80.0}. Best is trial 579 with value: 0.18744586706161503.\u001b[0m\n",
      "\u001b[32m[I 2021-04-04 14:19:33,939]\u001b[0m Trial 753 finished with value: 0.21547926664352413 and parameters: {'n_neurons': 224.0, 'n_hidden_layers': 9.0, 'power_of_lr': 3.0, 'dropout_input': 0.1, 'dropout_hidden': 0.05, 'batch_size': 64.0}. Best is trial 579 with value: 0.18744586706161503.\u001b[0m\n",
      "\u001b[32m[I 2021-04-04 14:20:18,934]\u001b[0m Trial 754 finished with value: 0.21209591627120972 and parameters: {'n_neurons': 168.0, 'n_hidden_layers': 10.0, 'power_of_lr': 3.0, 'dropout_input': 0.05, 'dropout_hidden': 0.05, 'batch_size': 104.0}. Best is trial 579 with value: 0.18744586706161503.\u001b[0m\n",
      "\u001b[32m[I 2021-04-04 14:21:04,617]\u001b[0m Trial 755 finished with value: 0.2188437700271606 and parameters: {'n_neurons': 200.0, 'n_hidden_layers': 10.0, 'power_of_lr': 3.0, 'dropout_input': 0.05, 'dropout_hidden': 0.0, 'batch_size': 80.0}. Best is trial 579 with value: 0.18744586706161503.\u001b[0m\n",
      "\u001b[32m[I 2021-04-04 14:21:34,832]\u001b[0m Trial 756 finished with value: 0.20430607795715328 and parameters: {'n_neurons': 184.0, 'n_hidden_layers': 6.0, 'power_of_lr': 3.0, 'dropout_input': 0.1, 'dropout_hidden': 0.05, 'batch_size': 88.0}. Best is trial 579 with value: 0.18744586706161503.\u001b[0m\n",
      "\u001b[32m[I 2021-04-04 14:22:22,713]\u001b[0m Trial 757 finished with value: 0.21660913228988643 and parameters: {'n_neurons': 152.0, 'n_hidden_layers': 10.0, 'power_of_lr': 3.0, 'dropout_input': 0.05, 'dropout_hidden': 0.1, 'batch_size': 72.0}. Best is trial 579 with value: 0.18744586706161503.\u001b[0m\n",
      "\u001b[32m[I 2021-04-04 14:23:11,602]\u001b[0m Trial 758 finished with value: 0.21662796735763545 and parameters: {'n_neurons': 216.0, 'n_hidden_layers': 10.0, 'power_of_lr': 3.0, 'dropout_input': 0.05, 'dropout_hidden': 0.05, 'batch_size': 88.0}. Best is trial 579 with value: 0.18744586706161503.\u001b[0m\n",
      "\u001b[32m[I 2021-04-04 14:42:45,625]\u001b[0m Trial 759 finished with value: 0.2177013397216797 and parameters: {'n_neurons': 136.0, 'n_hidden_layers': 10.0, 'power_of_lr': 3.0, 'dropout_input': 0.05, 'dropout_hidden': 0.05, 'batch_size': 80.0}. Best is trial 579 with value: 0.18744586706161503.\u001b[0m\n",
      "\u001b[32m[I 2021-04-04 14:43:35,277]\u001b[0m Trial 760 finished with value: 0.21655892133712773 and parameters: {'n_neurons': 184.0, 'n_hidden_layers': 9.0, 'power_of_lr': 3.0, 'dropout_input': 0.05, 'dropout_hidden': 0.05, 'batch_size': 96.0}. Best is trial 579 with value: 0.18744586706161503.\u001b[0m\n",
      "\u001b[32m[I 2021-04-04 21:11:25,519]\u001b[0m Trial 761 finished with value: 0.20767058134078975 and parameters: {'n_neurons': 192.0, 'n_hidden_layers': 10.0, 'power_of_lr': 3.0, 'dropout_input': 0.05, 'dropout_hidden': 0.1, 'batch_size': 64.0}. Best is trial 579 with value: 0.18744586706161503.\u001b[0m\n",
      "\u001b[32m[I 2021-04-04 21:11:56,075]\u001b[0m Trial 762 finished with value: 0.22775093317031858 and parameters: {'n_neurons': 168.0, 'n_hidden_layers': 5.0, 'power_of_lr': 3.0, 'dropout_input': 0.05, 'dropout_hidden': 0.0, 'batch_size': 72.0}. Best is trial 579 with value: 0.18744586706161503.\u001b[0m\n",
      "\u001b[32m[I 2021-04-04 21:12:45,241]\u001b[0m Trial 763 finished with value: 0.20427469015121458 and parameters: {'n_neurons': 152.0, 'n_hidden_layers': 10.0, 'power_of_lr': 3.0, 'dropout_input': 0.1, 'dropout_hidden': 0.05, 'batch_size': 104.0}. Best is trial 579 with value: 0.18744586706161503.\u001b[0m\n",
      "\u001b[32m[I 2021-04-04 22:00:18,198]\u001b[0m Trial 764 finished with value: 0.21878727674484255 and parameters: {'n_neurons': 208.0, 'n_hidden_layers': 10.0, 'power_of_lr': 3.0, 'dropout_input': 0.05, 'dropout_hidden': 0.0, 'batch_size': 80.0}. Best is trial 579 with value: 0.18744586706161503.\u001b[0m\n",
      "\u001b[32m[I 2021-04-04 22:01:14,437]\u001b[0m Trial 765 finished with value: 0.22665244340896606 and parameters: {'n_neurons': 176.0, 'n_hidden_layers': 10.0, 'power_of_lr': 3.0, 'dropout_input': 0.05, 'dropout_hidden': 0.05, 'batch_size': 64.0}. Best is trial 579 with value: 0.18744586706161503.\u001b[0m\n",
      "\u001b[32m[I 2021-04-04 22:02:02,418]\u001b[0m Trial 766 finished with value: 0.20205888748168943 and parameters: {'n_neurons': 200.0, 'n_hidden_layers': 10.0, 'power_of_lr': 3.0, 'dropout_input': 0.05, 'dropout_hidden': 0.1, 'batch_size': 96.0}. Best is trial 579 with value: 0.18744586706161503.\u001b[0m\n",
      "\u001b[32m[I 2021-04-04 22:03:03,656]\u001b[0m Trial 767 finished with value: 0.21323834657669072 and parameters: {'n_neurons': 224.0, 'n_hidden_layers': 10.0, 'power_of_lr': 3.0, 'dropout_input': 0.0, 'dropout_hidden': 0.05, 'batch_size': 72.0}. Best is trial 579 with value: 0.18744586706161503.\u001b[0m\n",
      "\u001b[32m[I 2021-04-04 22:03:42,084]\u001b[0m Trial 768 finished with value: 0.2176825165748596 and parameters: {'n_neurons': 240.0, 'n_hidden_layers': 6.0, 'power_of_lr': 3.0, 'dropout_input': 0.05, 'dropout_hidden': 0.05, 'batch_size': 88.0}. Best is trial 579 with value: 0.18744586706161503.\u001b[0m\n",
      "\u001b[32m[I 2021-04-04 22:04:28,282]\u001b[0m Trial 769 finished with value: 0.21209591627120972 and parameters: {'n_neurons': 192.0, 'n_hidden_layers': 10.0, 'power_of_lr': 3.0, 'dropout_input': 0.05, 'dropout_hidden': 0.05, 'batch_size': 88.0}. Best is trial 579 with value: 0.18744586706161503.\u001b[0m\n"
     ]
    },
    {
     "name": "stderr",
     "output_type": "stream",
     "text": [
      "\u001b[32m[I 2021-04-04 22:05:20,436]\u001b[0m Trial 770 finished with value: 0.21214613914489744 and parameters: {'n_neurons': 264.0, 'n_hidden_layers': 10.0, 'power_of_lr': 3.0, 'dropout_input': 0.1, 'dropout_hidden': 0.1, 'batch_size': 56.0}. Best is trial 579 with value: 0.18744586706161503.\u001b[0m\n",
      "\u001b[32m[I 2021-04-04 22:06:14,592]\u001b[0m Trial 771 finished with value: 0.22218316793441772 and parameters: {'n_neurons': 168.0, 'n_hidden_layers': 10.0, 'power_of_lr': 3.0, 'dropout_input': 0.05, 'dropout_hidden': 0.0, 'batch_size': 72.0}. Best is trial 579 with value: 0.18744586706161503.\u001b[0m\n",
      "\u001b[32m[I 2021-04-04 22:06:57,319]\u001b[0m Trial 772 finished with value: 0.2064842224121094 and parameters: {'n_neurons': 216.0, 'n_hidden_layers': 9.0, 'power_of_lr': 3.0, 'dropout_input': 0.05, 'dropout_hidden': 0.05, 'batch_size': 80.0}. Best is trial 579 with value: 0.18744586706161503.\u001b[0m\n",
      "\u001b[32m[I 2021-04-04 22:07:43,018]\u001b[0m Trial 773 finished with value: 0.20986129045486446 and parameters: {'n_neurons': 160.0, 'n_hidden_layers': 10.0, 'power_of_lr': 3.0, 'dropout_input': 0.05, 'dropout_hidden': 0.05, 'batch_size': 96.0}. Best is trial 579 with value: 0.18744586706161503.\u001b[0m\n",
      "\u001b[32m[I 2021-04-04 22:08:12,528]\u001b[0m Trial 774 finished with value: 0.20313854217529292 and parameters: {'n_neurons': 176.0, 'n_hidden_layers': 6.0, 'power_of_lr': 3.0, 'dropout_input': 0.05, 'dropout_hidden': 0.05, 'batch_size': 64.0}. Best is trial 579 with value: 0.18744586706161503.\u001b[0m\n",
      "\u001b[32m[I 2021-04-04 22:09:01,598]\u001b[0m Trial 775 finished with value: 0.2154729843139649 and parameters: {'n_neurons': 200.0, 'n_hidden_layers': 10.0, 'power_of_lr': 3.0, 'dropout_input': 0.05, 'dropout_hidden': 0.05, 'batch_size': 80.0}. Best is trial 579 with value: 0.18744586706161503.\u001b[0m\n",
      "\u001b[32m[I 2021-04-04 22:09:23,488]\u001b[0m Trial 776 finished with value: 0.20652188062667842 and parameters: {'n_neurons': 136.0, 'n_hidden_layers': 5.0, 'power_of_lr': 3.0, 'dropout_input': 0.05, 'dropout_hidden': 0.1, 'batch_size': 248.0}. Best is trial 579 with value: 0.18744586706161503.\u001b[0m\n",
      "\u001b[32m[I 2021-04-04 22:10:02,147]\u001b[0m Trial 777 finished with value: 0.2087063074111939 and parameters: {'n_neurons': 208.0, 'n_hidden_layers': 9.0, 'power_of_lr': 3.0, 'dropout_input': 0.1, 'dropout_hidden': 0.05, 'batch_size': 88.0}. Best is trial 579 with value: 0.18744586706161503.\u001b[0m\n",
      "\u001b[32m[I 2021-04-04 22:10:50,478]\u001b[0m Trial 778 finished with value: 0.22218945026397707 and parameters: {'n_neurons': 184.0, 'n_hidden_layers': 10.0, 'power_of_lr': 3.0, 'dropout_input': 0.05, 'dropout_hidden': 0.0, 'batch_size': 72.0}. Best is trial 579 with value: 0.18744586706161503.\u001b[0m\n",
      "\u001b[32m[I 2021-04-04 22:11:34,513]\u001b[0m Trial 779 finished with value: 0.20311343669891357 and parameters: {'n_neurons': 192.0, 'n_hidden_layers': 10.0, 'power_of_lr': 3.0, 'dropout_input': 0.05, 'dropout_hidden': 0.05, 'batch_size': 80.0}. Best is trial 579 with value: 0.18744586706161503.\u001b[0m\n",
      "\u001b[32m[I 2021-04-04 22:12:19,491]\u001b[0m Trial 780 finished with value: 0.20198355913162236 and parameters: {'n_neurons': 232.0, 'n_hidden_layers': 10.0, 'power_of_lr': 3.0, 'dropout_input': 0.05, 'dropout_hidden': 0.0, 'batch_size': 72.0}. Best is trial 579 with value: 0.18744586706161503.\u001b[0m\n",
      "\u001b[32m[I 2021-04-04 22:13:01,663]\u001b[0m Trial 781 finished with value: 0.2188563227653504 and parameters: {'n_neurons': 160.0, 'n_hidden_layers': 10.0, 'power_of_lr': 3.0, 'dropout_input': 0.05, 'dropout_hidden': 0.1, 'batch_size': 64.0}. Best is trial 579 with value: 0.18744586706161503.\u001b[0m\n",
      "\u001b[32m[I 2021-04-04 22:25:50,233]\u001b[0m Trial 782 finished with value: 0.2165714740753174 and parameters: {'n_neurons': 208.0, 'n_hidden_layers': 6.0, 'power_of_lr': 3.0, 'dropout_input': 0.05, 'dropout_hidden': 0.05, 'batch_size': 96.0}. Best is trial 579 with value: 0.18744586706161503.\u001b[0m\n",
      "\u001b[32m[I 2021-04-04 22:26:39,565]\u001b[0m Trial 783 finished with value: 0.2109660506248474 and parameters: {'n_neurons': 144.0, 'n_hidden_layers': 10.0, 'power_of_lr': 3.0, 'dropout_input': 0.05, 'dropout_hidden': 0.05, 'batch_size': 48.0}. Best is trial 579 with value: 0.18744586706161503.\u001b[0m\n",
      "\u001b[32m[I 2021-04-04 22:27:25,423]\u001b[0m Trial 784 finished with value: 0.22105957269668575 and parameters: {'n_neurons': 176.0, 'n_hidden_layers': 10.0, 'power_of_lr': 3.0, 'dropout_input': 0.05, 'dropout_hidden': 0.05, 'batch_size': 104.0}. Best is trial 579 with value: 0.18744586706161503.\u001b[0m\n",
      "\u001b[32m[I 2021-04-04 22:30:38,415]\u001b[0m Trial 785 finished with value: 0.1997803092002869 and parameters: {'n_neurons': 184.0, 'n_hidden_layers': 10.0, 'power_of_lr': 3.0, 'dropout_input': 0.1, 'dropout_hidden': 0.05, 'batch_size': 80.0}. Best is trial 579 with value: 0.18744586706161503.\u001b[0m\n",
      "\u001b[32m[I 2021-04-04 22:31:15,706]\u001b[0m Trial 786 finished with value: 0.2020212292671204 and parameters: {'n_neurons': 224.0, 'n_hidden_layers': 9.0, 'power_of_lr': 3.0, 'dropout_input': 0.05, 'dropout_hidden': 0.0, 'batch_size': 88.0}. Best is trial 579 with value: 0.18744586706161503.\u001b[0m\n",
      "\u001b[32m[I 2021-04-04 22:32:03,765]\u001b[0m Trial 787 finished with value: 0.21547926664352413 and parameters: {'n_neurons': 192.0, 'n_hidden_layers': 10.0, 'power_of_lr': 3.0, 'dropout_input': 0.05, 'dropout_hidden': 0.1, 'batch_size': 64.0}. Best is trial 579 with value: 0.18744586706161503.\u001b[0m\n",
      "\u001b[32m[I 2021-04-04 22:32:55,448]\u001b[0m Trial 788 finished with value: 0.2188437700271606 and parameters: {'n_neurons': 344.0, 'n_hidden_layers': 10.0, 'power_of_lr': 3.0, 'dropout_input': 0.05, 'dropout_hidden': 0.05, 'batch_size': 72.0}. Best is trial 579 with value: 0.18744586706161503.\u001b[0m\n",
      "\u001b[32m[I 2021-04-04 22:33:29,070]\u001b[0m Trial 789 finished with value: 0.20649050474166875 and parameters: {'n_neurons': 200.0, 'n_hidden_layers': 6.0, 'power_of_lr': 3.0, 'dropout_input': 0.05, 'dropout_hidden': 0.05, 'batch_size': 80.0}. Best is trial 579 with value: 0.18744586706161503.\u001b[0m\n",
      "\u001b[32m[I 2021-04-04 22:34:06,654]\u001b[0m Trial 790 finished with value: 0.2087376952171326 and parameters: {'n_neurons': 152.0, 'n_hidden_layers': 10.0, 'power_of_lr': 3.0, 'dropout_input': 0.05, 'dropout_hidden': 0.05, 'batch_size': 88.0}. Best is trial 579 with value: 0.18744586706161503.\u001b[0m\n",
      "\u001b[32m[I 2021-04-04 22:34:55,820]\u001b[0m Trial 791 finished with value: 0.20090390443801875 and parameters: {'n_neurons': 328.0, 'n_hidden_layers': 10.0, 'power_of_lr': 3.0, 'dropout_input': 0.05, 'dropout_hidden': 0.0, 'batch_size': 96.0}. Best is trial 579 with value: 0.18744586706161503.\u001b[0m\n",
      "\u001b[32m[I 2021-04-04 22:35:45,571]\u001b[0m Trial 792 finished with value: 0.21323834657669072 and parameters: {'n_neurons': 216.0, 'n_hidden_layers': 10.0, 'power_of_lr': 3.0, 'dropout_input': 0.0, 'dropout_hidden': 0.05, 'batch_size': 72.0}. Best is trial 579 with value: 0.18744586706161503.\u001b[0m\n",
      "\u001b[32m[I 2021-04-04 22:36:37,991]\u001b[0m Trial 793 finished with value: 0.21321324110031126 and parameters: {'n_neurons': 248.0, 'n_hidden_layers': 10.0, 'power_of_lr': 3.0, 'dropout_input': 0.05, 'dropout_hidden': 0.1, 'batch_size': 56.0}. Best is trial 579 with value: 0.18744586706161503.\u001b[0m\n",
      "\u001b[32m[I 2021-04-04 22:37:23,840]\u001b[0m Trial 794 finished with value: 0.19978659152984624 and parameters: {'n_neurons': 168.0, 'n_hidden_layers': 10.0, 'power_of_lr': 3.0, 'dropout_input': 0.1, 'dropout_hidden': 0.05, 'batch_size': 80.0}. Best is trial 579 with value: 0.18744586706161503.\u001b[0m\n",
      "\u001b[32m[I 2021-04-04 22:38:08,356]\u001b[0m Trial 795 finished with value: 0.2109786033630371 and parameters: {'n_neurons': 232.0, 'n_hidden_layers': 9.0, 'power_of_lr': 3.0, 'dropout_input': 0.05, 'dropout_hidden': 0.1, 'batch_size': 88.0}. Best is trial 579 with value: 0.18744586706161503.\u001b[0m\n",
      "\u001b[32m[I 2021-04-04 22:38:57,931]\u001b[0m Trial 796 finished with value: 0.19419372081756592 and parameters: {'n_neurons': 184.0, 'n_hidden_layers': 10.0, 'power_of_lr': 3.0, 'dropout_input': 0.05, 'dropout_hidden': 0.05, 'batch_size': 72.0}. Best is trial 579 with value: 0.18744586706161503.\u001b[0m\n",
      "\u001b[32m[I 2021-04-04 22:39:44,295]\u001b[0m Trial 797 finished with value: 0.2065344333648682 and parameters: {'n_neurons': 160.0, 'n_hidden_layers': 10.0, 'power_of_lr': 3.0, 'dropout_input': 0.05, 'dropout_hidden': 0.05, 'batch_size': 72.0}. Best is trial 579 with value: 0.18744586706161503.\u001b[0m\n",
      "\u001b[32m[I 2021-04-04 22:40:29,089]\u001b[0m Trial 798 finished with value: 0.22104701995849607 and parameters: {'n_neurons': 176.0, 'n_hidden_layers': 10.0, 'power_of_lr': 3.0, 'dropout_input': 0.05, 'dropout_hidden': 0.0, 'batch_size': 64.0}. Best is trial 579 with value: 0.18744586706161503.\u001b[0m\n"
     ]
    },
    {
     "name": "stderr",
     "output_type": "stream",
     "text": [
      "\u001b[32m[I 2021-04-04 22:41:06,018]\u001b[0m Trial 799 finished with value: 0.21097232103347774 and parameters: {'n_neurons': 168.0, 'n_hidden_layers': 6.0, 'power_of_lr': 3.0, 'dropout_input': 0.05, 'dropout_hidden': 0.05, 'batch_size': 72.0}. Best is trial 579 with value: 0.18744586706161503.\u001b[0m\n",
      "\u001b[32m[I 2021-04-04 22:41:48,243]\u001b[0m Trial 800 finished with value: 0.19531103372573855 and parameters: {'n_neurons': 184.0, 'n_hidden_layers': 9.0, 'power_of_lr': 3.0, 'dropout_input': 0.05, 'dropout_hidden': 0.15000000000000002, 'batch_size': 56.0}. Best is trial 579 with value: 0.18744586706161503.\u001b[0m\n",
      "\u001b[32m[I 2021-04-04 22:42:38,234]\u001b[0m Trial 801 finished with value: 0.2075952649116516 and parameters: {'n_neurons': 176.0, 'n_hidden_layers': 9.0, 'power_of_lr': 3.0, 'dropout_input': 0.05, 'dropout_hidden': 0.15000000000000002, 'batch_size': 48.0}. Best is trial 579 with value: 0.18744586706161503.\u001b[0m\n",
      "\u001b[32m[I 2021-04-04 22:43:08,802]\u001b[0m Trial 802 finished with value: 0.21319440603256223 and parameters: {'n_neurons': 152.0, 'n_hidden_layers': 5.0, 'power_of_lr': 3.0, 'dropout_input': 0.05, 'dropout_hidden': 0.15000000000000002, 'batch_size': 48.0}. Best is trial 579 with value: 0.18744586706161503.\u001b[0m\n",
      "\u001b[32m[I 2021-04-04 22:43:59,512]\u001b[0m Trial 803 finished with value: 0.21991715431213377 and parameters: {'n_neurons': 184.0, 'n_hidden_layers': 9.0, 'power_of_lr': 3.0, 'dropout_input': 0.05, 'dropout_hidden': 0.15000000000000002, 'batch_size': 64.0}. Best is trial 579 with value: 0.18744586706161503.\u001b[0m\n",
      "\u001b[32m[I 2021-04-04 22:44:54,694]\u001b[0m Trial 804 finished with value: 0.21098488569259644 and parameters: {'n_neurons': 160.0, 'n_hidden_layers': 9.0, 'power_of_lr': 3.0, 'dropout_input': 0.05, 'dropout_hidden': 0.25, 'batch_size': 56.0}. Best is trial 579 with value: 0.18744586706161503.\u001b[0m\n",
      "\u001b[32m[I 2021-04-04 22:45:46,017]\u001b[0m Trial 805 finished with value: 0.21435567140579226 and parameters: {'n_neurons': 168.0, 'n_hidden_layers': 9.0, 'power_of_lr': 3.0, 'dropout_input': 0.05, 'dropout_hidden': 0.15000000000000002, 'batch_size': 56.0}. Best is trial 579 with value: 0.18744586706161503.\u001b[0m\n",
      "\u001b[32m[I 2021-04-04 22:46:41,356]\u001b[0m Trial 806 finished with value: 0.2132195115089417 and parameters: {'n_neurons': 176.0, 'n_hidden_layers': 9.0, 'power_of_lr': 3.0, 'dropout_input': 0.05, 'dropout_hidden': 0.1, 'batch_size': 56.0}. Best is trial 579 with value: 0.18744586706161503.\u001b[0m\n",
      "\u001b[32m[I 2021-04-04 22:47:34,888]\u001b[0m Trial 807 finished with value: 0.19757705926895142 and parameters: {'n_neurons': 184.0, 'n_hidden_layers': 9.0, 'power_of_lr': 3.0, 'dropout_input': 0.05, 'dropout_hidden': 0.2, 'batch_size': 64.0}. Best is trial 579 with value: 0.18744586706161503.\u001b[0m\n",
      "\u001b[32m[I 2021-04-04 22:48:25,134]\u001b[0m Trial 808 finished with value: 0.19981169700622559 and parameters: {'n_neurons': 144.0, 'n_hidden_layers': 9.0, 'power_of_lr': 3.0, 'dropout_input': 0.05, 'dropout_hidden': 0.15000000000000002, 'batch_size': 64.0}. Best is trial 579 with value: 0.18744586706161503.\u001b[0m\n",
      "\u001b[32m[I 2021-04-04 22:49:20,723]\u001b[0m Trial 809 finished with value: 0.20424958467483523 and parameters: {'n_neurons': 320.0, 'n_hidden_layers': 9.0, 'power_of_lr': 3.0, 'dropout_input': 0.05, 'dropout_hidden': 0.1, 'batch_size': 80.0}. Best is trial 579 with value: 0.18744586706161503.\u001b[0m\n",
      "\u001b[32m[I 2021-04-04 22:50:08,612]\u001b[0m Trial 810 finished with value: 0.2065156102180481 and parameters: {'n_neurons': 168.0, 'n_hidden_layers': 9.0, 'power_of_lr': 3.0, 'dropout_input': 0.05, 'dropout_hidden': 0.2, 'batch_size': 48.0}. Best is trial 579 with value: 0.18744586706161503.\u001b[0m\n",
      "\u001b[32m[I 2021-04-04 22:51:01,077]\u001b[0m Trial 811 finished with value: 0.22449313402175908 and parameters: {'n_neurons': 192.0, 'n_hidden_layers': 9.0, 'power_of_lr': 4.0, 'dropout_input': 0.05, 'dropout_hidden': 0.1, 'batch_size': 56.0}. Best is trial 579 with value: 0.18744586706161503.\u001b[0m\n",
      "\u001b[32m[I 2021-04-04 22:51:43,566]\u001b[0m Trial 812 finished with value: 0.20089763402938843 and parameters: {'n_neurons': 120.0, 'n_hidden_layers': 9.0, 'power_of_lr': 3.0, 'dropout_input': 0.05, 'dropout_hidden': 0.1, 'batch_size': 48.0}. Best is trial 579 with value: 0.18744586706161503.\u001b[0m\n",
      "\u001b[32m[I 2021-04-04 22:52:34,995]\u001b[0m Trial 813 finished with value: 0.2076454758644104 and parameters: {'n_neurons': 176.0, 'n_hidden_layers': 9.0, 'power_of_lr': 3.0, 'dropout_input': 0.05, 'dropout_hidden': 0.1, 'batch_size': 80.0}. Best is trial 579 with value: 0.18744586706161503.\u001b[0m\n",
      "\u001b[32m[I 2021-04-04 22:53:20,118]\u001b[0m Trial 814 finished with value: 0.20647794008255005 and parameters: {'n_neurons': 184.0, 'n_hidden_layers': 9.0, 'power_of_lr': 3.0, 'dropout_input': 0.05, 'dropout_hidden': 0.1, 'batch_size': 56.0}. Best is trial 579 with value: 0.18744586706161503.\u001b[0m\n",
      "\u001b[32m[I 2021-04-04 22:54:01,071]\u001b[0m Trial 815 finished with value: 0.21323834657669072 and parameters: {'n_neurons': 152.0, 'n_hidden_layers': 9.0, 'power_of_lr': 3.0, 'dropout_input': 0.05, 'dropout_hidden': 0.1, 'batch_size': 88.0}. Best is trial 579 with value: 0.18744586706161503.\u001b[0m\n",
      "\u001b[32m[I 2021-04-04 22:54:34,262]\u001b[0m Trial 816 finished with value: 0.21773900985717776 and parameters: {'n_neurons': 136.0, 'n_hidden_layers': 6.0, 'power_of_lr': 3.0, 'dropout_input': 0.05, 'dropout_hidden': 0.25, 'batch_size': 64.0}. Best is trial 579 with value: 0.18744586706161503.\u001b[0m\n",
      "\u001b[32m[I 2021-04-04 22:55:10,505]\u001b[0m Trial 817 finished with value: 0.2121398568153381 and parameters: {'n_neurons': 160.0, 'n_hidden_layers': 6.0, 'power_of_lr': 3.0, 'dropout_input': 0.05, 'dropout_hidden': 0.15000000000000002, 'batch_size': 72.0}. Best is trial 579 with value: 0.18744586706161503.\u001b[0m\n",
      "\u001b[32m[I 2021-04-04 22:56:01,661]\u001b[0m Trial 818 finished with value: 0.20986129045486446 and parameters: {'n_neurons': 184.0, 'n_hidden_layers': 10.0, 'power_of_lr': 3.0, 'dropout_input': 0.05, 'dropout_hidden': 0.0, 'batch_size': 80.0}. Best is trial 579 with value: 0.18744586706161503.\u001b[0m\n",
      "\u001b[32m[I 2021-04-04 22:56:47,223]\u001b[0m Trial 819 finished with value: 0.20538573265075688 and parameters: {'n_neurons': 192.0, 'n_hidden_layers': 9.0, 'power_of_lr': 3.0, 'dropout_input': 0.05, 'dropout_hidden': 0.1, 'batch_size': 72.0}. Best is trial 579 with value: 0.18744586706161503.\u001b[0m\n",
      "\u001b[32m[I 2021-04-04 22:57:35,526]\u001b[0m Trial 820 finished with value: 0.21767623424530025 and parameters: {'n_neurons': 168.0, 'n_hidden_layers': 10.0, 'power_of_lr': 3.0, 'dropout_input': 0.05, 'dropout_hidden': 0.0, 'batch_size': 56.0}. Best is trial 579 with value: 0.18744586706161503.\u001b[0m\n",
      "\u001b[32m[I 2021-04-04 22:58:22,339]\u001b[0m Trial 821 finished with value: 0.2121084809303284 and parameters: {'n_neurons': 200.0, 'n_hidden_layers': 10.0, 'power_of_lr': 3.0, 'dropout_input': 0.05, 'dropout_hidden': 0.05, 'batch_size': 88.0}. Best is trial 579 with value: 0.18744586706161503.\u001b[0m\n",
      "\u001b[32m[I 2021-04-04 22:59:10,081]\u001b[0m Trial 822 finished with value: 0.21772645711898808 and parameters: {'n_neurons': 280.0, 'n_hidden_layers': 9.0, 'power_of_lr': 3.0, 'dropout_input': 0.05, 'dropout_hidden': 0.05, 'batch_size': 72.0}. Best is trial 579 with value: 0.18744586706161503.\u001b[0m\n",
      "\u001b[32m[I 2021-04-04 22:59:45,835]\u001b[0m Trial 823 finished with value: 0.20092273950576778 and parameters: {'n_neurons': 256.0, 'n_hidden_layers': 6.0, 'power_of_lr': 3.0, 'dropout_input': 0.05, 'dropout_hidden': 0.1, 'batch_size': 64.0}. Best is trial 579 with value: 0.18744586706161503.\u001b[0m\n",
      "\u001b[32m[I 2021-04-04 23:00:30,261]\u001b[0m Trial 824 finished with value: 0.20763920545578007 and parameters: {'n_neurons': 216.0, 'n_hidden_layers': 10.0, 'power_of_lr': 3.0, 'dropout_input': 0.05, 'dropout_hidden': 0.05, 'batch_size': 80.0}. Best is trial 579 with value: 0.18744586706161503.\u001b[0m\n",
      "\u001b[32m[I 2021-04-04 23:01:15,644]\u001b[0m Trial 825 finished with value: 0.19866926670074458 and parameters: {'n_neurons': 184.0, 'n_hidden_layers': 10.0, 'power_of_lr': 3.0, 'dropout_input': 0.05, 'dropout_hidden': 0.0, 'batch_size': 88.0}. Best is trial 579 with value: 0.18744586706161503.\u001b[0m\n",
      "\u001b[32m[I 2021-04-04 23:02:00,494]\u001b[0m Trial 826 finished with value: 0.21993597745895388 and parameters: {'n_neurons': 160.0, 'n_hidden_layers': 10.0, 'power_of_lr': 3.0, 'dropout_input': 0.05, 'dropout_hidden': 0.05, 'batch_size': 80.0}. Best is trial 579 with value: 0.18744586706161503.\u001b[0m\n"
     ]
    },
    {
     "name": "stderr",
     "output_type": "stream",
     "text": [
      "\u001b[32m[I 2021-04-04 23:02:43,580]\u001b[0m Trial 827 finished with value: 0.20762037038803105 and parameters: {'n_neurons': 136.0, 'n_hidden_layers': 10.0, 'power_of_lr': 3.0, 'dropout_input': 0.05, 'dropout_hidden': 0.05, 'batch_size': 72.0}. Best is trial 579 with value: 0.18744586706161503.\u001b[0m\n",
      "\u001b[32m[I 2021-04-04 23:03:27,816]\u001b[0m Trial 828 finished with value: 0.20316992998123173 and parameters: {'n_neurons': 176.0, 'n_hidden_layers': 10.0, 'power_of_lr': 3.0, 'dropout_input': 0.05, 'dropout_hidden': 0.15000000000000002, 'batch_size': 88.0}. Best is trial 579 with value: 0.18744586706161503.\u001b[0m\n",
      "\u001b[32m[I 2021-04-04 23:04:10,950]\u001b[0m Trial 829 finished with value: 0.2166028618812561 and parameters: {'n_neurons': 200.0, 'n_hidden_layers': 10.0, 'power_of_lr': 3.0, 'dropout_input': 0.05, 'dropout_hidden': 0.05, 'batch_size': 64.0}. Best is trial 579 with value: 0.18744586706161503.\u001b[0m\n",
      "\u001b[32m[I 2021-04-04 23:04:50,135]\u001b[0m Trial 830 finished with value: 0.20312598943710325 and parameters: {'n_neurons': 232.0, 'n_hidden_layers': 6.0, 'power_of_lr': 3.0, 'dropout_input': 0.05, 'dropout_hidden': 0.05, 'batch_size': 80.0}. Best is trial 579 with value: 0.18744586706161503.\u001b[0m\n",
      "\u001b[32m[I 2021-04-04 23:19:38,762]\u001b[0m Trial 831 finished with value: 0.21317558288574223 and parameters: {'n_neurons': 208.0, 'n_hidden_layers': 9.0, 'power_of_lr': 3.0, 'dropout_input': 0.05, 'dropout_hidden': 0.1, 'batch_size': 96.0}. Best is trial 579 with value: 0.18744586706161503.\u001b[0m\n",
      "\u001b[32m[I 2021-04-04 23:20:29,730]\u001b[0m Trial 832 finished with value: 0.2210846781730652 and parameters: {'n_neurons': 192.0, 'n_hidden_layers': 10.0, 'power_of_lr': 3.0, 'dropout_input': 0.05, 'dropout_hidden': 0.0, 'batch_size': 64.0}. Best is trial 579 with value: 0.18744586706161503.\u001b[0m\n",
      "\u001b[32m[I 2021-04-04 23:21:11,443]\u001b[0m Trial 833 finished with value: 0.21882493495941158 and parameters: {'n_neurons': 152.0, 'n_hidden_layers': 10.0, 'power_of_lr': 3.0, 'dropout_input': 0.05, 'dropout_hidden': 0.05, 'batch_size': 80.0}. Best is trial 579 with value: 0.18744586706161503.\u001b[0m\n",
      "\u001b[32m[I 2021-04-04 23:22:02,998]\u001b[0m Trial 834 finished with value: 0.24237650632858276 and parameters: {'n_neurons': 128.0, 'n_hidden_layers': 10.0, 'power_of_lr': 5.0, 'dropout_input': 0.05, 'dropout_hidden': 0.05, 'batch_size': 72.0}. Best is trial 579 with value: 0.18744586706161503.\u001b[0m\n",
      "\u001b[32m[I 2021-04-04 23:22:46,576]\u001b[0m Trial 835 finished with value: 0.2221643447875976 and parameters: {'n_neurons': 168.0, 'n_hidden_layers': 10.0, 'power_of_lr': 3.0, 'dropout_input': 0.05, 'dropout_hidden': 0.1, 'batch_size': 88.0}. Best is trial 579 with value: 0.18744586706161503.\u001b[0m\n",
      "\u001b[32m[I 2021-04-04 23:23:33,509]\u001b[0m Trial 836 finished with value: 0.20985500812530522 and parameters: {'n_neurons': 224.0, 'n_hidden_layers': 10.0, 'power_of_lr': 3.0, 'dropout_input': 0.05, 'dropout_hidden': 0.05, 'batch_size': 72.0}. Best is trial 579 with value: 0.18744586706161503.\u001b[0m\n",
      "\u001b[32m[I 2021-04-04 23:24:14,638]\u001b[0m Trial 837 finished with value: 0.2233067631721497 and parameters: {'n_neurons': 176.0, 'n_hidden_layers': 6.0, 'power_of_lr': 3.0, 'dropout_input': 0.0, 'dropout_hidden': 0.05, 'batch_size': 56.0}. Best is trial 579 with value: 0.18744586706161503.\u001b[0m\n",
      "\u001b[32m[I 2021-04-04 23:24:56,446]\u001b[0m Trial 838 finished with value: 0.22110351324081423 and parameters: {'n_neurons': 192.0, 'n_hidden_layers': 9.0, 'power_of_lr': 3.0, 'dropout_input': 0.05, 'dropout_hidden': 0.2, 'batch_size': 96.0}. Best is trial 579 with value: 0.18744586706161503.\u001b[0m\n",
      "\u001b[32m[I 2021-04-04 23:25:46,351]\u001b[0m Trial 839 finished with value: 0.1964283585548401 and parameters: {'n_neurons': 208.0, 'n_hidden_layers': 10.0, 'power_of_lr': 3.0, 'dropout_input': 0.05, 'dropout_hidden': 0.05, 'batch_size': 80.0}. Best is trial 579 with value: 0.18744586706161503.\u001b[0m\n",
      "\u001b[32m[I 2021-04-04 23:26:33,778]\u001b[0m Trial 840 finished with value: 0.23222020864486692 and parameters: {'n_neurons': 248.0, 'n_hidden_layers': 8.0, 'power_of_lr': 3.0, 'dropout_input': 0.05, 'dropout_hidden': 0.0, 'batch_size': 88.0}. Best is trial 579 with value: 0.18744586706161503.\u001b[0m\n",
      "\u001b[32m[I 2021-04-04 23:27:26,648]\u001b[0m Trial 841 finished with value: 0.21772017478942873 and parameters: {'n_neurons': 184.0, 'n_hidden_layers': 10.0, 'power_of_lr': 3.0, 'dropout_input': 0.05, 'dropout_hidden': 0.1, 'batch_size': 64.0}. Best is trial 579 with value: 0.18744586706161503.\u001b[0m\n",
      "\u001b[32m[I 2021-04-04 23:27:50,456]\u001b[0m Trial 842 finished with value: 0.2165902972221374 and parameters: {'n_neurons': 160.0, 'n_hidden_layers': 3.0, 'power_of_lr': 3.0, 'dropout_input': 0.05, 'dropout_hidden': 0.05, 'batch_size': 72.0}. Best is trial 579 with value: 0.18744586706161503.\u001b[0m\n",
      "\u001b[32m[I 2021-04-04 23:28:20,096]\u001b[0m Trial 843 finished with value: 0.21212730407714842 and parameters: {'n_neurons': 112.0, 'n_hidden_layers': 5.0, 'power_of_lr': 3.0, 'dropout_input': 0.05, 'dropout_hidden': 0.35000000000000003, 'batch_size': 80.0}. Best is trial 579 with value: 0.18744586706161503.\u001b[0m\n",
      "\u001b[32m[I 2021-04-04 23:29:15,250]\u001b[0m Trial 844 finished with value: 0.2110288143157959 and parameters: {'n_neurons': 296.0, 'n_hidden_layers': 10.0, 'power_of_lr': 3.0, 'dropout_input': 0.05, 'dropout_hidden': 0.0, 'batch_size': 88.0}. Best is trial 579 with value: 0.18744586706161503.\u001b[0m\n",
      "\u001b[32m[I 2021-04-04 23:30:10,280]\u001b[0m Trial 845 finished with value: 0.2042621374130249 and parameters: {'n_neurons': 216.0, 'n_hidden_layers': 10.0, 'power_of_lr': 3.0, 'dropout_input': 0.05, 'dropout_hidden': 0.05, 'batch_size': 80.0}. Best is trial 579 with value: 0.18744586706161503.\u001b[0m\n",
      "\u001b[32m[I 2021-04-04 23:30:42,162]\u001b[0m Trial 846 finished with value: 0.20426841974258425 and parameters: {'n_neurons': 144.0, 'n_hidden_layers': 4.0, 'power_of_lr': 3.0, 'dropout_input': 0.05, 'dropout_hidden': 0.1, 'batch_size': 96.0}. Best is trial 579 with value: 0.18744586706161503.\u001b[0m\n",
      "\u001b[32m[I 2021-04-04 23:31:33,723]\u001b[0m Trial 847 finished with value: 0.2042621374130249 and parameters: {'n_neurons': 176.0, 'n_hidden_layers': 10.0, 'power_of_lr': 3.0, 'dropout_input': 0.05, 'dropout_hidden': 0.05, 'batch_size': 72.0}. Best is trial 579 with value: 0.18744586706161503.\u001b[0m\n",
      "\u001b[32m[I 2021-04-04 23:32:40,964]\u001b[0m Trial 848 finished with value: 0.21876845359802244 and parameters: {'n_neurons': 200.0, 'n_hidden_layers': 9.0, 'power_of_lr': 3.0, 'dropout_input': 0.0, 'dropout_hidden': 0.05, 'batch_size': 56.0}. Best is trial 579 with value: 0.18744586706161503.\u001b[0m\n",
      "\u001b[32m[I 2021-04-04 23:33:28,897]\u001b[0m Trial 849 finished with value: 0.21991715431213377 and parameters: {'n_neurons': 240.0, 'n_hidden_layers': 6.0, 'power_of_lr': 3.0, 'dropout_input': 0.05, 'dropout_hidden': 0.0, 'batch_size': 64.0}. Best is trial 579 with value: 0.18744586706161503.\u001b[0m\n",
      "\u001b[32m[I 2021-04-04 23:34:30,902]\u001b[0m Trial 850 finished with value: 0.2031510949134827 and parameters: {'n_neurons': 192.0, 'n_hidden_layers': 10.0, 'power_of_lr': 3.0, 'dropout_input': 0.05, 'dropout_hidden': 0.15000000000000002, 'batch_size': 80.0}. Best is trial 579 with value: 0.18744586706161503.\u001b[0m\n",
      "\u001b[32m[I 2021-04-04 23:35:41,680]\u001b[0m Trial 851 finished with value: 0.21772645711898808 and parameters: {'n_neurons': 168.0, 'n_hidden_layers': 10.0, 'power_of_lr': 3.0, 'dropout_input': 0.05, 'dropout_hidden': 0.05, 'batch_size': 72.0}. Best is trial 579 with value: 0.18744586706161503.\u001b[0m\n",
      "\u001b[32m[I 2021-04-04 23:36:38,082]\u001b[0m Trial 852 finished with value: 0.19868181943893437 and parameters: {'n_neurons': 216.0, 'n_hidden_layers': 9.0, 'power_of_lr': 3.0, 'dropout_input': 0.05, 'dropout_hidden': 0.05, 'batch_size': 88.0}. Best is trial 579 with value: 0.18744586706161503.\u001b[0m\n",
      "\u001b[32m[I 2021-04-04 23:37:36,030]\u001b[0m Trial 853 finished with value: 0.2177013397216797 and parameters: {'n_neurons': 152.0, 'n_hidden_layers': 10.0, 'power_of_lr': 3.0, 'dropout_input': 0.05, 'dropout_hidden': 0.1, 'batch_size': 64.0}. Best is trial 579 with value: 0.18744586706161503.\u001b[0m\n",
      "\u001b[32m[I 2021-04-04 23:38:38,638]\u001b[0m Trial 854 finished with value: 0.20763920545578007 and parameters: {'n_neurons': 184.0, 'n_hidden_layers': 10.0, 'power_of_lr': 3.0, 'dropout_input': 0.05, 'dropout_hidden': 0.05, 'batch_size': 96.0}. Best is trial 579 with value: 0.18744586706161503.\u001b[0m\n"
     ]
    },
    {
     "name": "stderr",
     "output_type": "stream",
     "text": [
      "\u001b[32m[I 2021-04-04 23:39:44,944]\u001b[0m Trial 855 finished with value: 0.21547926664352413 and parameters: {'n_neurons': 200.0, 'n_hidden_layers': 10.0, 'power_of_lr': 3.0, 'dropout_input': 0.05, 'dropout_hidden': 0.05, 'batch_size': 80.0}. Best is trial 579 with value: 0.18744586706161503.\u001b[0m\n",
      "\u001b[32m[I 2021-04-04 23:41:02,083]\u001b[0m Trial 856 finished with value: 0.20762037038803105 and parameters: {'n_neurons': 352.0, 'n_hidden_layers': 10.0, 'power_of_lr': 3.0, 'dropout_input': 0.05, 'dropout_hidden': 0.0, 'batch_size': 72.0}. Best is trial 579 with value: 0.18744586706161503.\u001b[0m\n",
      "\u001b[32m[I 2021-04-04 23:42:17,550]\u001b[0m Trial 857 finished with value: 0.2188437700271606 and parameters: {'n_neurons': 224.0, 'n_hidden_layers': 10.0, 'power_of_lr': 3.0, 'dropout_input': 0.05, 'dropout_hidden': 0.30000000000000004, 'batch_size': 88.0}. Best is trial 579 with value: 0.18744586706161503.\u001b[0m\n",
      "\u001b[32m[I 2021-04-04 23:43:08,839]\u001b[0m Trial 858 finished with value: 0.21773900985717776 and parameters: {'n_neurons': 176.0, 'n_hidden_layers': 8.0, 'power_of_lr': 3.0, 'dropout_input': 0.05, 'dropout_hidden': 0.1, 'batch_size': 72.0}. Best is trial 579 with value: 0.18744586706161503.\u001b[0m\n",
      "\u001b[32m[I 2021-04-04 23:43:51,338]\u001b[0m Trial 859 finished with value: 0.21210219860076907 and parameters: {'n_neurons': 168.0, 'n_hidden_layers': 6.0, 'power_of_lr': 3.0, 'dropout_input': 0.05, 'dropout_hidden': 0.05, 'batch_size': 80.0}. Best is trial 579 with value: 0.18744586706161503.\u001b[0m\n",
      "\u001b[32m[I 2021-04-04 23:44:52,171]\u001b[0m Trial 860 finished with value: 0.21658402681350708 and parameters: {'n_neurons': 208.0, 'n_hidden_layers': 9.0, 'power_of_lr': 3.0, 'dropout_input': 0.05, 'dropout_hidden': 0.05, 'batch_size': 48.0}. Best is trial 579 with value: 0.18744586706161503.\u001b[0m\n",
      "\u001b[32m[I 2021-04-04 23:45:56,943]\u001b[0m Trial 861 finished with value: 0.2054045677185059 and parameters: {'n_neurons': 272.0, 'n_hidden_layers': 10.0, 'power_of_lr': 3.0, 'dropout_input': 0.05, 'dropout_hidden': 0.05, 'batch_size': 96.0}. Best is trial 579 with value: 0.18744586706161503.\u001b[0m\n",
      "\u001b[32m[I 2021-04-04 23:47:04,868]\u001b[0m Trial 862 finished with value: 0.20877535343170162 and parameters: {'n_neurons': 192.0, 'n_hidden_layers': 10.0, 'power_of_lr': 3.0, 'dropout_input': 0.05, 'dropout_hidden': 0.0, 'batch_size': 64.0}. Best is trial 579 with value: 0.18744586706161503.\u001b[0m\n",
      "\u001b[32m[I 2021-04-04 23:48:10,188]\u001b[0m Trial 863 finished with value: 0.2154729843139649 and parameters: {'n_neurons': 184.0, 'n_hidden_layers': 10.0, 'power_of_lr': 3.0, 'dropout_input': 0.05, 'dropout_hidden': 0.1, 'batch_size': 80.0}. Best is trial 579 with value: 0.18744586706161503.\u001b[0m\n",
      "\u001b[32m[I 2021-04-04 23:49:11,867]\u001b[0m Trial 864 finished with value: 0.20089135169982908 and parameters: {'n_neurons': 240.0, 'n_hidden_layers': 9.0, 'power_of_lr': 3.0, 'dropout_input': 0.05, 'dropout_hidden': 0.05, 'batch_size': 72.0}. Best is trial 579 with value: 0.18744586706161503.\u001b[0m\n",
      "\u001b[32m[I 2021-04-04 23:49:48,962]\u001b[0m Trial 865 finished with value: 0.20089763402938843 and parameters: {'n_neurons': 160.0, 'n_hidden_layers': 5.0, 'power_of_lr': 3.0, 'dropout_input': 0.05, 'dropout_hidden': 0.05, 'batch_size': 88.0}. Best is trial 579 with value: 0.18744586706161503.\u001b[0m\n",
      "\u001b[32m[I 2021-04-04 23:50:45,744]\u001b[0m Trial 866 finished with value: 0.21882493495941158 and parameters: {'n_neurons': 144.0, 'n_hidden_layers': 10.0, 'power_of_lr': 3.0, 'dropout_input': 0.05, 'dropout_hidden': 0.05, 'batch_size': 56.0}. Best is trial 579 with value: 0.18744586706161503.\u001b[0m\n",
      "\u001b[32m[I 2021-04-04 23:51:44,906]\u001b[0m Trial 867 finished with value: 0.21102254390716557 and parameters: {'n_neurons': 200.0, 'n_hidden_layers': 10.0, 'power_of_lr': 3.0, 'dropout_input': 0.05, 'dropout_hidden': 0.1, 'batch_size': 88.0}. Best is trial 579 with value: 0.18744586706161503.\u001b[0m\n",
      "\u001b[32m[I 2021-04-04 23:52:26,434]\u001b[0m Trial 868 finished with value: 0.2098675608634949 and parameters: {'n_neurons': 224.0, 'n_hidden_layers': 6.0, 'power_of_lr': 3.0, 'dropout_input': 0.05, 'dropout_hidden': 0.05, 'batch_size': 80.0}. Best is trial 579 with value: 0.18744586706161503.\u001b[0m\n",
      "\u001b[32m[I 2021-04-04 23:53:29,356]\u001b[0m Trial 869 finished with value: 0.20313854217529292 and parameters: {'n_neurons': 208.0, 'n_hidden_layers': 10.0, 'power_of_lr': 3.0, 'dropout_input': 0.05, 'dropout_hidden': 0.05, 'batch_size': 72.0}. Best is trial 579 with value: 0.18744586706161503.\u001b[0m\n",
      "\u001b[32m[I 2021-04-04 23:54:30,444]\u001b[0m Trial 870 finished with value: 0.2053229689598084 and parameters: {'n_neurons': 176.0, 'n_hidden_layers': 10.0, 'power_of_lr': 3.0, 'dropout_input': 0.05, 'dropout_hidden': 0.0, 'batch_size': 64.0}. Best is trial 579 with value: 0.18744586706161503.\u001b[0m\n",
      "\u001b[32m[I 2021-04-04 23:55:43,754]\u001b[0m Trial 871 finished with value: 0.2188123822212219 and parameters: {'n_neurons': 320.0, 'n_hidden_layers': 10.0, 'power_of_lr': 3.0, 'dropout_input': 0.05, 'dropout_hidden': 0.05, 'batch_size': 80.0}. Best is trial 579 with value: 0.18744586706161503.\u001b[0m\n",
      "\u001b[32m[I 2021-04-04 23:56:40,564]\u001b[0m Trial 872 finished with value: 0.21207081079483037 and parameters: {'n_neurons': 192.0, 'n_hidden_layers': 9.0, 'power_of_lr': 3.0, 'dropout_input': 0.0, 'dropout_hidden': 0.1, 'batch_size': 88.0}. Best is trial 579 with value: 0.18744586706161503.\u001b[0m\n",
      "\u001b[32m[I 2021-04-04 23:57:35,128]\u001b[0m Trial 873 finished with value: 0.2087063074111939 and parameters: {'n_neurons': 168.0, 'n_hidden_layers': 10.0, 'power_of_lr': 3.0, 'dropout_input': 0.05, 'dropout_hidden': 0.0, 'batch_size': 72.0}. Best is trial 579 with value: 0.18744586706161503.\u001b[0m\n",
      "\u001b[32m[I 2021-04-04 23:58:12,827]\u001b[0m Trial 874 finished with value: 0.21432428359985356 and parameters: {'n_neurons': 128.0, 'n_hidden_layers': 6.0, 'power_of_lr': 3.0, 'dropout_input': 0.05, 'dropout_hidden': 0.05, 'batch_size': 96.0}. Best is trial 579 with value: 0.18744586706161503.\u001b[0m\n",
      "\u001b[32m[I 2021-04-04 23:59:09,864]\u001b[0m Trial 875 finished with value: 0.20090390443801875 and parameters: {'n_neurons': 184.0, 'n_hidden_layers': 10.0, 'power_of_lr': 3.0, 'dropout_input': 0.05, 'dropout_hidden': 0.15000000000000002, 'batch_size': 64.0}. Best is trial 579 with value: 0.18744586706161503.\u001b[0m\n",
      "\u001b[32m[I 2021-04-04 23:59:29,647]\u001b[0m Trial 876 finished with value: 0.2210972428321838 and parameters: {'n_neurons': 160.0, 'n_hidden_layers': 2.0, 'power_of_lr': 3.0, 'dropout_input': 0.05, 'dropout_hidden': 0.05, 'batch_size': 104.0}. Best is trial 579 with value: 0.18744586706161503.\u001b[0m\n",
      "\u001b[32m[I 2021-04-05 00:00:37,416]\u001b[0m Trial 877 finished with value: 0.21095976829528806 and parameters: {'n_neurons': 232.0, 'n_hidden_layers': 10.0, 'power_of_lr': 3.0, 'dropout_input': 0.05, 'dropout_hidden': 0.05, 'batch_size': 72.0}. Best is trial 579 with value: 0.18744586706161503.\u001b[0m\n",
      "\u001b[32m[I 2021-04-05 00:01:32,125]\u001b[0m Trial 878 finished with value: 0.20876907110214238 and parameters: {'n_neurons': 208.0, 'n_hidden_layers': 10.0, 'power_of_lr': 3.0, 'dropout_input': 0.05, 'dropout_hidden': 0.05, 'batch_size': 216.0}. Best is trial 579 with value: 0.18744586706161503.\u001b[0m\n",
      "\u001b[32m[I 2021-04-05 00:02:34,367]\u001b[0m Trial 879 finished with value: 0.2143493890762329 and parameters: {'n_neurons': 328.0, 'n_hidden_layers': 9.0, 'power_of_lr': 3.0, 'dropout_input': 0.05, 'dropout_hidden': 0.1, 'batch_size': 56.0}. Best is trial 579 with value: 0.18744586706161503.\u001b[0m\n",
      "\u001b[32m[I 2021-04-05 00:03:25,833]\u001b[0m Trial 880 finished with value: 0.21544159650802608 and parameters: {'n_neurons': 216.0, 'n_hidden_layers': 8.0, 'power_of_lr': 3.0, 'dropout_input': 0.05, 'dropout_hidden': 0.0, 'batch_size': 80.0}. Best is trial 579 with value: 0.18744586706161503.\u001b[0m\n",
      "\u001b[32m[I 2021-04-05 00:04:17,583]\u001b[0m Trial 881 finished with value: 0.21773900985717776 and parameters: {'n_neurons': 152.0, 'n_hidden_layers': 10.0, 'power_of_lr': 3.0, 'dropout_input': 0.05, 'dropout_hidden': 0.05, 'batch_size': 88.0}. Best is trial 579 with value: 0.18744586706161503.\u001b[0m\n",
      "\u001b[32m[I 2021-04-05 00:22:52,090]\u001b[0m Trial 882 finished with value: 0.21885005235671995 and parameters: {'n_neurons': 184.0, 'n_hidden_layers': 10.0, 'power_of_lr': 3.0, 'dropout_input': 0.05, 'dropout_hidden': 0.05, 'batch_size': 80.0}. Best is trial 579 with value: 0.18744586706161503.\u001b[0m\n"
     ]
    },
    {
     "name": "stderr",
     "output_type": "stream",
     "text": [
      "\u001b[32m[I 2021-04-05 00:24:08,009]\u001b[0m Trial 883 finished with value: 0.22217061519622805 and parameters: {'n_neurons': 200.0, 'n_hidden_layers': 10.0, 'power_of_lr': 3.0, 'dropout_input': 0.05, 'dropout_hidden': 0.05, 'batch_size': 64.0}. Best is trial 579 with value: 0.18744586706161503.\u001b[0m\n",
      "\u001b[32m[I 2021-04-05 00:24:47,407]\u001b[0m Trial 884 finished with value: 0.2120896458625794 and parameters: {'n_neurons': 176.0, 'n_hidden_layers': 6.0, 'power_of_lr': 3.0, 'dropout_input': 0.05, 'dropout_hidden': 0.1, 'batch_size': 72.0}. Best is trial 579 with value: 0.18744586706161503.\u001b[0m\n",
      "\u001b[32m[I 2021-04-05 00:25:46,063]\u001b[0m Trial 885 finished with value: 0.21100370883941655 and parameters: {'n_neurons': 168.0, 'n_hidden_layers': 10.0, 'power_of_lr': 3.0, 'dropout_input': 0.05, 'dropout_hidden': 0.1, 'batch_size': 96.0}. Best is trial 579 with value: 0.18744586706161503.\u001b[0m\n",
      "\u001b[32m[I 2021-04-05 00:26:38,402]\u001b[0m Trial 886 finished with value: 0.2020714402198791 and parameters: {'n_neurons': 200.0, 'n_hidden_layers': 9.0, 'power_of_lr': 3.0, 'dropout_input': 0.05, 'dropout_hidden': 0.05, 'batch_size': 88.0}. Best is trial 579 with value: 0.18744586706161503.\u001b[0m\n",
      "\u001b[32m[I 2021-04-05 00:27:36,157]\u001b[0m Trial 887 finished with value: 0.21994853019714355 and parameters: {'n_neurons': 192.0, 'n_hidden_layers': 10.0, 'power_of_lr': 3.0, 'dropout_input': 0.05, 'dropout_hidden': 0.0, 'batch_size': 80.0}. Best is trial 579 with value: 0.18744586706161503.\u001b[0m\n",
      "\u001b[32m[I 2021-04-05 00:28:38,184]\u001b[0m Trial 888 finished with value: 0.2064842224121094 and parameters: {'n_neurons': 224.0, 'n_hidden_layers': 10.0, 'power_of_lr': 3.0, 'dropout_input': 0.05, 'dropout_hidden': 0.05, 'batch_size': 72.0}. Best is trial 579 with value: 0.18744586706161503.\u001b[0m\n",
      "\u001b[32m[I 2021-04-05 00:29:11,839]\u001b[0m Trial 889 finished with value: 0.20541712045669558 and parameters: {'n_neurons': 144.0, 'n_hidden_layers': 5.0, 'power_of_lr': 3.0, 'dropout_input': 0.05, 'dropout_hidden': 0.05, 'batch_size': 96.0}. Best is trial 579 with value: 0.18744586706161503.\u001b[0m\n",
      "\u001b[32m[I 2021-04-05 00:30:13,056]\u001b[0m Trial 890 finished with value: 0.19866926670074458 and parameters: {'n_neurons': 256.0, 'n_hidden_layers': 10.0, 'power_of_lr': 3.0, 'dropout_input': 0.05, 'dropout_hidden': 0.0, 'batch_size': 80.0}. Best is trial 579 with value: 0.18744586706161503.\u001b[0m\n",
      "\u001b[32m[I 2021-04-05 00:31:10,674]\u001b[0m Trial 891 finished with value: 0.22778232097625728 and parameters: {'n_neurons': 160.0, 'n_hidden_layers': 10.0, 'power_of_lr': 3.0, 'dropout_input': 0.05, 'dropout_hidden': 0.05, 'batch_size': 64.0}. Best is trial 579 with value: 0.18744586706161503.\u001b[0m\n",
      "\u001b[32m[I 2021-04-05 00:31:50,831]\u001b[0m Trial 892 finished with value: 0.2165714740753174 and parameters: {'n_neurons': 176.0, 'n_hidden_layers': 6.0, 'power_of_lr': 3.0, 'dropout_input': 0.05, 'dropout_hidden': 0.05, 'batch_size': 88.0}. Best is trial 579 with value: 0.18744586706161503.\u001b[0m\n",
      "\u001b[32m[I 2021-04-05 00:32:51,668]\u001b[0m Trial 893 finished with value: 0.21208336353302004 and parameters: {'n_neurons': 216.0, 'n_hidden_layers': 10.0, 'power_of_lr': 3.0, 'dropout_input': 0.05, 'dropout_hidden': 0.15000000000000002, 'batch_size': 72.0}. Best is trial 579 with value: 0.18744586706161503.\u001b[0m\n",
      "\u001b[32m[I 2021-04-05 00:33:46,422]\u001b[0m Trial 894 finished with value: 0.2165902972221374 and parameters: {'n_neurons': 192.0, 'n_hidden_layers': 9.0, 'power_of_lr': 3.0, 'dropout_input': 0.05, 'dropout_hidden': 0.0, 'batch_size': 80.0}. Best is trial 579 with value: 0.18744586706161503.\u001b[0m\n",
      "\u001b[32m[I 2021-04-05 00:35:01,584]\u001b[0m Trial 895 finished with value: 0.21095976829528806 and parameters: {'n_neurons': 312.0, 'n_hidden_layers': 10.0, 'power_of_lr': 3.0, 'dropout_input': 0.05, 'dropout_hidden': 0.05, 'batch_size': 56.0}. Best is trial 579 with value: 0.18744586706161503.\u001b[0m\n",
      "\u001b[32m[I 2021-04-05 00:36:05,331]\u001b[0m Trial 896 finished with value: 0.2244178056716919 and parameters: {'n_neurons': 208.0, 'n_hidden_layers': 10.0, 'power_of_lr': 3.0, 'dropout_input': 0.0, 'dropout_hidden': 0.1, 'batch_size': 104.0}. Best is trial 579 with value: 0.18744586706161503.\u001b[0m\n",
      "\u001b[32m[I 2021-04-05 00:37:03,480]\u001b[0m Trial 897 finished with value: 0.2154604315757751 and parameters: {'n_neurons': 136.0, 'n_hidden_layers': 10.0, 'power_of_lr': 3.0, 'dropout_input': 0.05, 'dropout_hidden': 0.1, 'batch_size': 72.0}. Best is trial 579 with value: 0.18744586706161503.\u001b[0m\n",
      "\u001b[32m[I 2021-04-05 00:38:13,836]\u001b[0m Trial 898 finished with value: 0.19979286193847656 and parameters: {'n_neurons': 336.0, 'n_hidden_layers': 9.0, 'power_of_lr': 3.0, 'dropout_input': 0.05, 'dropout_hidden': 0.05, 'batch_size': 88.0}. Best is trial 579 with value: 0.18744586706161503.\u001b[0m\n",
      "\u001b[32m[I 2021-04-05 00:39:08,002]\u001b[0m Trial 899 finished with value: 0.21992970705032344 and parameters: {'n_neurons': 232.0, 'n_hidden_layers': 8.0, 'power_of_lr': 3.0, 'dropout_input': 0.05, 'dropout_hidden': 0.05, 'batch_size': 64.0}. Best is trial 579 with value: 0.18744586706161503.\u001b[0m\n",
      "\u001b[32m[I 2021-04-05 00:40:08,693]\u001b[0m Trial 900 finished with value: 0.20873141288757324 and parameters: {'n_neurons': 184.0, 'n_hidden_layers': 10.0, 'power_of_lr': 3.0, 'dropout_input': 0.05, 'dropout_hidden': 0.05, 'batch_size': 48.0}. Best is trial 579 with value: 0.18744586706161503.\u001b[0m\n",
      "\u001b[32m[I 2021-04-05 00:40:50,575]\u001b[0m Trial 901 finished with value: 0.20758271217346191 and parameters: {'n_neurons': 168.0, 'n_hidden_layers': 6.0, 'power_of_lr': 3.0, 'dropout_input': 0.05, 'dropout_hidden': 0.0, 'batch_size': 80.0}. Best is trial 579 with value: 0.18744586706161503.\u001b[0m\n",
      "\u001b[32m[I 2021-04-05 00:41:47,914]\u001b[0m Trial 902 finished with value: 0.20539201498031612 and parameters: {'n_neurons': 152.0, 'n_hidden_layers': 10.0, 'power_of_lr': 3.0, 'dropout_input': 0.05, 'dropout_hidden': 0.05, 'batch_size': 88.0}. Best is trial 579 with value: 0.18744586706161503.\u001b[0m\n",
      "\u001b[32m[I 2021-04-05 00:42:50,578]\u001b[0m Trial 903 finished with value: 0.20534807443618774 and parameters: {'n_neurons': 192.0, 'n_hidden_layers': 10.0, 'power_of_lr': 3.0, 'dropout_input': 0.05, 'dropout_hidden': 0.05, 'batch_size': 72.0}. Best is trial 579 with value: 0.18744586706161503.\u001b[0m\n",
      "\u001b[32m[I 2021-04-05 00:44:01,124]\u001b[0m Trial 904 finished with value: 0.2109974384307861 and parameters: {'n_neurons': 240.0, 'n_hidden_layers': 10.0, 'power_of_lr': 3.0, 'dropout_input': 0.05, 'dropout_hidden': 0.1, 'batch_size': 96.0}. Best is trial 579 with value: 0.18744586706161503.\u001b[0m\n",
      "\u001b[32m[I 2021-04-05 00:45:08,155]\u001b[0m Trial 905 finished with value: 0.20987384319305424 and parameters: {'n_neurons': 208.0, 'n_hidden_layers': 10.0, 'power_of_lr': 3.0, 'dropout_input': 0.05, 'dropout_hidden': 0.05, 'batch_size': 80.0}. Best is trial 579 with value: 0.18744586706161503.\u001b[0m\n",
      "\u001b[32m[I 2021-04-05 00:46:07,268]\u001b[0m Trial 906 finished with value: 0.2109660506248474 and parameters: {'n_neurons': 112.0, 'n_hidden_layers': 9.0, 'power_of_lr': 3.0, 'dropout_input': 0.05, 'dropout_hidden': 0.05, 'batch_size': 64.0}. Best is trial 579 with value: 0.18744586706161503.\u001b[0m\n",
      "\u001b[32m[I 2021-04-05 00:46:54,991]\u001b[0m Trial 907 finished with value: 0.2143493890762329 and parameters: {'n_neurons': 176.0, 'n_hidden_layers': 6.0, 'power_of_lr': 3.0, 'dropout_input': 0.05, 'dropout_hidden': 0.0, 'batch_size': 72.0}. Best is trial 579 with value: 0.18744586706161503.\u001b[0m\n",
      "\u001b[32m[I 2021-04-05 00:47:59,846]\u001b[0m Trial 908 finished with value: 0.20871257781982422 and parameters: {'n_neurons': 184.0, 'n_hidden_layers': 10.0, 'power_of_lr': 3.0, 'dropout_input': 0.05, 'dropout_hidden': 0.15000000000000002, 'batch_size': 80.0}. Best is trial 579 with value: 0.18744586706161503.\u001b[0m\n",
      "\u001b[32m[I 2021-04-05 00:49:12,109]\u001b[0m Trial 909 finished with value: 0.20313854217529292 and parameters: {'n_neurons': 288.0, 'n_hidden_layers': 10.0, 'power_of_lr': 3.0, 'dropout_input': 0.05, 'dropout_hidden': 0.1, 'batch_size': 88.0}. Best is trial 579 with value: 0.18744586706161503.\u001b[0m\n",
      "\u001b[32m[I 2021-04-05 00:50:22,133]\u001b[0m Trial 910 finished with value: 0.2121586918830871 and parameters: {'n_neurons': 200.0, 'n_hidden_layers': 10.0, 'power_of_lr': 3.0, 'dropout_input': 0.05, 'dropout_hidden': 0.05, 'batch_size': 64.0}. Best is trial 579 with value: 0.18744586706161503.\u001b[0m\n"
     ]
    },
    {
     "name": "stderr",
     "output_type": "stream",
     "text": [
      "\u001b[32m[I 2021-04-05 00:53:03,633]\u001b[0m Trial 911 finished with value: 0.2210344672203064 and parameters: {'n_neurons': 216.0, 'n_hidden_layers': 10.0, 'power_of_lr': 3.0, 'dropout_input': 0.0, 'dropout_hidden': 0.05, 'batch_size': 72.0}. Best is trial 579 with value: 0.18744586706161503.\u001b[0m\n",
      "\u001b[32m[I 2021-04-05 00:54:02,620]\u001b[0m Trial 912 finished with value: 0.21886260509490962 and parameters: {'n_neurons': 160.0, 'n_hidden_layers': 9.0, 'power_of_lr': 3.0, 'dropout_input': 0.05, 'dropout_hidden': 0.05, 'batch_size': 56.0}. Best is trial 579 with value: 0.18744586706161503.\u001b[0m\n",
      "\u001b[32m[I 2021-04-05 00:55:09,504]\u001b[0m Trial 913 finished with value: 0.20315737724304195 and parameters: {'n_neurons': 192.0, 'n_hidden_layers': 10.0, 'power_of_lr': 3.0, 'dropout_input': 0.05, 'dropout_hidden': 0.0, 'batch_size': 96.0}. Best is trial 579 with value: 0.18744586706161503.\u001b[0m\n",
      "\u001b[32m[I 2021-04-05 00:56:10,710]\u001b[0m Trial 914 finished with value: 0.21098488569259644 and parameters: {'n_neurons': 168.0, 'n_hidden_layers': 10.0, 'power_of_lr': 3.0, 'dropout_input': 0.05, 'dropout_hidden': 0.05, 'batch_size': 80.0}. Best is trial 579 with value: 0.18744586706161503.\u001b[0m\n",
      "\u001b[32m[I 2021-04-05 00:56:55,859]\u001b[0m Trial 915 finished with value: 0.20091645717620854 and parameters: {'n_neurons': 184.0, 'n_hidden_layers': 6.0, 'power_of_lr': 3.0, 'dropout_input': 0.05, 'dropout_hidden': 0.05, 'batch_size': 88.0}. Best is trial 579 with value: 0.18744586706161503.\u001b[0m\n",
      "\u001b[32m[I 2021-04-05 00:57:46,432]\u001b[0m Trial 916 finished with value: 0.20311971902847292 and parameters: {'n_neurons': 144.0, 'n_hidden_layers': 8.0, 'power_of_lr': 3.0, 'dropout_input': 0.05, 'dropout_hidden': 0.1, 'batch_size': 80.0}. Best is trial 579 with value: 0.18744586706161503.\u001b[0m\n",
      "\u001b[32m[I 2021-04-05 00:58:43,249]\u001b[0m Trial 917 finished with value: 0.21097232103347774 and parameters: {'n_neurons': 128.0, 'n_hidden_layers': 10.0, 'power_of_lr': 3.0, 'dropout_input': 0.05, 'dropout_hidden': 0.05, 'batch_size': 72.0}. Best is trial 579 with value: 0.18744586706161503.\u001b[0m\n",
      "\u001b[32m[I 2021-04-05 00:59:46,559]\u001b[0m Trial 918 finished with value: 0.20650305747985842 and parameters: {'n_neurons': 200.0, 'n_hidden_layers': 10.0, 'power_of_lr': 3.0, 'dropout_input': 0.05, 'dropout_hidden': 0.1, 'batch_size': 64.0}. Best is trial 579 with value: 0.18744586706161503.\u001b[0m\n",
      "\u001b[32m[I 2021-04-05 01:00:58,907]\u001b[0m Trial 919 finished with value: 0.19640325307846074 and parameters: {'n_neurons': 224.0, 'n_hidden_layers': 9.0, 'power_of_lr': 3.0, 'dropout_input': 0.05, 'dropout_hidden': 0.05, 'batch_size': 80.0}. Best is trial 579 with value: 0.18744586706161503.\u001b[0m\n",
      "\u001b[32m[I 2021-04-05 01:01:58,165]\u001b[0m Trial 920 finished with value: 0.20649677515029907 and parameters: {'n_neurons': 240.0, 'n_hidden_layers': 9.0, 'power_of_lr': 3.0, 'dropout_input': 0.05, 'dropout_hidden': 0.05, 'batch_size': 72.0}. Best is trial 579 with value: 0.18744586706161503.\u001b[0m\n",
      "\u001b[32m[I 2021-04-05 01:02:54,878]\u001b[0m Trial 921 finished with value: 0.22215179204940794 and parameters: {'n_neurons': 232.0, 'n_hidden_layers': 9.0, 'power_of_lr': 3.0, 'dropout_input': 0.05, 'dropout_hidden': 0.0, 'batch_size': 80.0}. Best is trial 579 with value: 0.18744586706161503.\u001b[0m\n",
      "\u001b[32m[I 2021-04-05 01:03:58,289]\u001b[0m Trial 922 finished with value: 0.21323207616806028 and parameters: {'n_neurons': 248.0, 'n_hidden_layers': 10.0, 'power_of_lr': 3.0, 'dropout_input': 0.05, 'dropout_hidden': 0.05, 'batch_size': 80.0}. Best is trial 579 with value: 0.18744586706161503.\u001b[0m\n",
      "\u001b[32m[I 2021-04-05 01:04:56,586]\u001b[0m Trial 923 finished with value: 0.21211475133895874 and parameters: {'n_neurons': 176.0, 'n_hidden_layers': 10.0, 'power_of_lr': 3.0, 'dropout_input': 0.05, 'dropout_hidden': 0.05, 'batch_size': 72.0}. Best is trial 579 with value: 0.18744586706161503.\u001b[0m\n",
      "\u001b[32m[I 2021-04-05 01:05:53,235]\u001b[0m Trial 924 finished with value: 0.21098488569259644 and parameters: {'n_neurons': 160.0, 'n_hidden_layers': 10.0, 'power_of_lr': 3.0, 'dropout_input': 0.05, 'dropout_hidden': 0.05, 'batch_size': 80.0}. Best is trial 579 with value: 0.18744586706161503.\u001b[0m\n",
      "\u001b[32m[I 2021-04-05 01:06:29,173]\u001b[0m Trial 925 finished with value: 0.20873141288757324 and parameters: {'n_neurons': 152.0, 'n_hidden_layers': 5.0, 'power_of_lr': 3.0, 'dropout_input': 0.05, 'dropout_hidden': 0.05, 'batch_size': 72.0}. Best is trial 579 with value: 0.18744586706161503.\u001b[0m\n",
      "\u001b[32m[I 2021-04-05 01:07:24,102]\u001b[0m Trial 926 finished with value: 0.21210219860076907 and parameters: {'n_neurons': 224.0, 'n_hidden_layers': 9.0, 'power_of_lr': 3.0, 'dropout_input': 0.05, 'dropout_hidden': 0.1, 'batch_size': 64.0}. Best is trial 579 with value: 0.18744586706161503.\u001b[0m\n",
      "\u001b[32m[I 2021-04-05 01:08:21,595]\u001b[0m Trial 927 finished with value: 0.21881866455078125 and parameters: {'n_neurons': 248.0, 'n_hidden_layers': 9.0, 'power_of_lr': 3.0, 'dropout_input': 0.05, 'dropout_hidden': 0.0, 'batch_size': 72.0}. Best is trial 579 with value: 0.18744586706161503.\u001b[0m\n",
      "\u001b[32m[I 2021-04-05 01:09:20,960]\u001b[0m Trial 928 finished with value: 0.22107840776443477 and parameters: {'n_neurons': 224.0, 'n_hidden_layers': 10.0, 'power_of_lr': 3.0, 'dropout_input': 0.05, 'dropout_hidden': 0.05, 'batch_size': 80.0}. Best is trial 579 with value: 0.18744586706161503.\u001b[0m\n",
      "\u001b[32m[I 2021-04-05 01:10:20,317]\u001b[0m Trial 929 finished with value: 0.21772645711898808 and parameters: {'n_neurons': 232.0, 'n_hidden_layers': 9.0, 'power_of_lr': 3.0, 'dropout_input': 0.05, 'dropout_hidden': 0.1, 'batch_size': 64.0}. Best is trial 579 with value: 0.18744586706161503.\u001b[0m\n",
      "\u001b[32m[I 2021-04-05 01:11:20,002]\u001b[0m Trial 930 finished with value: 0.21322579383850093 and parameters: {'n_neurons': 216.0, 'n_hidden_layers': 9.0, 'power_of_lr': 3.0, 'dropout_input': 0.05, 'dropout_hidden': 0.2, 'batch_size': 56.0}. Best is trial 579 with value: 0.18744586706161503.\u001b[0m\n",
      "\u001b[32m[I 2021-04-05 01:11:58,368]\u001b[0m Trial 931 finished with value: 0.20878162384033205 and parameters: {'n_neurons': 176.0, 'n_hidden_layers': 6.0, 'power_of_lr': 3.0, 'dropout_input': 0.1, 'dropout_hidden': 0.05, 'batch_size': 80.0}. Best is trial 579 with value: 0.18744586706161503.\u001b[0m\n",
      "\u001b[32m[I 2021-04-05 01:12:59,368]\u001b[0m Trial 932 finished with value: 0.19645346403121944 and parameters: {'n_neurons': 192.0, 'n_hidden_layers': 10.0, 'power_of_lr': 3.0, 'dropout_input': 0.05, 'dropout_hidden': 0.05, 'batch_size': 88.0}. Best is trial 579 with value: 0.18744586706161503.\u001b[0m\n",
      "\u001b[32m[I 2021-04-05 01:14:07,571]\u001b[0m Trial 933 finished with value: 0.22669638395309444 and parameters: {'n_neurons': 304.0, 'n_hidden_layers': 9.0, 'power_of_lr': 3.0, 'dropout_input': 0.05, 'dropout_hidden': 0.5, 'batch_size': 72.0}. Best is trial 579 with value: 0.18744586706161503.\u001b[0m\n",
      "\u001b[32m[I 2021-04-05 01:15:11,356]\u001b[0m Trial 934 finished with value: 0.22218945026397707 and parameters: {'n_neurons': 168.0, 'n_hidden_layers': 10.0, 'power_of_lr': 3.0, 'dropout_input': 0.05, 'dropout_hidden': 0.05, 'batch_size': 80.0}. Best is trial 579 with value: 0.18744586706161503.\u001b[0m\n",
      "\u001b[32m[I 2021-04-05 01:16:11,537]\u001b[0m Trial 935 finished with value: 0.22328165769577024 and parameters: {'n_neurons': 208.0, 'n_hidden_layers': 10.0, 'power_of_lr': 3.0, 'dropout_input': 0.05, 'dropout_hidden': 0.05, 'batch_size': 88.0}. Best is trial 579 with value: 0.18744586706161503.\u001b[0m\n",
      "\u001b[32m[I 2021-04-05 01:37:17,637]\u001b[0m Trial 936 finished with value: 0.22107212543487553 and parameters: {'n_neurons': 264.0, 'n_hidden_layers': 9.0, 'power_of_lr': 3.0, 'dropout_input': 0.05, 'dropout_hidden': 0.0, 'batch_size': 64.0}. Best is trial 579 with value: 0.18744586706161503.\u001b[0m\n",
      "\u001b[32m[I 2021-04-05 01:38:43,934]\u001b[0m Trial 937 finished with value: 0.20315737724304195 and parameters: {'n_neurons': 176.0, 'n_hidden_layers': 10.0, 'power_of_lr': 3.0, 'dropout_input': 0.0, 'dropout_hidden': 0.05, 'batch_size': 88.0}. Best is trial 579 with value: 0.18744586706161503.\u001b[0m\n",
      "\u001b[32m[I 2021-04-05 01:39:33,790]\u001b[0m Trial 938 finished with value: 0.21210219860076907 and parameters: {'n_neurons': 184.0, 'n_hidden_layers': 8.0, 'power_of_lr': 3.0, 'dropout_input': 0.1, 'dropout_hidden': 0.05, 'batch_size': 80.0}. Best is trial 579 with value: 0.18744586706161503.\u001b[0m\n",
      "\u001b[32m[I 2021-04-05 01:40:23,764]\u001b[0m Trial 939 finished with value: 0.2042935252189636 and parameters: {'n_neurons': 136.0, 'n_hidden_layers': 9.0, 'power_of_lr': 3.0, 'dropout_input': 0.05, 'dropout_hidden': 0.1, 'batch_size': 72.0}. Best is trial 579 with value: 0.18744586706161503.\u001b[0m\n"
     ]
    },
    {
     "name": "stderr",
     "output_type": "stream",
     "text": [
      "\u001b[32m[I 2021-04-05 01:41:25,968]\u001b[0m Trial 940 finished with value: 0.20534807443618774 and parameters: {'n_neurons': 208.0, 'n_hidden_layers': 10.0, 'power_of_lr': 3.0, 'dropout_input': 0.05, 'dropout_hidden': 0.05, 'batch_size': 72.0}. Best is trial 579 with value: 0.18744586706161503.\u001b[0m\n",
      "\u001b[32m[I 2021-04-05 01:42:24,033]\u001b[0m Trial 941 finished with value: 0.20536690950393677 and parameters: {'n_neurons': 160.0, 'n_hidden_layers': 10.0, 'power_of_lr': 3.0, 'dropout_input': 0.05, 'dropout_hidden': 0.05, 'batch_size': 80.0}. Best is trial 579 with value: 0.18744586706161503.\u001b[0m\n",
      "\u001b[32m[I 2021-04-05 01:43:06,542]\u001b[0m Trial 942 finished with value: 0.21097232103347774 and parameters: {'n_neurons': 120.0, 'n_hidden_layers': 6.0, 'power_of_lr': 3.0, 'dropout_input': 0.05, 'dropout_hidden': 0.05, 'batch_size': 88.0}. Best is trial 579 with value: 0.18744586706161503.\u001b[0m\n",
      "\u001b[32m[I 2021-04-05 01:44:03,217]\u001b[0m Trial 943 finished with value: 0.20874396562576292 and parameters: {'n_neurons': 224.0, 'n_hidden_layers': 9.0, 'power_of_lr': 3.0, 'dropout_input': 0.05, 'dropout_hidden': 0.0, 'batch_size': 104.0}. Best is trial 579 with value: 0.18744586706161503.\u001b[0m\n",
      "\u001b[32m[I 2021-04-05 01:45:08,874]\u001b[0m Trial 944 finished with value: 0.2176825165748596 and parameters: {'n_neurons': 192.0, 'n_hidden_layers': 10.0, 'power_of_lr': 3.0, 'dropout_input': 0.05, 'dropout_hidden': 0.05, 'batch_size': 80.0}. Best is trial 579 with value: 0.18744586706161503.\u001b[0m\n",
      "\u001b[32m[I 2021-04-05 01:46:10,586]\u001b[0m Trial 945 finished with value: 0.20762037038803105 and parameters: {'n_neurons': 240.0, 'n_hidden_layers': 9.0, 'power_of_lr': 3.0, 'dropout_input': 0.05, 'dropout_hidden': 0.15000000000000002, 'batch_size': 64.0}. Best is trial 579 with value: 0.18744586706161503.\u001b[0m\n",
      "\u001b[32m[I 2021-04-05 01:47:09,451]\u001b[0m Trial 946 finished with value: 0.21206454038619993 and parameters: {'n_neurons': 152.0, 'n_hidden_layers': 9.0, 'power_of_lr': 3.0, 'dropout_input': 0.05, 'dropout_hidden': 0.1, 'batch_size': 56.0}. Best is trial 579 with value: 0.18744586706161503.\u001b[0m\n",
      "\u001b[32m[I 2021-04-05 01:48:12,459]\u001b[0m Trial 947 finished with value: 0.20538573265075688 and parameters: {'n_neurons': 200.0, 'n_hidden_layers': 10.0, 'power_of_lr': 3.0, 'dropout_input': 0.1, 'dropout_hidden': 0.05, 'batch_size': 72.0}. Best is trial 579 with value: 0.18744586706161503.\u001b[0m\n",
      "\u001b[32m[I 2021-04-05 01:49:12,849]\u001b[0m Trial 948 finished with value: 0.20760781764984126 and parameters: {'n_neurons': 184.0, 'n_hidden_layers': 10.0, 'power_of_lr': 3.0, 'dropout_input': 0.05, 'dropout_hidden': 0.05, 'batch_size': 80.0}. Best is trial 579 with value: 0.18744586706161503.\u001b[0m\n",
      "\u001b[32m[I 2021-04-05 01:50:16,206]\u001b[0m Trial 949 finished with value: 0.20765175819396975 and parameters: {'n_neurons': 168.0, 'n_hidden_layers': 10.0, 'power_of_lr': 3.0, 'dropout_input': 0.05, 'dropout_hidden': 0.05, 'batch_size': 88.0}. Best is trial 579 with value: 0.18744586706161503.\u001b[0m\n",
      "\u001b[32m[I 2021-04-05 01:51:20,450]\u001b[0m Trial 950 finished with value: 0.20650932788848875 and parameters: {'n_neurons': 216.0, 'n_hidden_layers': 9.0, 'power_of_lr': 3.0, 'dropout_input': 0.05, 'dropout_hidden': 0.1, 'batch_size': 64.0}. Best is trial 579 with value: 0.18744586706161503.\u001b[0m\n",
      "\u001b[32m[I 2021-04-05 01:52:31,378]\u001b[0m Trial 951 finished with value: 0.22105330228805542 and parameters: {'n_neurons': 232.0, 'n_hidden_layers': 9.0, 'power_of_lr': 4.0, 'dropout_input': 0.05, 'dropout_hidden': 0.0, 'batch_size': 72.0}. Best is trial 579 with value: 0.18744586706161503.\u001b[0m\n",
      "\u001b[32m[I 2021-04-05 01:53:27,405]\u001b[0m Trial 952 finished with value: 0.20647794008255005 and parameters: {'n_neurons': 144.0, 'n_hidden_layers': 9.0, 'power_of_lr': 3.0, 'dropout_input': 0.05, 'dropout_hidden': 0.0, 'batch_size': 48.0}. Best is trial 579 with value: 0.18744586706161503.\u001b[0m\n",
      "\u001b[32m[I 2021-04-05 01:54:31,918]\u001b[0m Trial 953 finished with value: 0.20536690950393677 and parameters: {'n_neurons': 224.0, 'n_hidden_layers': 9.0, 'power_of_lr': 3.0, 'dropout_input': 0.05, 'dropout_hidden': 0.1, 'batch_size': 96.0}. Best is trial 579 with value: 0.18744586706161503.\u001b[0m\n",
      "\u001b[32m[I 2021-04-05 01:55:34,158]\u001b[0m Trial 954 finished with value: 0.20649677515029907 and parameters: {'n_neurons': 248.0, 'n_hidden_layers': 9.0, 'power_of_lr': 3.0, 'dropout_input': 0.05, 'dropout_hidden': 0.1, 'batch_size': 72.0}. Best is trial 579 with value: 0.18744586706161503.\u001b[0m\n",
      "\u001b[32m[I 2021-04-05 01:56:40,151]\u001b[0m Trial 955 finished with value: 0.2266901016235352 and parameters: {'n_neurons': 200.0, 'n_hidden_layers': 10.0, 'power_of_lr': 3.0, 'dropout_input': 0.1, 'dropout_hidden': 0.05, 'batch_size': 80.0}. Best is trial 579 with value: 0.18744586706161503.\u001b[0m\n",
      "\u001b[32m[I 2021-04-05 01:57:45,404]\u001b[0m Trial 956 finished with value: 0.2087251305580139 and parameters: {'n_neurons': 176.0, 'n_hidden_layers': 9.0, 'power_of_lr': 3.0, 'dropout_input': 0.05, 'dropout_hidden': 0.15000000000000002, 'batch_size': 56.0}. Best is trial 579 with value: 0.18744586706161503.\u001b[0m\n",
      "\u001b[32m[I 2021-04-05 01:58:51,913]\u001b[0m Trial 957 finished with value: 0.2099177718162537 and parameters: {'n_neurons': 168.0, 'n_hidden_layers': 10.0, 'power_of_lr': 3.0, 'dropout_input': 0.05, 'dropout_hidden': 0.05, 'batch_size': 88.0}. Best is trial 579 with value: 0.18744586706161503.\u001b[0m\n",
      "\u001b[32m[I 2021-04-05 01:59:58,154]\u001b[0m Trial 958 finished with value: 0.21883748769760136 and parameters: {'n_neurons': 160.0, 'n_hidden_layers': 10.0, 'power_of_lr': 3.0, 'dropout_input': 0.05, 'dropout_hidden': 0.0, 'batch_size': 64.0}. Best is trial 579 with value: 0.18744586706161503.\u001b[0m\n",
      "\u001b[32m[I 2021-04-05 02:00:57,876]\u001b[0m Trial 959 finished with value: 0.21321324110031126 and parameters: {'n_neurons': 216.0, 'n_hidden_layers': 8.0, 'power_of_lr': 3.0, 'dropout_input': 0.05, 'dropout_hidden': 0.05, 'batch_size': 72.0}. Best is trial 579 with value: 0.18744586706161503.\u001b[0m\n",
      "\u001b[32m[I 2021-04-05 02:01:58,813]\u001b[0m Trial 960 finished with value: 0.2042621374130249 and parameters: {'n_neurons': 136.0, 'n_hidden_layers': 9.0, 'power_of_lr': 3.0, 'dropout_input': 0.05, 'dropout_hidden': 0.1, 'batch_size': 104.0}. Best is trial 579 with value: 0.18744586706161503.\u001b[0m\n",
      "\u001b[32m[I 2021-04-05 02:03:00,684]\u001b[0m Trial 961 finished with value: 0.2098047971725464 and parameters: {'n_neurons': 192.0, 'n_hidden_layers': 6.0, 'power_of_lr': 3.0, 'dropout_input': 0.0, 'dropout_hidden': 0.05, 'batch_size': 80.0}. Best is trial 579 with value: 0.18744586706161503.\u001b[0m\n",
      "\u001b[32m[I 2021-04-05 02:04:12,801]\u001b[0m Trial 962 finished with value: 0.20205888748168943 and parameters: {'n_neurons': 184.0, 'n_hidden_layers': 10.0, 'power_of_lr': 3.0, 'dropout_input': 0.05, 'dropout_hidden': 0.05, 'batch_size': 88.0}. Best is trial 579 with value: 0.18744586706161503.\u001b[0m\n",
      "\u001b[32m[I 2021-04-05 02:05:24,390]\u001b[0m Trial 963 finished with value: 0.21656519174575806 and parameters: {'n_neurons': 232.0, 'n_hidden_layers': 9.0, 'power_of_lr': 3.0, 'dropout_input': 0.05, 'dropout_hidden': 0.0, 'batch_size': 72.0}. Best is trial 579 with value: 0.18744586706161503.\u001b[0m\n",
      "\u001b[32m[I 2021-04-05 02:06:39,983]\u001b[0m Trial 964 finished with value: 0.2042433142662048 and parameters: {'n_neurons': 200.0, 'n_hidden_layers': 10.0, 'power_of_lr': 3.0, 'dropout_input': 0.05, 'dropout_hidden': 0.05, 'batch_size': 80.0}. Best is trial 579 with value: 0.18744586706161503.\u001b[0m\n",
      "\u001b[32m[I 2021-04-05 02:07:40,206]\u001b[0m Trial 965 finished with value: 0.20204633474349976 and parameters: {'n_neurons': 152.0, 'n_hidden_layers': 8.0, 'power_of_lr': 3.0, 'dropout_input': 0.05, 'dropout_hidden': 0.05, 'batch_size': 64.0}. Best is trial 579 with value: 0.18744586706161503.\u001b[0m\n",
      "\u001b[32m[I 2021-04-05 02:08:49,895]\u001b[0m Trial 966 finished with value: 0.2187935590744019 and parameters: {'n_neurons': 256.0, 'n_hidden_layers': 9.0, 'power_of_lr': 3.0, 'dropout_input': 0.05, 'dropout_hidden': 0.0, 'batch_size': 96.0}. Best is trial 579 with value: 0.18744586706161503.\u001b[0m\n",
      "\u001b[32m[I 2021-04-05 02:10:12,847]\u001b[0m Trial 967 finished with value: 0.2053731799125671 and parameters: {'n_neurons': 216.0, 'n_hidden_layers': 10.0, 'power_of_lr': 3.0, 'dropout_input': 0.05, 'dropout_hidden': 0.05, 'batch_size': 72.0}. Best is trial 579 with value: 0.18744586706161503.\u001b[0m\n"
     ]
    },
    {
     "name": "stderr",
     "output_type": "stream",
     "text": [
      "\u001b[32m[I 2021-04-05 02:11:04,354]\u001b[0m Trial 968 finished with value: 0.20880045890808108 and parameters: {'n_neurons': 176.0, 'n_hidden_layers': 6.0, 'power_of_lr': 3.0, 'dropout_input': 0.1, 'dropout_hidden': 0.05, 'batch_size': 88.0}. Best is trial 579 with value: 0.18744586706161503.\u001b[0m\n",
      "\u001b[32m[I 2021-04-05 02:12:28,857]\u001b[0m Trial 969 finished with value: 0.21768878698349003 and parameters: {'n_neurons': 360.0, 'n_hidden_layers': 10.0, 'power_of_lr': 3.0, 'dropout_input': 0.05, 'dropout_hidden': 0.1, 'batch_size': 64.0}. Best is trial 579 with value: 0.18744586706161503.\u001b[0m\n",
      "\u001b[32m[I 2021-04-05 02:13:26,315]\u001b[0m Trial 970 finished with value: 0.20316364765167239 and parameters: {'n_neurons': 96.0, 'n_hidden_layers': 9.0, 'power_of_lr': 3.0, 'dropout_input': 0.05, 'dropout_hidden': 0.05, 'batch_size': 72.0}. Best is trial 579 with value: 0.18744586706161503.\u001b[0m\n",
      "\u001b[32m[I 2021-04-05 02:14:33,146]\u001b[0m Trial 971 finished with value: 0.20988011360168457 and parameters: {'n_neurons': 192.0, 'n_hidden_layers': 10.0, 'power_of_lr': 3.0, 'dropout_input': 0.05, 'dropout_hidden': 0.05, 'batch_size': 80.0}. Best is trial 579 with value: 0.18744586706161503.\u001b[0m\n",
      "\u001b[32m[I 2021-04-05 02:15:42,305]\u001b[0m Trial 972 finished with value: 0.2121084809303284 and parameters: {'n_neurons': 168.0, 'n_hidden_layers': 10.0, 'power_of_lr': 3.0, 'dropout_input': 0.05, 'dropout_hidden': 0.1, 'batch_size': 72.0}. Best is trial 579 with value: 0.18744586706161503.\u001b[0m\n",
      "\u001b[32m[I 2021-04-05 02:17:03,905]\u001b[0m Trial 973 finished with value: 0.22105957269668575 and parameters: {'n_neurons': 344.0, 'n_hidden_layers': 10.0, 'power_of_lr': 3.0, 'dropout_input': 0.05, 'dropout_hidden': 0.05, 'batch_size': 80.0}. Best is trial 579 with value: 0.18744586706161503.\u001b[0m\n",
      "\u001b[32m[I 2021-04-05 02:18:07,377]\u001b[0m Trial 974 finished with value: 0.2064842224121094 and parameters: {'n_neurons': 208.0, 'n_hidden_layers': 10.0, 'power_of_lr': 3.0, 'dropout_input': 0.05, 'dropout_hidden': 0.0, 'batch_size': 96.0}. Best is trial 579 with value: 0.18744586706161503.\u001b[0m\n",
      "\u001b[32m[I 2021-04-05 02:19:08,510]\u001b[0m Trial 975 finished with value: 0.2266712784767151 and parameters: {'n_neurons': 160.0, 'n_hidden_layers': 8.0, 'power_of_lr': 3.0, 'dropout_input': 0.05, 'dropout_hidden': 0.0, 'batch_size': 56.0}. Best is trial 579 with value: 0.18744586706161503.\u001b[0m\n",
      "\u001b[32m[I 2021-04-05 02:21:07,638]\u001b[0m Trial 976 finished with value: 0.1975582242012024 and parameters: {'n_neurons': 240.0, 'n_hidden_layers': 9.0, 'power_of_lr': 3.0, 'dropout_input': 0.05, 'dropout_hidden': 0.2, 'batch_size': 64.0}. Best is trial 579 with value: 0.18744586706161503.\u001b[0m\n",
      "\u001b[32m[I 2021-04-05 02:21:55,064]\u001b[0m Trial 977 finished with value: 0.2244178056716919 and parameters: {'n_neurons': 184.0, 'n_hidden_layers': 6.0, 'power_of_lr': 3.0, 'dropout_input': 0.1, 'dropout_hidden': 0.05, 'batch_size': 88.0}. Best is trial 579 with value: 0.18744586706161503.\u001b[0m\n",
      "\u001b[32m[I 2021-04-05 02:22:50,135]\u001b[0m Trial 978 finished with value: 0.1975582242012024 and parameters: {'n_neurons': 488.0, 'n_hidden_layers': 5.0, 'power_of_lr': 3.0, 'dropout_input': 0.05, 'dropout_hidden': 0.05, 'batch_size': 80.0}. Best is trial 579 with value: 0.18744586706161503.\u001b[0m\n",
      "\u001b[32m[I 2021-04-05 02:23:51,148]\u001b[0m Trial 979 finished with value: 0.21996736526489258 and parameters: {'n_neurons': 128.0, 'n_hidden_layers': 10.0, 'power_of_lr': 3.0, 'dropout_input': 0.05, 'dropout_hidden': 0.25, 'batch_size': 72.0}. Best is trial 579 with value: 0.18744586706161503.\u001b[0m\n",
      "\u001b[32m[I 2021-04-05 02:25:04,890]\u001b[0m Trial 980 finished with value: 0.2188123822212219 and parameters: {'n_neurons': 320.0, 'n_hidden_layers': 9.0, 'power_of_lr': 3.0, 'dropout_input': 0.05, 'dropout_hidden': 0.4, 'batch_size': 72.0}. Best is trial 579 with value: 0.18744586706161503.\u001b[0m\n",
      "\u001b[32m[I 2021-04-05 02:26:10,528]\u001b[0m Trial 981 finished with value: 0.19416233301162722 and parameters: {'n_neurons': 144.0, 'n_hidden_layers': 10.0, 'power_of_lr': 3.0, 'dropout_input': 0.05, 'dropout_hidden': 0.1, 'batch_size': 104.0}. Best is trial 579 with value: 0.18744586706161503.\u001b[0m\n",
      "\u001b[32m[I 2021-04-05 02:27:11,092]\u001b[0m Trial 982 finished with value: 0.19081038236618042 and parameters: {'n_neurons': 144.0, 'n_hidden_layers': 10.0, 'power_of_lr': 3.0, 'dropout_input': 0.05, 'dropout_hidden': 0.1, 'batch_size': 96.0}. Best is trial 579 with value: 0.18744586706161503.\u001b[0m\n",
      "\u001b[32m[I 2021-04-05 02:28:09,066]\u001b[0m Trial 983 finished with value: 0.2076266527175903 and parameters: {'n_neurons': 136.0, 'n_hidden_layers': 10.0, 'power_of_lr': 3.0, 'dropout_input': 0.05, 'dropout_hidden': 0.1, 'batch_size': 104.0}. Best is trial 579 with value: 0.18744586706161503.\u001b[0m\n",
      "\u001b[32m[I 2021-04-05 02:29:08,404]\u001b[0m Trial 984 finished with value: 0.20538573265075688 and parameters: {'n_neurons': 120.0, 'n_hidden_layers': 10.0, 'power_of_lr': 3.0, 'dropout_input': 0.05, 'dropout_hidden': 0.1, 'batch_size': 104.0}. Best is trial 579 with value: 0.18744586706161503.\u001b[0m\n",
      "\u001b[32m[I 2021-04-05 02:30:15,527]\u001b[0m Trial 985 finished with value: 0.20541083812713623 and parameters: {'n_neurons': 128.0, 'n_hidden_layers': 10.0, 'power_of_lr': 3.0, 'dropout_input': 0.05, 'dropout_hidden': 0.1, 'batch_size': 104.0}. Best is trial 579 with value: 0.18744586706161503.\u001b[0m\n",
      "\u001b[32m[I 2021-04-05 02:31:16,846]\u001b[0m Trial 986 finished with value: 0.22780742645263674 and parameters: {'n_neurons': 144.0, 'n_hidden_layers': 10.0, 'power_of_lr': 3.0, 'dropout_input': 0.05, 'dropout_hidden': 0.1, 'batch_size': 96.0}. Best is trial 579 with value: 0.18744586706161503.\u001b[0m\n",
      "\u001b[32m[I 2021-04-05 02:33:10,960]\u001b[0m Trial 987 finished with value: 0.20986129045486446 and parameters: {'n_neurons': 144.0, 'n_hidden_layers': 10.0, 'power_of_lr': 3.0, 'dropout_input': 0.05, 'dropout_hidden': 0.1, 'batch_size': 96.0}. Best is trial 579 with value: 0.18744586706161503.\u001b[0m\n",
      "\u001b[32m[I 2021-04-05 02:34:09,003]\u001b[0m Trial 988 finished with value: 0.22442408800125124 and parameters: {'n_neurons': 128.0, 'n_hidden_layers': 10.0, 'power_of_lr': 3.0, 'dropout_input': 0.05, 'dropout_hidden': 0.1, 'batch_size': 96.0}. Best is trial 579 with value: 0.18744586706161503.\u001b[0m\n",
      "\u001b[32m[I 2021-04-05 02:35:05,887]\u001b[0m Trial 989 finished with value: 0.2042621374130249 and parameters: {'n_neurons': 136.0, 'n_hidden_layers': 10.0, 'power_of_lr': 3.0, 'dropout_input': 0.05, 'dropout_hidden': 0.1, 'batch_size': 96.0}. Best is trial 579 with value: 0.18744586706161503.\u001b[0m\n",
      "\u001b[32m[I 2021-04-05 02:36:03,518]\u001b[0m Trial 990 finished with value: 0.2031824827194214 and parameters: {'n_neurons': 152.0, 'n_hidden_layers': 10.0, 'power_of_lr': 3.0, 'dropout_input': 0.05, 'dropout_hidden': 0.1, 'batch_size': 96.0}. Best is trial 579 with value: 0.18744586706161503.\u001b[0m\n",
      "\u001b[32m[I 2021-04-05 02:37:00,549]\u001b[0m Trial 991 finished with value: 0.21211475133895874 and parameters: {'n_neurons': 144.0, 'n_hidden_layers': 10.0, 'power_of_lr': 3.0, 'dropout_input': 0.05, 'dropout_hidden': 0.1, 'batch_size': 112.0}. Best is trial 579 with value: 0.18744586706161503.\u001b[0m\n",
      "\u001b[32m[I 2021-04-05 02:38:00,023]\u001b[0m Trial 992 finished with value: 0.20649677515029907 and parameters: {'n_neurons': 136.0, 'n_hidden_layers': 10.0, 'power_of_lr': 3.0, 'dropout_input': 0.05, 'dropout_hidden': 0.1, 'batch_size': 104.0}. Best is trial 579 with value: 0.18744586706161503.\u001b[0m\n",
      "\u001b[32m[I 2021-04-05 10:03:13,907]\u001b[0m Trial 993 finished with value: 0.2064842224121094 and parameters: {'n_neurons': 120.0, 'n_hidden_layers': 10.0, 'power_of_lr': 3.0, 'dropout_input': 0.05, 'dropout_hidden': 0.1, 'batch_size': 104.0}. Best is trial 579 with value: 0.18744586706161503.\u001b[0m\n",
      "\u001b[32m[I 2021-04-05 10:04:43,274]\u001b[0m Trial 994 finished with value: 0.2054233908653259 and parameters: {'n_neurons': 144.0, 'n_hidden_layers': 10.0, 'power_of_lr': 3.0, 'dropout_input': 0.05, 'dropout_hidden': 0.1, 'batch_size': 88.0}. Best is trial 579 with value: 0.18744586706161503.\u001b[0m\n",
      "\u001b[32m[I 2021-04-05 10:05:48,666]\u001b[0m Trial 995 finished with value: 0.21657774448394773 and parameters: {'n_neurons': 152.0, 'n_hidden_layers': 10.0, 'power_of_lr': 3.0, 'dropout_input': 0.05, 'dropout_hidden': 0.15000000000000002, 'batch_size': 96.0}. Best is trial 579 with value: 0.18744586706161503.\u001b[0m\n",
      "\u001b[32m[I 2021-04-05 10:06:47,171]\u001b[0m Trial 996 finished with value: 0.20205260515213008 and parameters: {'n_neurons': 136.0, 'n_hidden_layers': 10.0, 'power_of_lr': 3.0, 'dropout_input': 0.05, 'dropout_hidden': 0.1, 'batch_size': 48.0}. Best is trial 579 with value: 0.18744586706161503.\u001b[0m\n"
     ]
    },
    {
     "name": "stderr",
     "output_type": "stream",
     "text": [
      "\u001b[32m[I 2021-04-05 10:07:55,641]\u001b[0m Trial 997 finished with value: 0.2009415626525879 and parameters: {'n_neurons': 152.0, 'n_hidden_layers': 10.0, 'power_of_lr': 3.0, 'dropout_input': 0.05, 'dropout_hidden': 0.1, 'batch_size': 64.0}. Best is trial 579 with value: 0.18744586706161503.\u001b[0m\n",
      "\u001b[32m[I 2021-04-05 10:08:56,674]\u001b[0m Trial 998 finished with value: 0.20313854217529292 and parameters: {'n_neurons': 144.0, 'n_hidden_layers': 10.0, 'power_of_lr': 3.0, 'dropout_input': 0.05, 'dropout_hidden': 0.1, 'batch_size': 96.0}. Best is trial 579 with value: 0.18744586706161503.\u001b[0m\n",
      "\u001b[32m[I 2021-04-05 10:09:58,826]\u001b[0m Trial 999 finished with value: 0.24009792804718022 and parameters: {'n_neurons': 160.0, 'n_hidden_layers': 10.0, 'power_of_lr': 3.0, 'dropout_input': 0.05, 'dropout_hidden': 0.1, 'batch_size': 88.0}. Best is trial 579 with value: 0.18744586706161503.\u001b[0m\n"
     ]
    },
    {
     "name": "stdout",
     "output_type": "stream",
     "text": [
      "params: {'n_neurons': 232.0, 'n_hidden_layers': 10.0, 'power_of_lr': 3.0, 'dropout_input': 0.05, 'dropout_hidden': 0.05, 'batch_size': 80.0}\n"
     ]
    }
   ],
   "source": [
    "x = tf.stack([processed_pClass, processed_sex, processed_binned_age, processed_sibSpParch, processed_fare, processed_binary_cabin, processed_embarked], axis = 1)\n",
    "y = tf.convert_to_tensor(survived.reshape(-1, 1), dtype=tf.float32)\n",
    "\n",
    "f = partial(objective, x, y)\n",
    "\n",
    "study = optuna.create_study()\n",
    "\n",
    "study.optimize(f, n_trials=1000)\n",
    "\n",
    "print('params:', study.best_params)"
   ]
  },
  {
   "cell_type": "markdown",
   "metadata": {},
   "source": [
    "### 最適化したハイパーパラメータを用いたモデルの生成"
   ]
  },
  {
   "cell_type": "code",
   "execution_count": 36,
   "metadata": {},
   "outputs": [],
   "source": [
    "model = generate_and_fit_model(int(study.best_params['n_neurons']), int(study.best_params['n_hidden_layers']), int(study.best_params['power_of_lr']), study.best_params['dropout_input'], study.best_params['dropout_hidden'], int(study.best_params['batch_size']), x, y)"
   ]
  },
  {
   "cell_type": "markdown",
   "metadata": {},
   "source": [
    "## テスト用データの予測"
   ]
  },
  {
   "cell_type": "markdown",
   "metadata": {},
   "source": [
    "### テスト用データの読み込み"
   ]
  },
  {
   "cell_type": "code",
   "execution_count": 37,
   "metadata": {},
   "outputs": [],
   "source": [
    "unprocessed_data = pd.DataFrame(pd.read_csv(\"data/test.csv\")).to_numpy()\n",
    "pClass_test = unprocessed_data[:, 1]\n",
    "sex_test = unprocessed_data[:, 3]\n",
    "age_test = unprocessed_data[:, 4]\n",
    "sibSp_test = unprocessed_data[:, 5]\n",
    "parch_test = unprocessed_data[:, 6]\n",
    "fare_test = unprocessed_data[:, 8]\n",
    "cabin_test = unprocessed_data[:, 9]\n",
    "embarked_test = unprocessed_data[:, 10]\n",
    "embarked_test[np.where(embarked_test != embarked_test)] = \"missing\""
   ]
  },
  {
   "cell_type": "markdown",
   "metadata": {},
   "source": [
    "### テスト用データの加工"
   ]
  },
  {
   "cell_type": "code",
   "execution_count": 38,
   "metadata": {},
   "outputs": [],
   "source": [
    "processed_pClass_test = target_encoding(survived, pClass, pClass_test, False)\n",
    "processed_sex_test = target_encoding(survived, sex, sex_test, False)\n",
    "number_of_bins = 8\n",
    "binned_age_test = pd.cut(age_test, number_of_bins , labels = False)\n",
    "binned_age_test[np.where(binned_age_test != binned_age_test)] = number_of_bins\n",
    "processed_binned_age_test = target_encoding(survived, binned_age, binned_age_test, False)\n",
    "binary_sibSp_test = np.array([int(sbsp > 0) for sbsp in sibSp_test])\n",
    "binary_parch_test = np.array([int(prch > 0) for prch in parch_test])\n",
    "sibSpParch_test = np.array([sbsp+ prch*2 for sbsp, prch in zip(binary_sibSp_test, binary_parch_test)])\n",
    "processed_sibSpParch_test = target_encoding(survived, sibSpParch, sibSpParch_test, False)\n",
    "transformer_test = QuantileTransformer(n_quantiles=100, random_state=0, output_distribution=\"normal\")\n",
    "transformer_test.fit(fare_test.reshape(-1, 1))\n",
    "processed_fare_test = transformer_test.transform(fare_test.reshape(-1, 1)).flatten()\n",
    "binary_cabin_test = np.zeros(len(cabin_test))\n",
    "binary_cabin_test[np.where(cabin_test != cabin_test)] = 1\n",
    "processed_binary_cabin_test = target_encoding(survived, binary_cabin, binary_cabin_test, False)\n",
    "processed_embarked_test = target_encoding(survived, embarked, embarked_test, False)\n",
    "embarked_test_means_list = target_encoding(survived, np.full(len(embarked), \"M\"), embarked_test, True)\n",
    "for index in np.where(embarked_test == \"missing\"):\n",
    "    processed_embarked_test[index] = embarked_test_means_list[index]"
   ]
  },
  {
   "cell_type": "markdown",
   "metadata": {},
   "source": [
    "### 予測値の算出\n",
    "\n",
    "kaggleに予測値を提出したところ, 精度は0.77272であった."
   ]
  },
  {
   "cell_type": "code",
   "execution_count": 39,
   "metadata": {},
   "outputs": [
    {
     "name": "stdout",
     "output_type": "stream",
     "text": [
      "[['PassengerId' 'Survived']\n",
      " [892 0]\n",
      " [893 0]\n",
      " [894 0]\n",
      " [895 0]\n",
      " [896 0]\n",
      " [897 0]\n",
      " [898 1]\n",
      " [899 0]\n",
      " [900 1]\n",
      " [901 0]\n",
      " [902 0]\n",
      " [903 0]\n",
      " [904 1]\n",
      " [905 0]\n",
      " [906 1]\n",
      " [907 1]\n",
      " [908 0]\n",
      " [909 0]\n",
      " [910 1]\n",
      " [911 1]\n",
      " [912 0]\n",
      " [913 0]\n",
      " [914 1]\n",
      " [915 0]\n",
      " [916 1]\n",
      " [917 0]\n",
      " [918 1]\n",
      " [919 0]\n",
      " [920 0]\n",
      " [921 0]\n",
      " [922 0]\n",
      " [923 0]\n",
      " [924 0]\n",
      " [925 0]\n",
      " [926 0]\n",
      " [927 0]\n",
      " [928 1]\n",
      " [929 0]\n",
      " [930 0]\n",
      " [931 0]\n",
      " [932 0]\n",
      " [933 0]\n",
      " [934 0]\n",
      " [935 1]\n",
      " [936 1]\n",
      " [937 0]\n",
      " [938 0]\n",
      " [939 0]\n",
      " [940 1]\n",
      " [941 0]\n",
      " [942 0]\n",
      " [943 0]\n",
      " [944 1]\n",
      " [945 1]\n",
      " [946 0]\n",
      " [947 0]\n",
      " [948 0]\n",
      " [949 0]\n",
      " [950 0]\n",
      " [951 1]\n",
      " [952 0]\n",
      " [953 0]\n",
      " [954 0]\n",
      " [955 1]\n",
      " [956 0]\n",
      " [957 1]\n",
      " [958 1]\n",
      " [959 0]\n",
      " [960 0]\n",
      " [961 1]\n",
      " [962 1]\n",
      " [963 0]\n",
      " [964 1]\n",
      " [965 0]\n",
      " [966 1]\n",
      " [967 0]\n",
      " [968 0]\n",
      " [969 1]\n",
      " [970 0]\n",
      " [971 1]\n",
      " [972 0]\n",
      " [973 0]\n",
      " [974 0]\n",
      " [975 0]\n",
      " [976 0]\n",
      " [977 0]\n",
      " [978 1]\n",
      " [979 1]\n",
      " [980 1]\n",
      " [981 0]\n",
      " [982 0]\n",
      " [983 0]\n",
      " [984 1]\n",
      " [985 0]\n",
      " [986 0]\n",
      " [987 0]\n",
      " [988 1]\n",
      " [989 0]\n",
      " [990 1]\n",
      " [991 0]\n",
      " [992 1]\n",
      " [993 0]\n",
      " [994 0]\n",
      " [995 0]\n",
      " [996 1]\n",
      " [997 0]\n",
      " [998 0]\n",
      " [999 0]\n",
      " [1000 0]\n",
      " [1001 0]\n",
      " [1002 0]\n",
      " [1003 1]\n",
      " [1004 1]\n",
      " [1005 1]\n",
      " [1006 1]\n",
      " [1007 0]\n",
      " [1008 0]\n",
      " [1009 1]\n",
      " [1010 0]\n",
      " [1011 1]\n",
      " [1012 1]\n",
      " [1013 0]\n",
      " [1014 1]\n",
      " [1015 0]\n",
      " [1016 0]\n",
      " [1017 0]\n",
      " [1018 0]\n",
      " [1019 0]\n",
      " [1020 0]\n",
      " [1021 0]\n",
      " [1022 0]\n",
      " [1023 0]\n",
      " [1024 0]\n",
      " [1025 0]\n",
      " [1026 0]\n",
      " [1027 0]\n",
      " [1028 0]\n",
      " [1029 0]\n",
      " [1030 1]\n",
      " [1031 0]\n",
      " [1032 0]\n",
      " [1033 1]\n",
      " [1034 0]\n",
      " [1035 0]\n",
      " [1036 0]\n",
      " [1037 0]\n",
      " [1038 0]\n",
      " [1039 0]\n",
      " [1040 0]\n",
      " [1041 0]\n",
      " [1042 1]\n",
      " [1043 0]\n",
      " [1044 0]\n",
      " [1045 0]\n",
      " [1046 0]\n",
      " [1047 0]\n",
      " [1048 1]\n",
      " [1049 1]\n",
      " [1050 0]\n",
      " [1051 0]\n",
      " [1052 1]\n",
      " [1053 0]\n",
      " [1054 1]\n",
      " [1055 0]\n",
      " [1056 0]\n",
      " [1057 0]\n",
      " [1058 0]\n",
      " [1059 0]\n",
      " [1060 1]\n",
      " [1061 0]\n",
      " [1062 0]\n",
      " [1063 0]\n",
      " [1064 0]\n",
      " [1065 0]\n",
      " [1066 0]\n",
      " [1067 1]\n",
      " [1068 1]\n",
      " [1069 0]\n",
      " [1070 1]\n",
      " [1071 1]\n",
      " [1072 0]\n",
      " [1073 0]\n",
      " [1074 1]\n",
      " [1075 0]\n",
      " [1076 1]\n",
      " [1077 0]\n",
      " [1078 1]\n",
      " [1079 0]\n",
      " [1080 0]\n",
      " [1081 0]\n",
      " [1082 0]\n",
      " [1083 0]\n",
      " [1084 0]\n",
      " [1085 0]\n",
      " [1086 0]\n",
      " [1087 0]\n",
      " [1088 0]\n",
      " [1089 1]\n",
      " [1090 0]\n",
      " [1091 1]\n",
      " [1092 0]\n",
      " [1093 0]\n",
      " [1094 0]\n",
      " [1095 1]\n",
      " [1096 0]\n",
      " [1097 0]\n",
      " [1098 1]\n",
      " [1099 0]\n",
      " [1100 1]\n",
      " [1101 0]\n",
      " [1102 0]\n",
      " [1103 0]\n",
      " [1104 0]\n",
      " [1105 1]\n",
      " [1106 1]\n",
      " [1107 0]\n",
      " [1108 1]\n",
      " [1109 0]\n",
      " [1110 1]\n",
      " [1111 0]\n",
      " [1112 1]\n",
      " [1113 0]\n",
      " [1114 1]\n",
      " [1115 0]\n",
      " [1116 1]\n",
      " [1117 0]\n",
      " [1118 0]\n",
      " [1119 1]\n",
      " [1120 0]\n",
      " [1121 0]\n",
      " [1122 0]\n",
      " [1123 1]\n",
      " [1124 0]\n",
      " [1125 0]\n",
      " [1126 0]\n",
      " [1127 0]\n",
      " [1128 0]\n",
      " [1129 0]\n",
      " [1130 1]\n",
      " [1131 1]\n",
      " [1132 1]\n",
      " [1133 1]\n",
      " [1134 0]\n",
      " [1135 0]\n",
      " [1136 0]\n",
      " [1137 0]\n",
      " [1138 1]\n",
      " [1139 0]\n",
      " [1140 1]\n",
      " [1141 0]\n",
      " [1142 1]\n",
      " [1143 0]\n",
      " [1144 0]\n",
      " [1145 0]\n",
      " [1146 0]\n",
      " [1147 0]\n",
      " [1148 0]\n",
      " [1149 0]\n",
      " [1150 1]\n",
      " [1151 0]\n",
      " [1152 0]\n",
      " [1153 0]\n",
      " [1154 1]\n",
      " [1155 0]\n",
      " [1156 0]\n",
      " [1157 0]\n",
      " [1158 0]\n",
      " [1159 0]\n",
      " [1160 1]\n",
      " [1161 0]\n",
      " [1162 0]\n",
      " [1163 0]\n",
      " [1164 1]\n",
      " [1165 0]\n",
      " [1166 0]\n",
      " [1167 1]\n",
      " [1168 0]\n",
      " [1169 0]\n",
      " [1170 0]\n",
      " [1171 0]\n",
      " [1172 1]\n",
      " [1173 0]\n",
      " [1174 1]\n",
      " [1175 0]\n",
      " [1176 0]\n",
      " [1177 0]\n",
      " [1178 0]\n",
      " [1179 0]\n",
      " [1180 0]\n",
      " [1181 0]\n",
      " [1182 0]\n",
      " [1183 1]\n",
      " [1184 0]\n",
      " [1185 0]\n",
      " [1186 0]\n",
      " [1187 0]\n",
      " [1188 1]\n",
      " [1189 0]\n",
      " [1190 0]\n",
      " [1191 0]\n",
      " [1192 0]\n",
      " [1193 0]\n",
      " [1194 0]\n",
      " [1195 0]\n",
      " [1196 1]\n",
      " [1197 1]\n",
      " [1198 0]\n",
      " [1199 0]\n",
      " [1200 0]\n",
      " [1201 0]\n",
      " [1202 0]\n",
      " [1203 0]\n",
      " [1204 0]\n",
      " [1205 1]\n",
      " [1206 1]\n",
      " [1207 1]\n",
      " [1208 0]\n",
      " [1209 0]\n",
      " [1210 0]\n",
      " [1211 0]\n",
      " [1212 0]\n",
      " [1213 0]\n",
      " [1214 0]\n",
      " [1215 0]\n",
      " [1216 1]\n",
      " [1217 0]\n",
      " [1218 1]\n",
      " [1219 0]\n",
      " [1220 0]\n",
      " [1221 0]\n",
      " [1222 1]\n",
      " [1223 0]\n",
      " [1224 0]\n",
      " [1225 0]\n",
      " [1226 0]\n",
      " [1227 0]\n",
      " [1228 0]\n",
      " [1229 0]\n",
      " [1230 0]\n",
      " [1231 0]\n",
      " [1232 0]\n",
      " [1233 0]\n",
      " [1234 0]\n",
      " [1235 1]\n",
      " [1236 0]\n",
      " [1237 1]\n",
      " [1238 0]\n",
      " [1239 1]\n",
      " [1240 0]\n",
      " [1241 1]\n",
      " [1242 1]\n",
      " [1243 0]\n",
      " [1244 0]\n",
      " [1245 0]\n",
      " [1246 0]\n",
      " [1247 0]\n",
      " [1248 1]\n",
      " [1249 0]\n",
      " [1250 0]\n",
      " [1251 0]\n",
      " [1252 0]\n",
      " [1253 1]\n",
      " [1254 1]\n",
      " [1255 0]\n",
      " [1256 1]\n",
      " [1257 0]\n",
      " [1258 0]\n",
      " [1259 0]\n",
      " [1260 1]\n",
      " [1261 0]\n",
      " [1262 0]\n",
      " [1263 1]\n",
      " [1264 0]\n",
      " [1265 0]\n",
      " [1266 1]\n",
      " [1267 1]\n",
      " [1268 0]\n",
      " [1269 0]\n",
      " [1270 0]\n",
      " [1271 0]\n",
      " [1272 0]\n",
      " [1273 0]\n",
      " [1274 0]\n",
      " [1275 0]\n",
      " [1276 0]\n",
      " [1277 1]\n",
      " [1278 0]\n",
      " [1279 0]\n",
      " [1280 0]\n",
      " [1281 0]\n",
      " [1282 0]\n",
      " [1283 1]\n",
      " [1284 0]\n",
      " [1285 0]\n",
      " [1286 0]\n",
      " [1287 1]\n",
      " [1288 0]\n",
      " [1289 1]\n",
      " [1290 0]\n",
      " [1291 0]\n",
      " [1292 1]\n",
      " [1293 0]\n",
      " [1294 1]\n",
      " [1295 0]\n",
      " [1296 0]\n",
      " [1297 0]\n",
      " [1298 0]\n",
      " [1299 0]\n",
      " [1300 1]\n",
      " [1301 0]\n",
      " [1302 1]\n",
      " [1303 1]\n",
      " [1304 1]\n",
      " [1305 0]\n",
      " [1306 1]\n",
      " [1307 0]\n",
      " [1308 0]\n",
      " [1309 0]]\n"
     ]
    }
   ],
   "source": [
    "x = tf.stack(\n",
    "    [processed_pClass_test, \n",
    "     processed_sex_test,\n",
    "     processed_binned_age_test, \n",
    "     processed_sibSpParch_test,\n",
    "     processed_fare_test, \n",
    "     processed_binary_cabin_test, \n",
    "     processed_embarked_test], \n",
    "    axis = 1)\n",
    "\n",
    "\n",
    "predictions = model.predict(x)\n",
    "\n",
    "passengerId = unprocessed_data[:, 0]\n",
    "binary_predictions = np.array([int(prdctn >= 0.5) for prdctn in predictions])\n",
    "\n",
    "labels = np.array([\"PassengerId\", \"Survived\"])\n",
    "\n",
    "predictions_with_passengerId = np.stack((passengerId, binary_predictions), axis=-1)\n",
    "\n",
    "labeled_predictions_with_passengerId = np.insert(predictions_with_passengerId, 0, labels, axis=0)\n",
    "\n",
    "print(labeled_predictions_with_passengerId)\n",
    "\n",
    "np.savetxt(\n",
    "    \"data/predictions.csv\",\n",
    "    labeled_predictions_with_passengerId,\n",
    "    fmt='%s',\n",
    "    delimiter=\",\"\n",
    ")"
   ]
  },
  {
   "cell_type": "markdown",
   "metadata": {},
   "source": [
    "## 感想・反省\n",
    "\n",
    "kaggleのチュートリアルであるtitanicの生存者予測のモデル生成をこれを以って完了.\n",
    "\n",
    "事前にtitanicの特徴量生成などの記事を読まずに[Kaggleで勝つデータ分析の技術](https://www.amazon.com/Kaggle%E3%81%A7%E5%8B%9D%E3%81%A4%E3%83%87%E3%83%BC%E3%82%BF%E5%88%86%E6%9E%90%E3%81%AE%E6%8A%80%E8%A1%93/dp/4297108437/ref=sr_1_6?dchild=1&keywords=kaggle+%E5%8B%9D%E3%81%A4&qid=1617488435&sr=8-6)という本の知識を用いてモデルを生成した.\n",
    "\n",
    " 工夫した点として, target_encodingで加工されたデータと加工される前のデータを二次元上にプロットした図を用意したことがあげられる.\n",
    " \n",
    " そのように図で表すことで各データがどれくらい生存率と関連があるのか, 各カテゴリ毎でそれぞれどれくらいの生存率の乖離があるか調べることができた.\n",
    " \n",
    " また, 欠損値であること自体に意味があると検証で明らかにして, うまいこと欠損値を特徴量にすることができた.\n",
    " \n",
    " 反省点としては, nameやticketなどの非構造化データの扱いを断念してしまったことがあげられる.\n",
    " \n",
    " nameに関して, masterやMrs. Ms. Mr.などの文字列が含まれていることに意味があると見抜けなかった.\n",
    " \n",
    " kaggle competition自体, 初めての試みであったが, 若干平均(0.769)の精度を上回る0.77272という値を出したことが素直に喜ばしい."
   ]
  }
 ],
 "metadata": {
  "kernelspec": {
   "display_name": "Python 3",
   "language": "python",
   "name": "python3"
  },
  "language_info": {
   "codemirror_mode": {
    "name": "ipython",
    "version": 3
   },
   "file_extension": ".py",
   "mimetype": "text/x-python",
   "name": "python",
   "nbconvert_exporter": "python",
   "pygments_lexer": "ipython3",
   "version": "3.7.6"
  }
 },
 "nbformat": 4,
 "nbformat_minor": 4
}
